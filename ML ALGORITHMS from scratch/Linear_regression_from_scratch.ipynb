{
  "nbformat": 4,
  "nbformat_minor": 0,
  "metadata": {
    "colab": {
      "name": "Linear_regression_from_scratch.ipynb",
      "provenance": []
    },
    "kernelspec": {
      "name": "python3",
      "display_name": "Python 3"
    },
    "language_info": {
      "name": "python"
    }
  },
  "cells": [
    {
      "cell_type": "code",
      "source": [
        "import numpy as np"
      ],
      "metadata": {
        "id": "_XZppZxpSopG"
      },
      "execution_count": null,
      "outputs": []
    },
    {
      "cell_type": "code",
      "execution_count": null,
      "metadata": {
        "id": "QB0wwCySR4zb"
      },
      "outputs": [],
      "source": [
        " X = [8.4,10.2,16.5,21.7,9.4,8.3,11.5,18.4,16.7,19.3,28.4,4.7,12.3],\n"
      ]
    },
    {
      "cell_type": "code",
      "source": [
        "X2 = np.square(X)"
      ],
      "metadata": {
        "id": "yguwoxAaSBxl"
      },
      "execution_count": null,
      "outputs": []
    },
    {
      "cell_type": "code",
      "source": [
        "X2"
      ],
      "metadata": {
        "colab": {
          "base_uri": "https://localhost:8080/"
        },
        "id": "vUGNSOQBfAnX",
        "outputId": "0ed1cabb-9064-4361-a29d-2bdba5ace8a8"
      },
      "execution_count": null,
      "outputs": [
        {
          "output_type": "execute_result",
          "data": {
            "text/plain": [
              "array([[ 70.56, 104.04, 272.25, 470.89,  88.36,  68.89, 132.25, 338.56,\n",
              "        278.89, 372.49, 806.56,  22.09, 151.29]])"
            ]
          },
          "metadata": {},
          "execution_count": 36
        }
      ]
    },
    {
      "cell_type": "code",
      "source": [
        "Y = [35.9,31.8,24.7,25.2,36.8,35.8,33.4,25.4,31.4,27.4,15.8,31.5,28.9]"
      ],
      "metadata": {
        "id": "X-LHT_2HSToB"
      },
      "execution_count": null,
      "outputs": []
    },
    {
      "cell_type": "code",
      "source": [
        "Y2 = np.square(Y)"
      ],
      "metadata": {
        "id": "3LYJVOP-Sj_S"
      },
      "execution_count": null,
      "outputs": []
    },
    {
      "cell_type": "code",
      "source": [
        "Y2"
      ],
      "metadata": {
        "id": "4o2OfGA-fHnS",
        "outputId": "c26de4c3-337c-437d-dd1f-023b6dceb8b2",
        "colab": {
          "base_uri": "https://localhost:8080/"
        }
      },
      "execution_count": null,
      "outputs": [
        {
          "output_type": "execute_result",
          "data": {
            "text/plain": [
              "array([1288.81, 1011.24,  610.09,  635.04, 1354.24, 1281.64, 1115.56,\n",
              "        645.16,  985.96,  750.76,  249.64,  992.25,  835.21])"
            ]
          },
          "metadata": {},
          "execution_count": 38
        }
      ]
    },
    {
      "cell_type": "code",
      "source": [
        "np.sum(X)"
      ],
      "metadata": {
        "colab": {
          "base_uri": "https://localhost:8080/"
        },
        "id": "4I2uLdUOS0A0",
        "outputId": "ee65d862-c0fe-4cbe-de5c-1b75146da590"
      },
      "execution_count": null,
      "outputs": [
        {
          "output_type": "execute_result",
          "data": {
            "text/plain": [
              "185.8"
            ]
          },
          "metadata": {},
          "execution_count": 13
        }
      ]
    },
    {
      "cell_type": "code",
      "source": [
        "np.sum(Y)"
      ],
      "metadata": {
        "colab": {
          "base_uri": "https://localhost:8080/"
        },
        "id": "C8e5piJgTg3X",
        "outputId": "651e42fa-a20f-47ba-e079-558efc928968"
      },
      "execution_count": null,
      "outputs": [
        {
          "output_type": "execute_result",
          "data": {
            "text/plain": [
              "383.99999999999994"
            ]
          },
          "metadata": {},
          "execution_count": 14
        }
      ]
    },
    {
      "cell_type": "code",
      "source": [
        "np.sum(X2)"
      ],
      "metadata": {
        "colab": {
          "base_uri": "https://localhost:8080/"
        },
        "id": "g3b54QbiS_JD",
        "outputId": "c0857edf-bb39-4605-be8f-495ca9cbbd07"
      },
      "execution_count": null,
      "outputs": [
        {
          "output_type": "execute_result",
          "data": {
            "text/plain": [
              "3177.1200000000003"
            ]
          },
          "metadata": {},
          "execution_count": 17
        }
      ]
    },
    {
      "cell_type": "code",
      "source": [
        "np.sum(Y2)"
      ],
      "metadata": {
        "colab": {
          "base_uri": "https://localhost:8080/"
        },
        "id": "7muBQbHATSGW",
        "outputId": "fdb3f66e-0fb3-4bef-d123-0401798346ef"
      },
      "execution_count": null,
      "outputs": [
        {
          "output_type": "execute_result",
          "data": {
            "text/plain": [
              "11755.599999999999"
            ]
          },
          "metadata": {},
          "execution_count": 20
        }
      ]
    },
    {
      "cell_type": "code",
      "source": [
        "x_arr = np.array(X)\n",
        "y_arr = np.array(Y)\n",
        "\n",
        "sum_xy = (x_arr * y_arr)"
      ],
      "metadata": {
        "id": "x75yxkOKUA71"
      },
      "execution_count": null,
      "outputs": []
    },
    {
      "cell_type": "code",
      "source": [
        "sum_xy"
      ],
      "metadata": {
        "colab": {
          "base_uri": "https://localhost:8080/"
        },
        "id": "kUCHQVHIUClt",
        "outputId": "f24629ca-2da2-4d69-9f54-700c70e0fd0e"
      },
      "execution_count": null,
      "outputs": [
        {
          "output_type": "execute_result",
          "data": {
            "text/plain": [
              "array([[301.56, 324.36, 407.55, 546.84, 345.92, 297.14, 384.1 , 467.36,\n",
              "        524.38, 528.82, 448.72, 148.05, 355.47]])"
            ]
          },
          "metadata": {},
          "execution_count": 26
        }
      ]
    },
    {
      "cell_type": "code",
      "source": [
        "np.sum(sum_xy)"
      ],
      "metadata": {
        "colab": {
          "base_uri": "https://localhost:8080/"
        },
        "id": "hvCr-2PwUabu",
        "outputId": "f3cc3e4e-cc41-4592-c675-6418cf4c1629"
      },
      "execution_count": null,
      "outputs": [
        {
          "output_type": "execute_result",
          "data": {
            "text/plain": [
              "5080.27"
            ]
          },
          "metadata": {},
          "execution_count": 27
        }
      ]
    },
    {
      "cell_type": "code",
      "source": [
        "ybar = np.mean(Y)\n",
        "print(ybar)"
      ],
      "metadata": {
        "colab": {
          "base_uri": "https://localhost:8080/"
        },
        "id": "gwhL1LUSUdka",
        "outputId": "4f71b0d1-3731-486c-ff40-9ae0e9ece881"
      },
      "execution_count": null,
      "outputs": [
        {
          "output_type": "stream",
          "name": "stdout",
          "text": [
            "29.538461538461533\n"
          ]
        }
      ]
    },
    {
      "cell_type": "code",
      "source": [
        "num = np.sum((X - np.mean(X)) * (Y -np.mean(Y)))\n",
        "den = np.sum((X-np.mean(X)) ** 2)"
      ],
      "metadata": {
        "id": "HttsGQJsZPcC"
      },
      "execution_count": null,
      "outputs": []
    },
    {
      "cell_type": "code",
      "source": [
        "b1 = num/den"
      ],
      "metadata": {
        "id": "76mTeB27bHhO"
      },
      "execution_count": null,
      "outputs": []
    },
    {
      "cell_type": "code",
      "source": [
        "b1"
      ],
      "metadata": {
        "colab": {
          "base_uri": "https://localhost:8080/"
        },
        "id": "CMYgCzzmbKpI",
        "outputId": "03082ff4-5e11-4bd7-f679-a9b9d1163596"
      },
      "execution_count": null,
      "outputs": [
        {
          "output_type": "execute_result",
          "data": {
            "text/plain": [
              "-0.782149029925143"
            ]
          },
          "metadata": {},
          "execution_count": 31
        }
      ]
    },
    {
      "cell_type": "code",
      "source": [
        "bo = np.mean(Y) - b1* np.mean(X)\n",
        "bo"
      ],
      "metadata": {
        "colab": {
          "base_uri": "https://localhost:8080/"
        },
        "id": "Dmn0WLqHbLk7",
        "outputId": "403fc92f-233e-4aab-f3c0-e2c0e4c05fed"
      },
      "execution_count": null,
      "outputs": [
        {
          "output_type": "execute_result",
          "data": {
            "text/plain": [
              "40.717176135391654"
            ]
          },
          "metadata": {},
          "execution_count": 32
        }
      ]
    },
    {
      "cell_type": "code",
      "source": [
        ""
      ],
      "metadata": {
        "id": "3mfm9rxwbUyO"
      },
      "execution_count": null,
      "outputs": []
    }
  ]
}