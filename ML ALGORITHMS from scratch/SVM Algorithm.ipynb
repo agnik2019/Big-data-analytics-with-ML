{
 "cells": [
  {
   "cell_type": "markdown",
   "metadata": {},
   "source": [
    "## Support Vector Machine\n",
    "\n",
    "- Support vector machines are a set of supervised learning methods used for classification, regression, and outliers detection.\n",
    "- SVM algorithm can perform really well with both linearly separable and non-linearly separable datasets.\n",
    "- Even with a limited amount of data, the support vector machine algorithm does not fail to show its magic.\n",
    "\n",
    "\n",
    "## How SVM works?\n",
    "\n",
    "- A simple linear SVM classifier works by making a straight line between two classes. That means all of the data points on one side of the line will represent a category and the data points on the other side of the line will be put into a different category. This means there can be an infinite number of lines to choose from.\n",
    "\n",
    "- What makes the linear SVM algorithm better than some of the other algorithms, like k-nearest neighbors, is that it chooses the best line to classify your data points. It chooses the line that separates the data and is the furthest away from the closet data points as possible."
   ]
  },
  {
   "cell_type": "markdown",
   "metadata": {},
   "source": [
    "- [ freeCodeCamp svm explained](https://www.freecodecamp.org/news/svm-machine-learning-tutorial-what-is-the-support-vector-machine-algorithm-explained-with-code-examples/)\n",
    "- [intellipaat svm explained](https://intellipaat.com/blog/tutorial/machine-learning-tutorial/svm-algorithm-in-python/)"
   ]
  },
  {
   "cell_type": "code",
   "execution_count": null,
   "metadata": {},
   "outputs": [],
   "source": []
  }
 ],
 "metadata": {
  "kernelspec": {
   "display_name": "Python 3",
   "language": "python",
   "name": "python3"
  },
  "language_info": {
   "codemirror_mode": {
    "name": "ipython",
    "version": 3
   },
   "file_extension": ".py",
   "mimetype": "text/x-python",
   "name": "python",
   "nbconvert_exporter": "python",
   "pygments_lexer": "ipython3",
   "version": "3.8.3"
  }
 },
 "nbformat": 4,
 "nbformat_minor": 4
}
