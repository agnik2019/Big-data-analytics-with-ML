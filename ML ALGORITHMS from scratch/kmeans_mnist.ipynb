{
 "cells": [
  {
   "cell_type": "code",
   "execution_count": 1,
   "metadata": {},
   "outputs": [],
   "source": [
    "from keras.datasets import mnist"
   ]
  },
  {
   "cell_type": "code",
   "execution_count": 2,
   "metadata": {},
   "outputs": [],
   "source": [
    "(x_train, y_train),(x_test,y_test) = mnist.load_data()"
   ]
  },
  {
   "cell_type": "code",
   "execution_count": 3,
   "metadata": {},
   "outputs": [
    {
     "data": {
      "text/plain": [
       "(60000, 28, 28)"
      ]
     },
     "execution_count": 3,
     "metadata": {},
     "output_type": "execute_result"
    }
   ],
   "source": [
    "import numpy as np\n",
    "np.shape(x_train)"
   ]
  },
  {
   "cell_type": "code",
   "execution_count": 4,
   "metadata": {},
   "outputs": [
    {
     "data": {
      "text/plain": [
       "(60000,)"
      ]
     },
     "execution_count": 4,
     "metadata": {},
     "output_type": "execute_result"
    }
   ],
   "source": [
    "np.shape(y_train)"
   ]
  },
  {
   "cell_type": "code",
   "execution_count": 6,
   "metadata": {},
   "outputs": [
    {
     "data": {
      "text/plain": [
       "(10000, 28, 28)"
      ]
     },
     "execution_count": 6,
     "metadata": {},
     "output_type": "execute_result"
    }
   ],
   "source": [
    "np.shape(x_test)"
   ]
  },
  {
   "cell_type": "code",
   "execution_count": 7,
   "metadata": {},
   "outputs": [
    {
     "data": {
      "text/plain": [
       "(10000,)"
      ]
     },
     "execution_count": 7,
     "metadata": {},
     "output_type": "execute_result"
    }
   ],
   "source": [
    "np.shape(y_test)"
   ]
  },
  {
   "cell_type": "code",
   "execution_count": 8,
   "metadata": {},
   "outputs": [
    {
     "data": {
      "text/plain": [
       "<matplotlib.image.AxesImage at 0x2144f650250>"
      ]
     },
     "execution_count": 8,
     "metadata": {},
     "output_type": "execute_result"
    },
    {
     "data": {
      "image/png": "[encoded data removed]",
      "text/plain": [
       "<Figure size 432x288 with 1 Axes>"
      ]
     },
     "metadata": {
      "needs_background": "light"
     },
     "output_type": "display_data"
    }
   ],
   "source": [
    "import matplotlib.pyplot as plt\n",
    "plt.imshow(x_train[0],cmap='gray')"
   ]
  },
  {
   "cell_type": "code",
   "execution_count": 10,
   "metadata": {},
   "outputs": [
    {
     "name": "stdout",
     "output_type": "stream",
     "text": [
      "[[  0   0   0   0   0   0   0   0   0   0   0   0   0   0   0   0   0   0\n",
      "    0   0   0   0   0   0   0   0   0   0]\n",
      " [  0   0   0   0   0   0   0   0   0   0   0   0   0   0   0   0   0   0\n",
      "    0   0   0   0   0   0   0   0   0   0]\n",
      " [  0   0   0   0   0   0   0   0   0   0   0   0   0   0   0   0   0   0\n",
      "    0   0   0   0   0   0   0   0   0   0]\n",
      " [  0   0   0   0   0   0   0   0   0   0   0   0   0   0   0   0   0   0\n",
      "    0   0   0   0   0   0   0   0   0   0]\n",
      " [  0   0   0   0   0   0   0   0   0   0   0   0   0   0   0   0   0   0\n",
      "    0   0   0   0   0   0   0   0   0   0]\n",
      " [  0   0   0   0   0   0   0   0   0   0   0   0   3  18  18  18 126 136\n",
      "  175  26 166 255 247 127   0   0   0   0]\n",
      " [  0   0   0   0   0   0   0   0  30  36  94 154 170 253 253 253 253 253\n",
      "  225 172 253 242 195  64   0   0   0   0]\n",
      " [  0   0   0   0   0   0   0  49 238 253 253 253 253 253 253 253 253 251\n",
      "   93  82  82  56  39   0   0   0   0   0]\n",
      " [  0   0   0   0   0   0   0  18 219 253 253 253 253 253 198 182 247 241\n",
      "    0   0   0   0   0   0   0   0   0   0]\n",
      " [  0   0   0   0   0   0   0   0  80 156 107 253 253 205  11   0  43 154\n",
      "    0   0   0   0   0   0   0   0   0   0]\n",
      " [  0   0   0   0   0   0   0   0   0  14   1 154 253  90   0   0   0   0\n",
      "    0   0   0   0   0   0   0   0   0   0]\n",
      " [  0   0   0   0   0   0   0   0   0   0   0 139 253 190   2   0   0   0\n",
      "    0   0   0   0   0   0   0   0   0   0]\n",
      " [  0   0   0   0   0   0   0   0   0   0   0  11 190 253  70   0   0   0\n",
      "    0   0   0   0   0   0   0   0   0   0]\n",
      " [  0   0   0   0   0   0   0   0   0   0   0   0  35 241 225 160 108   1\n",
      "    0   0   0   0   0   0   0   0   0   0]\n",
      " [  0   0   0   0   0   0   0   0   0   0   0   0   0  81 240 253 253 119\n",
      "   25   0   0   0   0   0   0   0   0   0]\n",
      " [  0   0   0   0   0   0   0   0   0   0   0   0   0   0  45 186 253 253\n",
      "  150  27   0   0   0   0   0   0   0   0]\n",
      " [  0   0   0   0   0   0   0   0   0   0   0   0   0   0   0  16  93 252\n",
      "  253 187   0   0   0   0   0   0   0   0]\n",
      " [  0   0   0   0   0   0   0   0   0   0   0   0   0   0   0   0   0 249\n",
      "  253 249  64   0   0   0   0   0   0   0]\n",
      " [  0   0   0   0   0   0   0   0   0   0   0   0   0   0  46 130 183 253\n",
      "  253 207   2   0   0   0   0   0   0   0]\n",
      " [  0   0   0   0   0   0   0   0   0   0   0   0  39 148 229 253 253 253\n",
      "  250 182   0   0   0   0   0   0   0   0]\n",
      " [  0   0   0   0   0   0   0   0   0   0  24 114 221 253 253 253 253 201\n",
      "   78   0   0   0   0   0   0   0   0   0]\n",
      " [  0   0   0   0   0   0   0   0  23  66 213 253 253 253 253 198  81   2\n",
      "    0   0   0   0   0   0   0   0   0   0]\n",
      " [  0   0   0   0   0   0  18 171 219 253 253 253 253 195  80   9   0   0\n",
      "    0   0   0   0   0   0   0   0   0   0]\n",
      " [  0   0   0   0  55 172 226 253 253 253 253 244 133  11   0   0   0   0\n",
      "    0   0   0   0   0   0   0   0   0   0]\n",
      " [  0   0   0   0 136 253 253 253 212 135 132  16   0   0   0   0   0   0\n",
      "    0   0   0   0   0   0   0   0   0   0]\n",
      " [  0   0   0   0   0   0   0   0   0   0   0   0   0   0   0   0   0   0\n",
      "    0   0   0   0   0   0   0   0   0   0]\n",
      " [  0   0   0   0   0   0   0   0   0   0   0   0   0   0   0   0   0   0\n",
      "    0   0   0   0   0   0   0   0   0   0]\n",
      " [  0   0   0   0   0   0   0   0   0   0   0   0   0   0   0   0   0   0\n",
      "    0   0   0   0   0   0   0   0   0   0]]\n"
     ]
    }
   ],
   "source": [
    "print(x_train[0])"
   ]
  },
  {
   "cell_type": "code",
   "execution_count": 11,
   "metadata": {},
   "outputs": [
    {
     "name": "stdout",
     "output_type": "stream",
     "text": [
      "5\n"
     ]
    }
   ],
   "source": [
    "print(y_train[0])"
   ]
  },
  {
   "cell_type": "code",
   "execution_count": 12,
   "metadata": {},
   "outputs": [],
   "source": [
    "import numpy as np\n",
    "import copy\n",
    "from tqdm import tqdm\n",
    "\n",
    "\n",
    "class KMeans:\n",
    "\n",
    "    def __init__(self, n_clusters=10, max_iter=500):\n",
    "        self.n_clusters = n_clusters\n",
    "        self.max_iter = max_iter\n",
    "        self.loss_per_iteration = []\n",
    "\n",
    "    def init_centroids(self):\n",
    "        np.random.seed(np.random.randint(0, 100000))\n",
    "        self.centroids = []\n",
    "        for i in range(self.n_clusters):\n",
    "            rand_index = np.random.choice(range(len(self.fit_data)))\n",
    "            self.centroids.append(self.fit_data[rand_index])\n",
    "\n",
    "    def init_clusters(self):\n",
    "        self.clusters = {'data': {i: [] for i in range(self.n_clusters)}}\n",
    "        self.clusters['labels'] = {i: [] for i in range(self.n_clusters)}\n",
    "\n",
    "    def fit(self, fit_data, fit_labels):\n",
    "        self.fit_data = fit_data\n",
    "        self.fit_labels = fit_labels\n",
    "        self.predicted_labels = [None for _ in range(self.fit_data.shape[0])]\n",
    "        self.init_centroids()\n",
    "        self.iterations = 0\n",
    "        old_centroids = [np.zeros(shape=(fit_data.shape[1],))\n",
    "                         for _ in range(self.n_clusters)]\n",
    "        while not self.converged(self.iterations, old_centroids, self.centroids):\n",
    "            old_centroids = copy.deepcopy(self.centroids)\n",
    "            self.init_clusters()\n",
    "            for j, sample in tqdm(enumerate(self.fit_data)):\n",
    "                min_dist = float('inf')\n",
    "                for i, centroid in enumerate(self.centroids):\n",
    "                    dist = np.linalg.norm(sample-centroid)\n",
    "                    if dist < min_dist:\n",
    "                        min_dist = dist\n",
    "                        self.predicted_labels[j] = i\n",
    "                if self.predicted_labels[j] is not None:\n",
    "                    self.clusters['data'][self.predicted_labels[j]].append(\n",
    "                        sample)\n",
    "                    self.clusters['labels'][self.predicted_labels[j]].append(\n",
    "                        self.fit_labels[j])\n",
    "            self.reshape_cluster()\n",
    "            self.update_centroids()\n",
    "            self.calculate_loss()\n",
    "            print(\"\\nIteration:\", self.iterations, 'Loss:',\n",
    "                  self.loss, 'Difference:', self.centroids_dist)\n",
    "            self.iterations += 1\n",
    "        self.calculate_accuracy()\n",
    "\n",
    "    def update_centroids(self):\n",
    "        for i in range(self.n_clusters):\n",
    "            cluster = self.clusters['data'][i]\n",
    "            if cluster == []:\n",
    "                self.centroids[i] = self.fit_data[np.random.choice(\n",
    "                    range(len(self.fit_data)))]\n",
    "            else:\n",
    "                self.centroids[i] = np.mean(\n",
    "                    np.vstack((self.centroids[i], cluster)), axis=0)\n",
    "\n",
    "    def reshape_cluster(self):\n",
    "        for id, mat in list(self.clusters['data'].items()):\n",
    "            self.clusters['data'][id] = np.array(mat)\n",
    "\n",
    "    def converged(self, iterations, centroids, updated_centroids):\n",
    "        if iterations > self.max_iter:\n",
    "            return True\n",
    "        self.centroids_dist = np.linalg.norm(\n",
    "            np.array(updated_centroids)-np.array(centroids))\n",
    "        if self.centroids_dist <= 1e-10:\n",
    "            print(\"Converged! With distance:\", self.centroids_dist)\n",
    "            return True\n",
    "        return False\n",
    "\n",
    "    def calculate_loss(self):\n",
    "        self.loss = 0\n",
    "        for key, value in list(self.clusters['data'].items()):\n",
    "            if value is not None:\n",
    "                for v in value:\n",
    "                    self.loss += np.linalg.norm(v-self.centroids[key])\n",
    "        self.loss_per_iteration.append(self.loss)\n",
    "\n",
    "    def calculate_accuracy(self):\n",
    "        self.clusters_labels = []\n",
    "        self.clusters_info = []\n",
    "        self.clusters_accuracy = []\n",
    "        for clust, labels in list(self.clusters['labels'].items()):\n",
    "            if isinstance(labels[0], (np.ndarray)):\n",
    "                labels = [l[0] for l in labels]\n",
    "            occur = 0\n",
    "            max_label = max(set(labels), key=labels.count)\n",
    "            self.clusters_labels.append(max_label)\n",
    "            for label in labels:\n",
    "                if label == max_label:\n",
    "                    occur += 1\n",
    "            acc = occur/len(list(labels))\n",
    "            self.clusters_info.append(\n",
    "                [max_label, occur, len(list(labels)), acc])\n",
    "            self.clusters_accuracy.append(acc)\n",
    "            self.accuracy = sum(self.clusters_accuracy)/self.n_clusters\n",
    "        self.labels_ = []\n",
    "        for i in range(len(self.predicted_labels)):\n",
    "            self.labels_.append(self.clusters_labels[self.predicted_labels[i]])\n",
    "        print('[cluster_label,no_occurence_of_label,total_samples_in_cluster,cluster_accuracy]', self.clusters_info)\n",
    "        print('Accuracy:', self.accuracy)\n",
    "        \n",
    "        \n",
    "    def get_accuracy(self):\n",
    "        self.clusters_labels = []\n",
    "        self.clusters_info = []\n",
    "        self.clusters_accuracy = []\n",
    "        for clust, labels in list(self.clusters['labels'].items()):\n",
    "            if isinstance(labels[0], (np.ndarray)):\n",
    "                labels = [l[0] for l in labels]\n",
    "            occur = 0\n",
    "            max_label = max(set(labels), key=labels.count)\n",
    "            self.clusters_labels.append(max_label)\n",
    "            for label in labels:\n",
    "                if label == max_label:\n",
    "                    occur += 1\n",
    "            acc = occur/len(list(labels))\n",
    "            self.clusters_info.append(\n",
    "                [max_label, occur, len(list(labels)), acc])\n",
    "            self.clusters_accuracy.append(acc)\n",
    "            self.accuracy = sum(self.clusters_accuracy)/self.n_clusters\n",
    "        self.labels_ = []\n",
    "        for i in range(len(self.predicted_labels)):\n",
    "            self.labels_.append(self.clusters_labels[self.predicted_labels[i]])\n",
    "        return self.accuracy"
   ]
  },
  {
   "cell_type": "code",
   "execution_count": 16,
   "metadata": {},
   "outputs": [],
   "source": [
    "x_train = np.reshape(x_train,(60000,784))\n"
   ]
  },
  {
   "cell_type": "code",
   "execution_count": 17,
   "metadata": {},
   "outputs": [
    {
     "name": "stderr",
     "output_type": "stream",
     "text": [
      "60000it [00:06, 9875.97it/s] \n",
      "<ipython-input-12-cd99e82a65b5>:58: DeprecationWarning: elementwise comparison failed; this will raise an error in the future.\n",
      "  if cluster == []:\n",
      "1142it [00:00, 10880.61it/s]"
     ]
    },
    {
     "name": "stdout",
     "output_type": "stream",
     "text": [
      "\n",
      "Iteration: 0 Loss: 103235421.5673124 Difference: 7498.93125718592\n"
     ]
    },
    {
     "name": "stderr",
     "output_type": "stream",
     "text": [
      "60000it [00:06, 9822.05it/s] \n",
      "1082it [00:00, 10736.76it/s]"
     ]
    },
    {
     "name": "stdout",
     "output_type": "stream",
     "text": [
      "\n",
      "Iteration: 1 Loss: 97006452.02628669 Difference: 4741.241007059264\n"
     ]
    },
    {
     "name": "stderr",
     "output_type": "stream",
     "text": [
      "60000it [00:05, 10244.49it/s]\n",
      "1042it [00:00, 10292.84it/s]"
     ]
    },
    {
     "name": "stdout",
     "output_type": "stream",
     "text": [
      "\n",
      "Iteration: 2 Loss: 95679792.8380051 Difference: 1031.8745940957635\n"
     ]
    },
    {
     "name": "stderr",
     "output_type": "stream",
     "text": [
      "60000it [00:07, 8429.45it/s] \n",
      "601it [00:00, 5966.58it/s]"
     ]
    },
    {
     "name": "stdout",
     "output_type": "stream",
     "text": [
      "\n",
      "Iteration: 3 Loss: 95130762.81346233 Difference: 564.0693631044254\n"
     ]
    },
    {
     "name": "stderr",
     "output_type": "stream",
     "text": [
      "60000it [00:07, 8285.92it/s]\n",
      "844it [00:00, 8378.78it/s]"
     ]
    },
    {
     "name": "stdout",
     "output_type": "stream",
     "text": [
      "\n",
      "Iteration: 4 Loss: 94861230.01674536 Difference: 360.0427467835428\n"
     ]
    },
    {
     "name": "stderr",
     "output_type": "stream",
     "text": [
      "60000it [00:07, 7741.62it/s]\n",
      "640it [00:00, 6369.35it/s]"
     ]
    },
    {
     "name": "stdout",
     "output_type": "stream",
     "text": [
      "\n",
      "Iteration: 5 Loss: 94698945.77237521 Difference: 246.00265096520943\n"
     ]
    },
    {
     "name": "stderr",
     "output_type": "stream",
     "text": [
      "60000it [00:07, 8372.05it/s]\n",
      "683it [00:00, 6780.59it/s]"
     ]
    },
    {
     "name": "stdout",
     "output_type": "stream",
     "text": [
      "\n",
      "Iteration: 6 Loss: 94598577.04588732 Difference: 186.61989464953282\n"
     ]
    },
    {
     "name": "stderr",
     "output_type": "stream",
     "text": [
      "60000it [00:07, 7807.89it/s] \n",
      "1085it [00:00, 10766.07it/s]"
     ]
    },
    {
     "name": "stdout",
     "output_type": "stream",
     "text": [
      "\n",
      "Iteration: 7 Loss: 94536969.28221314 Difference: 145.36921634650383\n"
     ]
    },
    {
     "name": "stderr",
     "output_type": "stream",
     "text": [
      "60000it [00:06, 9780.55it/s] \n",
      "1042it [00:00, 10289.86it/s]"
     ]
    },
    {
     "name": "stdout",
     "output_type": "stream",
     "text": [
      "\n",
      "Iteration: 8 Loss: 94500748.10260616 Difference: 117.88426443359774\n"
     ]
    },
    {
     "name": "stderr",
     "output_type": "stream",
     "text": [
      "60000it [00:05, 10244.75it/s]\n",
      "941it [00:00, 9200.99it/s]"
     ]
    },
    {
     "name": "stdout",
     "output_type": "stream",
     "text": [
      "\n",
      "Iteration: 9 Loss: 94479367.28104022 Difference: 94.84477286077575\n"
     ]
    },
    {
     "name": "stderr",
     "output_type": "stream",
     "text": [
      "60000it [00:05, 10495.14it/s]\n",
      "998it [00:00, 9907.49it/s]"
     ]
    },
    {
     "name": "stdout",
     "output_type": "stream",
     "text": [
      "\n",
      "Iteration: 10 Loss: 94463756.96381049 Difference: 79.42772420362627\n"
     ]
    },
    {
     "name": "stderr",
     "output_type": "stream",
     "text": [
      "60000it [00:05, 10166.89it/s]\n",
      "1090it [00:00, 10821.24it/s]"
     ]
    },
    {
     "name": "stdout",
     "output_type": "stream",
     "text": [
      "\n",
      "Iteration: 11 Loss: 94451447.85945465 Difference: 77.156702860232\n"
     ]
    },
    {
     "name": "stderr",
     "output_type": "stream",
     "text": [
      "60000it [00:05, 10423.96it/s]\n",
      "930it [00:00, 9232.45it/s]"
     ]
    },
    {
     "name": "stdout",
     "output_type": "stream",
     "text": [
      "\n",
      "Iteration: 12 Loss: 94439819.57168621 Difference: 72.13792719283416\n"
     ]
    },
    {
     "name": "stderr",
     "output_type": "stream",
     "text": [
      "60000it [00:05, 10572.95it/s]\n",
      "1079it [00:00, 10707.07it/s]"
     ]
    },
    {
     "name": "stdout",
     "output_type": "stream",
     "text": [
      "\n",
      "Iteration: 13 Loss: 94425882.69444606 Difference: 76.33221508210755\n"
     ]
    },
    {
     "name": "stderr",
     "output_type": "stream",
     "text": [
      "60000it [00:05, 10480.43it/s]\n",
      "2103it [00:00, 10151.70it/s]"
     ]
    },
    {
     "name": "stdout",
     "output_type": "stream",
     "text": [
      "\n",
      "Iteration: 14 Loss: 94407036.43973795 Difference: 82.4118587176003\n"
     ]
    },
    {
     "name": "stderr",
     "output_type": "stream",
     "text": [
      "60000it [00:05, 10503.75it/s]\n",
      "1081it [00:00, 10727.22it/s]"
     ]
    },
    {
     "name": "stdout",
     "output_type": "stream",
     "text": [
      "\n",
      "Iteration: 15 Loss: 94379304.46533729 Difference: 88.84978806969816\n"
     ]
    },
    {
     "name": "stderr",
     "output_type": "stream",
     "text": [
      "60000it [00:05, 10530.97it/s]\n",
      "974it [00:00, 9669.28it/s]"
     ]
    },
    {
     "name": "stdout",
     "output_type": "stream",
     "text": [
      "\n",
      "Iteration: 16 Loss: 94342313.8497748 Difference: 104.66317553256025\n"
     ]
    },
    {
     "name": "stderr",
     "output_type": "stream",
     "text": [
      "60000it [00:05, 10226.99it/s]\n",
      "1082it [00:00, 10737.12it/s]"
     ]
    },
    {
     "name": "stdout",
     "output_type": "stream",
     "text": [
      "\n",
      "Iteration: 17 Loss: 94305932.66777687 Difference: 112.41676850147424\n"
     ]
    },
    {
     "name": "stderr",
     "output_type": "stream",
     "text": [
      "60000it [00:05, 10343.90it/s]\n",
      "931it [00:00, 9284.22it/s]"
     ]
    },
    {
     "name": "stdout",
     "output_type": "stream",
     "text": [
      "\n",
      "Iteration: 18 Loss: 94276265.76310444 Difference: 98.80136033669343\n"
     ]
    },
    {
     "name": "stderr",
     "output_type": "stream",
     "text": [
      "60000it [00:05, 10118.95it/s]\n",
      "2181it [00:00, 10653.66it/s]"
     ]
    },
    {
     "name": "stdout",
     "output_type": "stream",
     "text": [
      "\n",
      "Iteration: 19 Loss: 94250729.43465243 Difference: 84.31945067150872\n"
     ]
    },
    {
     "name": "stderr",
     "output_type": "stream",
     "text": [
      "60000it [00:05, 10063.65it/s]\n",
      "1078it [00:00, 10307.04it/s]"
     ]
    },
    {
     "name": "stdout",
     "output_type": "stream",
     "text": [
      "\n",
      "Iteration: 20 Loss: 94229791.02026659 Difference: 77.16729710035185\n"
     ]
    },
    {
     "name": "stderr",
     "output_type": "stream",
     "text": [
      "60000it [00:06, 9883.51it/s] \n",
      "1101it [00:00, 10926.13it/s]"
     ]
    },
    {
     "name": "stdout",
     "output_type": "stream",
     "text": [
      "\n",
      "Iteration: 21 Loss: 94214616.50889067 Difference: 67.15534637595003\n"
     ]
    },
    {
     "name": "stderr",
     "output_type": "stream",
     "text": [
      "60000it [00:05, 10622.16it/s]\n",
      "970it [00:00, 9634.86it/s]"
     ]
    },
    {
     "name": "stdout",
     "output_type": "stream",
     "text": [
      "\n",
      "Iteration: 22 Loss: 94205571.00429986 Difference: 58.884703306726536\n"
     ]
    },
    {
     "name": "stderr",
     "output_type": "stream",
     "text": [
      "60000it [00:05, 10483.32it/s]\n",
      "2128it [00:00, 10702.32it/s]"
     ]
    },
    {
     "name": "stdout",
     "output_type": "stream",
     "text": [
      "\n",
      "Iteration: 23 Loss: 94198462.26558554 Difference: 47.213136803363966\n"
     ]
    },
    {
     "name": "stderr",
     "output_type": "stream",
     "text": [
      "60000it [00:05, 10289.46it/s]\n",
      "1056it [00:00, 10069.24it/s]"
     ]
    },
    {
     "name": "stdout",
     "output_type": "stream",
     "text": [
      "\n",
      "Iteration: 24 Loss: 94192579.54772529 Difference: 41.82694364734626\n"
     ]
    },
    {
     "name": "stderr",
     "output_type": "stream",
     "text": [
      "60000it [00:05, 10678.81it/s]\n",
      "2077it [00:00, 10357.83it/s]"
     ]
    },
    {
     "name": "stdout",
     "output_type": "stream",
     "text": [
      "\n",
      "Iteration: 25 Loss: 94189709.65999024 Difference: 34.7130111061345\n"
     ]
    },
    {
     "name": "stderr",
     "output_type": "stream",
     "text": [
      "60000it [00:06, 9923.47it/s] \n",
      "1674it [00:00, 8625.07it/s]"
     ]
    },
    {
     "name": "stdout",
     "output_type": "stream",
     "text": [
      "\n",
      "Iteration: 26 Loss: 94187914.0546327 Difference: 29.181271018056325\n"
     ]
    },
    {
     "name": "stderr",
     "output_type": "stream",
     "text": [
      "60000it [00:06, 9905.26it/s] \n",
      "1047it [00:00, 10144.53it/s]"
     ]
    },
    {
     "name": "stdout",
     "output_type": "stream",
     "text": [
      "\n",
      "Iteration: 27 Loss: 94186614.66505761 Difference: 24.80226410004533\n"
     ]
    },
    {
     "name": "stderr",
     "output_type": "stream",
     "text": [
      "60000it [00:06, 9118.55it/s] \n",
      "565it [00:00, 5609.06it/s]"
     ]
    },
    {
     "name": "stdout",
     "output_type": "stream",
     "text": [
      "\n",
      "Iteration: 28 Loss: 94185977.2140792 Difference: 22.102758318923858\n"
     ]
    },
    {
     "name": "stderr",
     "output_type": "stream",
     "text": [
      "60000it [00:08, 7207.23it/s]\n",
      "745it [00:00, 7396.01it/s]"
     ]
    },
    {
     "name": "stdout",
     "output_type": "stream",
     "text": [
      "\n",
      "Iteration: 29 Loss: 94185963.03929996 Difference: 16.82438692477475\n"
     ]
    },
    {
     "name": "stderr",
     "output_type": "stream",
     "text": [
      "60000it [00:08, 7114.38it/s]\n",
      "636it [00:00, 6302.44it/s]"
     ]
    },
    {
     "name": "stdout",
     "output_type": "stream",
     "text": [
      "\n",
      "Iteration: 30 Loss: 94185791.98057719 Difference: 15.660139671290672\n"
     ]
    },
    {
     "name": "stderr",
     "output_type": "stream",
     "text": [
      "60000it [00:08, 7291.22it/s] \n",
      "756it [00:00, 7318.26it/s]"
     ]
    },
    {
     "name": "stdout",
     "output_type": "stream",
     "text": [
      "\n",
      "Iteration: 31 Loss: 94185122.36750847 Difference: 16.000233045029432\n"
     ]
    },
    {
     "name": "stderr",
     "output_type": "stream",
     "text": [
      "60000it [00:09, 6166.76it/s]\n",
      "469it [00:00, 4610.32it/s]"
     ]
    },
    {
     "name": "stdout",
     "output_type": "stream",
     "text": [
      "\n",
      "Iteration: 32 Loss: 94184908.04354398 Difference: 13.932319903581314\n"
     ]
    },
    {
     "name": "stderr",
     "output_type": "stream",
     "text": [
      "60000it [00:07, 8362.63it/s] \n",
      "932it [00:00, 9297.58it/s]"
     ]
    },
    {
     "name": "stdout",
     "output_type": "stream",
     "text": [
      "\n",
      "Iteration: 33 Loss: 94184644.58271192 Difference: 12.181005080430134\n"
     ]
    },
    {
     "name": "stderr",
     "output_type": "stream",
     "text": [
      "60000it [00:07, 8264.88it/s] \n",
      "1103it [00:00, 10950.12it/s]"
     ]
    },
    {
     "name": "stdout",
     "output_type": "stream",
     "text": [
      "\n",
      "Iteration: 34 Loss: 94184511.31732196 Difference: 10.372682258725424\n"
     ]
    },
    {
     "name": "stderr",
     "output_type": "stream",
     "text": [
      "60000it [00:06, 9405.21it/s] \n",
      "508it [00:00, 5043.22it/s]"
     ]
    },
    {
     "name": "stdout",
     "output_type": "stream",
     "text": [
      "\n",
      "Iteration: 35 Loss: 94184546.04951008 Difference: 10.100614500401853\n"
     ]
    },
    {
     "name": "stderr",
     "output_type": "stream",
     "text": [
      "60000it [00:06, 8663.13it/s] \n",
      "856it [00:00, 8497.87it/s]"
     ]
    },
    {
     "name": "stdout",
     "output_type": "stream",
     "text": [
      "\n",
      "Iteration: 36 Loss: 94184562.01837543 Difference: 10.14589039967904\n"
     ]
    },
    {
     "name": "stderr",
     "output_type": "stream",
     "text": [
      "60000it [00:06, 9359.37it/s] \n",
      "856it [00:00, 8497.81it/s]"
     ]
    },
    {
     "name": "stdout",
     "output_type": "stream",
     "text": [
      "\n",
      "Iteration: 37 Loss: 94184718.73511699 Difference: 8.663910279793686\n"
     ]
    },
    {
     "name": "stderr",
     "output_type": "stream",
     "text": [
      "60000it [00:05, 10260.08it/s]\n",
      "1071it [00:00, 10632.39it/s]"
     ]
    },
    {
     "name": "stdout",
     "output_type": "stream",
     "text": [
      "\n",
      "Iteration: 38 Loss: 94184660.50435506 Difference: 7.137764644466949\n"
     ]
    },
    {
     "name": "stderr",
     "output_type": "stream",
     "text": [
      "60000it [00:06, 9492.40it/s] \n",
      "1663it [00:00, 8356.30it/s]"
     ]
    },
    {
     "name": "stdout",
     "output_type": "stream",
     "text": [
      "\n",
      "Iteration: 39 Loss: 94184760.54489292 Difference: 6.3793356828834815\n"
     ]
    },
    {
     "name": "stderr",
     "output_type": "stream",
     "text": [
      "60000it [00:06, 9316.03it/s] \n",
      "998it [00:00, 9908.20it/s]"
     ]
    },
    {
     "name": "stdout",
     "output_type": "stream",
     "text": [
      "\n",
      "Iteration: 40 Loss: 94184772.18406777 Difference: 6.684042534682387\n"
     ]
    },
    {
     "name": "stderr",
     "output_type": "stream",
     "text": [
      "60000it [00:06, 9574.97it/s] \n",
      "772it [00:00, 7664.06it/s]"
     ]
    },
    {
     "name": "stdout",
     "output_type": "stream",
     "text": [
      "\n",
      "Iteration: 41 Loss: 94184779.42669487 Difference: 6.830146242012251\n"
     ]
    },
    {
     "name": "stderr",
     "output_type": "stream",
     "text": [
      "60000it [00:06, 8770.98it/s] \n",
      "1531it [00:00, 7491.30it/s]"
     ]
    },
    {
     "name": "stdout",
     "output_type": "stream",
     "text": [
      "\n",
      "Iteration: 42 Loss: 94184848.736988 Difference: 4.534152040593116\n"
     ]
    },
    {
     "name": "stderr",
     "output_type": "stream",
     "text": [
      "60000it [00:07, 7603.42it/s] \n",
      "682it [00:00, 6804.06it/s]"
     ]
    },
    {
     "name": "stdout",
     "output_type": "stream",
     "text": [
      "\n",
      "Iteration: 43 Loss: 94185028.80874167 Difference: 3.9872340650329727\n"
     ]
    },
    {
     "name": "stderr",
     "output_type": "stream",
     "text": [
      "60000it [00:08, 6714.75it/s]\n",
      "623it [00:00, 6127.39it/s]"
     ]
    },
    {
     "name": "stdout",
     "output_type": "stream",
     "text": [
      "\n",
      "Iteration: 44 Loss: 94185100.62829906 Difference: 3.9818674936839336\n"
     ]
    },
    {
     "name": "stderr",
     "output_type": "stream",
     "text": [
      "60000it [00:08, 6819.19it/s]\n",
      "452it [00:00, 4505.78it/s]"
     ]
    },
    {
     "name": "stdout",
     "output_type": "stream",
     "text": [
      "\n",
      "Iteration: 45 Loss: 94184961.62866844 Difference: 5.234951059684923\n"
     ]
    },
    {
     "name": "stderr",
     "output_type": "stream",
     "text": [
      "60000it [00:08, 6676.43it/s]\n",
      "671it [00:00, 6661.44it/s]"
     ]
    },
    {
     "name": "stdout",
     "output_type": "stream",
     "text": [
      "\n",
      "Iteration: 46 Loss: 94184888.66392483 Difference: 5.067710787323509\n"
     ]
    },
    {
     "name": "stderr",
     "output_type": "stream",
     "text": [
      "60000it [00:09, 6321.16it/s]\n",
      "1759it [00:00, 8622.70it/s]"
     ]
    },
    {
     "name": "stdout",
     "output_type": "stream",
     "text": [
      "\n",
      "Iteration: 47 Loss: 94184954.62080988 Difference: 4.681458478189983\n"
     ]
    },
    {
     "name": "stderr",
     "output_type": "stream",
     "text": [
      "60000it [00:06, 8941.31it/s] \n",
      "763it [00:00, 7571.63it/s]"
     ]
    },
    {
     "name": "stdout",
     "output_type": "stream",
     "text": [
      "\n",
      "Iteration: 48 Loss: 94185076.86068532 Difference: 4.248195716058982\n"
     ]
    },
    {
     "name": "stderr",
     "output_type": "stream",
     "text": [
      "60000it [00:07, 8446.70it/s] \n",
      "1748it [00:00, 8691.07it/s]"
     ]
    },
    {
     "name": "stdout",
     "output_type": "stream",
     "text": [
      "\n",
      "Iteration: 49 Loss: 94185397.58891779 Difference: 3.806311454562365\n"
     ]
    },
    {
     "name": "stderr",
     "output_type": "stream",
     "text": [
      "60000it [00:06, 8987.47it/s] \n",
      "2043it [00:00, 9904.93it/s]"
     ]
    },
    {
     "name": "stdout",
     "output_type": "stream",
     "text": [
      "\n",
      "Iteration: 50 Loss: 94185453.955211 Difference: 3.7526987708143142\n"
     ]
    },
    {
     "name": "stderr",
     "output_type": "stream",
     "text": [
      "60000it [00:07, 8212.83it/s] \n",
      "785it [00:00, 7790.11it/s]"
     ]
    },
    {
     "name": "stdout",
     "output_type": "stream",
     "text": [
      "\n",
      "Iteration: 51 Loss: 94185438.89537889 Difference: 3.46346650949567\n"
     ]
    },
    {
     "name": "stderr",
     "output_type": "stream",
     "text": [
      "60000it [00:06, 8660.57it/s] \n",
      "617it [00:00, 6125.25it/s]"
     ]
    },
    {
     "name": "stdout",
     "output_type": "stream",
     "text": [
      "\n",
      "Iteration: 52 Loss: 94185649.66590102 Difference: 3.68492706777668\n"
     ]
    },
    {
     "name": "stderr",
     "output_type": "stream",
     "text": [
      "60000it [00:09, 6534.31it/s]\n",
      "984it [00:00, 9768.19it/s]"
     ]
    },
    {
     "name": "stdout",
     "output_type": "stream",
     "text": [
      "\n",
      "Iteration: 53 Loss: 94185769.75490262 Difference: 3.974078602979725\n"
     ]
    },
    {
     "name": "stderr",
     "output_type": "stream",
     "text": [
      "60000it [00:07, 7855.24it/s]\n",
      "840it [00:00, 8339.19it/s]"
     ]
    },
    {
     "name": "stdout",
     "output_type": "stream",
     "text": [
      "\n",
      "Iteration: 54 Loss: 94186028.76523888 Difference: 4.052824308618043\n"
     ]
    },
    {
     "name": "stderr",
     "output_type": "stream",
     "text": [
      "60000it [00:07, 7604.23it/s]\n",
      "672it [00:00, 6671.24it/s]"
     ]
    },
    {
     "name": "stdout",
     "output_type": "stream",
     "text": [
      "\n",
      "Iteration: 55 Loss: 94186215.07956503 Difference: 3.643505780808956\n"
     ]
    },
    {
     "name": "stderr",
     "output_type": "stream",
     "text": [
      "60000it [00:08, 6845.17it/s]\n",
      "656it [00:00, 6512.42it/s]"
     ]
    },
    {
     "name": "stdout",
     "output_type": "stream",
     "text": [
      "\n",
      "Iteration: 56 Loss: 94186471.13601401 Difference: 3.5250504651626704\n"
     ]
    },
    {
     "name": "stderr",
     "output_type": "stream",
     "text": [
      "60000it [00:10, 5491.55it/s]\n",
      "415it [00:00, 4118.99it/s]"
     ]
    },
    {
     "name": "stdout",
     "output_type": "stream",
     "text": [
      "\n",
      "Iteration: 57 Loss: 94186392.88497888 Difference: 4.477884684000834\n"
     ]
    },
    {
     "name": "stderr",
     "output_type": "stream",
     "text": [
      "60000it [00:09, 6172.24it/s]\n",
      "707it [00:00, 7018.73it/s]"
     ]
    },
    {
     "name": "stdout",
     "output_type": "stream",
     "text": [
      "\n",
      "Iteration: 58 Loss: 94186403.17105502 Difference: 3.2137556679735293\n"
     ]
    },
    {
     "name": "stderr",
     "output_type": "stream",
     "text": [
      "60000it [00:10, 5455.69it/s]\n",
      "749it [00:00, 7427.50it/s]"
     ]
    },
    {
     "name": "stdout",
     "output_type": "stream",
     "text": [
      "\n",
      "Iteration: 59 Loss: 94186403.30154766 Difference: 2.7565041264699124\n"
     ]
    },
    {
     "name": "stderr",
     "output_type": "stream",
     "text": [
      "60000it [00:09, 6270.68it/s]\n",
      "774it [00:00, 7683.98it/s]"
     ]
    },
    {
     "name": "stdout",
     "output_type": "stream",
     "text": [
      "\n",
      "Iteration: 60 Loss: 94186554.7561712 Difference: 1.8940263355864873\n"
     ]
    },
    {
     "name": "stderr",
     "output_type": "stream",
     "text": [
      "60000it [00:06, 8696.61it/s] \n",
      "1580it [00:00, 7810.25it/s]"
     ]
    },
    {
     "name": "stdout",
     "output_type": "stream",
     "text": [
      "\n",
      "Iteration: 61 Loss: 94186798.4082745 Difference: 2.9422195032683196\n"
     ]
    },
    {
     "name": "stderr",
     "output_type": "stream",
     "text": [
      "60000it [00:07, 7969.71it/s] \n",
      "1158it [00:00, 11333.71it/s]"
     ]
    },
    {
     "name": "stdout",
     "output_type": "stream",
     "text": [
      "\n",
      "Iteration: 62 Loss: 94186932.58798498 Difference: 3.7458903523582325\n"
     ]
    },
    {
     "name": "stderr",
     "output_type": "stream",
     "text": [
      "60000it [00:06, 8787.92it/s] \n",
      "1050it [00:00, 10419.18it/s]"
     ]
    },
    {
     "name": "stdout",
     "output_type": "stream",
     "text": [
      "\n",
      "Iteration: 63 Loss: 94187001.17796801 Difference: 3.415367408363164\n"
     ]
    },
    {
     "name": "stderr",
     "output_type": "stream",
     "text": [
      "60000it [00:06, 8646.57it/s] \n",
      "1081it [00:00, 10731.59it/s]"
     ]
    },
    {
     "name": "stdout",
     "output_type": "stream",
     "text": [
      "\n",
      "Iteration: 64 Loss: 94187062.41220932 Difference: 5.065550318760637\n"
     ]
    },
    {
     "name": "stderr",
     "output_type": "stream",
     "text": [
      "60000it [00:06, 9441.93it/s] \n",
      "2285it [00:00, 11292.01it/s]"
     ]
    },
    {
     "name": "stdout",
     "output_type": "stream",
     "text": [
      "\n",
      "Iteration: 65 Loss: 94187206.5769445 Difference: 5.092938240172766\n"
     ]
    },
    {
     "name": "stderr",
     "output_type": "stream",
     "text": [
      "60000it [00:05, 10558.10it/s]\n",
      "2238it [00:00, 10950.70it/s]"
     ]
    },
    {
     "name": "stdout",
     "output_type": "stream",
     "text": [
      "\n",
      "Iteration: 66 Loss: 94187042.63879691 Difference: 4.111538084535039\n"
     ]
    },
    {
     "name": "stderr",
     "output_type": "stream",
     "text": [
      "60000it [00:05, 10088.91it/s]\n",
      "956it [00:00, 9490.59it/s]"
     ]
    },
    {
     "name": "stdout",
     "output_type": "stream",
     "text": [
      "\n",
      "Iteration: 67 Loss: 94186977.87110408 Difference: 3.9432973784803753\n"
     ]
    },
    {
     "name": "stderr",
     "output_type": "stream",
     "text": [
      "60000it [00:06, 8767.42it/s] \n",
      "988it [00:00, 9808.50it/s]"
     ]
    },
    {
     "name": "stdout",
     "output_type": "stream",
     "text": [
      "\n",
      "Iteration: 68 Loss: 94187127.20373958 Difference: 3.32748524929044\n"
     ]
    },
    {
     "name": "stderr",
     "output_type": "stream",
     "text": [
      "60000it [00:06, 8991.69it/s] \n",
      "1974it [00:00, 9715.35it/s]"
     ]
    },
    {
     "name": "stdout",
     "output_type": "stream",
     "text": [
      "\n",
      "Iteration: 69 Loss: 94187163.98664671 Difference: 2.3781926895871104\n"
     ]
    },
    {
     "name": "stderr",
     "output_type": "stream",
     "text": [
      "60000it [00:06, 9129.84it/s] \n",
      "1064it [00:00, 10558.62it/s]"
     ]
    },
    {
     "name": "stdout",
     "output_type": "stream",
     "text": [
      "\n",
      "Iteration: 70 Loss: 94187078.59434962 Difference: 2.9290433264968327\n"
     ]
    },
    {
     "name": "stderr",
     "output_type": "stream",
     "text": [
      "60000it [00:07, 8429.44it/s] \n",
      "990it [00:00, 9833.64it/s]"
     ]
    },
    {
     "name": "stdout",
     "output_type": "stream",
     "text": [
      "\n",
      "Iteration: 71 Loss: 94187114.49142031 Difference: 2.5789119396193945\n"
     ]
    },
    {
     "name": "stderr",
     "output_type": "stream",
     "text": [
      "60000it [00:06, 8908.07it/s] \n",
      "859it [00:00, 8584.11it/s]"
     ]
    },
    {
     "name": "stdout",
     "output_type": "stream",
     "text": [
      "\n",
      "Iteration: 72 Loss: 94187175.09468459 Difference: 1.3432604165774318\n"
     ]
    },
    {
     "name": "stderr",
     "output_type": "stream",
     "text": [
      "60000it [00:06, 9153.30it/s] \n",
      "2280it [00:00, 11225.12it/s]"
     ]
    },
    {
     "name": "stdout",
     "output_type": "stream",
     "text": [
      "\n",
      "Iteration: 73 Loss: 94187166.79941836 Difference: 1.022143251157366\n"
     ]
    },
    {
     "name": "stderr",
     "output_type": "stream",
     "text": [
      "60000it [00:06, 9922.14it/s] \n",
      "854it [00:00, 8474.72it/s]"
     ]
    },
    {
     "name": "stdout",
     "output_type": "stream",
     "text": [
      "\n",
      "Iteration: 74 Loss: 94187166.79814774 Difference: 0.27880814630165934\n"
     ]
    },
    {
     "name": "stderr",
     "output_type": "stream",
     "text": [
      "60000it [00:06, 8743.00it/s] \n",
      "907it [00:00, 9000.06it/s]"
     ]
    },
    {
     "name": "stdout",
     "output_type": "stream",
     "text": [
      "\n",
      "Iteration: 75 Loss: 94187166.79814741 Difference: 4.0246354055461273e-05\n"
     ]
    },
    {
     "name": "stderr",
     "output_type": "stream",
     "text": [
      "60000it [00:06, 9669.68it/s] \n"
     ]
    },
    {
     "name": "stdout",
     "output_type": "stream",
     "text": [
      "\n",
      "Iteration: 76 Loss: 94187166.79814743 Difference: 5.827156978058849e-09\n",
      "Converged! With distance: 8.927717784794691e-13\n",
      "[cluster_label,no_occurence_of_label,total_samples_in_cluster,cluster_accuracy] [[7, 2824, 6690, 0.42212257100149475], [0, 4676, 4975, 0.9398994974874372], [4, 2188, 5416, 0.40398818316100443], [1, 2977, 5298, 0.561910154775387], [8, 3104, 7065, 0.43934890304317054], [6, 4591, 5394, 0.8511308861698184], [9, 2473, 7238, 0.3416689693285438], [2, 4192, 4635, 0.9044228694714131], [1, 3713, 5497, 0.6754593414589776], [3, 3888, 7792, 0.4989733059548255]]\n",
      "Accuracy: 0.6038924681852073\n"
     ]
    }
   ],
   "source": [
    "kmeans = KMeans(n_clusters=10,max_iter=200)\n",
    "kmeans.fit(x_train,y_train)"
   ]
  },
  {
   "cell_type": "code",
   "execution_count": 24,
   "metadata": {},
   "outputs": [
    {
     "name": "stderr",
     "output_type": "stream",
     "text": [
      "60000it [00:12, 4868.78it/s]\n",
      "<ipython-input-12-cd99e82a65b5>:58: DeprecationWarning: elementwise comparison failed; this will raise an error in the future.\n",
      "  if cluster == []:\n",
      "484it [00:00, 4728.62it/s]"
     ]
    },
    {
     "name": "stdout",
     "output_type": "stream",
     "text": [
      "\n",
      "Iteration: 0 Loss: 100370517.07599725 Difference: 10228.398750537643\n"
     ]
    },
    {
     "name": "stderr",
     "output_type": "stream",
     "text": [
      "60000it [00:15, 3993.90it/s]\n",
      "525it [00:00, 5211.96it/s]"
     ]
    },
    {
     "name": "stdout",
     "output_type": "stream",
     "text": [
      "\n",
      "Iteration: 1 Loss: 91953240.6291605 Difference: 5911.453239069944\n"
     ]
    },
    {
     "name": "stderr",
     "output_type": "stream",
     "text": [
      "60000it [00:15, 3954.48it/s]\n",
      "447it [00:00, 4437.61it/s]"
     ]
    },
    {
     "name": "stdout",
     "output_type": "stream",
     "text": [
      "\n",
      "Iteration: 2 Loss: 90847663.67565504 Difference: 1352.2525250718122\n"
     ]
    },
    {
     "name": "stderr",
     "output_type": "stream",
     "text": [
      "60000it [00:13, 4446.51it/s]\n",
      "557it [00:00, 5529.62it/s]"
     ]
    },
    {
     "name": "stdout",
     "output_type": "stream",
     "text": [
      "\n",
      "Iteration: 3 Loss: 90286731.8812334 Difference: 667.5970581961406\n"
     ]
    },
    {
     "name": "stderr",
     "output_type": "stream",
     "text": [
      "60000it [00:11, 5282.83it/s]\n",
      "555it [00:00, 5446.12it/s]"
     ]
    },
    {
     "name": "stdout",
     "output_type": "stream",
     "text": [
      "\n",
      "Iteration: 4 Loss: 89894889.8879463 Difference: 504.68762696198\n"
     ]
    },
    {
     "name": "stderr",
     "output_type": "stream",
     "text": [
      "60000it [00:11, 5380.55it/s]\n",
      "513it [00:00, 5032.00it/s]"
     ]
    },
    {
     "name": "stdout",
     "output_type": "stream",
     "text": [
      "\n",
      "Iteration: 5 Loss: 89665687.21983156 Difference: 427.164864190895\n"
     ]
    },
    {
     "name": "stderr",
     "output_type": "stream",
     "text": [
      "60000it [00:11, 5429.79it/s]\n",
      "578it [00:00, 5649.82it/s]"
     ]
    },
    {
     "name": "stdout",
     "output_type": "stream",
     "text": [
      "\n",
      "Iteration: 6 Loss: 89548050.28518283 Difference: 316.1979463890527\n"
     ]
    },
    {
     "name": "stderr",
     "output_type": "stream",
     "text": [
      "60000it [00:11, 5193.67it/s]\n",
      "581it [00:00, 5802.30it/s]"
     ]
    },
    {
     "name": "stdout",
     "output_type": "stream",
     "text": [
      "\n",
      "Iteration: 7 Loss: 89478628.93940888 Difference: 225.53105830327263\n"
     ]
    },
    {
     "name": "stderr",
     "output_type": "stream",
     "text": [
      "60000it [00:10, 5459.42it/s]\n",
      "584it [00:00, 5795.21it/s]"
     ]
    },
    {
     "name": "stdout",
     "output_type": "stream",
     "text": [
      "\n",
      "Iteration: 8 Loss: 89434128.44655377 Difference: 176.98924013069285\n"
     ]
    },
    {
     "name": "stderr",
     "output_type": "stream",
     "text": [
      "60000it [00:10, 5481.51it/s]\n",
      "546it [00:00, 5420.29it/s]"
     ]
    },
    {
     "name": "stdout",
     "output_type": "stream",
     "text": [
      "\n",
      "Iteration: 9 Loss: 89400823.95320664 Difference: 144.06561042888887\n"
     ]
    },
    {
     "name": "stderr",
     "output_type": "stream",
     "text": [
      "60000it [00:13, 4602.46it/s]\n",
      "224it [00:00, 2205.07it/s]"
     ]
    },
    {
     "name": "stdout",
     "output_type": "stream",
     "text": [
      "\n",
      "Iteration: 10 Loss: 89376092.6599766 Difference: 130.47932151089228\n"
     ]
    },
    {
     "name": "stderr",
     "output_type": "stream",
     "text": [
      "60000it [00:17, 3416.64it/s]\n",
      "361it [00:00, 3467.62it/s]"
     ]
    },
    {
     "name": "stdout",
     "output_type": "stream",
     "text": [
      "\n",
      "Iteration: 11 Loss: 89356983.44288577 Difference: 119.91198587918048\n"
     ]
    },
    {
     "name": "stderr",
     "output_type": "stream",
     "text": [
      "60000it [00:16, 3571.56it/s]\n",
      "481it [00:00, 4610.46it/s]"
     ]
    },
    {
     "name": "stdout",
     "output_type": "stream",
     "text": [
      "\n",
      "Iteration: 12 Loss: 89344604.29158479 Difference: 104.91804718027096\n"
     ]
    },
    {
     "name": "stderr",
     "output_type": "stream",
     "text": [
      "60000it [00:12, 4805.58it/s]\n",
      "400it [00:00, 3939.57it/s]"
     ]
    },
    {
     "name": "stdout",
     "output_type": "stream",
     "text": [
      "\n",
      "Iteration: 13 Loss: 89335693.92343044 Difference: 86.8869401806103\n"
     ]
    },
    {
     "name": "stderr",
     "output_type": "stream",
     "text": [
      "60000it [00:12, 4909.23it/s]\n",
      "402it [00:00, 3995.46it/s]"
     ]
    },
    {
     "name": "stdout",
     "output_type": "stream",
     "text": [
      "\n",
      "Iteration: 14 Loss: 89326825.91721234 Difference: 76.36769469438437\n"
     ]
    },
    {
     "name": "stderr",
     "output_type": "stream",
     "text": [
      "60000it [00:12, 4693.53it/s]\n",
      "1036it [00:00, 4919.95it/s]"
     ]
    },
    {
     "name": "stdout",
     "output_type": "stream",
     "text": [
      "\n",
      "Iteration: 15 Loss: 89317952.04955995 Difference: 75.24483032397329\n"
     ]
    },
    {
     "name": "stderr",
     "output_type": "stream",
     "text": [
      "60000it [00:11, 5245.43it/s]\n",
      "527it [00:00, 5264.11it/s]"
     ]
    },
    {
     "name": "stdout",
     "output_type": "stream",
     "text": [
      "\n",
      "Iteration: 16 Loss: 89309187.01185296 Difference: 73.18468296805317\n"
     ]
    },
    {
     "name": "stderr",
     "output_type": "stream",
     "text": [
      "60000it [00:11, 5266.48it/s]\n",
      "559it [00:00, 5423.05it/s]"
     ]
    },
    {
     "name": "stdout",
     "output_type": "stream",
     "text": [
      "\n",
      "Iteration: 17 Loss: 89301414.34825577 Difference: 73.10903482238086\n"
     ]
    },
    {
     "name": "stderr",
     "output_type": "stream",
     "text": [
      "60000it [00:12, 4782.66it/s]\n",
      "335it [00:00, 3229.75it/s]"
     ]
    },
    {
     "name": "stdout",
     "output_type": "stream",
     "text": [
      "\n",
      "Iteration: 18 Loss: 89292135.93231729 Difference: 72.94500430264974\n"
     ]
    },
    {
     "name": "stderr",
     "output_type": "stream",
     "text": [
      "60000it [00:18, 3303.68it/s]\n",
      "320it [00:00, 3176.81it/s]"
     ]
    },
    {
     "name": "stdout",
     "output_type": "stream",
     "text": [
      "\n",
      "Iteration: 19 Loss: 89281935.98674682 Difference: 78.24498940893508\n"
     ]
    },
    {
     "name": "stderr",
     "output_type": "stream",
     "text": [
      "60000it [00:17, 3427.09it/s]\n",
      "300it [00:00, 2978.22it/s]"
     ]
    },
    {
     "name": "stdout",
     "output_type": "stream",
     "text": [
      "\n",
      "Iteration: 20 Loss: 89268964.20772374 Difference: 80.32522413804685\n"
     ]
    },
    {
     "name": "stderr",
     "output_type": "stream",
     "text": [
      "60000it [00:14, 4257.63it/s]\n",
      "582it [00:00, 5658.40it/s]"
     ]
    },
    {
     "name": "stdout",
     "output_type": "stream",
     "text": [
      "\n",
      "Iteration: 21 Loss: 89258068.47720227 Difference: 89.37612153314818\n"
     ]
    },
    {
     "name": "stderr",
     "output_type": "stream",
     "text": [
      "60000it [00:12, 4840.04it/s]\n",
      "501it [00:00, 4973.67it/s]"
     ]
    },
    {
     "name": "stdout",
     "output_type": "stream",
     "text": [
      "\n",
      "Iteration: 22 Loss: 89248459.40657106 Difference: 78.19928755827871\n"
     ]
    },
    {
     "name": "stderr",
     "output_type": "stream",
     "text": [
      "60000it [00:12, 4936.14it/s]\n",
      "427it [00:00, 4159.43it/s]"
     ]
    },
    {
     "name": "stdout",
     "output_type": "stream",
     "text": [
      "\n",
      "Iteration: 23 Loss: 89242444.90088847 Difference: 72.88586206136573\n"
     ]
    },
    {
     "name": "stderr",
     "output_type": "stream",
     "text": [
      "60000it [00:12, 4809.01it/s]\n",
      "542it [00:00, 5164.38it/s]"
     ]
    },
    {
     "name": "stdout",
     "output_type": "stream",
     "text": [
      "\n",
      "Iteration: 24 Loss: 89238328.04454152 Difference: 60.99257227507681\n"
     ]
    },
    {
     "name": "stderr",
     "output_type": "stream",
     "text": [
      "60000it [00:11, 5202.82it/s]\n",
      "537it [00:00, 5300.62it/s]"
     ]
    },
    {
     "name": "stdout",
     "output_type": "stream",
     "text": [
      "\n",
      "Iteration: 25 Loss: 89235142.71919332 Difference: 50.543004215746734\n"
     ]
    },
    {
     "name": "stderr",
     "output_type": "stream",
     "text": [
      "60000it [00:12, 4776.73it/s]\n",
      "409it [00:00, 4060.32it/s]"
     ]
    },
    {
     "name": "stdout",
     "output_type": "stream",
     "text": [
      "\n",
      "Iteration: 26 Loss: 89232482.9857458 Difference: 45.741674179751115\n"
     ]
    },
    {
     "name": "stderr",
     "output_type": "stream",
     "text": [
      "60000it [00:16, 3686.70it/s]\n",
      "385it [00:00, 3822.08it/s]"
     ]
    },
    {
     "name": "stdout",
     "output_type": "stream",
     "text": [
      "\n",
      "Iteration: 27 Loss: 89230567.28670159 Difference: 39.541842958487955\n"
     ]
    },
    {
     "name": "stderr",
     "output_type": "stream",
     "text": [
      "60000it [00:14, 4054.50it/s]\n",
      "470it [00:00, 4665.95it/s]"
     ]
    },
    {
     "name": "stdout",
     "output_type": "stream",
     "text": [
      "\n",
      "Iteration: 28 Loss: 89229083.25434387 Difference: 34.73132177782781\n"
     ]
    },
    {
     "name": "stderr",
     "output_type": "stream",
     "text": [
      "60000it [00:12, 4731.72it/s]\n",
      "572it [00:00, 5681.70it/s]"
     ]
    },
    {
     "name": "stdout",
     "output_type": "stream",
     "text": [
      "\n",
      "Iteration: 29 Loss: 89227660.87757592 Difference: 32.44528470252967\n"
     ]
    },
    {
     "name": "stderr",
     "output_type": "stream",
     "text": [
      "60000it [00:15, 3988.20it/s]\n",
      "375it [00:00, 3685.72it/s]"
     ]
    },
    {
     "name": "stdout",
     "output_type": "stream",
     "text": [
      "\n",
      "Iteration: 30 Loss: 89226037.75628944 Difference: 29.322562947486283\n"
     ]
    },
    {
     "name": "stderr",
     "output_type": "stream",
     "text": [
      "60000it [00:15, 3751.97it/s]\n",
      "422it [00:00, 4213.61it/s]"
     ]
    },
    {
     "name": "stdout",
     "output_type": "stream",
     "text": [
      "\n",
      "Iteration: 31 Loss: 89224924.0806735 Difference: 28.159093489300826\n"
     ]
    },
    {
     "name": "stderr",
     "output_type": "stream",
     "text": [
      "60000it [00:17, 3409.89it/s]\n",
      "406it [00:00, 4035.97it/s]"
     ]
    },
    {
     "name": "stdout",
     "output_type": "stream",
     "text": [
      "\n",
      "Iteration: 32 Loss: 89223850.89462882 Difference: 25.39572965094565\n"
     ]
    },
    {
     "name": "stderr",
     "output_type": "stream",
     "text": [
      "60000it [00:12, 4766.65it/s]\n",
      "1082it [00:00, 5470.17it/s]"
     ]
    },
    {
     "name": "stdout",
     "output_type": "stream",
     "text": [
      "\n",
      "Iteration: 33 Loss: 89223206.7567723 Difference: 24.28310965937955\n"
     ]
    },
    {
     "name": "stderr",
     "output_type": "stream",
     "text": [
      "60000it [00:13, 4575.34it/s]\n",
      "458it [00:00, 4506.58it/s]"
     ]
    },
    {
     "name": "stdout",
     "output_type": "stream",
     "text": [
      "\n",
      "Iteration: 34 Loss: 89222317.23540372 Difference: 21.782857062493342\n"
     ]
    },
    {
     "name": "stderr",
     "output_type": "stream",
     "text": [
      "60000it [00:14, 4203.04it/s]\n",
      "334it [00:00, 3188.29it/s]"
     ]
    },
    {
     "name": "stdout",
     "output_type": "stream",
     "text": [
      "\n",
      "Iteration: 35 Loss: 89221377.44670074 Difference: 20.285673825238792\n"
     ]
    },
    {
     "name": "stderr",
     "output_type": "stream",
     "text": [
      "60000it [00:13, 4592.01it/s]\n",
      "571it [00:00, 5447.98it/s]"
     ]
    },
    {
     "name": "stdout",
     "output_type": "stream",
     "text": [
      "\n",
      "Iteration: 36 Loss: 89220812.48817158 Difference: 19.345797867829834\n"
     ]
    },
    {
     "name": "stderr",
     "output_type": "stream",
     "text": [
      "60000it [00:14, 4024.03it/s]\n",
      "540it [00:00, 5380.47it/s]"
     ]
    },
    {
     "name": "stdout",
     "output_type": "stream",
     "text": [
      "\n",
      "Iteration: 37 Loss: 89220517.17018792 Difference: 17.946429389598975\n"
     ]
    },
    {
     "name": "stderr",
     "output_type": "stream",
     "text": [
      "60000it [00:15, 3894.39it/s]\n",
      "279it [00:00, 2749.52it/s]"
     ]
    },
    {
     "name": "stdout",
     "output_type": "stream",
     "text": [
      "\n",
      "Iteration: 38 Loss: 89219768.38114198 Difference: 18.2467612009206\n"
     ]
    },
    {
     "name": "stderr",
     "output_type": "stream",
     "text": [
      "60000it [00:21, 2854.12it/s]\n",
      "220it [00:00, 2184.07it/s]"
     ]
    },
    {
     "name": "stdout",
     "output_type": "stream",
     "text": [
      "\n",
      "Iteration: 39 Loss: 89218998.46193917 Difference: 22.51398146239475\n"
     ]
    },
    {
     "name": "stderr",
     "output_type": "stream",
     "text": [
      "60000it [00:16, 3740.95it/s]\n",
      "397it [00:00, 3941.22it/s]"
     ]
    },
    {
     "name": "stdout",
     "output_type": "stream",
     "text": [
      "\n",
      "Iteration: 40 Loss: 89218621.04243754 Difference: 22.449261298795182\n"
     ]
    },
    {
     "name": "stderr",
     "output_type": "stream",
     "text": [
      "60000it [00:14, 4234.50it/s]\n",
      "528it [00:00, 5244.67it/s]"
     ]
    },
    {
     "name": "stdout",
     "output_type": "stream",
     "text": [
      "\n",
      "Iteration: 41 Loss: 89217773.94626063 Difference: 21.493094976017773\n"
     ]
    },
    {
     "name": "stderr",
     "output_type": "stream",
     "text": [
      "60000it [00:13, 4584.19it/s]\n",
      "933it [00:00, 4590.91it/s]"
     ]
    },
    {
     "name": "stdout",
     "output_type": "stream",
     "text": [
      "\n",
      "Iteration: 42 Loss: 89217013.30300331 Difference: 22.398295575633774\n"
     ]
    },
    {
     "name": "stderr",
     "output_type": "stream",
     "text": [
      "60000it [00:12, 4962.32it/s]\n",
      "1083it [00:00, 5297.17it/s]"
     ]
    },
    {
     "name": "stdout",
     "output_type": "stream",
     "text": [
      "\n",
      "Iteration: 43 Loss: 89216355.47159834 Difference: 22.60997259069111\n"
     ]
    },
    {
     "name": "stderr",
     "output_type": "stream",
     "text": [
      "60000it [00:12, 4962.76it/s]\n",
      "512it [00:00, 5082.89it/s]"
     ]
    },
    {
     "name": "stdout",
     "output_type": "stream",
     "text": [
      "\n",
      "Iteration: 44 Loss: 89214926.31884061 Difference: 21.380912992842752\n"
     ]
    },
    {
     "name": "stderr",
     "output_type": "stream",
     "text": [
      "60000it [00:12, 4931.00it/s]\n",
      "495it [00:00, 4914.03it/s]"
     ]
    },
    {
     "name": "stdout",
     "output_type": "stream",
     "text": [
      "\n",
      "Iteration: 45 Loss: 89213708.44302697 Difference: 21.992332100353497\n"
     ]
    },
    {
     "name": "stderr",
     "output_type": "stream",
     "text": [
      "60000it [00:18, 3301.21it/s]\n",
      "314it [00:00, 3080.61it/s]"
     ]
    },
    {
     "name": "stdout",
     "output_type": "stream",
     "text": [
      "\n",
      "Iteration: 46 Loss: 89212169.67195463 Difference: 22.561591951924626\n"
     ]
    },
    {
     "name": "stderr",
     "output_type": "stream",
     "text": [
      "60000it [00:18, 3185.26it/s]\n",
      "194it [00:00, 1925.86it/s]"
     ]
    },
    {
     "name": "stdout",
     "output_type": "stream",
     "text": [
      "\n",
      "Iteration: 47 Loss: 89209822.58523065 Difference: 24.957801845686834\n"
     ]
    },
    {
     "name": "stderr",
     "output_type": "stream",
     "text": [
      "60000it [00:16, 3711.62it/s]\n",
      "427it [00:00, 4236.92it/s]"
     ]
    },
    {
     "name": "stdout",
     "output_type": "stream",
     "text": [
      "\n",
      "Iteration: 48 Loss: 89207168.06747453 Difference: 28.99901431134706\n"
     ]
    },
    {
     "name": "stderr",
     "output_type": "stream",
     "text": [
      "60000it [00:13, 4588.14it/s]\n",
      "414it [00:00, 4109.89it/s]"
     ]
    },
    {
     "name": "stdout",
     "output_type": "stream",
     "text": [
      "\n",
      "Iteration: 49 Loss: 89203686.01272163 Difference: 33.40340336761282\n"
     ]
    },
    {
     "name": "stderr",
     "output_type": "stream",
     "text": [
      "60000it [00:13, 4474.83it/s]\n",
      "548it [00:00, 5415.13it/s]"
     ]
    },
    {
     "name": "stdout",
     "output_type": "stream",
     "text": [
      "\n",
      "Iteration: 50 Loss: 89199715.60311107 Difference: 36.88521681351758\n"
     ]
    },
    {
     "name": "stderr",
     "output_type": "stream",
     "text": [
      "60000it [00:12, 4905.14it/s]\n",
      "343it [00:00, 3339.02it/s]"
     ]
    },
    {
     "name": "stdout",
     "output_type": "stream",
     "text": [
      "\n",
      "Iteration: 51 Loss: 89195723.67839348 Difference: 39.14187467574267\n"
     ]
    },
    {
     "name": "stderr",
     "output_type": "stream",
     "text": [
      "60000it [00:12, 4901.08it/s]\n",
      "590it [00:00, 5854.86it/s]"
     ]
    },
    {
     "name": "stdout",
     "output_type": "stream",
     "text": [
      "\n",
      "Iteration: 52 Loss: 89190828.36070196 Difference: 40.76826780189731\n"
     ]
    },
    {
     "name": "stderr",
     "output_type": "stream",
     "text": [
      "60000it [00:14, 4200.75it/s]\n",
      "414it [00:00, 4119.50it/s]"
     ]
    },
    {
     "name": "stdout",
     "output_type": "stream",
     "text": [
      "\n",
      "Iteration: 53 Loss: 89184034.43715788 Difference: 43.52853356667771\n"
     ]
    },
    {
     "name": "stderr",
     "output_type": "stream",
     "text": [
      "60000it [00:13, 4556.63it/s]\n",
      "872it [00:00, 4238.37it/s]"
     ]
    },
    {
     "name": "stdout",
     "output_type": "stream",
     "text": [
      "\n",
      "Iteration: 54 Loss: 89175132.21017116 Difference: 54.02817621108756\n"
     ]
    },
    {
     "name": "stderr",
     "output_type": "stream",
     "text": [
      "60000it [00:13, 4484.47it/s]\n",
      "461it [00:00, 4578.11it/s]"
     ]
    },
    {
     "name": "stdout",
     "output_type": "stream",
     "text": [
      "\n",
      "Iteration: 55 Loss: 89164625.69412543 Difference: 59.759696999203484\n"
     ]
    },
    {
     "name": "stderr",
     "output_type": "stream",
     "text": [
      "60000it [00:12, 4660.41it/s]\n",
      "436it [00:00, 4328.26it/s]"
     ]
    },
    {
     "name": "stdout",
     "output_type": "stream",
     "text": [
      "\n",
      "Iteration: 56 Loss: 89154153.67525999 Difference: 62.040030948057336\n"
     ]
    },
    {
     "name": "stderr",
     "output_type": "stream",
     "text": [
      "60000it [00:13, 4328.94it/s]\n",
      "309it [00:00, 3067.58it/s]"
     ]
    },
    {
     "name": "stdout",
     "output_type": "stream",
     "text": [
      "\n",
      "Iteration: 57 Loss: 89144652.6868142 Difference: 62.07283118851337\n"
     ]
    },
    {
     "name": "stderr",
     "output_type": "stream",
     "text": [
      "60000it [00:25, 2326.67it/s]\n",
      "380it [00:00, 3713.38it/s]"
     ]
    },
    {
     "name": "stdout",
     "output_type": "stream",
     "text": [
      "\n",
      "Iteration: 58 Loss: 89136807.16688204 Difference: 58.197255160609316\n"
     ]
    },
    {
     "name": "stderr",
     "output_type": "stream",
     "text": [
      "60000it [00:19, 3130.43it/s]\n",
      "411it [00:00, 4071.26it/s]"
     ]
    },
    {
     "name": "stdout",
     "output_type": "stream",
     "text": [
      "\n",
      "Iteration: 59 Loss: 89130235.19962278 Difference: 56.54717815940649\n"
     ]
    },
    {
     "name": "stderr",
     "output_type": "stream",
     "text": [
      "60000it [00:16, 3743.66it/s]\n",
      "409it [00:00, 4087.14it/s]"
     ]
    },
    {
     "name": "stdout",
     "output_type": "stream",
     "text": [
      "\n",
      "Iteration: 60 Loss: 89124327.31951046 Difference: 53.00266793716685\n"
     ]
    },
    {
     "name": "stderr",
     "output_type": "stream",
     "text": [
      "60000it [00:15, 3900.11it/s]\n",
      "438it [00:00, 4348.17it/s]"
     ]
    },
    {
     "name": "stdout",
     "output_type": "stream",
     "text": [
      "\n",
      "Iteration: 61 Loss: 89118988.49611963 Difference: 47.41114459222482\n"
     ]
    },
    {
     "name": "stderr",
     "output_type": "stream",
     "text": [
      "60000it [00:14, 4243.01it/s]\n",
      "275it [00:00, 2730.54it/s]"
     ]
    },
    {
     "name": "stdout",
     "output_type": "stream",
     "text": [
      "\n",
      "Iteration: 62 Loss: 89114436.09855998 Difference: 46.79347334575252\n"
     ]
    },
    {
     "name": "stderr",
     "output_type": "stream",
     "text": [
      "60000it [00:12, 4616.95it/s]\n",
      "520it [00:00, 4982.71it/s]"
     ]
    },
    {
     "name": "stdout",
     "output_type": "stream",
     "text": [
      "\n",
      "Iteration: 63 Loss: 89110769.2638562 Difference: 45.440908271298454\n"
     ]
    },
    {
     "name": "stderr",
     "output_type": "stream",
     "text": [
      "60000it [00:15, 3825.81it/s]\n",
      "347it [00:00, 3373.92it/s]"
     ]
    },
    {
     "name": "stdout",
     "output_type": "stream",
     "text": [
      "\n",
      "Iteration: 64 Loss: 89108000.87776832 Difference: 39.85939985078271\n"
     ]
    },
    {
     "name": "stderr",
     "output_type": "stream",
     "text": [
      "60000it [00:19, 3010.65it/s]\n",
      "320it [00:00, 3176.86it/s]"
     ]
    },
    {
     "name": "stdout",
     "output_type": "stream",
     "text": [
      "\n",
      "Iteration: 65 Loss: 89106076.02226809 Difference: 32.41178398930262\n"
     ]
    },
    {
     "name": "stderr",
     "output_type": "stream",
     "text": [
      "60000it [00:17, 3478.46it/s]\n",
      "454it [00:00, 4370.54it/s]"
     ]
    },
    {
     "name": "stdout",
     "output_type": "stream",
     "text": [
      "\n",
      "Iteration: 66 Loss: 89104298.37167627 Difference: 30.79046671203739\n"
     ]
    },
    {
     "name": "stderr",
     "output_type": "stream",
     "text": [
      "60000it [00:13, 4394.56it/s]\n",
      "557it [00:00, 5531.59it/s]"
     ]
    },
    {
     "name": "stdout",
     "output_type": "stream",
     "text": [
      "\n",
      "Iteration: 67 Loss: 89103193.03202355 Difference: 24.77341846561383\n"
     ]
    },
    {
     "name": "stderr",
     "output_type": "stream",
     "text": [
      "60000it [00:12, 4775.25it/s]\n",
      "430it [00:00, 4258.62it/s]"
     ]
    },
    {
     "name": "stdout",
     "output_type": "stream",
     "text": [
      "\n",
      "Iteration: 68 Loss: 89103005.93738073 Difference: 21.820273216173042\n"
     ]
    },
    {
     "name": "stderr",
     "output_type": "stream",
     "text": [
      "60000it [00:12, 4852.28it/s]\n",
      "386it [00:00, 3804.03it/s]"
     ]
    },
    {
     "name": "stdout",
     "output_type": "stream",
     "text": [
      "\n",
      "Iteration: 69 Loss: 89102759.0375194 Difference: 18.69449708846887\n"
     ]
    },
    {
     "name": "stderr",
     "output_type": "stream",
     "text": [
      "60000it [00:12, 4804.37it/s]\n",
      "521it [00:00, 5042.82it/s]"
     ]
    },
    {
     "name": "stdout",
     "output_type": "stream",
     "text": [
      "\n",
      "Iteration: 70 Loss: 89102288.46715428 Difference: 15.107147546835742\n"
     ]
    },
    {
     "name": "stderr",
     "output_type": "stream",
     "text": [
      "60000it [00:12, 4632.62it/s]\n",
      "501it [00:00, 4962.38it/s]"
     ]
    },
    {
     "name": "stdout",
     "output_type": "stream",
     "text": [
      "\n",
      "Iteration: 71 Loss: 89101976.10842058 Difference: 14.725348756561852\n"
     ]
    },
    {
     "name": "stderr",
     "output_type": "stream",
     "text": [
      "60000it [00:13, 4433.41it/s]\n",
      "524it [00:00, 5072.22it/s]"
     ]
    },
    {
     "name": "stdout",
     "output_type": "stream",
     "text": [
      "\n",
      "Iteration: 72 Loss: 89101598.6185799 Difference: 12.593056934740828\n"
     ]
    },
    {
     "name": "stderr",
     "output_type": "stream",
     "text": [
      "60000it [00:11, 5058.11it/s]\n",
      "500it [00:00, 4799.89it/s]"
     ]
    },
    {
     "name": "stdout",
     "output_type": "stream",
     "text": [
      "\n",
      "Iteration: 73 Loss: 89101322.9705434 Difference: 12.615477379929953\n"
     ]
    },
    {
     "name": "stderr",
     "output_type": "stream",
     "text": [
      "60000it [00:12, 4970.15it/s]\n",
      "551it [00:00, 5359.69it/s]"
     ]
    },
    {
     "name": "stdout",
     "output_type": "stream",
     "text": [
      "\n",
      "Iteration: 74 Loss: 89100930.74502178 Difference: 11.68532071256939\n"
     ]
    },
    {
     "name": "stderr",
     "output_type": "stream",
     "text": [
      "60000it [00:12, 4880.62it/s]\n",
      "545it [00:00, 5281.53it/s]"
     ]
    },
    {
     "name": "stdout",
     "output_type": "stream",
     "text": [
      "\n",
      "Iteration: 75 Loss: 89100879.92181654 Difference: 10.09439782597396\n"
     ]
    },
    {
     "name": "stderr",
     "output_type": "stream",
     "text": [
      "60000it [00:13, 4370.05it/s]\n",
      "710it [00:00, 3586.59it/s]"
     ]
    },
    {
     "name": "stdout",
     "output_type": "stream",
     "text": [
      "\n",
      "Iteration: 76 Loss: 89100793.85898602 Difference: 8.928015852692674\n"
     ]
    },
    {
     "name": "stderr",
     "output_type": "stream",
     "text": [
      "60000it [00:18, 3325.28it/s]\n",
      "291it [00:00, 2809.88it/s]"
     ]
    },
    {
     "name": "stdout",
     "output_type": "stream",
     "text": [
      "\n",
      "Iteration: 77 Loss: 89101019.17427823 Difference: 8.66953501095325\n"
     ]
    },
    {
     "name": "stderr",
     "output_type": "stream",
     "text": [
      "60000it [00:17, 3469.78it/s]\n",
      "347it [00:00, 3337.77it/s]"
     ]
    },
    {
     "name": "stdout",
     "output_type": "stream",
     "text": [
      "\n",
      "Iteration: 78 Loss: 89101067.94373451 Difference: 6.9731583484120945\n"
     ]
    },
    {
     "name": "stderr",
     "output_type": "stream",
     "text": [
      "60000it [00:13, 4454.21it/s]\n",
      "549it [00:00, 5280.68it/s]"
     ]
    },
    {
     "name": "stdout",
     "output_type": "stream",
     "text": [
      "\n",
      "Iteration: 79 Loss: 89100916.87513202 Difference: 7.362724524562863\n"
     ]
    },
    {
     "name": "stderr",
     "output_type": "stream",
     "text": [
      "60000it [00:13, 4541.37it/s]\n",
      "493it [00:00, 4771.67it/s]"
     ]
    },
    {
     "name": "stdout",
     "output_type": "stream",
     "text": [
      "\n",
      "Iteration: 80 Loss: 89100848.14164928 Difference: 6.615184380750722\n"
     ]
    },
    {
     "name": "stderr",
     "output_type": "stream",
     "text": [
      "60000it [00:12, 4958.46it/s]\n",
      "486it [00:00, 4855.43it/s]"
     ]
    },
    {
     "name": "stdout",
     "output_type": "stream",
     "text": [
      "\n",
      "Iteration: 81 Loss: 89100781.42796355 Difference: 5.727403217600932\n"
     ]
    },
    {
     "name": "stderr",
     "output_type": "stream",
     "text": [
      "60000it [00:12, 4976.40it/s]\n",
      "548it [00:00, 5295.77it/s]"
     ]
    },
    {
     "name": "stdout",
     "output_type": "stream",
     "text": [
      "\n",
      "Iteration: 82 Loss: 89100503.13091052 Difference: 4.909622113331387\n"
     ]
    },
    {
     "name": "stderr",
     "output_type": "stream",
     "text": [
      "60000it [00:11, 5031.93it/s]\n",
      "418it [00:00, 4089.28it/s]"
     ]
    },
    {
     "name": "stdout",
     "output_type": "stream",
     "text": [
      "\n",
      "Iteration: 83 Loss: 89100286.0076128 Difference: 4.287065349962737\n"
     ]
    },
    {
     "name": "stderr",
     "output_type": "stream",
     "text": [
      "60000it [00:13, 4494.89it/s]\n",
      "320it [00:00, 3197.84it/s]"
     ]
    },
    {
     "name": "stdout",
     "output_type": "stream",
     "text": [
      "\n",
      "Iteration: 84 Loss: 89100319.47838196 Difference: 3.5050526730820106\n"
     ]
    },
    {
     "name": "stderr",
     "output_type": "stream",
     "text": [
      "60000it [00:19, 3114.63it/s]\n",
      "336it [00:00, 3218.00it/s]"
     ]
    },
    {
     "name": "stdout",
     "output_type": "stream",
     "text": [
      "\n",
      "Iteration: 85 Loss: 89100454.83851032 Difference: 3.800855857846852\n"
     ]
    },
    {
     "name": "stderr",
     "output_type": "stream",
     "text": [
      "60000it [00:17, 3383.75it/s]\n",
      "259it [00:00, 2565.59it/s]"
     ]
    },
    {
     "name": "stdout",
     "output_type": "stream",
     "text": [
      "\n",
      "Iteration: 86 Loss: 89100629.63947532 Difference: 4.277348617539618\n"
     ]
    },
    {
     "name": "stderr",
     "output_type": "stream",
     "text": [
      "60000it [00:14, 4264.24it/s]\n",
      "548it [00:00, 5254.11it/s]"
     ]
    },
    {
     "name": "stdout",
     "output_type": "stream",
     "text": [
      "\n",
      "Iteration: 87 Loss: 89100703.30920398 Difference: 4.105994730248728\n"
     ]
    },
    {
     "name": "stderr",
     "output_type": "stream",
     "text": [
      "60000it [00:13, 4442.68it/s]\n",
      "560it [00:00, 5360.22it/s]"
     ]
    },
    {
     "name": "stdout",
     "output_type": "stream",
     "text": [
      "\n",
      "Iteration: 88 Loss: 89100779.58053538 Difference: 2.8715406769145657\n"
     ]
    },
    {
     "name": "stderr",
     "output_type": "stream",
     "text": [
      "60000it [00:12, 4663.04it/s]\n",
      "430it [00:00, 4192.14it/s]"
     ]
    },
    {
     "name": "stdout",
     "output_type": "stream",
     "text": [
      "\n",
      "Iteration: 89 Loss: 89100750.94357349 Difference: 2.0301011547962218\n"
     ]
    },
    {
     "name": "stderr",
     "output_type": "stream",
     "text": [
      "60000it [00:14, 4250.76it/s]\n",
      "356it [00:00, 3534.17it/s]"
     ]
    },
    {
     "name": "stdout",
     "output_type": "stream",
     "text": [
      "\n",
      "Iteration: 90 Loss: 89100742.13515551 Difference: 1.955983895618348\n"
     ]
    },
    {
     "name": "stderr",
     "output_type": "stream",
     "text": [
      "60000it [00:12, 4687.09it/s]\n",
      "398it [00:00, 3949.94it/s]"
     ]
    },
    {
     "name": "stdout",
     "output_type": "stream",
     "text": [
      "\n",
      "Iteration: 91 Loss: 89100734.78373499 Difference: 1.2945388705144916\n"
     ]
    },
    {
     "name": "stderr",
     "output_type": "stream",
     "text": [
      "60000it [00:14, 4099.61it/s]\n",
      "493it [00:00, 4895.68it/s]"
     ]
    },
    {
     "name": "stdout",
     "output_type": "stream",
     "text": [
      "\n",
      "Iteration: 92 Loss: 89100734.78126858 Difference: 0.8519351320737196\n"
     ]
    },
    {
     "name": "stderr",
     "output_type": "stream",
     "text": [
      "60000it [00:14, 4097.41it/s]\n",
      "487it [00:00, 4834.70it/s]"
     ]
    },
    {
     "name": "stdout",
     "output_type": "stream",
     "text": [
      "\n",
      "Iteration: 93 Loss: 89100734.78126787 Difference: 0.00033439781652575966\n"
     ]
    },
    {
     "name": "stderr",
     "output_type": "stream",
     "text": [
      "60000it [00:12, 4684.56it/s]\n"
     ]
    },
    {
     "name": "stdout",
     "output_type": "stream",
     "text": [
      "\n",
      "Iteration: 94 Loss: 89100734.78126787 Difference: 1.313099921295067e-07\n",
      "Converged! With distance: 5.157197591877987e-11\n",
      "[cluster_label,no_occurence_of_label,total_samples_in_cluster,cluster_accuracy] [[1, 2459, 3101, 0.7929700096742986], [0, 2509, 2624, 0.9561737804878049], [4, 1146, 2363, 0.48497672450275076], [6, 2259, 2585, 0.8738878143133463], [4, 1267, 2444, 0.5184124386252046], [9, 1249, 3451, 0.3619240799768183], [1, 2422, 2970, 0.8154882154882155], [4, 1300, 2599, 0.5001923816852636], [8, 3330, 4412, 0.7547597461468721], [3, 2145, 4938, 0.43438639125151884], [1, 1774, 2339, 0.758443779392903], [6, 2010, 2512, 0.8001592356687898], [6, 1324, 1568, 0.8443877551020408], [5, 1736, 2784, 0.6235632183908046], [7, 1923, 2017, 0.9533961328705999], [3, 2767, 4226, 0.6547562707051585], [0, 2388, 2637, 0.9055745164960182], [2, 4115, 4307, 0.9554214070118412], [7, 2227, 2475, 0.8997979797979798], [9, 1520, 3648, 0.4166666666666667]]\n",
      "Accuracy: 0.7152669272127448\n"
     ]
    }
   ],
   "source": [
    "kmeans = KMeans(n_clusters=20,max_iter=200)\n",
    "kmeans.fit(x_train,y_train)"
   ]
  },
  {
   "cell_type": "code",
   "execution_count": 25,
   "metadata": {},
   "outputs": [
    {
     "name": "stderr",
     "output_type": "stream",
     "text": [
      "60000it [00:03, 17346.33it/s]\n",
      "<ipython-input-12-cd99e82a65b5>:58: DeprecationWarning: elementwise comparison failed; this will raise an error in the future.\n",
      "  if cluster == []:\n",
      "542it [00:00, 5380.65it/s]"
     ]
    },
    {
     "name": "stdout",
     "output_type": "stream",
     "text": [
      "\n",
      "Iteration: 0 Loss: 105234819.1169389 Difference: 5161.4901917953885\n"
     ]
    },
    {
     "name": "stderr",
     "output_type": "stream",
     "text": [
      "60000it [00:06, 9447.64it/s] \n",
      "1893it [00:00, 18804.75it/s]"
     ]
    },
    {
     "name": "stdout",
     "output_type": "stream",
     "text": [
      "\n",
      "Iteration: 1 Loss: 102368947.3314472 Difference: 3696.850267528544\n"
     ]
    },
    {
     "name": "stderr",
     "output_type": "stream",
     "text": [
      "60000it [00:03, 17152.77it/s]\n",
      "3172it [00:00, 15166.35it/s]"
     ]
    },
    {
     "name": "stdout",
     "output_type": "stream",
     "text": [
      "\n",
      "Iteration: 2 Loss: 101737753.80743654 Difference: 507.5057453530062\n"
     ]
    },
    {
     "name": "stderr",
     "output_type": "stream",
     "text": [
      "60000it [00:03, 15536.12it/s]\n",
      "3951it [00:00, 19302.00it/s]"
     ]
    },
    {
     "name": "stdout",
     "output_type": "stream",
     "text": [
      "\n",
      "Iteration: 3 Loss: 101370697.25292745 Difference: 302.796984813296\n"
     ]
    },
    {
     "name": "stderr",
     "output_type": "stream",
     "text": [
      "60000it [00:03, 18268.41it/s]\n",
      "1761it [00:00, 17475.19it/s]"
     ]
    },
    {
     "name": "stdout",
     "output_type": "stream",
     "text": [
      "\n",
      "Iteration: 4 Loss: 101186213.70688981 Difference: 212.78058313208086\n"
     ]
    },
    {
     "name": "stderr",
     "output_type": "stream",
     "text": [
      "60000it [00:03, 16274.21it/s]\n",
      "2135it [00:00, 21301.72it/s]"
     ]
    },
    {
     "name": "stdout",
     "output_type": "stream",
     "text": [
      "\n",
      "Iteration: 5 Loss: 101088377.01698992 Difference: 149.70188306276523\n"
     ]
    },
    {
     "name": "stderr",
     "output_type": "stream",
     "text": [
      "60000it [00:04, 14265.22it/s]\n",
      "1239it [00:00, 11885.71it/s]"
     ]
    },
    {
     "name": "stdout",
     "output_type": "stream",
     "text": [
      "\n",
      "Iteration: 6 Loss: 101016204.93136282 Difference: 107.53019760332607\n"
     ]
    },
    {
     "name": "stderr",
     "output_type": "stream",
     "text": [
      "60000it [00:03, 16833.38it/s]\n",
      "3289it [00:00, 16192.73it/s]"
     ]
    },
    {
     "name": "stdout",
     "output_type": "stream",
     "text": [
      "\n",
      "Iteration: 7 Loss: 100919787.78332624 Difference: 96.3052804963024\n"
     ]
    },
    {
     "name": "stderr",
     "output_type": "stream",
     "text": [
      "60000it [00:03, 18425.56it/s]\n",
      "4006it [00:00, 20267.77it/s]"
     ]
    },
    {
     "name": "stdout",
     "output_type": "stream",
     "text": [
      "\n",
      "Iteration: 8 Loss: 100765000.97814052 Difference: 109.83599121678\n"
     ]
    },
    {
     "name": "stderr",
     "output_type": "stream",
     "text": [
      "60000it [00:03, 17054.68it/s]\n",
      "1749it [00:00, 17381.36it/s]"
     ]
    },
    {
     "name": "stdout",
     "output_type": "stream",
     "text": [
      "\n",
      "Iteration: 9 Loss: 100541770.38825993 Difference: 138.27424519664925\n"
     ]
    },
    {
     "name": "stderr",
     "output_type": "stream",
     "text": [
      "60000it [00:03, 18682.62it/s]\n",
      "1571it [00:00, 15326.41it/s]"
     ]
    },
    {
     "name": "stdout",
     "output_type": "stream",
     "text": [
      "\n",
      "Iteration: 10 Loss: 100358589.72754714 Difference: 159.90262563279495\n"
     ]
    },
    {
     "name": "stderr",
     "output_type": "stream",
     "text": [
      "60000it [00:05, 11664.10it/s]\n",
      "1697it [00:00, 16847.07it/s]"
     ]
    },
    {
     "name": "stdout",
     "output_type": "stream",
     "text": [
      "\n",
      "Iteration: 11 Loss: 100263309.23664702 Difference: 136.27832948002242\n"
     ]
    },
    {
     "name": "stderr",
     "output_type": "stream",
     "text": [
      "60000it [00:03, 15924.64it/s]\n",
      "1746it [00:00, 17375.51it/s]"
     ]
    },
    {
     "name": "stdout",
     "output_type": "stream",
     "text": [
      "\n",
      "Iteration: 12 Loss: 100207992.40974829 Difference: 92.66464196836307\n"
     ]
    },
    {
     "name": "stderr",
     "output_type": "stream",
     "text": [
      "60000it [00:03, 18151.57it/s]\n",
      "1082it [00:00, 10636.14it/s]"
     ]
    },
    {
     "name": "stdout",
     "output_type": "stream",
     "text": [
      "\n",
      "Iteration: 13 Loss: 100169027.84911133 Difference: 66.66478816023603\n"
     ]
    },
    {
     "name": "stderr",
     "output_type": "stream",
     "text": [
      "60000it [00:03, 16941.24it/s]\n",
      "1294it [00:00, 12125.84it/s]"
     ]
    },
    {
     "name": "stdout",
     "output_type": "stream",
     "text": [
      "\n",
      "Iteration: 14 Loss: 100139214.54919575 Difference: 51.01507461134721\n"
     ]
    },
    {
     "name": "stderr",
     "output_type": "stream",
     "text": [
      "60000it [00:03, 15364.84it/s]\n",
      "1252it [00:00, 12430.07it/s]"
     ]
    },
    {
     "name": "stdout",
     "output_type": "stream",
     "text": [
      "\n",
      "Iteration: 15 Loss: 100115329.83810404 Difference: 41.47163353747763\n"
     ]
    },
    {
     "name": "stderr",
     "output_type": "stream",
     "text": [
      "60000it [00:05, 10867.14it/s]\n",
      "1729it [00:00, 16869.55it/s]"
     ]
    },
    {
     "name": "stdout",
     "output_type": "stream",
     "text": [
      "\n",
      "Iteration: 16 Loss: 100096790.81673916 Difference: 35.47303716468674\n"
     ]
    },
    {
     "name": "stderr",
     "output_type": "stream",
     "text": [
      "60000it [00:03, 16060.86it/s]\n",
      "1474it [00:00, 14633.36it/s]"
     ]
    },
    {
     "name": "stdout",
     "output_type": "stream",
     "text": [
      "\n",
      "Iteration: 17 Loss: 100082721.10257025 Difference: 28.895159305744567\n"
     ]
    },
    {
     "name": "stderr",
     "output_type": "stream",
     "text": [
      "60000it [00:04, 12269.66it/s]\n",
      "1231it [00:00, 12220.68it/s]"
     ]
    },
    {
     "name": "stdout",
     "output_type": "stream",
     "text": [
      "\n",
      "Iteration: 18 Loss: 100071323.0382345 Difference: 22.387355816297365\n"
     ]
    },
    {
     "name": "stderr",
     "output_type": "stream",
     "text": [
      "60000it [00:05, 10329.69it/s]\n",
      "1102it [00:00, 10940.04it/s]"
     ]
    },
    {
     "name": "stdout",
     "output_type": "stream",
     "text": [
      "\n",
      "Iteration: 19 Loss: 100062226.39427364 Difference: 19.047140664561528\n"
     ]
    },
    {
     "name": "stderr",
     "output_type": "stream",
     "text": [
      "60000it [00:07, 8083.42it/s] \n",
      "1168it [00:00, 11219.16it/s]"
     ]
    },
    {
     "name": "stdout",
     "output_type": "stream",
     "text": [
      "\n",
      "Iteration: 20 Loss: 100054991.73180331 Difference: 16.120976463267073\n"
     ]
    },
    {
     "name": "stderr",
     "output_type": "stream",
     "text": [
      "60000it [00:06, 9333.09it/s] \n",
      "1551it [00:00, 15397.72it/s]"
     ]
    },
    {
     "name": "stdout",
     "output_type": "stream",
     "text": [
      "\n",
      "Iteration: 21 Loss: 100049408.15327124 Difference: 13.7106565319325\n"
     ]
    },
    {
     "name": "stderr",
     "output_type": "stream",
     "text": [
      "60000it [00:04, 12803.81it/s]\n",
      "1081it [00:00, 10731.59it/s]"
     ]
    },
    {
     "name": "stdout",
     "output_type": "stream",
     "text": [
      "\n",
      "Iteration: 22 Loss: 100045381.77977945 Difference: 11.093794993133494\n"
     ]
    },
    {
     "name": "stderr",
     "output_type": "stream",
     "text": [
      "60000it [00:05, 11116.90it/s]\n",
      "961it [00:00, 9540.63it/s]"
     ]
    },
    {
     "name": "stdout",
     "output_type": "stream",
     "text": [
      "\n",
      "Iteration: 23 Loss: 100042438.16308135 Difference: 8.874884656410599\n"
     ]
    },
    {
     "name": "stderr",
     "output_type": "stream",
     "text": [
      "60000it [00:04, 13193.86it/s]\n",
      "841it [00:00, 8363.69it/s]"
     ]
    },
    {
     "name": "stdout",
     "output_type": "stream",
     "text": [
      "\n",
      "Iteration: 24 Loss: 100040207.03225775 Difference: 6.943763895118648\n"
     ]
    },
    {
     "name": "stderr",
     "output_type": "stream",
     "text": [
      "60000it [00:03, 17754.62it/s]\n",
      "706it [00:00, 7037.47it/s]"
     ]
    },
    {
     "name": "stdout",
     "output_type": "stream",
     "text": [
      "\n",
      "Iteration: 25 Loss: 100038908.43760636 Difference: 5.761873017961902\n"
     ]
    },
    {
     "name": "stderr",
     "output_type": "stream",
     "text": [
      "60000it [00:06, 9968.22it/s] \n",
      "1206it [00:00, 11972.58it/s]"
     ]
    },
    {
     "name": "stdout",
     "output_type": "stream",
     "text": [
      "\n",
      "Iteration: 26 Loss: 100037992.52064279 Difference: 5.118094121696856\n"
     ]
    },
    {
     "name": "stderr",
     "output_type": "stream",
     "text": [
      "60000it [00:03, 15659.24it/s]\n",
      "1909it [00:00, 18668.73it/s]"
     ]
    },
    {
     "name": "stdout",
     "output_type": "stream",
     "text": [
      "\n",
      "Iteration: 27 Loss: 100037115.60739447 Difference: 3.1463860446444936\n"
     ]
    },
    {
     "name": "stderr",
     "output_type": "stream",
     "text": [
      "60000it [00:04, 14655.94it/s]\n",
      "3984it [00:00, 19780.33it/s]"
     ]
    },
    {
     "name": "stdout",
     "output_type": "stream",
     "text": [
      "\n",
      "Iteration: 28 Loss: 100036382.34197581 Difference: 3.128602761632372\n"
     ]
    },
    {
     "name": "stderr",
     "output_type": "stream",
     "text": [
      "60000it [00:03, 18291.98it/s]\n",
      "1631it [00:00, 16189.28it/s]"
     ]
    },
    {
     "name": "stdout",
     "output_type": "stream",
     "text": [
      "\n",
      "Iteration: 29 Loss: 100035593.3069584 Difference: 2.6252330770319006\n"
     ]
    },
    {
     "name": "stderr",
     "output_type": "stream",
     "text": [
      "60000it [00:03, 17712.05it/s]\n",
      "2160it [00:00, 21442.76it/s]"
     ]
    },
    {
     "name": "stdout",
     "output_type": "stream",
     "text": [
      "\n",
      "Iteration: 30 Loss: 100034823.79532644 Difference: 2.491810592606471\n"
     ]
    },
    {
     "name": "stderr",
     "output_type": "stream",
     "text": [
      "60000it [00:03, 15783.67it/s]\n",
      "1599it [00:00, 15874.20it/s]"
     ]
    },
    {
     "name": "stdout",
     "output_type": "stream",
     "text": [
      "\n",
      "Iteration: 31 Loss: 100034377.86826113 Difference: 2.2926007340069403\n"
     ]
    },
    {
     "name": "stderr",
     "output_type": "stream",
     "text": [
      "60000it [00:03, 19413.63it/s]\n",
      "1629it [00:00, 16171.76it/s]"
     ]
    },
    {
     "name": "stdout",
     "output_type": "stream",
     "text": [
      "\n",
      "Iteration: 32 Loss: 100034080.17791374 Difference: 1.575167845937159\n"
     ]
    },
    {
     "name": "stderr",
     "output_type": "stream",
     "text": [
      "60000it [00:03, 15945.76it/s]\n",
      "2219it [00:00, 22018.93it/s]"
     ]
    },
    {
     "name": "stdout",
     "output_type": "stream",
     "text": [
      "\n",
      "Iteration: 33 Loss: 100033795.46499556 Difference: 1.4068936552198188\n"
     ]
    },
    {
     "name": "stderr",
     "output_type": "stream",
     "text": [
      "60000it [00:02, 20660.72it/s]\n",
      "3682it [00:00, 17667.21it/s]"
     ]
    },
    {
     "name": "stdout",
     "output_type": "stream",
     "text": [
      "\n",
      "Iteration: 34 Loss: 100033647.21176156 Difference: 1.3206700375695652\n"
     ]
    },
    {
     "name": "stderr",
     "output_type": "stream",
     "text": [
      "60000it [00:03, 19224.95it/s]\n",
      "1568it [00:00, 15559.89it/s]"
     ]
    },
    {
     "name": "stdout",
     "output_type": "stream",
     "text": [
      "\n",
      "Iteration: 35 Loss: 100033566.50516415 Difference: 0.944702207864475\n"
     ]
    },
    {
     "name": "stderr",
     "output_type": "stream",
     "text": [
      "60000it [00:03, 16466.20it/s]\n",
      "1434it [00:00, 13921.73it/s]"
     ]
    },
    {
     "name": "stdout",
     "output_type": "stream",
     "text": [
      "\n",
      "Iteration: 36 Loss: 100033506.26689991 Difference: 0.7348775074773575\n"
     ]
    },
    {
     "name": "stderr",
     "output_type": "stream",
     "text": [
      "60000it [00:03, 15096.56it/s]\n",
      "1890it [00:00, 18229.86it/s]"
     ]
    },
    {
     "name": "stdout",
     "output_type": "stream",
     "text": [
      "\n",
      "Iteration: 37 Loss: 100033413.05960448 Difference: 0.48586810492605476\n"
     ]
    },
    {
     "name": "stderr",
     "output_type": "stream",
     "text": [
      "60000it [00:03, 19952.01it/s]\n",
      "1663it [00:00, 16609.15it/s]"
     ]
    },
    {
     "name": "stdout",
     "output_type": "stream",
     "text": [
      "\n",
      "Iteration: 38 Loss: 100033377.58264726 Difference: 0.43913886228719873\n"
     ]
    },
    {
     "name": "stderr",
     "output_type": "stream",
     "text": [
      "60000it [00:03, 16609.61it/s]\n",
      "1864it [00:00, 17874.99it/s]"
     ]
    },
    {
     "name": "stdout",
     "output_type": "stream",
     "text": [
      "\n",
      "Iteration: 39 Loss: 100033377.57961212 Difference: 0.3513847579764867\n"
     ]
    },
    {
     "name": "stderr",
     "output_type": "stream",
     "text": [
      "60000it [00:04, 12633.60it/s]\n",
      "1058it [00:00, 10479.52it/s]"
     ]
    },
    {
     "name": "stdout",
     "output_type": "stream",
     "text": [
      "\n",
      "Iteration: 40 Loss: 100033377.57961148 Difference: 2.927196679379422e-05\n"
     ]
    },
    {
     "name": "stderr",
     "output_type": "stream",
     "text": [
      "60000it [00:04, 12610.62it/s]\n"
     ]
    },
    {
     "name": "stdout",
     "output_type": "stream",
     "text": [
      "\n",
      "Iteration: 41 Loss: 100033377.57961148 Difference: 2.482717724486918e-09\n",
      "Converged! With distance: 3.256951207980168e-13\n",
      "[cluster_label,no_occurence_of_label,total_samples_in_cluster,cluster_accuracy] [[0, 4973, 13348, 0.37256517830386576], [6, 5061, 10713, 0.47241669000280034], [7, 3355, 11743, 0.2857021204121604], [1, 6690, 13410, 0.4988814317673378], [4, 3329, 10786, 0.30864083070647136]]\n",
      "Accuracy: 0.38764125023852714\n"
     ]
    }
   ],
   "source": [
    "kmeans = KMeans(n_clusters=5,max_iter=200)\n",
    "kmeans.fit(x_train,y_train)"
   ]
  },
  {
   "cell_type": "code",
   "execution_count": 26,
   "metadata": {},
   "outputs": [
    {
     "data": {
      "text/plain": [
       "0.38764125023852714"
      ]
     },
     "execution_count": 26,
     "metadata": {},
     "output_type": "execute_result"
    }
   ],
   "source": [
    "kmeans.accuracy"
   ]
  },
  {
   "cell_type": "code",
   "execution_count": 27,
   "metadata": {},
   "outputs": [
    {
     "data": {
      "text/plain": [
       "3.256951207980168e-13"
      ]
     },
     "execution_count": 27,
     "metadata": {},
     "output_type": "execute_result"
    }
   ],
   "source": [
    "kmeans.centroids_dist"
   ]
  },
  {
   "cell_type": "code",
   "execution_count": 42,
   "metadata": {},
   "outputs": [
    {
     "name": "stderr",
     "output_type": "stream",
     "text": [
      "60000it [00:03, 19119.71it/s]\n",
      "<ipython-input-12-cd99e82a65b5>:58: DeprecationWarning: elementwise comparison failed; this will raise an error in the future.\n",
      "  if cluster == []:\n",
      "3805it [00:00, 18517.53it/s]"
     ]
    },
    {
     "name": "stdout",
     "output_type": "stream",
     "text": [
      "\n",
      "Iteration: 0 Loss: 105343555.65810671 Difference: 4628.210237229938\n"
     ]
    },
    {
     "name": "stderr",
     "output_type": "stream",
     "text": [
      "60000it [00:02, 20356.39it/s]\n",
      "1935it [00:00, 18806.32it/s]"
     ]
    },
    {
     "name": "stdout",
     "output_type": "stream",
     "text": [
      "\n",
      "Iteration: 1 Loss: 101756501.85036418 Difference: 3364.850188687552\n"
     ]
    },
    {
     "name": "stderr",
     "output_type": "stream",
     "text": [
      "60000it [00:02, 20496.60it/s]\n",
      "1932it [00:00, 18407.14it/s]"
     ]
    },
    {
     "name": "stdout",
     "output_type": "stream",
     "text": [
      "\n",
      "Iteration: 2 Loss: 101174004.37798816 Difference: 582.2674149327512\n"
     ]
    },
    {
     "name": "stderr",
     "output_type": "stream",
     "text": [
      "60000it [00:03, 17515.53it/s]\n",
      "1538it [00:00, 14945.65it/s]"
     ]
    },
    {
     "name": "stdout",
     "output_type": "stream",
     "text": [
      "\n",
      "Iteration: 3 Loss: 100980881.76174587 Difference: 280.7881332923374\n"
     ]
    },
    {
     "name": "stderr",
     "output_type": "stream",
     "text": [
      "60000it [00:03, 16267.22it/s]\n",
      "837it [00:00, 8040.71it/s]"
     ]
    },
    {
     "name": "stdout",
     "output_type": "stream",
     "text": [
      "\n",
      "Iteration: 4 Loss: 100866676.58328326 Difference: 161.40062172216318\n"
     ]
    },
    {
     "name": "stderr",
     "output_type": "stream",
     "text": [
      "60000it [00:04, 14631.97it/s]\n",
      "2830it [00:00, 14229.08it/s]"
     ]
    },
    {
     "name": "stdout",
     "output_type": "stream",
     "text": [
      "\n",
      "Iteration: 5 Loss: 100779235.40890099 Difference: 122.8980716058876\n"
     ]
    },
    {
     "name": "stderr",
     "output_type": "stream",
     "text": [
      "60000it [00:04, 14775.86it/s]\n",
      "1279it [00:00, 12429.54it/s]"
     ]
    },
    {
     "name": "stdout",
     "output_type": "stream",
     "text": [
      "\n",
      "Iteration: 6 Loss: 100696315.94450429 Difference: 104.97073877717362\n"
     ]
    },
    {
     "name": "stderr",
     "output_type": "stream",
     "text": [
      "60000it [00:03, 15276.94it/s]\n",
      "1072it [00:00, 10300.39it/s]"
     ]
    },
    {
     "name": "stdout",
     "output_type": "stream",
     "text": [
      "\n",
      "Iteration: 7 Loss: 100615853.59217727 Difference: 105.43964608285441\n"
     ]
    },
    {
     "name": "stderr",
     "output_type": "stream",
     "text": [
      "60000it [00:04, 14179.55it/s]\n",
      "1775it [00:00, 17421.71it/s]"
     ]
    },
    {
     "name": "stdout",
     "output_type": "stream",
     "text": [
      "\n",
      "Iteration: 8 Loss: 100553587.80395207 Difference: 101.46287162700712\n"
     ]
    },
    {
     "name": "stderr",
     "output_type": "stream",
     "text": [
      "60000it [00:03, 15459.58it/s]\n",
      "1211it [00:00, 11983.10it/s]"
     ]
    },
    {
     "name": "stdout",
     "output_type": "stream",
     "text": [
      "\n",
      "Iteration: 9 Loss: 100512430.67303127 Difference: 85.00898737617608\n"
     ]
    },
    {
     "name": "stderr",
     "output_type": "stream",
     "text": [
      "60000it [00:03, 16233.62it/s]\n",
      "1153it [00:00, 11359.79it/s]"
     ]
    },
    {
     "name": "stdout",
     "output_type": "stream",
     "text": [
      "\n",
      "Iteration: 10 Loss: 100483250.92215441 Difference: 65.79036841721911\n"
     ]
    },
    {
     "name": "stderr",
     "output_type": "stream",
     "text": [
      "60000it [00:03, 19870.00it/s]\n",
      "1194it [00:00, 11827.05it/s]"
     ]
    },
    {
     "name": "stdout",
     "output_type": "stream",
     "text": [
      "\n",
      "Iteration: 11 Loss: 100463358.53305423 Difference: 50.97578771159949\n"
     ]
    },
    {
     "name": "stderr",
     "output_type": "stream",
     "text": [
      "60000it [00:03, 17699.33it/s]\n",
      "3655it [00:00, 18486.57it/s]"
     ]
    },
    {
     "name": "stdout",
     "output_type": "stream",
     "text": [
      "\n",
      "Iteration: 12 Loss: 100449659.53104858 Difference: 39.6487918758875\n"
     ]
    },
    {
     "name": "stderr",
     "output_type": "stream",
     "text": [
      "60000it [00:03, 19479.96it/s]\n",
      "1938it [00:00, 19056.30it/s]"
     ]
    },
    {
     "name": "stdout",
     "output_type": "stream",
     "text": [
      "\n",
      "Iteration: 13 Loss: 100438057.99276671 Difference: 31.4354774973973\n"
     ]
    },
    {
     "name": "stderr",
     "output_type": "stream",
     "text": [
      "60000it [00:03, 19500.91it/s]\n",
      "1820it [00:00, 18116.57it/s]"
     ]
    },
    {
     "name": "stdout",
     "output_type": "stream",
     "text": [
      "\n",
      "Iteration: 14 Loss: 100427035.0429656 Difference: 29.110982979286607\n"
     ]
    },
    {
     "name": "stderr",
     "output_type": "stream",
     "text": [
      "60000it [00:02, 20351.20it/s]\n",
      "2054it [00:00, 19744.87it/s]"
     ]
    },
    {
     "name": "stdout",
     "output_type": "stream",
     "text": [
      "\n",
      "Iteration: 15 Loss: 100416984.4742809 Difference: 27.41651688826742\n"
     ]
    },
    {
     "name": "stderr",
     "output_type": "stream",
     "text": [
      "60000it [00:02, 20621.80it/s]\n",
      "1053it [00:00, 10073.88it/s]"
     ]
    },
    {
     "name": "stdout",
     "output_type": "stream",
     "text": [
      "\n",
      "Iteration: 16 Loss: 100408891.03864513 Difference: 25.410720453267015\n"
     ]
    },
    {
     "name": "stderr",
     "output_type": "stream",
     "text": [
      "60000it [00:03, 17961.11it/s]\n",
      "1567it [00:00, 15211.67it/s]"
     ]
    },
    {
     "name": "stdout",
     "output_type": "stream",
     "text": [
      "\n",
      "Iteration: 17 Loss: 100400664.86603813 Difference: 22.887141217542293\n"
     ]
    },
    {
     "name": "stderr",
     "output_type": "stream",
     "text": [
      "60000it [00:02, 20128.70it/s]\n",
      "1707it [00:00, 16306.87it/s]"
     ]
    },
    {
     "name": "stdout",
     "output_type": "stream",
     "text": [
      "\n",
      "Iteration: 18 Loss: 100393183.38304716 Difference: 24.648818516063706\n"
     ]
    },
    {
     "name": "stderr",
     "output_type": "stream",
     "text": [
      "60000it [00:03, 19893.20it/s]\n",
      "2041it [00:00, 20202.95it/s]"
     ]
    },
    {
     "name": "stdout",
     "output_type": "stream",
     "text": [
      "\n",
      "Iteration: 19 Loss: 100385708.55145983 Difference: 24.007261709071766\n"
     ]
    },
    {
     "name": "stderr",
     "output_type": "stream",
     "text": [
      "60000it [00:02, 20537.20it/s]\n",
      "2223it [00:00, 21396.96it/s]"
     ]
    },
    {
     "name": "stdout",
     "output_type": "stream",
     "text": [
      "\n",
      "Iteration: 20 Loss: 100376811.11102164 Difference: 26.86027272426591\n"
     ]
    },
    {
     "name": "stderr",
     "output_type": "stream",
     "text": [
      "60000it [00:02, 20689.50it/s]\n",
      "1453it [00:00, 14471.50it/s]"
     ]
    },
    {
     "name": "stdout",
     "output_type": "stream",
     "text": [
      "\n",
      "Iteration: 21 Loss: 100367975.57667595 Difference: 28.50425132040548\n"
     ]
    },
    {
     "name": "stderr",
     "output_type": "stream",
     "text": [
      "60000it [00:03, 19546.15it/s]\n",
      "1907it [00:00, 18294.50it/s]"
     ]
    },
    {
     "name": "stdout",
     "output_type": "stream",
     "text": [
      "\n",
      "Iteration: 22 Loss: 100357391.1519077 Difference: 29.77789082521358\n"
     ]
    },
    {
     "name": "stderr",
     "output_type": "stream",
     "text": [
      "60000it [00:02, 20228.92it/s]\n",
      "2087it [00:00, 20848.15it/s]"
     ]
    },
    {
     "name": "stdout",
     "output_type": "stream",
     "text": [
      "\n",
      "Iteration: 23 Loss: 100344811.91627403 Difference: 33.2486193683613\n"
     ]
    },
    {
     "name": "stderr",
     "output_type": "stream",
     "text": [
      "60000it [00:02, 20434.15it/s]\n",
      "2093it [00:00, 20765.89it/s]"
     ]
    },
    {
     "name": "stdout",
     "output_type": "stream",
     "text": [
      "\n",
      "Iteration: 24 Loss: 100332068.18795732 Difference: 35.68721361238442\n"
     ]
    },
    {
     "name": "stderr",
     "output_type": "stream",
     "text": [
      "60000it [00:02, 20630.34it/s]\n",
      "2017it [00:00, 19509.16it/s]"
     ]
    },
    {
     "name": "stdout",
     "output_type": "stream",
     "text": [
      "\n",
      "Iteration: 25 Loss: 100319142.38053991 Difference: 35.339711279838966\n"
     ]
    },
    {
     "name": "stderr",
     "output_type": "stream",
     "text": [
      "60000it [00:03, 19370.80it/s]\n",
      "2086it [00:00, 20617.34it/s]"
     ]
    },
    {
     "name": "stdout",
     "output_type": "stream",
     "text": [
      "\n",
      "Iteration: 26 Loss: 100306254.96014956 Difference: 36.02906613672863\n"
     ]
    },
    {
     "name": "stderr",
     "output_type": "stream",
     "text": [
      "60000it [00:02, 20131.46it/s]\n",
      "2125it [00:00, 21021.87it/s]"
     ]
    },
    {
     "name": "stdout",
     "output_type": "stream",
     "text": [
      "\n",
      "Iteration: 27 Loss: 100292742.81061481 Difference: 35.576752362542514\n"
     ]
    },
    {
     "name": "stderr",
     "output_type": "stream",
     "text": [
      "60000it [00:02, 20628.89it/s]\n",
      "1888it [00:00, 18006.71it/s]"
     ]
    },
    {
     "name": "stdout",
     "output_type": "stream",
     "text": [
      "\n",
      "Iteration: 28 Loss: 100279753.18283421 Difference: 37.6723051213184\n"
     ]
    },
    {
     "name": "stderr",
     "output_type": "stream",
     "text": [
      "60000it [00:02, 20289.91it/s]\n",
      "2042it [00:00, 19626.27it/s]"
     ]
    },
    {
     "name": "stdout",
     "output_type": "stream",
     "text": [
      "\n",
      "Iteration: 29 Loss: 100266918.53127281 Difference: 37.10054241945357\n"
     ]
    },
    {
     "name": "stderr",
     "output_type": "stream",
     "text": [
      "60000it [00:03, 19725.38it/s]\n",
      "2064it [00:00, 20087.53it/s]"
     ]
    },
    {
     "name": "stdout",
     "output_type": "stream",
     "text": [
      "\n",
      "Iteration: 30 Loss: 100255275.6407942 Difference: 36.57671853475146\n"
     ]
    },
    {
     "name": "stderr",
     "output_type": "stream",
     "text": [
      "60000it [00:02, 20113.11it/s]\n",
      "1990it [00:00, 19367.43it/s]"
     ]
    },
    {
     "name": "stdout",
     "output_type": "stream",
     "text": [
      "\n",
      "Iteration: 31 Loss: 100245447.13819821 Difference: 34.32290320942936\n"
     ]
    },
    {
     "name": "stderr",
     "output_type": "stream",
     "text": [
      "60000it [00:02, 20388.62it/s]\n",
      "1538it [00:00, 15364.96it/s]"
     ]
    },
    {
     "name": "stdout",
     "output_type": "stream",
     "text": [
      "\n",
      "Iteration: 32 Loss: 100236480.29966038 Difference: 32.61803291406358\n"
     ]
    },
    {
     "name": "stderr",
     "output_type": "stream",
     "text": [
      "60000it [00:03, 16239.78it/s]\n",
      "1337it [00:00, 12740.13it/s]"
     ]
    },
    {
     "name": "stdout",
     "output_type": "stream",
     "text": [
      "\n",
      "Iteration: 33 Loss: 100225801.16178598 Difference: 31.717303017804387\n"
     ]
    },
    {
     "name": "stderr",
     "output_type": "stream",
     "text": [
      "60000it [00:04, 13692.39it/s]\n",
      "1521it [00:00, 14574.70it/s]"
     ]
    },
    {
     "name": "stdout",
     "output_type": "stream",
     "text": [
      "\n",
      "Iteration: 34 Loss: 100214545.25982285 Difference: 34.30356804204072\n"
     ]
    },
    {
     "name": "stderr",
     "output_type": "stream",
     "text": [
      "60000it [00:04, 14868.37it/s]\n",
      "1031it [00:00, 10192.27it/s]"
     ]
    },
    {
     "name": "stdout",
     "output_type": "stream",
     "text": [
      "\n",
      "Iteration: 35 Loss: 100202018.40277314 Difference: 34.46565875169301\n"
     ]
    },
    {
     "name": "stderr",
     "output_type": "stream",
     "text": [
      "60000it [00:04, 13472.85it/s]\n",
      "1151it [00:00, 11222.36it/s]"
     ]
    },
    {
     "name": "stdout",
     "output_type": "stream",
     "text": [
      "\n",
      "Iteration: 36 Loss: 100188832.94615774 Difference: 38.06290728769643\n"
     ]
    },
    {
     "name": "stderr",
     "output_type": "stream",
     "text": [
      "60000it [00:04, 12291.34it/s]\n",
      "1068it [00:00, 10642.15it/s]"
     ]
    },
    {
     "name": "stdout",
     "output_type": "stream",
     "text": [
      "\n",
      "Iteration: 37 Loss: 100173590.10438974 Difference: 41.43557322581585\n"
     ]
    },
    {
     "name": "stderr",
     "output_type": "stream",
     "text": [
      "60000it [00:04, 14869.05it/s]\n",
      "1297it [00:00, 12792.77it/s]"
     ]
    },
    {
     "name": "stdout",
     "output_type": "stream",
     "text": [
      "\n",
      "Iteration: 38 Loss: 100156910.30313528 Difference: 45.8297573468929\n"
     ]
    },
    {
     "name": "stderr",
     "output_type": "stream",
     "text": [
      "60000it [00:03, 15044.09it/s]\n",
      "1281it [00:00, 12549.88it/s]"
     ]
    },
    {
     "name": "stdout",
     "output_type": "stream",
     "text": [
      "\n",
      "Iteration: 39 Loss: 100138640.66930762 Difference: 47.9988920303306\n"
     ]
    },
    {
     "name": "stderr",
     "output_type": "stream",
     "text": [
      "60000it [00:04, 12981.71it/s]\n",
      "1868it [00:00, 18120.92it/s]"
     ]
    },
    {
     "name": "stdout",
     "output_type": "stream",
     "text": [
      "\n",
      "Iteration: 40 Loss: 100119903.33306673 Difference: 52.28319389203654\n"
     ]
    },
    {
     "name": "stderr",
     "output_type": "stream",
     "text": [
      "60000it [00:03, 16234.03it/s]\n",
      "1736it [00:00, 16938.25it/s]"
     ]
    },
    {
     "name": "stdout",
     "output_type": "stream",
     "text": [
      "\n",
      "Iteration: 41 Loss: 100102172.02573599 Difference: 50.498123155525946\n"
     ]
    },
    {
     "name": "stderr",
     "output_type": "stream",
     "text": [
      "60000it [00:03, 17798.99it/s]\n",
      "2092it [00:00, 20067.48it/s]"
     ]
    },
    {
     "name": "stdout",
     "output_type": "stream",
     "text": [
      "\n",
      "Iteration: 42 Loss: 100084169.95625804 Difference: 48.043202318361544\n"
     ]
    },
    {
     "name": "stderr",
     "output_type": "stream",
     "text": [
      "60000it [00:02, 20313.47it/s]\n",
      "1661it [00:00, 16374.80it/s]"
     ]
    },
    {
     "name": "stdout",
     "output_type": "stream",
     "text": [
      "\n",
      "Iteration: 43 Loss: 100067880.73191233 Difference: 47.42779224766879\n"
     ]
    },
    {
     "name": "stderr",
     "output_type": "stream",
     "text": [
      "60000it [00:03, 19968.09it/s]\n",
      "2063it [00:00, 19813.85it/s]"
     ]
    },
    {
     "name": "stdout",
     "output_type": "stream",
     "text": [
      "\n",
      "Iteration: 44 Loss: 100054041.43805864 Difference: 44.71839488522109\n"
     ]
    },
    {
     "name": "stderr",
     "output_type": "stream",
     "text": [
      "60000it [00:03, 18637.63it/s]\n",
      "1666it [00:00, 16264.18it/s]"
     ]
    },
    {
     "name": "stdout",
     "output_type": "stream",
     "text": [
      "\n",
      "Iteration: 45 Loss: 100044092.0771298 Difference: 40.54335159865121\n"
     ]
    },
    {
     "name": "stderr",
     "output_type": "stream",
     "text": [
      "60000it [00:03, 17483.99it/s]\n",
      "1973it [00:00, 19729.55it/s]"
     ]
    },
    {
     "name": "stdout",
     "output_type": "stream",
     "text": [
      "\n",
      "Iteration: 46 Loss: 100037111.66184944 Difference: 34.00756737265785\n"
     ]
    },
    {
     "name": "stderr",
     "output_type": "stream",
     "text": [
      "60000it [00:03, 19833.89it/s]\n",
      "1699it [00:00, 16894.51it/s]"
     ]
    },
    {
     "name": "stdout",
     "output_type": "stream",
     "text": [
      "\n",
      "Iteration: 47 Loss: 100032889.90055645 Difference: 29.103698131375605\n"
     ]
    },
    {
     "name": "stderr",
     "output_type": "stream",
     "text": [
      "60000it [00:03, 19318.48it/s]\n",
      "1915it [00:00, 18425.74it/s]"
     ]
    },
    {
     "name": "stdout",
     "output_type": "stream",
     "text": [
      "\n",
      "Iteration: 48 Loss: 100030157.10330586 Difference: 22.206792847660612\n"
     ]
    },
    {
     "name": "stderr",
     "output_type": "stream",
     "text": [
      "60000it [00:03, 19037.26it/s]\n",
      "1874it [00:00, 18311.22it/s]"
     ]
    },
    {
     "name": "stdout",
     "output_type": "stream",
     "text": [
      "\n",
      "Iteration: 49 Loss: 100028648.27491851 Difference: 17.826637546953116\n"
     ]
    },
    {
     "name": "stderr",
     "output_type": "stream",
     "text": [
      "60000it [00:03, 15646.28it/s]\n",
      "734it [00:00, 7146.90it/s]"
     ]
    },
    {
     "name": "stdout",
     "output_type": "stream",
     "text": [
      "\n",
      "Iteration: 50 Loss: 100027690.87834328 Difference: 17.313719401200498\n"
     ]
    },
    {
     "name": "stderr",
     "output_type": "stream",
     "text": [
      "60000it [00:04, 13694.33it/s]\n",
      "1506it [00:00, 14862.15it/s]"
     ]
    },
    {
     "name": "stdout",
     "output_type": "stream",
     "text": [
      "\n",
      "Iteration: 51 Loss: 100027435.77259076 Difference: 14.661330617477942\n"
     ]
    },
    {
     "name": "stderr",
     "output_type": "stream",
     "text": [
      "60000it [00:04, 14197.34it/s]\n",
      "2131it [00:00, 20811.70it/s]"
     ]
    },
    {
     "name": "stdout",
     "output_type": "stream",
     "text": [
      "\n",
      "Iteration: 52 Loss: 100027105.19703057 Difference: 12.093164878494708\n"
     ]
    },
    {
     "name": "stderr",
     "output_type": "stream",
     "text": [
      "60000it [00:03, 18969.69it/s]\n",
      "1610it [00:00, 15752.24it/s]"
     ]
    },
    {
     "name": "stdout",
     "output_type": "stream",
     "text": [
      "\n",
      "Iteration: 53 Loss: 100026645.74701717 Difference: 12.434017444201473\n"
     ]
    },
    {
     "name": "stderr",
     "output_type": "stream",
     "text": [
      "60000it [00:03, 18084.93it/s]\n",
      "1712it [00:00, 16897.07it/s]"
     ]
    },
    {
     "name": "stdout",
     "output_type": "stream",
     "text": [
      "\n",
      "Iteration: 54 Loss: 100026814.69438092 Difference: 10.862295238724759\n"
     ]
    },
    {
     "name": "stderr",
     "output_type": "stream",
     "text": [
      "60000it [00:03, 19236.07it/s]\n",
      "4206it [00:00, 20169.33it/s]"
     ]
    },
    {
     "name": "stdout",
     "output_type": "stream",
     "text": [
      "\n",
      "Iteration: 55 Loss: 100026772.93733735 Difference: 7.579254623135887\n"
     ]
    },
    {
     "name": "stderr",
     "output_type": "stream",
     "text": [
      "60000it [00:03, 18956.34it/s]\n",
      "1791it [00:00, 17788.59it/s]"
     ]
    },
    {
     "name": "stdout",
     "output_type": "stream",
     "text": [
      "\n",
      "Iteration: 56 Loss: 100026819.00179121 Difference: 6.577854303452041\n"
     ]
    },
    {
     "name": "stderr",
     "output_type": "stream",
     "text": [
      "60000it [00:03, 15796.62it/s]\n",
      "4070it [00:00, 19257.97it/s]"
     ]
    },
    {
     "name": "stdout",
     "output_type": "stream",
     "text": [
      "\n",
      "Iteration: 57 Loss: 100027113.25170861 Difference: 7.359877434068194\n"
     ]
    },
    {
     "name": "stderr",
     "output_type": "stream",
     "text": [
      "60000it [00:03, 19682.02it/s]\n",
      "1545it [00:00, 15393.13it/s]"
     ]
    },
    {
     "name": "stdout",
     "output_type": "stream",
     "text": [
      "\n",
      "Iteration: 58 Loss: 100027402.32606381 Difference: 5.986064420079261\n"
     ]
    },
    {
     "name": "stderr",
     "output_type": "stream",
     "text": [
      "60000it [00:04, 12873.97it/s]\n",
      "1628it [00:00, 15633.91it/s]"
     ]
    },
    {
     "name": "stdout",
     "output_type": "stream",
     "text": [
      "\n",
      "Iteration: 59 Loss: 100027582.72942288 Difference: 4.386224280760284\n"
     ]
    },
    {
     "name": "stderr",
     "output_type": "stream",
     "text": [
      "60000it [00:04, 14666.20it/s]\n",
      "1444it [00:00, 14129.45it/s]"
     ]
    },
    {
     "name": "stdout",
     "output_type": "stream",
     "text": [
      "\n",
      "Iteration: 60 Loss: 100028024.66577017 Difference: 3.8625607707760143\n"
     ]
    },
    {
     "name": "stderr",
     "output_type": "stream",
     "text": [
      "60000it [00:04, 14631.78it/s]\n",
      "1218it [00:00, 11849.09it/s]"
     ]
    },
    {
     "name": "stdout",
     "output_type": "stream",
     "text": [
      "\n",
      "Iteration: 61 Loss: 100028633.15820976 Difference: 3.5619283295061828\n"
     ]
    },
    {
     "name": "stderr",
     "output_type": "stream",
     "text": [
      "60000it [00:04, 12657.13it/s]\n",
      "1624it [00:00, 16212.76it/s]"
     ]
    },
    {
     "name": "stdout",
     "output_type": "stream",
     "text": [
      "\n",
      "Iteration: 62 Loss: 100029068.30000114 Difference: 2.9975262792840587\n"
     ]
    },
    {
     "name": "stderr",
     "output_type": "stream",
     "text": [
      "60000it [00:04, 14403.43it/s]\n",
      "1267it [00:00, 12515.15it/s]"
     ]
    },
    {
     "name": "stdout",
     "output_type": "stream",
     "text": [
      "\n",
      "Iteration: 63 Loss: 100029713.80321738 Difference: 2.5232011259079994\n"
     ]
    },
    {
     "name": "stderr",
     "output_type": "stream",
     "text": [
      "60000it [00:04, 12166.27it/s]\n",
      "1143it [00:00, 11269.97it/s]"
     ]
    },
    {
     "name": "stdout",
     "output_type": "stream",
     "text": [
      "\n",
      "Iteration: 64 Loss: 100030117.50833704 Difference: 2.341807728916403\n"
     ]
    },
    {
     "name": "stderr",
     "output_type": "stream",
     "text": [
      "60000it [00:03, 15953.85it/s]\n",
      "1491it [00:00, 14244.02it/s]"
     ]
    },
    {
     "name": "stdout",
     "output_type": "stream",
     "text": [
      "\n",
      "Iteration: 65 Loss: 100030399.09146288 Difference: 1.835323351889923\n"
     ]
    },
    {
     "name": "stderr",
     "output_type": "stream",
     "text": [
      "60000it [00:04, 13248.29it/s]\n",
      "1914it [00:00, 18680.13it/s]"
     ]
    },
    {
     "name": "stdout",
     "output_type": "stream",
     "text": [
      "\n",
      "Iteration: 66 Loss: 100030679.3295217 Difference: 1.2595070612762564\n"
     ]
    },
    {
     "name": "stderr",
     "output_type": "stream",
     "text": [
      "60000it [00:03, 19682.52it/s]\n",
      "1172it [00:00, 11549.53it/s]"
     ]
    },
    {
     "name": "stdout",
     "output_type": "stream",
     "text": [
      "\n",
      "Iteration: 67 Loss: 100030896.16437036 Difference: 1.4643841116501715\n"
     ]
    },
    {
     "name": "stderr",
     "output_type": "stream",
     "text": [
      "60000it [00:03, 15052.13it/s]\n",
      "2063it [00:00, 20396.60it/s]"
     ]
    },
    {
     "name": "stdout",
     "output_type": "stream",
     "text": [
      "\n",
      "Iteration: 68 Loss: 100031037.59303477 Difference: 1.1944334710413946\n"
     ]
    },
    {
     "name": "stderr",
     "output_type": "stream",
     "text": [
      "60000it [00:02, 20283.42it/s]\n",
      "3922it [00:00, 18399.30it/s]"
     ]
    },
    {
     "name": "stdout",
     "output_type": "stream",
     "text": [
      "\n",
      "Iteration: 69 Loss: 100031152.78402628 Difference: 1.1318252323236533\n"
     ]
    },
    {
     "name": "stderr",
     "output_type": "stream",
     "text": [
      "60000it [00:02, 20203.99it/s]\n",
      "871it [00:00, 8523.99it/s]"
     ]
    },
    {
     "name": "stdout",
     "output_type": "stream",
     "text": [
      "\n",
      "Iteration: 70 Loss: 100031246.97894949 Difference: 0.8640541191025763\n"
     ]
    },
    {
     "name": "stderr",
     "output_type": "stream",
     "text": [
      "60000it [00:04, 14952.79it/s]\n",
      "2082it [00:00, 20025.82it/s]"
     ]
    },
    {
     "name": "stdout",
     "output_type": "stream",
     "text": [
      "\n",
      "Iteration: 71 Loss: 100031277.56329814 Difference: 0.8051509577434248\n"
     ]
    },
    {
     "name": "stderr",
     "output_type": "stream",
     "text": [
      "60000it [00:02, 20063.76it/s]\n",
      "1508it [00:00, 14816.45it/s]"
     ]
    },
    {
     "name": "stdout",
     "output_type": "stream",
     "text": [
      "\n",
      "Iteration: 72 Loss: 100031311.56435682 Difference: 0.5159378855397788\n"
     ]
    },
    {
     "name": "stderr",
     "output_type": "stream",
     "text": [
      "60000it [00:03, 16319.99it/s]\n",
      "2089it [00:00, 20505.51it/s]"
     ]
    },
    {
     "name": "stdout",
     "output_type": "stream",
     "text": [
      "\n",
      "Iteration: 73 Loss: 100031327.78434725 Difference: 0.22373559119092956\n"
     ]
    },
    {
     "name": "stderr",
     "output_type": "stream",
     "text": [
      "60000it [00:02, 20375.05it/s]\n",
      "1954it [00:00, 19395.14it/s]"
     ]
    },
    {
     "name": "stdout",
     "output_type": "stream",
     "text": [
      "\n",
      "Iteration: 74 Loss: 100031327.78567143 Difference: 0.19621677306051244\n"
     ]
    },
    {
     "name": "stderr",
     "output_type": "stream",
     "text": [
      "60000it [00:03, 19497.70it/s]\n",
      "1550it [00:00, 15031.05it/s]"
     ]
    },
    {
     "name": "stdout",
     "output_type": "stream",
     "text": [
      "\n",
      "Iteration: 75 Loss: 100031327.78567134 Difference: 1.5823816830583902e-05\n"
     ]
    },
    {
     "name": "stderr",
     "output_type": "stream",
     "text": [
      "60000it [00:03, 16380.63it/s]\n",
      "0it [00:00, ?it/s]"
     ]
    },
    {
     "name": "stdout",
     "output_type": "stream",
     "text": [
      "\n",
      "Iteration: 76 Loss: 100031327.78567134 Difference: 1.2862100475804777e-09\n",
      "Converged! With distance: 2.1386488320554524e-13\n",
      "[cluster_label,no_occurence_of_label,total_samples_in_cluster,cluster_accuracy] [[1, 6689, 13430, 0.49806403574087865], [0, 4953, 13398, 0.3696820420958352], [4, 3297, 10658, 0.30934509288797146], [7, 3405, 11765, 0.2894177645558861], [6, 5059, 10749, 0.4706484324123174]]\n",
      "Accuracy: 0.38743147353857776\n"
     ]
    },
    {
     "name": "stderr",
     "output_type": "stream",
     "text": [
      "60000it [00:03, 16530.74it/s]\n",
      "3731it [00:00, 17962.66it/s]"
     ]
    },
    {
     "name": "stdout",
     "output_type": "stream",
     "text": [
      "\n",
      "Iteration: 0 Loss: 103550026.61528757 Difference: 5761.637354086076\n"
     ]
    },
    {
     "name": "stderr",
     "output_type": "stream",
     "text": [
      "60000it [00:03, 17412.23it/s]\n",
      "1631it [00:00, 15662.46it/s]"
     ]
    },
    {
     "name": "stdout",
     "output_type": "stream",
     "text": [
      "\n",
      "Iteration: 1 Loss: 100401520.34945817 Difference: 3661.017568495591\n"
     ]
    },
    {
     "name": "stderr",
     "output_type": "stream",
     "text": [
      "60000it [00:03, 16708.34it/s]\n",
      "1619it [00:00, 16138.69it/s]"
     ]
    },
    {
     "name": "stdout",
     "output_type": "stream",
     "text": [
      "\n",
      "Iteration: 2 Loss: 99766115.78062275 Difference: 533.7751575603633\n"
     ]
    },
    {
     "name": "stderr",
     "output_type": "stream",
     "text": [
      "60000it [00:03, 16983.32it/s]\n",
      "1698it [00:00, 16627.78it/s]"
     ]
    },
    {
     "name": "stdout",
     "output_type": "stream",
     "text": [
      "\n",
      "Iteration: 3 Loss: 99454236.2007515 Difference: 313.691318284561\n"
     ]
    },
    {
     "name": "stderr",
     "output_type": "stream",
     "text": [
      "60000it [00:03, 17394.18it/s]\n",
      "1534it [00:00, 15202.64it/s]"
     ]
    },
    {
     "name": "stdout",
     "output_type": "stream",
     "text": [
      "\n",
      "Iteration: 4 Loss: 99269822.18486598 Difference: 215.83621100991388\n"
     ]
    },
    {
     "name": "stderr",
     "output_type": "stream",
     "text": [
      "60000it [00:03, 17212.75it/s]\n",
      "1695it [00:00, 16907.45it/s]"
     ]
    },
    {
     "name": "stdout",
     "output_type": "stream",
     "text": [
      "\n",
      "Iteration: 5 Loss: 99160905.35753824 Difference: 163.3104436362692\n"
     ]
    },
    {
     "name": "stderr",
     "output_type": "stream",
     "text": [
      "60000it [00:03, 17010.63it/s]\n",
      "1623it [00:00, 16009.58it/s]"
     ]
    },
    {
     "name": "stdout",
     "output_type": "stream",
     "text": [
      "\n",
      "Iteration: 6 Loss: 99099691.03126514 Difference: 122.63324463313886\n"
     ]
    },
    {
     "name": "stderr",
     "output_type": "stream",
     "text": [
      "60000it [00:03, 17155.97it/s]\n",
      "966it [00:00, 9384.95it/s]"
     ]
    },
    {
     "name": "stdout",
     "output_type": "stream",
     "text": [
      "\n",
      "Iteration: 7 Loss: 99064760.22742763 Difference: 88.26740154604353\n"
     ]
    },
    {
     "name": "stderr",
     "output_type": "stream",
     "text": [
      "60000it [00:05, 11512.59it/s]\n",
      "1411it [00:00, 13654.60it/s]"
     ]
    },
    {
     "name": "stdout",
     "output_type": "stream",
     "text": [
      "\n",
      "Iteration: 8 Loss: 99045293.81451632 Difference: 66.43787579924577\n"
     ]
    },
    {
     "name": "stderr",
     "output_type": "stream",
     "text": [
      "60000it [00:05, 10452.80it/s]\n",
      "1107it [00:00, 10633.86it/s]"
     ]
    },
    {
     "name": "stdout",
     "output_type": "stream",
     "text": [
      "\n",
      "Iteration: 9 Loss: 99034628.66690733 Difference: 51.62724450381066\n"
     ]
    },
    {
     "name": "stderr",
     "output_type": "stream",
     "text": [
      "60000it [00:04, 12013.49it/s]\n",
      "1284it [00:00, 12480.24it/s]"
     ]
    },
    {
     "name": "stdout",
     "output_type": "stream",
     "text": [
      "\n",
      "Iteration: 10 Loss: 99026043.19718885 Difference: 44.63498631758877\n"
     ]
    },
    {
     "name": "stderr",
     "output_type": "stream",
     "text": [
      "60000it [00:05, 11459.95it/s]\n",
      "979it [00:00, 9391.39it/s]"
     ]
    },
    {
     "name": "stdout",
     "output_type": "stream",
     "text": [
      "\n",
      "Iteration: 11 Loss: 99016634.63416906 Difference: 45.60967143163198\n"
     ]
    },
    {
     "name": "stderr",
     "output_type": "stream",
     "text": [
      "60000it [00:05, 11120.76it/s]\n",
      "1018it [00:00, 9996.28it/s]"
     ]
    },
    {
     "name": "stdout",
     "output_type": "stream",
     "text": [
      "\n",
      "Iteration: 12 Loss: 99005762.5093118 Difference: 46.85636019817847\n"
     ]
    },
    {
     "name": "stderr",
     "output_type": "stream",
     "text": [
      "60000it [00:05, 11139.19it/s]\n",
      "831it [00:00, 8252.65it/s]"
     ]
    },
    {
     "name": "stdout",
     "output_type": "stream",
     "text": [
      "\n",
      "Iteration: 13 Loss: 98992861.85045263 Difference: 50.95314072566931\n"
     ]
    },
    {
     "name": "stderr",
     "output_type": "stream",
     "text": [
      "60000it [00:04, 12239.83it/s]\n",
      "1152it [00:00, 11423.06it/s]"
     ]
    },
    {
     "name": "stdout",
     "output_type": "stream",
     "text": [
      "\n",
      "Iteration: 14 Loss: 98979002.1191556 Difference: 52.93068030557726\n"
     ]
    },
    {
     "name": "stderr",
     "output_type": "stream",
     "text": [
      "60000it [00:04, 14393.82it/s]\n",
      "1475it [00:00, 14141.83it/s]"
     ]
    },
    {
     "name": "stdout",
     "output_type": "stream",
     "text": [
      "\n",
      "Iteration: 15 Loss: 98961661.37032263 Difference: 56.985093248375115\n"
     ]
    },
    {
     "name": "stderr",
     "output_type": "stream",
     "text": [
      "60000it [00:04, 14876.92it/s]\n",
      "1541it [00:00, 15244.75it/s]"
     ]
    },
    {
     "name": "stdout",
     "output_type": "stream",
     "text": [
      "\n",
      "Iteration: 16 Loss: 98940864.40073468 Difference: 61.68487229860817\n"
     ]
    },
    {
     "name": "stderr",
     "output_type": "stream",
     "text": [
      "60000it [00:04, 14637.62it/s]\n",
      "569it [00:00, 5672.18it/s]"
     ]
    },
    {
     "name": "stdout",
     "output_type": "stream",
     "text": [
      "\n",
      "Iteration: 17 Loss: 98914655.91621205 Difference: 68.29962243641646\n"
     ]
    },
    {
     "name": "stderr",
     "output_type": "stream",
     "text": [
      "60000it [00:04, 13792.42it/s]\n",
      "1417it [00:00, 13839.07it/s]"
     ]
    },
    {
     "name": "stdout",
     "output_type": "stream",
     "text": [
      "\n",
      "Iteration: 18 Loss: 98882419.34464611 Difference: 69.96802872932493\n"
     ]
    },
    {
     "name": "stderr",
     "output_type": "stream",
     "text": [
      "60000it [00:03, 15294.16it/s]\n",
      "1695it [00:00, 16200.65it/s]"
     ]
    },
    {
     "name": "stdout",
     "output_type": "stream",
     "text": [
      "\n",
      "Iteration: 19 Loss: 98843084.36630008 Difference: 74.0368941281061\n"
     ]
    },
    {
     "name": "stderr",
     "output_type": "stream",
     "text": [
      "60000it [00:04, 13288.07it/s]\n",
      "1340it [00:00, 13010.71it/s]"
     ]
    },
    {
     "name": "stdout",
     "output_type": "stream",
     "text": [
      "\n",
      "Iteration: 20 Loss: 98791634.83761154 Difference: 78.8459522792852\n"
     ]
    },
    {
     "name": "stderr",
     "output_type": "stream",
     "text": [
      "60000it [00:03, 16119.09it/s]\n",
      "1759it [00:00, 17409.25it/s]"
     ]
    },
    {
     "name": "stdout",
     "output_type": "stream",
     "text": [
      "\n",
      "Iteration: 21 Loss: 98722349.15603992 Difference: 90.84317955728487\n"
     ]
    },
    {
     "name": "stderr",
     "output_type": "stream",
     "text": [
      "60000it [00:03, 17497.55it/s]\n",
      "1710it [00:00, 16970.34it/s]"
     ]
    },
    {
     "name": "stdout",
     "output_type": "stream",
     "text": [
      "\n",
      "Iteration: 22 Loss: 98645687.74219047 Difference: 103.51248301673937\n"
     ]
    },
    {
     "name": "stderr",
     "output_type": "stream",
     "text": [
      "60000it [00:03, 16347.03it/s]\n",
      "1776it [00:00, 17220.53it/s]"
     ]
    },
    {
     "name": "stdout",
     "output_type": "stream",
     "text": [
      "\n",
      "Iteration: 23 Loss: 98565759.52755 Difference: 107.46763356120846\n"
     ]
    },
    {
     "name": "stderr",
     "output_type": "stream",
     "text": [
      "60000it [00:03, 17249.07it/s]\n",
      "1420it [00:00, 13896.65it/s]"
     ]
    },
    {
     "name": "stdout",
     "output_type": "stream",
     "text": [
      "\n",
      "Iteration: 24 Loss: 98490213.15924634 Difference: 110.31693640632705\n"
     ]
    },
    {
     "name": "stderr",
     "output_type": "stream",
     "text": [
      "60000it [00:04, 14413.76it/s]\n",
      "1272it [00:00, 12489.83it/s]"
     ]
    },
    {
     "name": "stdout",
     "output_type": "stream",
     "text": [
      "\n",
      "Iteration: 25 Loss: 98427712.3274969 Difference: 108.28424411079271\n"
     ]
    },
    {
     "name": "stderr",
     "output_type": "stream",
     "text": [
      "60000it [00:03, 16746.54it/s]\n",
      "1521it [00:00, 15142.36it/s]"
     ]
    },
    {
     "name": "stdout",
     "output_type": "stream",
     "text": [
      "\n",
      "Iteration: 26 Loss: 98381523.07038069 Difference: 96.99899426020477\n"
     ]
    },
    {
     "name": "stderr",
     "output_type": "stream",
     "text": [
      "60000it [00:03, 15990.25it/s]\n",
      "1496it [00:00, 14271.08it/s]"
     ]
    },
    {
     "name": "stdout",
     "output_type": "stream",
     "text": [
      "\n",
      "Iteration: 27 Loss: 98347171.03243564 Difference: 80.19795627862446\n"
     ]
    },
    {
     "name": "stderr",
     "output_type": "stream",
     "text": [
      "60000it [00:04, 14150.15it/s]\n",
      "1378it [00:00, 13697.03it/s]"
     ]
    },
    {
     "name": "stdout",
     "output_type": "stream",
     "text": [
      "\n",
      "Iteration: 28 Loss: 98318552.11742775 Difference: 69.59258205279335\n"
     ]
    },
    {
     "name": "stderr",
     "output_type": "stream",
     "text": [
      "60000it [00:04, 13869.14it/s]\n",
      "1196it [00:00, 11853.83it/s]"
     ]
    },
    {
     "name": "stdout",
     "output_type": "stream",
     "text": [
      "\n",
      "Iteration: 29 Loss: 98297167.47129604 Difference: 63.80917367149631\n"
     ]
    },
    {
     "name": "stderr",
     "output_type": "stream",
     "text": [
      "60000it [00:04, 13092.09it/s]\n",
      "947it [00:00, 9460.83it/s]"
     ]
    },
    {
     "name": "stdout",
     "output_type": "stream",
     "text": [
      "\n",
      "Iteration: 30 Loss: 98279311.03796048 Difference: 54.374079559931396\n"
     ]
    },
    {
     "name": "stderr",
     "output_type": "stream",
     "text": [
      "60000it [00:06, 9879.58it/s] \n",
      "1154it [00:00, 11175.95it/s]"
     ]
    },
    {
     "name": "stdout",
     "output_type": "stream",
     "text": [
      "\n",
      "Iteration: 31 Loss: 98261636.48267348 Difference: 52.38068635255417\n"
     ]
    },
    {
     "name": "stderr",
     "output_type": "stream",
     "text": [
      "60000it [00:05, 10886.52it/s]\n",
      "1030it [00:00, 10189.62it/s]"
     ]
    },
    {
     "name": "stdout",
     "output_type": "stream",
     "text": [
      "\n",
      "Iteration: 32 Loss: 98242604.26800129 Difference: 52.70931339387896\n"
     ]
    },
    {
     "name": "stderr",
     "output_type": "stream",
     "text": [
      "60000it [00:05, 10727.56it/s]\n",
      "1102it [00:00, 10831.95it/s]"
     ]
    },
    {
     "name": "stdout",
     "output_type": "stream",
     "text": [
      "\n",
      "Iteration: 33 Loss: 98223376.41683345 Difference: 55.67372011132607\n"
     ]
    },
    {
     "name": "stderr",
     "output_type": "stream",
     "text": [
      "60000it [00:05, 10386.79it/s]\n",
      "724it [00:00, 7148.72it/s]"
     ]
    },
    {
     "name": "stdout",
     "output_type": "stream",
     "text": [
      "\n",
      "Iteration: 34 Loss: 98203357.79888116 Difference: 56.753494372353344\n"
     ]
    },
    {
     "name": "stderr",
     "output_type": "stream",
     "text": [
      "60000it [00:05, 10143.44it/s]\n",
      "681it [00:00, 6667.49it/s]"
     ]
    },
    {
     "name": "stdout",
     "output_type": "stream",
     "text": [
      "\n",
      "Iteration: 35 Loss: 98182975.28889881 Difference: 58.90622313765192\n"
     ]
    },
    {
     "name": "stderr",
     "output_type": "stream",
     "text": [
      "60000it [00:05, 10305.85it/s]\n",
      "3345it [00:00, 16058.03it/s]"
     ]
    },
    {
     "name": "stdout",
     "output_type": "stream",
     "text": [
      "\n",
      "Iteration: 36 Loss: 98163222.51405379 Difference: 59.96777781944368\n"
     ]
    },
    {
     "name": "stderr",
     "output_type": "stream",
     "text": [
      "60000it [00:03, 15235.98it/s]\n",
      "1356it [00:00, 13300.65it/s]"
     ]
    },
    {
     "name": "stdout",
     "output_type": "stream",
     "text": [
      "\n",
      "Iteration: 37 Loss: 98144061.45817325 Difference: 56.43182849820628\n"
     ]
    },
    {
     "name": "stderr",
     "output_type": "stream",
     "text": [
      "60000it [00:04, 14031.28it/s]\n",
      "1617it [00:00, 15650.24it/s]"
     ]
    },
    {
     "name": "stdout",
     "output_type": "stream",
     "text": [
      "\n",
      "Iteration: 38 Loss: 98126610.87026197 Difference: 55.888191151993226\n"
     ]
    },
    {
     "name": "stderr",
     "output_type": "stream",
     "text": [
      "60000it [00:03, 16763.59it/s]\n",
      "1245it [00:00, 12322.04it/s]"
     ]
    },
    {
     "name": "stdout",
     "output_type": "stream",
     "text": [
      "\n",
      "Iteration: 39 Loss: 98116118.58635767 Difference: 53.5713522752319\n"
     ]
    },
    {
     "name": "stderr",
     "output_type": "stream",
     "text": [
      "60000it [00:04, 12812.76it/s]\n",
      "1642it [00:00, 15720.08it/s]"
     ]
    },
    {
     "name": "stdout",
     "output_type": "stream",
     "text": [
      "\n",
      "Iteration: 40 Loss: 98110836.33757254 Difference: 39.4656613022207\n"
     ]
    },
    {
     "name": "stderr",
     "output_type": "stream",
     "text": [
      "60000it [00:03, 16465.51it/s]\n",
      "1253it [00:00, 12486.90it/s]"
     ]
    },
    {
     "name": "stdout",
     "output_type": "stream",
     "text": [
      "\n",
      "Iteration: 41 Loss: 98108189.30244993 Difference: 28.565959631912204\n"
     ]
    },
    {
     "name": "stderr",
     "output_type": "stream",
     "text": [
      "60000it [00:04, 14113.14it/s]\n",
      "3317it [00:00, 16203.71it/s]"
     ]
    },
    {
     "name": "stdout",
     "output_type": "stream",
     "text": [
      "\n",
      "Iteration: 42 Loss: 98106483.01665257 Difference: 20.230031347679574\n"
     ]
    },
    {
     "name": "stderr",
     "output_type": "stream",
     "text": [
      "60000it [00:05, 11952.13it/s]\n",
      "1326it [00:00, 12804.47it/s]"
     ]
    },
    {
     "name": "stdout",
     "output_type": "stream",
     "text": [
      "\n",
      "Iteration: 43 Loss: 98104703.79020026 Difference: 17.572539166179922\n"
     ]
    },
    {
     "name": "stderr",
     "output_type": "stream",
     "text": [
      "60000it [00:03, 15679.27it/s]\n",
      "1260it [00:00, 12261.06it/s]"
     ]
    },
    {
     "name": "stdout",
     "output_type": "stream",
     "text": [
      "\n",
      "Iteration: 44 Loss: 98103266.05172016 Difference: 14.871607110786778\n"
     ]
    },
    {
     "name": "stderr",
     "output_type": "stream",
     "text": [
      "60000it [00:03, 15763.96it/s]\n",
      "1548it [00:00, 14829.63it/s]"
     ]
    },
    {
     "name": "stdout",
     "output_type": "stream",
     "text": [
      "\n",
      "Iteration: 45 Loss: 98102415.3236544 Difference: 12.032546178658528\n"
     ]
    },
    {
     "name": "stderr",
     "output_type": "stream",
     "text": [
      "60000it [00:04, 14236.15it/s]\n",
      "1708it [00:00, 16289.34it/s]"
     ]
    },
    {
     "name": "stdout",
     "output_type": "stream",
     "text": [
      "\n",
      "Iteration: 46 Loss: 98101915.55994363 Difference: 10.673053792378544\n"
     ]
    },
    {
     "name": "stderr",
     "output_type": "stream",
     "text": [
      "60000it [00:03, 16557.10it/s]\n",
      "3414it [00:00, 16627.48it/s]"
     ]
    },
    {
     "name": "stdout",
     "output_type": "stream",
     "text": [
      "\n",
      "Iteration: 47 Loss: 98101866.15422696 Difference: 7.7766008853106365\n"
     ]
    },
    {
     "name": "stderr",
     "output_type": "stream",
     "text": [
      "60000it [00:04, 14385.04it/s]\n",
      "1683it [00:00, 16114.08it/s]"
     ]
    },
    {
     "name": "stdout",
     "output_type": "stream",
     "text": [
      "\n",
      "Iteration: 48 Loss: 98101896.01661864 Difference: 6.895111341163797\n"
     ]
    },
    {
     "name": "stderr",
     "output_type": "stream",
     "text": [
      "60000it [00:03, 16676.53it/s]\n",
      "1748it [00:00, 16918.29it/s]"
     ]
    },
    {
     "name": "stdout",
     "output_type": "stream",
     "text": [
      "\n",
      "Iteration: 49 Loss: 98102010.88971479 Difference: 5.05671072647124\n"
     ]
    },
    {
     "name": "stderr",
     "output_type": "stream",
     "text": [
      "60000it [00:04, 14103.59it/s]\n",
      "1292it [00:00, 12709.18it/s]"
     ]
    },
    {
     "name": "stdout",
     "output_type": "stream",
     "text": [
      "\n",
      "Iteration: 50 Loss: 98102024.66973147 Difference: 4.359203790378024\n"
     ]
    },
    {
     "name": "stderr",
     "output_type": "stream",
     "text": [
      "60000it [00:03, 16659.13it/s]\n",
      "1763it [00:00, 16945.27it/s]"
     ]
    },
    {
     "name": "stdout",
     "output_type": "stream",
     "text": [
      "\n",
      "Iteration: 51 Loss: 98102029.66566715 Difference: 2.985320315099421\n"
     ]
    },
    {
     "name": "stderr",
     "output_type": "stream",
     "text": [
      "60000it [00:04, 12054.22it/s]\n",
      "801it [00:00, 7846.63it/s]"
     ]
    },
    {
     "name": "stdout",
     "output_type": "stream",
     "text": [
      "\n",
      "Iteration: 52 Loss: 98102209.24372926 Difference: 2.0549391928930945\n"
     ]
    },
    {
     "name": "stderr",
     "output_type": "stream",
     "text": [
      "60000it [00:06, 8812.78it/s] \n",
      "2012it [00:00, 10416.53it/s]"
     ]
    },
    {
     "name": "stdout",
     "output_type": "stream",
     "text": [
      "\n",
      "Iteration: 53 Loss: 98102251.04344133 Difference: 2.137185170691849\n"
     ]
    },
    {
     "name": "stderr",
     "output_type": "stream",
     "text": [
      "60000it [00:05, 11141.32it/s]\n",
      "803it [00:00, 7801.85it/s]"
     ]
    },
    {
     "name": "stdout",
     "output_type": "stream",
     "text": [
      "\n",
      "Iteration: 54 Loss: 98102395.67128068 Difference: 2.074347607216345\n"
     ]
    },
    {
     "name": "stderr",
     "output_type": "stream",
     "text": [
      "60000it [00:06, 8740.32it/s] \n",
      "1142it [00:00, 11262.63it/s]"
     ]
    },
    {
     "name": "stdout",
     "output_type": "stream",
     "text": [
      "\n",
      "Iteration: 55 Loss: 98102504.97698879 Difference: 1.9446626088152636\n"
     ]
    },
    {
     "name": "stderr",
     "output_type": "stream",
     "text": [
      "60000it [00:05, 10114.87it/s]\n",
      "1110it [00:00, 10807.23it/s]"
     ]
    },
    {
     "name": "stdout",
     "output_type": "stream",
     "text": [
      "\n",
      "Iteration: 56 Loss: 98102613.29573041 Difference: 1.740151913966913\n"
     ]
    },
    {
     "name": "stderr",
     "output_type": "stream",
     "text": [
      "60000it [00:05, 10596.47it/s]\n",
      "830it [00:00, 8034.90it/s]"
     ]
    },
    {
     "name": "stdout",
     "output_type": "stream",
     "text": [
      "\n",
      "Iteration: 57 Loss: 98102671.85102554 Difference: 1.5472553133052807\n"
     ]
    },
    {
     "name": "stderr",
     "output_type": "stream",
     "text": [
      "60000it [00:05, 10266.03it/s]\n",
      "1649it [00:00, 16230.17it/s]"
     ]
    },
    {
     "name": "stdout",
     "output_type": "stream",
     "text": [
      "\n",
      "Iteration: 58 Loss: 98102707.05006176 Difference: 0.8889998296390323\n"
     ]
    },
    {
     "name": "stderr",
     "output_type": "stream",
     "text": [
      "60000it [00:04, 12854.65it/s]\n",
      "1337it [00:00, 12865.93it/s]"
     ]
    },
    {
     "name": "stdout",
     "output_type": "stream",
     "text": [
      "\n",
      "Iteration: 59 Loss: 98102764.2271007 Difference: 0.5271501148348914\n"
     ]
    },
    {
     "name": "stderr",
     "output_type": "stream",
     "text": [
      "60000it [00:04, 13755.74it/s]\n",
      "1693it [00:00, 16811.77it/s]"
     ]
    },
    {
     "name": "stdout",
     "output_type": "stream",
     "text": [
      "\n",
      "Iteration: 60 Loss: 98102867.7948058 Difference: 0.9271893738242938\n"
     ]
    },
    {
     "name": "stderr",
     "output_type": "stream",
     "text": [
      "60000it [00:04, 12368.22it/s]\n",
      "1728it [00:00, 16777.45it/s]"
     ]
    },
    {
     "name": "stdout",
     "output_type": "stream",
     "text": [
      "\n",
      "Iteration: 61 Loss: 98102916.88480406 Difference: 0.7403175173048494\n"
     ]
    },
    {
     "name": "stderr",
     "output_type": "stream",
     "text": [
      "60000it [00:04, 12981.39it/s]\n",
      "1734it [00:00, 16584.89it/s]"
     ]
    },
    {
     "name": "stdout",
     "output_type": "stream",
     "text": [
      "\n",
      "Iteration: 62 Loss: 98102958.33951482 Difference: 0.586232990881284\n"
     ]
    },
    {
     "name": "stderr",
     "output_type": "stream",
     "text": [
      "60000it [00:04, 14692.44it/s]\n",
      "1243it [00:00, 12342.70it/s]"
     ]
    },
    {
     "name": "stdout",
     "output_type": "stream",
     "text": [
      "\n",
      "Iteration: 63 Loss: 98103018.75126393 Difference: 0.3442858155320665\n"
     ]
    },
    {
     "name": "stderr",
     "output_type": "stream",
     "text": [
      "60000it [00:03, 15150.40it/s]\n",
      "1379it [00:00, 13448.16it/s]"
     ]
    },
    {
     "name": "stdout",
     "output_type": "stream",
     "text": [
      "\n",
      "Iteration: 64 Loss: 98103035.9938179 Difference: 0.5390873820647571\n"
     ]
    },
    {
     "name": "stderr",
     "output_type": "stream",
     "text": [
      "60000it [00:04, 14008.07it/s]\n",
      "1606it [00:00, 15715.38it/s]"
     ]
    },
    {
     "name": "stdout",
     "output_type": "stream",
     "text": [
      "\n",
      "Iteration: 65 Loss: 98103112.66732146 Difference: 0.4861156984648024\n"
     ]
    },
    {
     "name": "stderr",
     "output_type": "stream",
     "text": [
      "60000it [00:03, 15032.48it/s]\n",
      "1460it [00:00, 14261.02it/s]"
     ]
    },
    {
     "name": "stdout",
     "output_type": "stream",
     "text": [
      "\n",
      "Iteration: 66 Loss: 98103092.28653108 Difference: 0.3290435857128275\n"
     ]
    },
    {
     "name": "stderr",
     "output_type": "stream",
     "text": [
      "60000it [00:04, 14116.29it/s]\n",
      "1697it [00:00, 16446.12it/s]"
     ]
    },
    {
     "name": "stdout",
     "output_type": "stream",
     "text": [
      "\n",
      "Iteration: 67 Loss: 98103047.41543154 Difference: 0.3929519287824822\n"
     ]
    },
    {
     "name": "stderr",
     "output_type": "stream",
     "text": [
      "60000it [00:04, 13428.39it/s]\n",
      "1630it [00:00, 16192.96it/s]"
     ]
    },
    {
     "name": "stdout",
     "output_type": "stream",
     "text": [
      "\n",
      "Iteration: 68 Loss: 98103031.77156147 Difference: 0.4173237142353617\n"
     ]
    },
    {
     "name": "stderr",
     "output_type": "stream",
     "text": [
      "60000it [00:04, 13949.37it/s]\n",
      "1460it [00:00, 14564.21it/s]"
     ]
    },
    {
     "name": "stdout",
     "output_type": "stream",
     "text": [
      "\n",
      "Iteration: 69 Loss: 98103010.95827019 Difference: 0.29231535402933057\n"
     ]
    },
    {
     "name": "stderr",
     "output_type": "stream",
     "text": [
      "60000it [00:04, 14806.55it/s]\n",
      "1293it [00:00, 12338.29it/s]"
     ]
    },
    {
     "name": "stdout",
     "output_type": "stream",
     "text": [
      "\n",
      "Iteration: 70 Loss: 98103014.1842908 Difference: 0.36028051625204227\n"
     ]
    },
    {
     "name": "stderr",
     "output_type": "stream",
     "text": [
      "60000it [00:04, 14720.12it/s]\n",
      "1873it [00:00, 17876.25it/s]"
     ]
    },
    {
     "name": "stdout",
     "output_type": "stream",
     "text": [
      "\n",
      "Iteration: 71 Loss: 98103030.55210285 Difference: 0.4104230647966578\n"
     ]
    },
    {
     "name": "stderr",
     "output_type": "stream",
     "text": [
      "60000it [00:03, 16490.85it/s]\n",
      "1033it [00:00, 9903.76it/s]"
     ]
    },
    {
     "name": "stdout",
     "output_type": "stream",
     "text": [
      "\n",
      "Iteration: 72 Loss: 98103043.30048984 Difference: 0.600241833582416\n"
     ]
    },
    {
     "name": "stderr",
     "output_type": "stream",
     "text": [
      "60000it [00:04, 14853.16it/s]\n",
      "3199it [00:00, 15257.43it/s]"
     ]
    },
    {
     "name": "stdout",
     "output_type": "stream",
     "text": [
      "\n",
      "Iteration: 73 Loss: 98103061.40123576 Difference: 0.5722748357233649\n"
     ]
    },
    {
     "name": "stderr",
     "output_type": "stream",
     "text": [
      "60000it [00:04, 13851.91it/s]\n",
      "1725it [00:00, 16546.54it/s]"
     ]
    },
    {
     "name": "stdout",
     "output_type": "stream",
     "text": [
      "\n",
      "Iteration: 74 Loss: 98103053.09973945 Difference: 0.257999136944075\n"
     ]
    },
    {
     "name": "stderr",
     "output_type": "stream",
     "text": [
      "60000it [00:04, 14374.33it/s]\n",
      "957it [00:00, 9319.46it/s]"
     ]
    },
    {
     "name": "stdout",
     "output_type": "stream",
     "text": [
      "\n",
      "Iteration: 75 Loss: 98103047.23139791 Difference: 0.21606063619254195\n"
     ]
    },
    {
     "name": "stderr",
     "output_type": "stream",
     "text": [
      "60000it [00:03, 16243.33it/s]\n",
      "1413it [00:00, 14056.15it/s]"
     ]
    },
    {
     "name": "stdout",
     "output_type": "stream",
     "text": [
      "\n",
      "Iteration: 76 Loss: 98103046.47404523 Difference: 0.19630873680975786\n"
     ]
    },
    {
     "name": "stderr",
     "output_type": "stream",
     "text": [
      "60000it [00:04, 13901.21it/s]\n",
      "1744it [00:00, 17045.13it/s]"
     ]
    },
    {
     "name": "stdout",
     "output_type": "stream",
     "text": [
      "\n",
      "Iteration: 77 Loss: 98103046.47377938 Difference: 0.32493738059102467\n"
     ]
    },
    {
     "name": "stderr",
     "output_type": "stream",
     "text": [
      "60000it [00:04, 14510.64it/s]\n",
      "1446it [00:00, 14452.19it/s]"
     ]
    },
    {
     "name": "stdout",
     "output_type": "stream",
     "text": [
      "\n",
      "Iteration: 78 Loss: 98103046.47377943 Difference: 3.104963883733382e-05\n"
     ]
    },
    {
     "name": "stderr",
     "output_type": "stream",
     "text": [
      "60000it [00:03, 15898.82it/s]\n",
      "0it [00:00, ?it/s]"
     ]
    },
    {
     "name": "stdout",
     "output_type": "stream",
     "text": [
      "\n",
      "Iteration: 79 Loss: 98103046.47377943 Difference: 2.990484030092894e-09\n",
      "Converged! With distance: 3.7741891389896835e-13\n",
      "[cluster_label,no_occurence_of_label,total_samples_in_cluster,cluster_accuracy] [[0, 4960, 5368, 0.9239940387481371], [1, 6673, 11543, 0.5780992809494931], [4, 3362, 9989, 0.336570227249975], [6, 5096, 10343, 0.4927003770666151], [7, 3412, 11333, 0.3010676784611312], [3, 4869, 11424, 0.4262079831932773]]\n",
      "Accuracy: 0.5097732642781048\n"
     ]
    },
    {
     "name": "stderr",
     "output_type": "stream",
     "text": [
      "60000it [00:04, 12490.87it/s]\n",
      "1429it [00:00, 13870.10it/s]"
     ]
    },
    {
     "name": "stdout",
     "output_type": "stream",
     "text": [
      "\n",
      "Iteration: 0 Loss: 106321561.1170834 Difference: 6839.913815246505\n"
     ]
    },
    {
     "name": "stderr",
     "output_type": "stream",
     "text": [
      "60000it [00:04, 14529.32it/s]\n",
      "1379it [00:00, 13701.78it/s]"
     ]
    },
    {
     "name": "stdout",
     "output_type": "stream",
     "text": [
      "\n",
      "Iteration: 1 Loss: 101870523.90948646 Difference: 4116.359000864952\n"
     ]
    },
    {
     "name": "stderr",
     "output_type": "stream",
     "text": [
      "60000it [00:04, 12113.45it/s]\n",
      "2818it [00:00, 13977.36it/s]"
     ]
    },
    {
     "name": "stdout",
     "output_type": "stream",
     "text": [
      "\n",
      "Iteration: 2 Loss: 100416430.2318847 Difference: 868.4426191031208\n"
     ]
    },
    {
     "name": "stderr",
     "output_type": "stream",
     "text": [
      "60000it [00:04, 13902.94it/s]\n",
      "1004it [00:00, 9784.57it/s]"
     ]
    },
    {
     "name": "stdout",
     "output_type": "stream",
     "text": [
      "\n",
      "Iteration: 3 Loss: 99475429.09134053 Difference: 549.2339668586561\n"
     ]
    },
    {
     "name": "stderr",
     "output_type": "stream",
     "text": [
      "60000it [00:05, 11004.86it/s]\n",
      "886it [00:00, 8585.75it/s]"
     ]
    },
    {
     "name": "stdout",
     "output_type": "stream",
     "text": [
      "\n",
      "Iteration: 4 Loss: 98878580.86467475 Difference: 396.8030926519853\n"
     ]
    },
    {
     "name": "stderr",
     "output_type": "stream",
     "text": [
      "60000it [00:06, 8836.44it/s] \n",
      "901it [00:00, 8894.98it/s]"
     ]
    },
    {
     "name": "stdout",
     "output_type": "stream",
     "text": [
      "\n",
      "Iteration: 5 Loss: 98438188.88259494 Difference: 325.69847810512465\n"
     ]
    },
    {
     "name": "stderr",
     "output_type": "stream",
     "text": [
      "60000it [00:08, 7418.31it/s]\n",
      "1054it [00:00, 10054.42it/s]"
     ]
    },
    {
     "name": "stdout",
     "output_type": "stream",
     "text": [
      "\n",
      "Iteration: 6 Loss: 98122359.69085841 Difference: 280.13992767716957\n"
     ]
    },
    {
     "name": "stderr",
     "output_type": "stream",
     "text": [
      "60000it [00:05, 10289.10it/s]\n",
      "965it [00:00, 9265.24it/s]"
     ]
    },
    {
     "name": "stdout",
     "output_type": "stream",
     "text": [
      "\n",
      "Iteration: 7 Loss: 97930681.32837917 Difference: 230.09180876118737\n"
     ]
    },
    {
     "name": "stderr",
     "output_type": "stream",
     "text": [
      "60000it [00:06, 8778.68it/s] \n",
      "1039it [00:00, 10387.36it/s]"
     ]
    },
    {
     "name": "stdout",
     "output_type": "stream",
     "text": [
      "\n",
      "Iteration: 8 Loss: 97829541.51965824 Difference: 174.7582416929177\n"
     ]
    },
    {
     "name": "stderr",
     "output_type": "stream",
     "text": [
      "60000it [00:06, 8613.79it/s] \n",
      "894it [00:00, 8868.16it/s]"
     ]
    },
    {
     "name": "stdout",
     "output_type": "stream",
     "text": [
      "\n",
      "Iteration: 9 Loss: 97775067.99914773 Difference: 126.33080308435217\n"
     ]
    },
    {
     "name": "stderr",
     "output_type": "stream",
     "text": [
      "60000it [00:04, 13218.75it/s]\n",
      "823it [00:00, 8183.03it/s]"
     ]
    },
    {
     "name": "stdout",
     "output_type": "stream",
     "text": [
      "\n",
      "Iteration: 10 Loss: 97748147.52034028 Difference: 93.63095823252046\n"
     ]
    },
    {
     "name": "stderr",
     "output_type": "stream",
     "text": [
      "60000it [00:05, 11522.15it/s]\n",
      "1173it [00:00, 11639.76it/s]"
     ]
    },
    {
     "name": "stdout",
     "output_type": "stream",
     "text": [
      "\n",
      "Iteration: 11 Loss: 97734789.64677511 Difference: 64.91343702433386\n"
     ]
    },
    {
     "name": "stderr",
     "output_type": "stream",
     "text": [
      "60000it [00:05, 10825.87it/s]\n",
      "1230it [00:00, 12214.60it/s]"
     ]
    },
    {
     "name": "stdout",
     "output_type": "stream",
     "text": [
      "\n",
      "Iteration: 12 Loss: 97727736.07507038 Difference: 46.53452796877154\n"
     ]
    },
    {
     "name": "stderr",
     "output_type": "stream",
     "text": [
      "60000it [00:05, 10592.83it/s]\n",
      "1298it [00:00, 12963.82it/s]"
     ]
    },
    {
     "name": "stdout",
     "output_type": "stream",
     "text": [
      "\n",
      "Iteration: 13 Loss: 97724204.1728771 Difference: 36.361313001224154\n"
     ]
    },
    {
     "name": "stderr",
     "output_type": "stream",
     "text": [
      "60000it [00:04, 12360.32it/s]\n",
      "918it [00:00, 9174.08it/s]"
     ]
    },
    {
     "name": "stdout",
     "output_type": "stream",
     "text": [
      "\n",
      "Iteration: 14 Loss: 97721970.47959886 Difference: 31.276216975118476\n"
     ]
    },
    {
     "name": "stderr",
     "output_type": "stream",
     "text": [
      "60000it [00:04, 12143.70it/s]\n",
      "654it [00:00, 6492.58it/s]"
     ]
    },
    {
     "name": "stdout",
     "output_type": "stream",
     "text": [
      "\n",
      "Iteration: 15 Loss: 97720758.38250904 Difference: 26.199245478418952\n"
     ]
    },
    {
     "name": "stderr",
     "output_type": "stream",
     "text": [
      "60000it [00:05, 10548.27it/s]\n",
      "1481it [00:00, 14710.93it/s]"
     ]
    },
    {
     "name": "stdout",
     "output_type": "stream",
     "text": [
      "\n",
      "Iteration: 16 Loss: 97720309.55785936 Difference: 23.766376987787748\n"
     ]
    },
    {
     "name": "stderr",
     "output_type": "stream",
     "text": [
      "60000it [00:05, 10726.71it/s]\n",
      "1449it [00:00, 14463.67it/s]"
     ]
    },
    {
     "name": "stdout",
     "output_type": "stream",
     "text": [
      "\n",
      "Iteration: 17 Loss: 97720319.33816585 Difference: 19.746943977773487\n"
     ]
    },
    {
     "name": "stderr",
     "output_type": "stream",
     "text": [
      "60000it [00:05, 11926.57it/s]\n",
      "2992it [00:00, 14972.46it/s]"
     ]
    },
    {
     "name": "stdout",
     "output_type": "stream",
     "text": [
      "\n",
      "Iteration: 18 Loss: 97720615.55818518 Difference: 16.762039612621425\n"
     ]
    },
    {
     "name": "stderr",
     "output_type": "stream",
     "text": [
      "60000it [00:04, 13142.00it/s]\n",
      "1050it [00:00, 10073.84it/s]"
     ]
    },
    {
     "name": "stdout",
     "output_type": "stream",
     "text": [
      "\n",
      "Iteration: 19 Loss: 97720776.24865451 Difference: 15.454472560645646\n"
     ]
    },
    {
     "name": "stderr",
     "output_type": "stream",
     "text": [
      "60000it [00:04, 13926.59it/s]\n",
      "1046it [00:00, 10122.33it/s]"
     ]
    },
    {
     "name": "stdout",
     "output_type": "stream",
     "text": [
      "\n",
      "Iteration: 20 Loss: 97721380.36212303 Difference: 12.672808551054873\n"
     ]
    },
    {
     "name": "stderr",
     "output_type": "stream",
     "text": [
      "60000it [00:04, 12609.31it/s]\n",
      "1220it [00:00, 12094.50it/s]"
     ]
    },
    {
     "name": "stdout",
     "output_type": "stream",
     "text": [
      "\n",
      "Iteration: 21 Loss: 97722086.49840556 Difference: 12.589823685476988\n"
     ]
    },
    {
     "name": "stderr",
     "output_type": "stream",
     "text": [
      "60000it [00:05, 10100.17it/s]\n",
      "1053it [00:00, 10233.71it/s]"
     ]
    },
    {
     "name": "stdout",
     "output_type": "stream",
     "text": [
      "\n",
      "Iteration: 22 Loss: 97722678.88873897 Difference: 11.450426602398622\n"
     ]
    },
    {
     "name": "stderr",
     "output_type": "stream",
     "text": [
      "60000it [00:07, 8199.52it/s]\n",
      "873it [00:00, 8683.24it/s]"
     ]
    },
    {
     "name": "stdout",
     "output_type": "stream",
     "text": [
      "\n",
      "Iteration: 23 Loss: 97723218.61457337 Difference: 8.087782244988505\n"
     ]
    },
    {
     "name": "stderr",
     "output_type": "stream",
     "text": [
      "60000it [00:06, 9933.21it/s] \n",
      "588it [00:00, 5647.10it/s]"
     ]
    },
    {
     "name": "stdout",
     "output_type": "stream",
     "text": [
      "\n",
      "Iteration: 24 Loss: 97723544.28775205 Difference: 8.11323485552692\n"
     ]
    },
    {
     "name": "stderr",
     "output_type": "stream",
     "text": [
      "60000it [00:06, 8903.19it/s] \n",
      "837it [00:00, 8058.32it/s]"
     ]
    },
    {
     "name": "stdout",
     "output_type": "stream",
     "text": [
      "\n",
      "Iteration: 25 Loss: 97723584.51044138 Difference: 8.300410272219734\n"
     ]
    },
    {
     "name": "stderr",
     "output_type": "stream",
     "text": [
      "60000it [00:06, 8702.07it/s]\n",
      "973it [00:00, 9538.70it/s]"
     ]
    },
    {
     "name": "stdout",
     "output_type": "stream",
     "text": [
      "\n",
      "Iteration: 26 Loss: 97723407.99125138 Difference: 9.209041901622134\n"
     ]
    },
    {
     "name": "stderr",
     "output_type": "stream",
     "text": [
      "60000it [00:06, 8736.80it/s] \n",
      "1223it [00:00, 11792.32it/s]"
     ]
    },
    {
     "name": "stdout",
     "output_type": "stream",
     "text": [
      "\n",
      "Iteration: 27 Loss: 97723473.19139051 Difference: 8.984461946156097\n"
     ]
    },
    {
     "name": "stderr",
     "output_type": "stream",
     "text": [
      "60000it [00:04, 13984.45it/s]\n",
      "1033it [00:00, 10136.24it/s]"
     ]
    },
    {
     "name": "stdout",
     "output_type": "stream",
     "text": [
      "\n",
      "Iteration: 28 Loss: 97723533.7024717 Difference: 8.3395699711048\n"
     ]
    },
    {
     "name": "stderr",
     "output_type": "stream",
     "text": [
      "60000it [00:04, 12007.90it/s]\n",
      "1601it [00:00, 15516.65it/s]"
     ]
    },
    {
     "name": "stdout",
     "output_type": "stream",
     "text": [
      "\n",
      "Iteration: 29 Loss: 97723655.38301206 Difference: 8.807067037274964\n"
     ]
    },
    {
     "name": "stderr",
     "output_type": "stream",
     "text": [
      "60000it [00:04, 12648.50it/s]\n",
      "1076it [00:00, 10672.00it/s]"
     ]
    },
    {
     "name": "stdout",
     "output_type": "stream",
     "text": [
      "\n",
      "Iteration: 30 Loss: 97723675.48758413 Difference: 10.024203385189972\n"
     ]
    },
    {
     "name": "stderr",
     "output_type": "stream",
     "text": [
      "60000it [00:04, 13571.13it/s]\n",
      "1322it [00:00, 13098.84it/s]"
     ]
    },
    {
     "name": "stdout",
     "output_type": "stream",
     "text": [
      "\n",
      "Iteration: 31 Loss: 97723270.37277034 Difference: 11.6737651248138\n"
     ]
    },
    {
     "name": "stderr",
     "output_type": "stream",
     "text": [
      "60000it [00:04, 12326.76it/s]\n",
      "1302it [00:00, 12972.72it/s]"
     ]
    },
    {
     "name": "stdout",
     "output_type": "stream",
     "text": [
      "\n",
      "Iteration: 32 Loss: 97722707.49865192 Difference: 13.817847685162638\n"
     ]
    },
    {
     "name": "stderr",
     "output_type": "stream",
     "text": [
      "60000it [00:04, 12348.40it/s]\n",
      "2573it [00:00, 12354.00it/s]"
     ]
    },
    {
     "name": "stdout",
     "output_type": "stream",
     "text": [
      "\n",
      "Iteration: 33 Loss: 97722279.1935238 Difference: 17.280470581068446\n"
     ]
    },
    {
     "name": "stderr",
     "output_type": "stream",
     "text": [
      "60000it [00:04, 14140.36it/s]\n",
      "1325it [00:00, 12707.69it/s]"
     ]
    },
    {
     "name": "stdout",
     "output_type": "stream",
     "text": [
      "\n",
      "Iteration: 34 Loss: 97721655.65672429 Difference: 17.53819688882896\n"
     ]
    },
    {
     "name": "stderr",
     "output_type": "stream",
     "text": [
      "60000it [00:04, 13156.59it/s]\n",
      "1439it [00:00, 14341.83it/s]"
     ]
    },
    {
     "name": "stdout",
     "output_type": "stream",
     "text": [
      "\n",
      "Iteration: 35 Loss: 97719880.56119023 Difference: 22.5754446787257\n"
     ]
    },
    {
     "name": "stderr",
     "output_type": "stream",
     "text": [
      "60000it [00:04, 12798.34it/s]\n",
      "1496it [00:00, 14921.20it/s]"
     ]
    },
    {
     "name": "stdout",
     "output_type": "stream",
     "text": [
      "\n",
      "Iteration: 36 Loss: 97718146.68908256 Difference: 26.504558111554587\n"
     ]
    },
    {
     "name": "stderr",
     "output_type": "stream",
     "text": [
      "60000it [00:04, 14146.47it/s]\n",
      "1281it [00:00, 12216.78it/s]"
     ]
    },
    {
     "name": "stdout",
     "output_type": "stream",
     "text": [
      "\n",
      "Iteration: 37 Loss: 97714124.69432007 Difference: 31.925878662914485\n"
     ]
    },
    {
     "name": "stderr",
     "output_type": "stream",
     "text": [
      "60000it [00:04, 13973.67it/s]\n",
      "2295it [00:00, 11205.62it/s]"
     ]
    },
    {
     "name": "stdout",
     "output_type": "stream",
     "text": [
      "\n",
      "Iteration: 38 Loss: 97704655.9880453 Difference: 41.86385263341391\n"
     ]
    },
    {
     "name": "stderr",
     "output_type": "stream",
     "text": [
      "60000it [00:04, 12101.31it/s]\n",
      "1500it [00:00, 14793.09it/s]"
     ]
    },
    {
     "name": "stdout",
     "output_type": "stream",
     "text": [
      "\n",
      "Iteration: 39 Loss: 97684780.50586851 Difference: 58.19464025429394\n"
     ]
    },
    {
     "name": "stderr",
     "output_type": "stream",
     "text": [
      "60000it [00:04, 13557.01it/s]\n",
      "1263it [00:00, 12301.44it/s]"
     ]
    },
    {
     "name": "stdout",
     "output_type": "stream",
     "text": [
      "\n",
      "Iteration: 40 Loss: 97648722.3754648 Difference: 80.92911413880407\n"
     ]
    },
    {
     "name": "stderr",
     "output_type": "stream",
     "text": [
      "60000it [00:04, 13424.51it/s]\n",
      "775it [00:00, 7708.03it/s]"
     ]
    },
    {
     "name": "stdout",
     "output_type": "stream",
     "text": [
      "\n",
      "Iteration: 41 Loss: 97599449.47944349 Difference: 106.60335587384289\n"
     ]
    },
    {
     "name": "stderr",
     "output_type": "stream",
     "text": [
      "60000it [00:06, 9452.79it/s] \n",
      "759it [00:00, 7329.41it/s]"
     ]
    },
    {
     "name": "stdout",
     "output_type": "stream",
     "text": [
      "\n",
      "Iteration: 42 Loss: 97554972.47008179 Difference: 122.99851556018812\n"
     ]
    },
    {
     "name": "stderr",
     "output_type": "stream",
     "text": [
      "60000it [00:07, 8368.15it/s] \n",
      "1046it [00:00, 10144.71it/s]"
     ]
    },
    {
     "name": "stdout",
     "output_type": "stream",
     "text": [
      "\n",
      "Iteration: 43 Loss: 97531512.99481322 Difference: 113.42025113621678\n"
     ]
    },
    {
     "name": "stderr",
     "output_type": "stream",
     "text": [
      "60000it [00:07, 8537.13it/s] \n",
      "911it [00:00, 8809.98it/s]"
     ]
    },
    {
     "name": "stdout",
     "output_type": "stream",
     "text": [
      "\n",
      "Iteration: 44 Loss: 97519224.62527834 Difference: 76.80438748319663\n"
     ]
    },
    {
     "name": "stderr",
     "output_type": "stream",
     "text": [
      "60000it [00:06, 9393.39it/s] \n",
      "1168it [00:00, 11619.56it/s]"
     ]
    },
    {
     "name": "stdout",
     "output_type": "stream",
     "text": [
      "\n",
      "Iteration: 45 Loss: 97512548.53858052 Difference: 54.76452893681795\n"
     ]
    },
    {
     "name": "stderr",
     "output_type": "stream",
     "text": [
      "60000it [00:06, 9278.33it/s] \n",
      "1180it [00:00, 11425.82it/s]"
     ]
    },
    {
     "name": "stdout",
     "output_type": "stream",
     "text": [
      "\n",
      "Iteration: 46 Loss: 97506513.81387934 Difference: 39.54980179597232\n"
     ]
    },
    {
     "name": "stderr",
     "output_type": "stream",
     "text": [
      "60000it [00:06, 8827.88it/s] \n",
      "1134it [00:00, 11316.97it/s]"
     ]
    },
    {
     "name": "stdout",
     "output_type": "stream",
     "text": [
      "\n",
      "Iteration: 47 Loss: 97501945.3137355 Difference: 32.65851305722453\n"
     ]
    },
    {
     "name": "stderr",
     "output_type": "stream",
     "text": [
      "60000it [00:05, 11399.10it/s]\n",
      "1546it [00:00, 15450.11it/s]"
     ]
    },
    {
     "name": "stdout",
     "output_type": "stream",
     "text": [
      "\n",
      "Iteration: 48 Loss: 97497663.14679871 Difference: 26.218067959821706\n"
     ]
    },
    {
     "name": "stderr",
     "output_type": "stream",
     "text": [
      "60000it [00:04, 12101.21it/s]\n",
      "1512it [00:00, 14457.31it/s]"
     ]
    },
    {
     "name": "stdout",
     "output_type": "stream",
     "text": [
      "\n",
      "Iteration: 49 Loss: 97493867.66073015 Difference: 23.68625128540147\n"
     ]
    },
    {
     "name": "stderr",
     "output_type": "stream",
     "text": [
      "60000it [00:04, 13735.93it/s]\n",
      "856it [00:00, 8470.92it/s]"
     ]
    },
    {
     "name": "stdout",
     "output_type": "stream",
     "text": [
      "\n",
      "Iteration: 50 Loss: 97490272.996679 Difference: 22.946356951732223\n"
     ]
    },
    {
     "name": "stderr",
     "output_type": "stream",
     "text": [
      "60000it [00:05, 11898.19it/s]\n",
      "868it [00:00, 8619.77it/s]"
     ]
    },
    {
     "name": "stdout",
     "output_type": "stream",
     "text": [
      "\n",
      "Iteration: 51 Loss: 97487214.06276847 Difference: 21.704477152375375\n"
     ]
    },
    {
     "name": "stderr",
     "output_type": "stream",
     "text": [
      "60000it [00:04, 12713.73it/s]\n",
      "1165it [00:00, 11243.36it/s]"
     ]
    },
    {
     "name": "stdout",
     "output_type": "stream",
     "text": [
      "\n",
      "Iteration: 52 Loss: 97483736.93708238 Difference: 21.07333939727889\n"
     ]
    },
    {
     "name": "stderr",
     "output_type": "stream",
     "text": [
      "60000it [00:05, 10727.36it/s]\n",
      "1147it [00:00, 11235.22it/s]"
     ]
    },
    {
     "name": "stdout",
     "output_type": "stream",
     "text": [
      "\n",
      "Iteration: 53 Loss: 97480139.48074068 Difference: 21.547707285474942\n"
     ]
    },
    {
     "name": "stderr",
     "output_type": "stream",
     "text": [
      "60000it [00:04, 12047.99it/s]\n",
      "2977it [00:00, 14092.71it/s]"
     ]
    },
    {
     "name": "stdout",
     "output_type": "stream",
     "text": [
      "\n",
      "Iteration: 54 Loss: 97476046.79117362 Difference: 22.014762757541508\n"
     ]
    },
    {
     "name": "stderr",
     "output_type": "stream",
     "text": [
      "60000it [00:04, 12713.89it/s]\n",
      "1562it [00:00, 15344.28it/s]"
     ]
    },
    {
     "name": "stdout",
     "output_type": "stream",
     "text": [
      "\n",
      "Iteration: 55 Loss: 97471672.11692627 Difference: 23.583246293191984\n"
     ]
    },
    {
     "name": "stderr",
     "output_type": "stream",
     "text": [
      "60000it [00:04, 14121.44it/s]\n",
      "1256it [00:00, 12450.01it/s]"
     ]
    },
    {
     "name": "stdout",
     "output_type": "stream",
     "text": [
      "\n",
      "Iteration: 56 Loss: 97466345.62324812 Difference: 24.087317888763092\n"
     ]
    },
    {
     "name": "stderr",
     "output_type": "stream",
     "text": [
      "60000it [00:04, 12494.41it/s]\n",
      "1592it [00:00, 15716.36it/s]"
     ]
    },
    {
     "name": "stdout",
     "output_type": "stream",
     "text": [
      "\n",
      "Iteration: 57 Loss: 97459692.54102856 Difference: 27.110332179136634\n"
     ]
    },
    {
     "name": "stderr",
     "output_type": "stream",
     "text": [
      "60000it [00:04, 13632.18it/s]\n",
      "1228it [00:00, 12262.47it/s]"
     ]
    },
    {
     "name": "stdout",
     "output_type": "stream",
     "text": [
      "\n",
      "Iteration: 58 Loss: 97451519.24033181 Difference: 30.831816924328134\n"
     ]
    },
    {
     "name": "stderr",
     "output_type": "stream",
     "text": [
      "60000it [00:04, 14051.65it/s]\n",
      "1611it [00:00, 15958.77it/s]"
     ]
    },
    {
     "name": "stdout",
     "output_type": "stream",
     "text": [
      "\n",
      "Iteration: 59 Loss: 97441014.80976373 Difference: 33.142393596057715\n"
     ]
    },
    {
     "name": "stderr",
     "output_type": "stream",
     "text": [
      "60000it [00:05, 11377.16it/s]\n",
      "1431it [00:00, 13858.70it/s]"
     ]
    },
    {
     "name": "stdout",
     "output_type": "stream",
     "text": [
      "\n",
      "Iteration: 60 Loss: 97426294.75276689 Difference: 37.842991208620475\n"
     ]
    },
    {
     "name": "stderr",
     "output_type": "stream",
     "text": [
      "60000it [00:06, 8899.12it/s] \n",
      "801it [00:00, 7759.57it/s]"
     ]
    },
    {
     "name": "stdout",
     "output_type": "stream",
     "text": [
      "\n",
      "Iteration: 61 Loss: 97407224.6295792 Difference: 46.108736878022405\n"
     ]
    },
    {
     "name": "stderr",
     "output_type": "stream",
     "text": [
      "60000it [00:05, 10035.49it/s]\n",
      "1032it [00:00, 10259.79it/s]"
     ]
    },
    {
     "name": "stdout",
     "output_type": "stream",
     "text": [
      "\n",
      "Iteration: 62 Loss: 97382611.72781703 Difference: 51.626533040108555\n"
     ]
    },
    {
     "name": "stderr",
     "output_type": "stream",
     "text": [
      "60000it [00:06, 9303.12it/s] \n",
      "577it [00:00, 5685.09it/s]"
     ]
    },
    {
     "name": "stdout",
     "output_type": "stream",
     "text": [
      "\n",
      "Iteration: 63 Loss: 97351559.81986006 Difference: 57.901418459284315\n"
     ]
    },
    {
     "name": "stderr",
     "output_type": "stream",
     "text": [
      "60000it [00:06, 9880.92it/s] \n",
      "1110it [00:00, 10883.85it/s]"
     ]
    },
    {
     "name": "stdout",
     "output_type": "stream",
     "text": [
      "\n",
      "Iteration: 64 Loss: 97315155.36593033 Difference: 64.32803600162929\n"
     ]
    },
    {
     "name": "stderr",
     "output_type": "stream",
     "text": [
      "60000it [00:06, 9400.66it/s] \n",
      "471it [00:00, 4706.13it/s]"
     ]
    },
    {
     "name": "stdout",
     "output_type": "stream",
     "text": [
      "\n",
      "Iteration: 65 Loss: 97278035.96945798 Difference: 67.85018827062804\n"
     ]
    },
    {
     "name": "stderr",
     "output_type": "stream",
     "text": [
      "60000it [00:05, 11631.87it/s]\n",
      "705it [00:00, 6756.49it/s]"
     ]
    },
    {
     "name": "stdout",
     "output_type": "stream",
     "text": [
      "\n",
      "Iteration: 66 Loss: 97244168.3559063 Difference: 67.6924884312784\n"
     ]
    },
    {
     "name": "stderr",
     "output_type": "stream",
     "text": [
      "60000it [00:05, 11958.92it/s]\n",
      "1593it [00:00, 15313.68it/s]"
     ]
    },
    {
     "name": "stdout",
     "output_type": "stream",
     "text": [
      "\n",
      "Iteration: 67 Loss: 97216584.79805838 Difference: 62.95308611245202\n"
     ]
    },
    {
     "name": "stderr",
     "output_type": "stream",
     "text": [
      "60000it [00:04, 12565.68it/s]\n",
      "671it [00:00, 6469.42it/s]"
     ]
    },
    {
     "name": "stdout",
     "output_type": "stream",
     "text": [
      "\n",
      "Iteration: 68 Loss: 97196970.10268615 Difference: 55.552452651840674\n"
     ]
    },
    {
     "name": "stderr",
     "output_type": "stream",
     "text": [
      "60000it [00:05, 11866.67it/s]\n",
      "1240it [00:00, 11812.36it/s]"
     ]
    },
    {
     "name": "stdout",
     "output_type": "stream",
     "text": [
      "\n",
      "Iteration: 69 Loss: 97182245.27175216 Difference: 47.54045420144998\n"
     ]
    },
    {
     "name": "stderr",
     "output_type": "stream",
     "text": [
      "60000it [00:04, 14059.06it/s]\n",
      "2337it [00:00, 11563.20it/s]"
     ]
    },
    {
     "name": "stdout",
     "output_type": "stream",
     "text": [
      "\n",
      "Iteration: 70 Loss: 97170564.85020694 Difference: 41.93111791254591\n"
     ]
    },
    {
     "name": "stderr",
     "output_type": "stream",
     "text": [
      "60000it [00:04, 12608.81it/s]\n",
      "1253it [00:00, 12008.92it/s]"
     ]
    },
    {
     "name": "stdout",
     "output_type": "stream",
     "text": [
      "\n",
      "Iteration: 71 Loss: 97162600.72374953 Difference: 36.06584224763606\n"
     ]
    },
    {
     "name": "stderr",
     "output_type": "stream",
     "text": [
      "60000it [00:04, 14465.39it/s]\n",
      "1628it [00:00, 15665.58it/s]"
     ]
    },
    {
     "name": "stdout",
     "output_type": "stream",
     "text": [
      "\n",
      "Iteration: 72 Loss: 97156405.81358576 Difference: 31.823789143626875\n"
     ]
    },
    {
     "name": "stderr",
     "output_type": "stream",
     "text": [
      "60000it [00:04, 12996.36it/s]\n",
      "1110it [00:00, 10981.28it/s]"
     ]
    },
    {
     "name": "stdout",
     "output_type": "stream",
     "text": [
      "\n",
      "Iteration: 73 Loss: 97151422.46660325 Difference: 28.186844140560556\n"
     ]
    },
    {
     "name": "stderr",
     "output_type": "stream",
     "text": [
      "60000it [00:04, 14149.97it/s]\n",
      "1304it [00:00, 12504.62it/s]"
     ]
    },
    {
     "name": "stdout",
     "output_type": "stream",
     "text": [
      "\n",
      "Iteration: 74 Loss: 97148242.4449789 Difference: 25.557186005560396\n"
     ]
    },
    {
     "name": "stderr",
     "output_type": "stream",
     "text": [
      "60000it [00:04, 13056.22it/s]\n",
      "1352it [00:00, 13003.12it/s]"
     ]
    },
    {
     "name": "stdout",
     "output_type": "stream",
     "text": [
      "\n",
      "Iteration: 75 Loss: 97146448.11095053 Difference: 22.073307525475304\n"
     ]
    },
    {
     "name": "stderr",
     "output_type": "stream",
     "text": [
      "60000it [00:03, 15044.72it/s]\n",
      "3115it [00:00, 15245.99it/s]"
     ]
    },
    {
     "name": "stdout",
     "output_type": "stream",
     "text": [
      "\n",
      "Iteration: 76 Loss: 97145107.98002586 Difference: 17.558554263896422\n"
     ]
    },
    {
     "name": "stderr",
     "output_type": "stream",
     "text": [
      "60000it [00:04, 14762.04it/s]\n",
      "1223it [00:00, 11770.05it/s]"
     ]
    },
    {
     "name": "stdout",
     "output_type": "stream",
     "text": [
      "\n",
      "Iteration: 77 Loss: 97143577.18813646 Difference: 15.440496659434453\n"
     ]
    },
    {
     "name": "stderr",
     "output_type": "stream",
     "text": [
      "60000it [00:04, 12048.80it/s]\n",
      "1550it [00:00, 15425.69it/s]"
     ]
    },
    {
     "name": "stdout",
     "output_type": "stream",
     "text": [
      "\n",
      "Iteration: 78 Loss: 97142362.72342698 Difference: 15.96192638245032\n"
     ]
    },
    {
     "name": "stderr",
     "output_type": "stream",
     "text": [
      "60000it [00:04, 13235.71it/s]\n",
      "729it [00:00, 7274.16it/s]"
     ]
    },
    {
     "name": "stdout",
     "output_type": "stream",
     "text": [
      "\n",
      "Iteration: 79 Loss: 97141454.44583328 Difference: 14.163821906022234\n"
     ]
    },
    {
     "name": "stderr",
     "output_type": "stream",
     "text": [
      "60000it [00:05, 10769.05it/s]\n",
      "1019it [00:00, 9735.07it/s]"
     ]
    },
    {
     "name": "stdout",
     "output_type": "stream",
     "text": [
      "\n",
      "Iteration: 80 Loss: 97140330.31534083 Difference: 12.301041823720961\n"
     ]
    },
    {
     "name": "stderr",
     "output_type": "stream",
     "text": [
      "60000it [00:06, 9312.52it/s] \n",
      "984it [00:00, 9556.39it/s]"
     ]
    },
    {
     "name": "stdout",
     "output_type": "stream",
     "text": [
      "\n",
      "Iteration: 81 Loss: 97139323.86088113 Difference: 13.700039534410974\n"
     ]
    },
    {
     "name": "stderr",
     "output_type": "stream",
     "text": [
      "60000it [00:05, 10042.84it/s]\n",
      "981it [00:00, 9363.12it/s]"
     ]
    },
    {
     "name": "stdout",
     "output_type": "stream",
     "text": [
      "\n",
      "Iteration: 82 Loss: 97138519.24927624 Difference: 12.656981062281739\n"
     ]
    },
    {
     "name": "stderr",
     "output_type": "stream",
     "text": [
      "60000it [00:06, 9328.40it/s] \n",
      "991it [00:00, 9882.56it/s]"
     ]
    },
    {
     "name": "stdout",
     "output_type": "stream",
     "text": [
      "\n",
      "Iteration: 83 Loss: 97137777.63165104 Difference: 11.376182760123376\n"
     ]
    },
    {
     "name": "stderr",
     "output_type": "stream",
     "text": [
      "60000it [00:06, 9044.15it/s] \n",
      "871it [00:00, 8624.33it/s]"
     ]
    },
    {
     "name": "stdout",
     "output_type": "stream",
     "text": [
      "\n",
      "Iteration: 84 Loss: 97137159.32024872 Difference: 10.747142238680107\n"
     ]
    },
    {
     "name": "stderr",
     "output_type": "stream",
     "text": [
      "60000it [00:06, 9925.33it/s] \n",
      "1213it [00:00, 12110.93it/s]"
     ]
    },
    {
     "name": "stdout",
     "output_type": "stream",
     "text": [
      "\n",
      "Iteration: 85 Loss: 97136621.25282335 Difference: 9.176750301914907\n"
     ]
    },
    {
     "name": "stderr",
     "output_type": "stream",
     "text": [
      "60000it [00:04, 13128.74it/s]\n",
      "889it [00:00, 8768.67it/s]"
     ]
    },
    {
     "name": "stdout",
     "output_type": "stream",
     "text": [
      "\n",
      "Iteration: 86 Loss: 97135903.95466386 Difference: 9.734110276991593\n"
     ]
    },
    {
     "name": "stderr",
     "output_type": "stream",
     "text": [
      "60000it [00:04, 12183.31it/s]\n",
      "1336it [00:00, 13191.16it/s]"
     ]
    },
    {
     "name": "stdout",
     "output_type": "stream",
     "text": [
      "\n",
      "Iteration: 87 Loss: 97135381.83734235 Difference: 9.586947735711998\n"
     ]
    },
    {
     "name": "stderr",
     "output_type": "stream",
     "text": [
      "60000it [00:04, 12158.92it/s]\n",
      "1303it [00:00, 12420.24it/s]"
     ]
    },
    {
     "name": "stdout",
     "output_type": "stream",
     "text": [
      "\n",
      "Iteration: 88 Loss: 97134771.33249626 Difference: 6.861275784875007\n"
     ]
    },
    {
     "name": "stderr",
     "output_type": "stream",
     "text": [
      "60000it [00:05, 11850.22it/s]\n",
      "2916it [00:00, 13642.10it/s]"
     ]
    },
    {
     "name": "stdout",
     "output_type": "stream",
     "text": [
      "\n",
      "Iteration: 89 Loss: 97134187.89804398 Difference: 6.996292280372926\n"
     ]
    },
    {
     "name": "stderr",
     "output_type": "stream",
     "text": [
      "60000it [00:04, 12511.43it/s]\n",
      "734it [00:00, 7079.25it/s]"
     ]
    },
    {
     "name": "stdout",
     "output_type": "stream",
     "text": [
      "\n",
      "Iteration: 90 Loss: 97133359.81398734 Difference: 6.342428770395641\n"
     ]
    },
    {
     "name": "stderr",
     "output_type": "stream",
     "text": [
      "60000it [00:04, 13875.35it/s]\n",
      "1096it [00:00, 10578.42it/s]"
     ]
    },
    {
     "name": "stdout",
     "output_type": "stream",
     "text": [
      "\n",
      "Iteration: 91 Loss: 97132838.8544943 Difference: 7.108908451673283\n"
     ]
    },
    {
     "name": "stderr",
     "output_type": "stream",
     "text": [
      "60000it [00:04, 12500.60it/s]\n",
      "2917it [00:00, 14420.73it/s]"
     ]
    },
    {
     "name": "stdout",
     "output_type": "stream",
     "text": [
      "\n",
      "Iteration: 92 Loss: 97131737.78002033 Difference: 6.711331136933142\n"
     ]
    },
    {
     "name": "stderr",
     "output_type": "stream",
     "text": [
      "60000it [00:04, 12773.48it/s]\n",
      "1160it [00:00, 11229.73it/s]"
     ]
    },
    {
     "name": "stdout",
     "output_type": "stream",
     "text": [
      "\n",
      "Iteration: 93 Loss: 97130235.99014254 Difference: 9.211011283126776\n"
     ]
    },
    {
     "name": "stderr",
     "output_type": "stream",
     "text": [
      "60000it [00:04, 14436.59it/s]\n",
      "2391it [00:00, 11480.72it/s]"
     ]
    },
    {
     "name": "stdout",
     "output_type": "stream",
     "text": [
      "\n",
      "Iteration: 94 Loss: 97128836.1759992 Difference: 10.141600447501542\n"
     ]
    },
    {
     "name": "stderr",
     "output_type": "stream",
     "text": [
      "60000it [00:04, 13079.13it/s]\n",
      "1602it [00:00, 15976.02it/s]"
     ]
    },
    {
     "name": "stdout",
     "output_type": "stream",
     "text": [
      "\n",
      "Iteration: 95 Loss: 97127032.56721033 Difference: 9.428407723972981\n"
     ]
    },
    {
     "name": "stderr",
     "output_type": "stream",
     "text": [
      "60000it [00:04, 13469.32it/s]\n",
      "1157it [00:00, 11127.87it/s]"
     ]
    },
    {
     "name": "stdout",
     "output_type": "stream",
     "text": [
      "\n",
      "Iteration: 96 Loss: 97125778.29617204 Difference: 11.161056317434507\n"
     ]
    },
    {
     "name": "stderr",
     "output_type": "stream",
     "text": [
      "60000it [00:04, 13608.57it/s]\n",
      "1119it [00:00, 11134.05it/s]"
     ]
    },
    {
     "name": "stdout",
     "output_type": "stream",
     "text": [
      "\n",
      "Iteration: 97 Loss: 97124720.03276531 Difference: 9.970942343365799\n"
     ]
    },
    {
     "name": "stderr",
     "output_type": "stream",
     "text": [
      "60000it [00:04, 13083.38it/s]\n",
      "1296it [00:00, 12366.22it/s]"
     ]
    },
    {
     "name": "stdout",
     "output_type": "stream",
     "text": [
      "\n",
      "Iteration: 98 Loss: 97123978.8142722 Difference: 10.075551221601946\n"
     ]
    },
    {
     "name": "stderr",
     "output_type": "stream",
     "text": [
      "60000it [00:04, 14162.33it/s]\n",
      "1057it [00:00, 10288.72it/s]"
     ]
    },
    {
     "name": "stdout",
     "output_type": "stream",
     "text": [
      "\n",
      "Iteration: 99 Loss: 97123396.2662036 Difference: 7.877215326384607\n"
     ]
    },
    {
     "name": "stderr",
     "output_type": "stream",
     "text": [
      "60000it [00:05, 10055.82it/s]\n",
      "1055it [00:00, 10304.12it/s]"
     ]
    },
    {
     "name": "stdout",
     "output_type": "stream",
     "text": [
      "\n",
      "Iteration: 100 Loss: 97122673.81529775 Difference: 8.065855315237332\n"
     ]
    },
    {
     "name": "stderr",
     "output_type": "stream",
     "text": [
      "60000it [00:06, 9259.90it/s] \n",
      "706it [00:00, 6995.21it/s]"
     ]
    },
    {
     "name": "stdout",
     "output_type": "stream",
     "text": [
      "\n",
      "Iteration: 101 Loss: 97122137.80013663 Difference: 7.300013511097125\n"
     ]
    },
    {
     "name": "stderr",
     "output_type": "stream",
     "text": [
      "60000it [00:07, 8395.56it/s] \n",
      "557it [00:00, 5487.01it/s]"
     ]
    },
    {
     "name": "stdout",
     "output_type": "stream",
     "text": [
      "\n",
      "Iteration: 102 Loss: 97121330.79981323 Difference: 8.485000921122584\n"
     ]
    },
    {
     "name": "stderr",
     "output_type": "stream",
     "text": [
      "60000it [00:06, 9480.85it/s] \n",
      "753it [00:00, 7237.23it/s]"
     ]
    },
    {
     "name": "stdout",
     "output_type": "stream",
     "text": [
      "\n",
      "Iteration: 103 Loss: 97120826.40739079 Difference: 9.340103171669151\n"
     ]
    },
    {
     "name": "stderr",
     "output_type": "stream",
     "text": [
      "60000it [00:06, 9542.32it/s] \n",
      "996it [00:00, 9921.52it/s]"
     ]
    },
    {
     "name": "stdout",
     "output_type": "stream",
     "text": [
      "\n",
      "Iteration: 104 Loss: 97120025.49595773 Difference: 9.518490623420345\n"
     ]
    },
    {
     "name": "stderr",
     "output_type": "stream",
     "text": [
      "60000it [00:05, 10152.50it/s]\n",
      "1233it [00:00, 11760.45it/s]"
     ]
    },
    {
     "name": "stdout",
     "output_type": "stream",
     "text": [
      "\n",
      "Iteration: 105 Loss: 97118817.15011722 Difference: 10.318705326957783\n"
     ]
    },
    {
     "name": "stderr",
     "output_type": "stream",
     "text": [
      "60000it [00:05, 11216.49it/s]\n",
      "1591it [00:00, 15331.31it/s]"
     ]
    },
    {
     "name": "stdout",
     "output_type": "stream",
     "text": [
      "\n",
      "Iteration: 106 Loss: 97116597.20223866 Difference: 13.098866324963124\n"
     ]
    },
    {
     "name": "stderr",
     "output_type": "stream",
     "text": [
      "60000it [00:04, 13436.58it/s]\n",
      "1098it [00:00, 10575.62it/s]"
     ]
    },
    {
     "name": "stdout",
     "output_type": "stream",
     "text": [
      "\n",
      "Iteration: 107 Loss: 97113488.64063162 Difference: 15.788820841013125\n"
     ]
    },
    {
     "name": "stderr",
     "output_type": "stream",
     "text": [
      "60000it [00:04, 12311.54it/s]\n",
      "1057it [00:00, 10191.07it/s]"
     ]
    },
    {
     "name": "stdout",
     "output_type": "stream",
     "text": [
      "\n",
      "Iteration: 108 Loss: 97110112.76743619 Difference: 19.392095578815194\n"
     ]
    },
    {
     "name": "stderr",
     "output_type": "stream",
     "text": [
      "60000it [00:04, 13480.46it/s]\n",
      "901it [00:00, 8919.02it/s]"
     ]
    },
    {
     "name": "stdout",
     "output_type": "stream",
     "text": [
      "\n",
      "Iteration: 109 Loss: 97106139.20328695 Difference: 19.91020936412003\n"
     ]
    },
    {
     "name": "stderr",
     "output_type": "stream",
     "text": [
      "60000it [00:04, 12819.03it/s]\n",
      "1479it [00:00, 14435.15it/s]"
     ]
    },
    {
     "name": "stdout",
     "output_type": "stream",
     "text": [
      "\n",
      "Iteration: 110 Loss: 97102192.19873114 Difference: 22.767074160883478\n"
     ]
    },
    {
     "name": "stderr",
     "output_type": "stream",
     "text": [
      "60000it [00:05, 10638.77it/s]\n",
      "1577it [00:00, 15730.67it/s]"
     ]
    },
    {
     "name": "stdout",
     "output_type": "stream",
     "text": [
      "\n",
      "Iteration: 111 Loss: 97098318.41473328 Difference: 21.14164906979632\n"
     ]
    },
    {
     "name": "stderr",
     "output_type": "stream",
     "text": [
      "60000it [00:04, 14940.63it/s]\n",
      "1044it [00:00, 9948.07it/s]"
     ]
    },
    {
     "name": "stdout",
     "output_type": "stream",
     "text": [
      "\n",
      "Iteration: 112 Loss: 97095368.0749756 Difference: 20.314755764344913\n"
     ]
    },
    {
     "name": "stderr",
     "output_type": "stream",
     "text": [
      "60000it [00:04, 12435.84it/s]\n",
      "1424it [00:00, 13817.64it/s]"
     ]
    },
    {
     "name": "stdout",
     "output_type": "stream",
     "text": [
      "\n",
      "Iteration: 113 Loss: 97093251.19263637 Difference: 17.07428867454672\n"
     ]
    },
    {
     "name": "stderr",
     "output_type": "stream",
     "text": [
      "60000it [00:04, 12192.29it/s]\n",
      "1568it [00:00, 15303.01it/s]"
     ]
    },
    {
     "name": "stdout",
     "output_type": "stream",
     "text": [
      "\n",
      "Iteration: 114 Loss: 97091873.15190417 Difference: 12.868991993845333\n"
     ]
    },
    {
     "name": "stderr",
     "output_type": "stream",
     "text": [
      "60000it [00:04, 13339.80it/s]\n",
      "1025it [00:00, 10151.91it/s]"
     ]
    },
    {
     "name": "stdout",
     "output_type": "stream",
     "text": [
      "\n",
      "Iteration: 115 Loss: 97090910.57601197 Difference: 10.302222923617336\n"
     ]
    },
    {
     "name": "stderr",
     "output_type": "stream",
     "text": [
      "60000it [00:04, 14266.20it/s]\n",
      "1285it [00:00, 12308.35it/s]"
     ]
    },
    {
     "name": "stdout",
     "output_type": "stream",
     "text": [
      "\n",
      "Iteration: 116 Loss: 97089961.87511176 Difference: 8.932417935829639\n"
     ]
    },
    {
     "name": "stderr",
     "output_type": "stream",
     "text": [
      "60000it [00:04, 12770.09it/s]\n",
      "1420it [00:00, 14183.68it/s]"
     ]
    },
    {
     "name": "stdout",
     "output_type": "stream",
     "text": [
      "\n",
      "Iteration: 117 Loss: 97088941.27593903 Difference: 9.007198479233312\n"
     ]
    },
    {
     "name": "stderr",
     "output_type": "stream",
     "text": [
      "60000it [00:04, 14533.78it/s]\n",
      "989it [00:00, 9845.99it/s]"
     ]
    },
    {
     "name": "stdout",
     "output_type": "stream",
     "text": [
      "\n",
      "Iteration: 118 Loss: 97088022.56804954 Difference: 8.186504890886248\n"
     ]
    },
    {
     "name": "stderr",
     "output_type": "stream",
     "text": [
      "60000it [00:04, 12073.25it/s]\n",
      "611it [00:00, 5880.33it/s]"
     ]
    },
    {
     "name": "stdout",
     "output_type": "stream",
     "text": [
      "\n",
      "Iteration: 119 Loss: 97087448.64344333 Difference: 6.904318632669704\n"
     ]
    },
    {
     "name": "stderr",
     "output_type": "stream",
     "text": [
      "60000it [00:06, 9745.26it/s] \n",
      "595it [00:00, 5679.63it/s]"
     ]
    },
    {
     "name": "stdout",
     "output_type": "stream",
     "text": [
      "\n",
      "Iteration: 120 Loss: 97087071.52878806 Difference: 5.7179219416340406\n"
     ]
    },
    {
     "name": "stderr",
     "output_type": "stream",
     "text": [
      "60000it [00:06, 8663.91it/s] \n",
      "1041it [00:00, 10388.31it/s]"
     ]
    },
    {
     "name": "stdout",
     "output_type": "stream",
     "text": [
      "\n",
      "Iteration: 121 Loss: 97086809.14237243 Difference: 4.737313660609206\n"
     ]
    },
    {
     "name": "stderr",
     "output_type": "stream",
     "text": [
      "60000it [00:05, 10050.65it/s]\n",
      "916it [00:00, 8771.83it/s]"
     ]
    },
    {
     "name": "stdout",
     "output_type": "stream",
     "text": [
      "\n",
      "Iteration: 122 Loss: 97086552.45114212 Difference: 3.7049928710926645\n"
     ]
    },
    {
     "name": "stderr",
     "output_type": "stream",
     "text": [
      "60000it [00:06, 9316.10it/s] \n",
      "850it [00:00, 8297.18it/s]"
     ]
    },
    {
     "name": "stdout",
     "output_type": "stream",
     "text": [
      "\n",
      "Iteration: 123 Loss: 97086231.71808238 Difference: 3.872317549633337\n"
     ]
    },
    {
     "name": "stderr",
     "output_type": "stream",
     "text": [
      "60000it [00:07, 8560.27it/s] \n",
      "1020it [00:00, 10195.12it/s]"
     ]
    },
    {
     "name": "stdout",
     "output_type": "stream",
     "text": [
      "\n",
      "Iteration: 124 Loss: 97086130.51570329 Difference: 3.9016041290832058\n"
     ]
    },
    {
     "name": "stderr",
     "output_type": "stream",
     "text": [
      "60000it [00:05, 11621.48it/s]\n",
      "983it [00:00, 9589.76it/s]"
     ]
    },
    {
     "name": "stdout",
     "output_type": "stream",
     "text": [
      "\n",
      "Iteration: 125 Loss: 97085997.55200936 Difference: 2.929311061818356\n"
     ]
    },
    {
     "name": "stderr",
     "output_type": "stream",
     "text": [
      "60000it [00:04, 12445.77it/s]\n",
      "1530it [00:00, 14709.97it/s]"
     ]
    },
    {
     "name": "stdout",
     "output_type": "stream",
     "text": [
      "\n",
      "Iteration: 126 Loss: 97085934.80722935 Difference: 2.5369387953927305\n"
     ]
    },
    {
     "name": "stderr",
     "output_type": "stream",
     "text": [
      "60000it [00:04, 13823.94it/s]\n",
      "964it [00:00, 9480.03it/s]"
     ]
    },
    {
     "name": "stdout",
     "output_type": "stream",
     "text": [
      "\n",
      "Iteration: 127 Loss: 97085810.08107388 Difference: 2.338838553845326\n"
     ]
    },
    {
     "name": "stderr",
     "output_type": "stream",
     "text": [
      "60000it [00:04, 13072.96it/s]\n",
      "1297it [00:00, 12451.39it/s]"
     ]
    },
    {
     "name": "stdout",
     "output_type": "stream",
     "text": [
      "\n",
      "Iteration: 128 Loss: 97085793.48600887 Difference: 2.0610506659863126\n"
     ]
    },
    {
     "name": "stderr",
     "output_type": "stream",
     "text": [
      "60000it [00:04, 12361.74it/s]\n",
      "1469it [00:00, 14011.57it/s]"
     ]
    },
    {
     "name": "stdout",
     "output_type": "stream",
     "text": [
      "\n",
      "Iteration: 129 Loss: 97085712.90781428 Difference: 1.2230996824099065\n"
     ]
    },
    {
     "name": "stderr",
     "output_type": "stream",
     "text": [
      "60000it [00:05, 11826.62it/s]\n",
      "1582it [00:00, 15160.95it/s]"
     ]
    },
    {
     "name": "stdout",
     "output_type": "stream",
     "text": [
      "\n",
      "Iteration: 130 Loss: 97085601.9201169 Difference: 1.1197762701683054\n"
     ]
    },
    {
     "name": "stderr",
     "output_type": "stream",
     "text": [
      "60000it [00:04, 12472.47it/s]\n",
      "1553it [00:00, 15005.47it/s]"
     ]
    },
    {
     "name": "stdout",
     "output_type": "stream",
     "text": [
      "\n",
      "Iteration: 131 Loss: 97085557.22551867 Difference: 1.3027802452254762\n"
     ]
    },
    {
     "name": "stderr",
     "output_type": "stream",
     "text": [
      "60000it [00:05, 11982.43it/s]\n",
      "1238it [00:00, 12325.32it/s]"
     ]
    },
    {
     "name": "stdout",
     "output_type": "stream",
     "text": [
      "\n",
      "Iteration: 132 Loss: 97085521.3808849 Difference: 0.766137135152698\n"
     ]
    },
    {
     "name": "stderr",
     "output_type": "stream",
     "text": [
      "60000it [00:04, 14562.58it/s]\n",
      "1605it [00:00, 15511.16it/s]"
     ]
    },
    {
     "name": "stdout",
     "output_type": "stream",
     "text": [
      "\n",
      "Iteration: 133 Loss: 97085416.92021121 Difference: 0.8249573083499887\n"
     ]
    },
    {
     "name": "stderr",
     "output_type": "stream",
     "text": [
      "60000it [00:04, 12489.92it/s]\n",
      "1444it [00:00, 13759.85it/s]"
     ]
    },
    {
     "name": "stdout",
     "output_type": "stream",
     "text": [
      "\n",
      "Iteration: 134 Loss: 97085352.68551262 Difference: 1.078758737860906\n"
     ]
    },
    {
     "name": "stderr",
     "output_type": "stream",
     "text": [
      "60000it [00:04, 13052.44it/s]\n",
      "1123it [00:00, 10992.33it/s]"
     ]
    },
    {
     "name": "stdout",
     "output_type": "stream",
     "text": [
      "\n",
      "Iteration: 135 Loss: 97085331.95952028 Difference: 0.764589184555309\n"
     ]
    },
    {
     "name": "stderr",
     "output_type": "stream",
     "text": [
      "60000it [00:04, 13782.33it/s]\n",
      "1521it [00:00, 14963.07it/s]"
     ]
    },
    {
     "name": "stdout",
     "output_type": "stream",
     "text": [
      "\n",
      "Iteration: 136 Loss: 97085331.95732881 Difference: 0.30736510359207986\n"
     ]
    },
    {
     "name": "stderr",
     "output_type": "stream",
     "text": [
      "60000it [00:04, 14755.84it/s]\n",
      "1533it [00:00, 15022.25it/s]"
     ]
    },
    {
     "name": "stdout",
     "output_type": "stream",
     "text": [
      "\n",
      "Iteration: 137 Loss: 97085331.9573285 Difference: 3.494542269993075e-05\n"
     ]
    },
    {
     "name": "stderr",
     "output_type": "stream",
     "text": [
      "60000it [00:04, 13029.27it/s]\n"
     ]
    },
    {
     "name": "stdout",
     "output_type": "stream",
     "text": [
      "\n",
      "Iteration: 138 Loss: 97085331.9573285 Difference: 4.05336827328643e-09\n",
      "Converged! With distance: 5.427938214947754e-13\n",
      "[cluster_label,no_occurence_of_label,total_samples_in_cluster,cluster_accuracy] [[6, 5041, 6177, 0.8160919540229885], [0, 4814, 5212, 0.9236377590176515], [7, 3736, 10168, 0.36742722265932337], [4, 3221, 9211, 0.34969058734122244], [1, 6515, 11071, 0.5884743925571313], [3, 4461, 10003, 0.4459662101369589], [2, 3919, 8158, 0.48038734984064724]]\n",
      "Accuracy: 0.5673822107965606\n"
     ]
    },
    {
     "name": "stderr",
     "output_type": "stream",
     "text": [
      "60000it [00:07, 8013.29it/s] \n",
      "590it [00:00, 5881.37it/s]"
     ]
    },
    {
     "name": "stdout",
     "output_type": "stream",
     "text": [
      "\n",
      "Iteration: 0 Loss: 102413826.18715665 Difference: 7281.951936122622\n"
     ]
    },
    {
     "name": "stderr",
     "output_type": "stream",
     "text": [
      "60000it [00:10, 5928.57it/s]\n",
      "684it [00:00, 6822.86it/s]"
     ]
    },
    {
     "name": "stdout",
     "output_type": "stream",
     "text": [
      "\n",
      "Iteration: 1 Loss: 97372355.65495856 Difference: 4334.216390725495\n"
     ]
    },
    {
     "name": "stderr",
     "output_type": "stream",
     "text": [
      "60000it [00:07, 8313.22it/s] \n",
      "1139it [00:00, 10857.31it/s]"
     ]
    },
    {
     "name": "stdout",
     "output_type": "stream",
     "text": [
      "\n",
      "Iteration: 2 Loss: 96836824.65067229 Difference: 789.0080270580538\n"
     ]
    },
    {
     "name": "stderr",
     "output_type": "stream",
     "text": [
      "60000it [00:07, 7607.25it/s]\n",
      "989it [00:00, 9593.22it/s]"
     ]
    },
    {
     "name": "stdout",
     "output_type": "stream",
     "text": [
      "\n",
      "Iteration: 3 Loss: 96675425.84632474 Difference: 294.29737695235383\n"
     ]
    },
    {
     "name": "stderr",
     "output_type": "stream",
     "text": [
      "60000it [00:07, 8115.46it/s] \n",
      "1294it [00:00, 12654.95it/s]"
     ]
    },
    {
     "name": "stdout",
     "output_type": "stream",
     "text": [
      "\n",
      "Iteration: 4 Loss: 96592588.90483423 Difference: 174.81818383512166\n"
     ]
    },
    {
     "name": "stderr",
     "output_type": "stream",
     "text": [
      "60000it [00:05, 10145.45it/s]\n",
      "1378it [00:00, 13353.06it/s]"
     ]
    },
    {
     "name": "stdout",
     "output_type": "stream",
     "text": [
      "\n",
      "Iteration: 5 Loss: 96547594.09577295 Difference: 131.11525596909343\n"
     ]
    },
    {
     "name": "stderr",
     "output_type": "stream",
     "text": [
      "60000it [00:05, 11879.37it/s]\n",
      "312it [00:00, 2973.04it/s]"
     ]
    },
    {
     "name": "stdout",
     "output_type": "stream",
     "text": [
      "\n",
      "Iteration: 6 Loss: 96522800.3206972 Difference: 98.68695185698319\n"
     ]
    },
    {
     "name": "stderr",
     "output_type": "stream",
     "text": [
      "60000it [00:05, 10917.43it/s]\n",
      "1046it [00:00, 10025.83it/s]"
     ]
    },
    {
     "name": "stdout",
     "output_type": "stream",
     "text": [
      "\n",
      "Iteration: 7 Loss: 96509505.77274181 Difference: 73.9665690682694\n"
     ]
    },
    {
     "name": "stderr",
     "output_type": "stream",
     "text": [
      "60000it [00:05, 11955.08it/s]\n",
      "1145it [00:00, 10937.74it/s]"
     ]
    },
    {
     "name": "stdout",
     "output_type": "stream",
     "text": [
      "\n",
      "Iteration: 8 Loss: 96500682.52996263 Difference: 57.21793154267316\n"
     ]
    },
    {
     "name": "stderr",
     "output_type": "stream",
     "text": [
      "60000it [00:05, 10322.52it/s]\n",
      "2012it [00:00, 9903.51it/s]"
     ]
    },
    {
     "name": "stdout",
     "output_type": "stream",
     "text": [
      "\n",
      "Iteration: 9 Loss: 96493454.91132507 Difference: 49.61905900618126\n"
     ]
    },
    {
     "name": "stderr",
     "output_type": "stream",
     "text": [
      "60000it [00:05, 11898.21it/s]\n",
      "1262it [00:00, 12564.12it/s]"
     ]
    },
    {
     "name": "stdout",
     "output_type": "stream",
     "text": [
      "\n",
      "Iteration: 10 Loss: 96488076.49972594 Difference: 45.46812416417752\n"
     ]
    },
    {
     "name": "stderr",
     "output_type": "stream",
     "text": [
      "60000it [00:05, 11026.15it/s]\n",
      "1274it [00:00, 12357.44it/s]"
     ]
    },
    {
     "name": "stdout",
     "output_type": "stream",
     "text": [
      "\n",
      "Iteration: 11 Loss: 96484688.17469956 Difference: 39.811286862554525\n"
     ]
    },
    {
     "name": "stderr",
     "output_type": "stream",
     "text": [
      "60000it [00:06, 9895.94it/s] \n",
      "1253it [00:00, 11991.41it/s]"
     ]
    },
    {
     "name": "stdout",
     "output_type": "stream",
     "text": [
      "\n",
      "Iteration: 12 Loss: 96481682.76974547 Difference: 33.357807466039255\n"
     ]
    },
    {
     "name": "stderr",
     "output_type": "stream",
     "text": [
      "60000it [00:05, 11456.14it/s]\n",
      "1273it [00:00, 12215.62it/s]"
     ]
    },
    {
     "name": "stdout",
     "output_type": "stream",
     "text": [
      "\n",
      "Iteration: 13 Loss: 96478666.54097022 Difference: 30.680128842653794\n"
     ]
    },
    {
     "name": "stderr",
     "output_type": "stream",
     "text": [
      "60000it [00:04, 12109.96it/s]\n",
      "1073it [00:00, 10461.05it/s]"
     ]
    },
    {
     "name": "stdout",
     "output_type": "stream",
     "text": [
      "\n",
      "Iteration: 14 Loss: 96475707.45664224 Difference: 29.24113267334598\n"
     ]
    },
    {
     "name": "stderr",
     "output_type": "stream",
     "text": [
      "60000it [00:05, 10794.09it/s]\n",
      "1351it [00:00, 13326.81it/s]"
     ]
    },
    {
     "name": "stdout",
     "output_type": "stream",
     "text": [
      "\n",
      "Iteration: 15 Loss: 96472503.77552657 Difference: 26.672193026673956\n"
     ]
    },
    {
     "name": "stderr",
     "output_type": "stream",
     "text": [
      "60000it [00:05, 11419.62it/s]\n",
      "984it [00:00, 9581.55it/s]"
     ]
    },
    {
     "name": "stdout",
     "output_type": "stream",
     "text": [
      "\n",
      "Iteration: 16 Loss: 96469421.44686635 Difference: 26.948329697413214\n"
     ]
    },
    {
     "name": "stderr",
     "output_type": "stream",
     "text": [
      "60000it [00:06, 9604.11it/s] \n",
      "705it [00:00, 6767.28it/s]"
     ]
    },
    {
     "name": "stdout",
     "output_type": "stream",
     "text": [
      "\n",
      "Iteration: 17 Loss: 96466317.77746482 Difference: 27.843671843964035\n"
     ]
    },
    {
     "name": "stderr",
     "output_type": "stream",
     "text": [
      "60000it [00:04, 12046.89it/s]\n",
      "1083it [00:00, 10329.25it/s]"
     ]
    },
    {
     "name": "stdout",
     "output_type": "stream",
     "text": [
      "\n",
      "Iteration: 18 Loss: 96463263.16976112 Difference: 27.71899819643739\n"
     ]
    },
    {
     "name": "stderr",
     "output_type": "stream",
     "text": [
      "60000it [00:05, 11099.50it/s]\n",
      "972it [00:00, 9687.56it/s]"
     ]
    },
    {
     "name": "stdout",
     "output_type": "stream",
     "text": [
      "\n",
      "Iteration: 19 Loss: 96459676.34885305 Difference: 27.746417931732747\n"
     ]
    },
    {
     "name": "stderr",
     "output_type": "stream",
     "text": [
      "60000it [00:05, 11785.85it/s]\n",
      "1032it [00:00, 10205.89it/s]"
     ]
    },
    {
     "name": "stdout",
     "output_type": "stream",
     "text": [
      "\n",
      "Iteration: 20 Loss: 96456565.58838968 Difference: 29.41329297184792\n"
     ]
    },
    {
     "name": "stderr",
     "output_type": "stream",
     "text": [
      "60000it [00:05, 11223.54it/s]\n",
      "2569it [00:00, 12313.85it/s]"
     ]
    },
    {
     "name": "stdout",
     "output_type": "stream",
     "text": [
      "\n",
      "Iteration: 21 Loss: 96453803.98154058 Difference: 28.722828484580962\n"
     ]
    },
    {
     "name": "stderr",
     "output_type": "stream",
     "text": [
      "60000it [00:05, 11117.11it/s]\n",
      "1130it [00:00, 10829.75it/s]"
     ]
    },
    {
     "name": "stdout",
     "output_type": "stream",
     "text": [
      "\n",
      "Iteration: 22 Loss: 96451243.0834307 Difference: 26.583425873151178\n"
     ]
    },
    {
     "name": "stderr",
     "output_type": "stream",
     "text": [
      "60000it [00:04, 13091.99it/s]\n",
      "1371it [00:00, 13664.05it/s]"
     ]
    },
    {
     "name": "stdout",
     "output_type": "stream",
     "text": [
      "\n",
      "Iteration: 23 Loss: 96447779.49866645 Difference: 27.361123481604963\n"
     ]
    },
    {
     "name": "stderr",
     "output_type": "stream",
     "text": [
      "60000it [00:04, 12359.40it/s]\n",
      "1168it [00:00, 11666.13it/s]"
     ]
    },
    {
     "name": "stdout",
     "output_type": "stream",
     "text": [
      "\n",
      "Iteration: 24 Loss: 96443507.92310573 Difference: 29.116321040882713\n"
     ]
    },
    {
     "name": "stderr",
     "output_type": "stream",
     "text": [
      "60000it [00:05, 11071.31it/s]\n",
      "1262it [00:00, 12019.89it/s]"
     ]
    },
    {
     "name": "stdout",
     "output_type": "stream",
     "text": [
      "\n",
      "Iteration: 25 Loss: 96438791.69585106 Difference: 32.68693361576701\n"
     ]
    },
    {
     "name": "stderr",
     "output_type": "stream",
     "text": [
      "60000it [00:06, 9351.48it/s] \n",
      "958it [00:00, 9572.80it/s]"
     ]
    },
    {
     "name": "stdout",
     "output_type": "stream",
     "text": [
      "\n",
      "Iteration: 26 Loss: 96434151.74557266 Difference: 36.32228461854068\n"
     ]
    },
    {
     "name": "stderr",
     "output_type": "stream",
     "text": [
      "60000it [00:07, 7932.24it/s] \n",
      "750it [00:00, 7244.82it/s]"
     ]
    },
    {
     "name": "stdout",
     "output_type": "stream",
     "text": [
      "\n",
      "Iteration: 27 Loss: 96429908.4914333 Difference: 33.27365541815869\n"
     ]
    },
    {
     "name": "stderr",
     "output_type": "stream",
     "text": [
      "60000it [00:08, 7256.30it/s]\n",
      "672it [00:00, 6578.30it/s]"
     ]
    },
    {
     "name": "stdout",
     "output_type": "stream",
     "text": [
      "\n",
      "Iteration: 28 Loss: 96425619.66037636 Difference: 33.74647317772127\n"
     ]
    },
    {
     "name": "stderr",
     "output_type": "stream",
     "text": [
      "60000it [00:08, 7414.72it/s]\n",
      "597it [00:00, 5923.79it/s]"
     ]
    },
    {
     "name": "stdout",
     "output_type": "stream",
     "text": [
      "\n",
      "Iteration: 29 Loss: 96420440.00423513 Difference: 34.83225004612723\n"
     ]
    },
    {
     "name": "stderr",
     "output_type": "stream",
     "text": [
      "60000it [00:07, 8154.24it/s] \n",
      "925it [00:00, 9118.70it/s]"
     ]
    },
    {
     "name": "stdout",
     "output_type": "stream",
     "text": [
      "\n",
      "Iteration: 30 Loss: 96414692.60956709 Difference: 38.37200069537692\n"
     ]
    },
    {
     "name": "stderr",
     "output_type": "stream",
     "text": [
      "60000it [00:05, 10272.62it/s]\n",
      "1251it [00:00, 12466.32it/s]"
     ]
    },
    {
     "name": "stdout",
     "output_type": "stream",
     "text": [
      "\n",
      "Iteration: 31 Loss: 96408426.7528991 Difference: 38.69627249251295\n"
     ]
    },
    {
     "name": "stderr",
     "output_type": "stream",
     "text": [
      "60000it [00:05, 10361.74it/s]\n",
      "1142it [00:00, 10892.51it/s]"
     ]
    },
    {
     "name": "stdout",
     "output_type": "stream",
     "text": [
      "\n",
      "Iteration: 32 Loss: 96403051.45695753 Difference: 41.52104325274452\n"
     ]
    },
    {
     "name": "stderr",
     "output_type": "stream",
     "text": [
      "60000it [00:05, 10280.05it/s]\n",
      "1295it [00:00, 12487.41it/s]"
     ]
    },
    {
     "name": "stdout",
     "output_type": "stream",
     "text": [
      "\n",
      "Iteration: 33 Loss: 96398241.00379087 Difference: 38.85404601253637\n"
     ]
    },
    {
     "name": "stderr",
     "output_type": "stream",
     "text": [
      "60000it [00:05, 11116.64it/s]\n",
      "1328it [00:00, 12733.90it/s]"
     ]
    },
    {
     "name": "stdout",
     "output_type": "stream",
     "text": [
      "\n",
      "Iteration: 34 Loss: 96393074.95050636 Difference: 36.68167142397895\n"
     ]
    },
    {
     "name": "stderr",
     "output_type": "stream",
     "text": [
      "60000it [00:05, 11739.18it/s]\n",
      "1091it [00:00, 10877.52it/s]"
     ]
    },
    {
     "name": "stdout",
     "output_type": "stream",
     "text": [
      "\n",
      "Iteration: 35 Loss: 96388122.54978998 Difference: 38.223111952375454\n"
     ]
    },
    {
     "name": "stderr",
     "output_type": "stream",
     "text": [
      "60000it [00:04, 12050.42it/s]\n",
      "1181it [00:00, 11342.78it/s]"
     ]
    },
    {
     "name": "stdout",
     "output_type": "stream",
     "text": [
      "\n",
      "Iteration: 36 Loss: 96383748.75124024 Difference: 35.737866884840095\n"
     ]
    },
    {
     "name": "stderr",
     "output_type": "stream",
     "text": [
      "60000it [00:05, 10807.22it/s]\n",
      "1302it [00:00, 12596.35it/s]"
     ]
    },
    {
     "name": "stdout",
     "output_type": "stream",
     "text": [
      "\n",
      "Iteration: 37 Loss: 96379010.20464578 Difference: 33.336828487475024\n"
     ]
    },
    {
     "name": "stderr",
     "output_type": "stream",
     "text": [
      "60000it [00:05, 10152.44it/s]\n",
      "1036it [00:00, 10228.97it/s]"
     ]
    },
    {
     "name": "stdout",
     "output_type": "stream",
     "text": [
      "\n",
      "Iteration: 38 Loss: 96374893.3935536 Difference: 32.27416506150754\n"
     ]
    },
    {
     "name": "stderr",
     "output_type": "stream",
     "text": [
      "60000it [00:05, 11549.35it/s]\n",
      "809it [00:00, 7712.47it/s]"
     ]
    },
    {
     "name": "stdout",
     "output_type": "stream",
     "text": [
      "\n",
      "Iteration: 39 Loss: 96370778.12567195 Difference: 31.00828169822176\n"
     ]
    },
    {
     "name": "stderr",
     "output_type": "stream",
     "text": [
      "60000it [00:06, 9372.52it/s] \n",
      "884it [00:00, 8820.83it/s]"
     ]
    },
    {
     "name": "stdout",
     "output_type": "stream",
     "text": [
      "\n",
      "Iteration: 40 Loss: 96366905.97141826 Difference: 32.44827246111098\n"
     ]
    },
    {
     "name": "stderr",
     "output_type": "stream",
     "text": [
      "60000it [00:05, 10744.92it/s]\n",
      "838it [00:00, 8319.22it/s]"
     ]
    },
    {
     "name": "stdout",
     "output_type": "stream",
     "text": [
      "\n",
      "Iteration: 41 Loss: 96363696.31764297 Difference: 28.770889197620956\n"
     ]
    },
    {
     "name": "stderr",
     "output_type": "stream",
     "text": [
      "60000it [00:07, 8318.96it/s] \n",
      "757it [00:00, 7515.13it/s]"
     ]
    },
    {
     "name": "stdout",
     "output_type": "stream",
     "text": [
      "\n",
      "Iteration: 42 Loss: 96360424.03501038 Difference: 27.425759216501262\n"
     ]
    },
    {
     "name": "stderr",
     "output_type": "stream",
     "text": [
      "60000it [00:09, 6536.86it/s]\n",
      "737it [00:00, 7316.56it/s]"
     ]
    },
    {
     "name": "stdout",
     "output_type": "stream",
     "text": [
      "\n",
      "Iteration: 43 Loss: 96357393.00185923 Difference: 26.235180044018396\n"
     ]
    },
    {
     "name": "stderr",
     "output_type": "stream",
     "text": [
      "60000it [00:08, 6684.70it/s] \n",
      "1049it [00:00, 10413.84it/s]"
     ]
    },
    {
     "name": "stdout",
     "output_type": "stream",
     "text": [
      "\n",
      "Iteration: 44 Loss: 96354983.32490608 Difference: 27.00262476719316\n"
     ]
    },
    {
     "name": "stderr",
     "output_type": "stream",
     "text": [
      "60000it [00:07, 8567.38it/s] \n",
      "1235it [00:00, 11970.05it/s]"
     ]
    },
    {
     "name": "stdout",
     "output_type": "stream",
     "text": [
      "\n",
      "Iteration: 45 Loss: 96353156.46111274 Difference: 24.440633172475295\n"
     ]
    },
    {
     "name": "stderr",
     "output_type": "stream",
     "text": [
      "60000it [00:09, 6055.55it/s] \n",
      "1074it [00:00, 10646.78it/s]"
     ]
    },
    {
     "name": "stdout",
     "output_type": "stream",
     "text": [
      "\n",
      "Iteration: 46 Loss: 96351155.87312806 Difference: 20.81778679907001\n"
     ]
    },
    {
     "name": "stderr",
     "output_type": "stream",
     "text": [
      "60000it [00:06, 9422.64it/s] \n",
      "1767it [00:00, 7545.09it/s]"
     ]
    },
    {
     "name": "stdout",
     "output_type": "stream",
     "text": [
      "\n",
      "Iteration: 47 Loss: 96349397.8317795 Difference: 23.04571852200359\n"
     ]
    },
    {
     "name": "stderr",
     "output_type": "stream",
     "text": [
      "60000it [00:05, 10194.47it/s]\n",
      "924it [00:00, 9189.64it/s]"
     ]
    },
    {
     "name": "stdout",
     "output_type": "stream",
     "text": [
      "\n",
      "Iteration: 48 Loss: 96347898.33234559 Difference: 21.53433153498824\n"
     ]
    },
    {
     "name": "stderr",
     "output_type": "stream",
     "text": [
      "60000it [00:05, 10021.14it/s]\n",
      "549it [00:00, 5314.09it/s]"
     ]
    },
    {
     "name": "stdout",
     "output_type": "stream",
     "text": [
      "\n",
      "Iteration: 49 Loss: 96346574.66146451 Difference: 22.468861421394937\n"
     ]
    },
    {
     "name": "stderr",
     "output_type": "stream",
     "text": [
      "60000it [00:08, 7167.26it/s]\n",
      "745it [00:00, 7397.31it/s]"
     ]
    },
    {
     "name": "stdout",
     "output_type": "stream",
     "text": [
      "\n",
      "Iteration: 50 Loss: 96345664.94826752 Difference: 20.076475709296272\n"
     ]
    },
    {
     "name": "stderr",
     "output_type": "stream",
     "text": [
      "60000it [00:08, 6927.81it/s]\n",
      "680it [00:00, 6578.65it/s]"
     ]
    },
    {
     "name": "stdout",
     "output_type": "stream",
     "text": [
      "\n",
      "Iteration: 51 Loss: 96345014.02008975 Difference: 17.245127191940295\n"
     ]
    },
    {
     "name": "stderr",
     "output_type": "stream",
     "text": [
      "60000it [00:07, 7988.85it/s]\n",
      "556it [00:00, 5535.34it/s]"
     ]
    },
    {
     "name": "stdout",
     "output_type": "stream",
     "text": [
      "\n",
      "Iteration: 52 Loss: 96344568.3131826 Difference: 16.22687460539355\n"
     ]
    },
    {
     "name": "stderr",
     "output_type": "stream",
     "text": [
      "60000it [00:07, 7977.08it/s]\n",
      "794it [00:00, 7853.65it/s]"
     ]
    },
    {
     "name": "stdout",
     "output_type": "stream",
     "text": [
      "\n",
      "Iteration: 53 Loss: 96344201.58682649 Difference: 17.32971287004587\n"
     ]
    },
    {
     "name": "stderr",
     "output_type": "stream",
     "text": [
      "60000it [00:07, 8186.45it/s]\n",
      "2508it [00:00, 12161.33it/s]"
     ]
    },
    {
     "name": "stdout",
     "output_type": "stream",
     "text": [
      "\n",
      "Iteration: 54 Loss: 96343735.34240648 Difference: 16.4942441297672\n"
     ]
    },
    {
     "name": "stderr",
     "output_type": "stream",
     "text": [
      "60000it [00:06, 9938.87it/s] \n",
      "2621it [00:00, 12570.98it/s]"
     ]
    },
    {
     "name": "stdout",
     "output_type": "stream",
     "text": [
      "\n",
      "Iteration: 55 Loss: 96343234.63549718 Difference: 16.698432111252526\n"
     ]
    },
    {
     "name": "stderr",
     "output_type": "stream",
     "text": [
      "60000it [00:05, 11312.28it/s]\n",
      "1859it [00:00, 8903.58it/s]"
     ]
    },
    {
     "name": "stdout",
     "output_type": "stream",
     "text": [
      "\n",
      "Iteration: 56 Loss: 96342833.31122443 Difference: 16.70754537875475\n"
     ]
    },
    {
     "name": "stderr",
     "output_type": "stream",
     "text": [
      "60000it [00:05, 10232.78it/s]\n",
      "956it [00:00, 9472.20it/s]"
     ]
    },
    {
     "name": "stdout",
     "output_type": "stream",
     "text": [
      "\n",
      "Iteration: 57 Loss: 96342538.86935025 Difference: 14.599100124342355\n"
     ]
    },
    {
     "name": "stderr",
     "output_type": "stream",
     "text": [
      "60000it [00:05, 11383.97it/s]\n",
      "966it [00:00, 9637.28it/s]"
     ]
    },
    {
     "name": "stdout",
     "output_type": "stream",
     "text": [
      "\n",
      "Iteration: 58 Loss: 96342209.49676462 Difference: 13.904601652533866\n"
     ]
    },
    {
     "name": "stderr",
     "output_type": "stream",
     "text": [
      "60000it [00:05, 11504.40it/s]\n",
      "961it [00:00, 9420.56it/s]"
     ]
    },
    {
     "name": "stdout",
     "output_type": "stream",
     "text": [
      "\n",
      "Iteration: 59 Loss: 96341627.53270806 Difference: 13.55171331975749\n"
     ]
    },
    {
     "name": "stderr",
     "output_type": "stream",
     "text": [
      "60000it [00:05, 10975.43it/s]\n",
      "936it [00:00, 8991.25it/s]"
     ]
    },
    {
     "name": "stdout",
     "output_type": "stream",
     "text": [
      "\n",
      "Iteration: 60 Loss: 96340927.31350702 Difference: 14.064368284520487\n"
     ]
    },
    {
     "name": "stderr",
     "output_type": "stream",
     "text": [
      "60000it [00:05, 11816.55it/s]\n",
      "1331it [00:00, 12937.22it/s]"
     ]
    },
    {
     "name": "stdout",
     "output_type": "stream",
     "text": [
      "\n",
      "Iteration: 61 Loss: 96340452.82196675 Difference: 14.455243345559175\n"
     ]
    },
    {
     "name": "stderr",
     "output_type": "stream",
     "text": [
      "60000it [00:05, 11783.49it/s]\n",
      "900it [00:00, 8727.08it/s]"
     ]
    },
    {
     "name": "stdout",
     "output_type": "stream",
     "text": [
      "\n",
      "Iteration: 62 Loss: 96339841.28775278 Difference: 15.008571470044698\n"
     ]
    },
    {
     "name": "stderr",
     "output_type": "stream",
     "text": [
      "60000it [00:05, 11510.20it/s]\n",
      "1075it [00:00, 10490.08it/s]"
     ]
    },
    {
     "name": "stdout",
     "output_type": "stream",
     "text": [
      "\n",
      "Iteration: 63 Loss: 96338866.69434859 Difference: 15.206335257031924\n"
     ]
    },
    {
     "name": "stderr",
     "output_type": "stream",
     "text": [
      "60000it [00:05, 11791.51it/s]\n",
      "1929it [00:00, 9464.67it/s]"
     ]
    },
    {
     "name": "stdout",
     "output_type": "stream",
     "text": [
      "\n",
      "Iteration: 64 Loss: 96338349.91915457 Difference: 13.79968261050138\n"
     ]
    },
    {
     "name": "stderr",
     "output_type": "stream",
     "text": [
      "60000it [00:05, 10809.59it/s]\n",
      "814it [00:00, 7832.52it/s]"
     ]
    },
    {
     "name": "stdout",
     "output_type": "stream",
     "text": [
      "\n",
      "Iteration: 65 Loss: 96337552.97100273 Difference: 14.288103850876995\n"
     ]
    },
    {
     "name": "stderr",
     "output_type": "stream",
     "text": [
      "60000it [00:08, 7231.96it/s]\n",
      "766it [00:00, 7446.79it/s]"
     ]
    },
    {
     "name": "stdout",
     "output_type": "stream",
     "text": [
      "\n",
      "Iteration: 66 Loss: 96336556.78348707 Difference: 15.78289313779685\n"
     ]
    },
    {
     "name": "stderr",
     "output_type": "stream",
     "text": [
      "60000it [00:08, 6749.22it/s]\n",
      "880it [00:00, 8398.65it/s]"
     ]
    },
    {
     "name": "stdout",
     "output_type": "stream",
     "text": [
      "\n",
      "Iteration: 67 Loss: 96335895.62692992 Difference: 16.9130492067179\n"
     ]
    },
    {
     "name": "stderr",
     "output_type": "stream",
     "text": [
      "60000it [00:07, 8502.04it/s] \n",
      "931it [00:00, 9309.68it/s]"
     ]
    },
    {
     "name": "stdout",
     "output_type": "stream",
     "text": [
      "\n",
      "Iteration: 68 Loss: 96335275.57546033 Difference: 16.439726375449208\n"
     ]
    },
    {
     "name": "stderr",
     "output_type": "stream",
     "text": [
      "60000it [00:08, 7116.78it/s]\n",
      "1087it [00:00, 10533.73it/s]"
     ]
    },
    {
     "name": "stdout",
     "output_type": "stream",
     "text": [
      "\n",
      "Iteration: 69 Loss: 96334408.65920751 Difference: 18.777593605269445\n"
     ]
    },
    {
     "name": "stderr",
     "output_type": "stream",
     "text": [
      "60000it [00:07, 8553.33it/s] \n",
      "705it [00:00, 6872.01it/s]"
     ]
    },
    {
     "name": "stdout",
     "output_type": "stream",
     "text": [
      "\n",
      "Iteration: 70 Loss: 96333325.15820406 Difference: 19.867306698071964\n"
     ]
    },
    {
     "name": "stderr",
     "output_type": "stream",
     "text": [
      "60000it [00:05, 10559.80it/s]\n",
      "1188it [00:00, 11738.18it/s]"
     ]
    },
    {
     "name": "stdout",
     "output_type": "stream",
     "text": [
      "\n",
      "Iteration: 71 Loss: 96332095.82225205 Difference: 20.614825149990967\n"
     ]
    },
    {
     "name": "stderr",
     "output_type": "stream",
     "text": [
      "60000it [00:05, 10564.90it/s]\n",
      "1387it [00:00, 13243.17it/s]"
     ]
    },
    {
     "name": "stdout",
     "output_type": "stream",
     "text": [
      "\n",
      "Iteration: 72 Loss: 96330263.08128794 Difference: 19.47833219378889\n"
     ]
    },
    {
     "name": "stderr",
     "output_type": "stream",
     "text": [
      "60000it [00:06, 9875.37it/s] \n",
      "1462it [00:00, 14007.07it/s]"
     ]
    },
    {
     "name": "stdout",
     "output_type": "stream",
     "text": [
      "\n",
      "Iteration: 73 Loss: 96327716.12656946 Difference: 22.548694567426306\n"
     ]
    },
    {
     "name": "stderr",
     "output_type": "stream",
     "text": [
      "60000it [00:05, 10407.17it/s]\n",
      "1401it [00:00, 13409.78it/s]"
     ]
    },
    {
     "name": "stdout",
     "output_type": "stream",
     "text": [
      "\n",
      "Iteration: 74 Loss: 96324231.04822443 Difference: 24.543765648999777\n"
     ]
    },
    {
     "name": "stderr",
     "output_type": "stream",
     "text": [
      "60000it [00:05, 10885.31it/s]\n",
      "1309it [00:00, 12479.67it/s]"
     ]
    },
    {
     "name": "stdout",
     "output_type": "stream",
     "text": [
      "\n",
      "Iteration: 75 Loss: 96320556.5476422 Difference: 30.802916753284237\n"
     ]
    },
    {
     "name": "stderr",
     "output_type": "stream",
     "text": [
      "60000it [00:05, 11919.96it/s]\n",
      "1032it [00:00, 10002.57it/s]"
     ]
    },
    {
     "name": "stdout",
     "output_type": "stream",
     "text": [
      "\n",
      "Iteration: 76 Loss: 96315871.25921892 Difference: 30.91206102288743\n"
     ]
    },
    {
     "name": "stderr",
     "output_type": "stream",
     "text": [
      "60000it [00:05, 11906.54it/s]\n",
      "983it [00:00, 9614.44it/s]"
     ]
    },
    {
     "name": "stdout",
     "output_type": "stream",
     "text": [
      "\n",
      "Iteration: 77 Loss: 96311006.19459379 Difference: 34.968604987610824\n"
     ]
    },
    {
     "name": "stderr",
     "output_type": "stream",
     "text": [
      "60000it [00:05, 11566.44it/s]\n",
      "1061it [00:00, 10110.55it/s]"
     ]
    },
    {
     "name": "stdout",
     "output_type": "stream",
     "text": [
      "\n",
      "Iteration: 78 Loss: 96305729.96269684 Difference: 33.553203911302816\n"
     ]
    },
    {
     "name": "stderr",
     "output_type": "stream",
     "text": [
      "60000it [00:05, 11383.66it/s]\n",
      "1306it [00:00, 12835.78it/s]"
     ]
    },
    {
     "name": "stdout",
     "output_type": "stream",
     "text": [
      "\n",
      "Iteration: 79 Loss: 96300903.83515504 Difference: 35.50470176682313\n"
     ]
    },
    {
     "name": "stderr",
     "output_type": "stream",
     "text": [
      "60000it [00:05, 11074.08it/s]\n",
      "932it [00:00, 9239.80it/s]"
     ]
    },
    {
     "name": "stdout",
     "output_type": "stream",
     "text": [
      "\n",
      "Iteration: 80 Loss: 96294646.82652232 Difference: 34.87846491520686\n"
     ]
    },
    {
     "name": "stderr",
     "output_type": "stream",
     "text": [
      "60000it [00:04, 12282.21it/s]\n",
      "2552it [00:00, 12865.04it/s]"
     ]
    },
    {
     "name": "stdout",
     "output_type": "stream",
     "text": [
      "\n",
      "Iteration: 81 Loss: 96289134.67707908 Difference: 39.50332272257257\n"
     ]
    },
    {
     "name": "stderr",
     "output_type": "stream",
     "text": [
      "60000it [00:04, 12467.92it/s]\n",
      "866it [00:00, 8642.62it/s]"
     ]
    },
    {
     "name": "stdout",
     "output_type": "stream",
     "text": [
      "\n",
      "Iteration: 82 Loss: 96284332.0688084 Difference: 34.31528275208383\n"
     ]
    },
    {
     "name": "stderr",
     "output_type": "stream",
     "text": [
      "60000it [00:07, 8224.48it/s]\n",
      "821it [00:00, 7940.53it/s]"
     ]
    },
    {
     "name": "stdout",
     "output_type": "stream",
     "text": [
      "\n",
      "Iteration: 83 Loss: 96279171.49322557 Difference: 34.66036299191497\n"
     ]
    },
    {
     "name": "stderr",
     "output_type": "stream",
     "text": [
      "60000it [00:07, 7687.64it/s]\n",
      "752it [00:00, 7432.94it/s]"
     ]
    },
    {
     "name": "stdout",
     "output_type": "stream",
     "text": [
      "\n",
      "Iteration: 84 Loss: 96273999.3034288 Difference: 34.12451272311548\n"
     ]
    },
    {
     "name": "stderr",
     "output_type": "stream",
     "text": [
      "60000it [00:08, 7310.25it/s]\n",
      "1032it [00:00, 9866.68it/s]"
     ]
    },
    {
     "name": "stdout",
     "output_type": "stream",
     "text": [
      "\n",
      "Iteration: 85 Loss: 96268640.25879617 Difference: 34.30966216318183\n"
     ]
    },
    {
     "name": "stderr",
     "output_type": "stream",
     "text": [
      "60000it [00:07, 8471.34it/s] \n",
      "605it [00:00, 5906.22it/s]"
     ]
    },
    {
     "name": "stdout",
     "output_type": "stream",
     "text": [
      "\n",
      "Iteration: 86 Loss: 96263856.22824888 Difference: 36.26437789713474\n"
     ]
    },
    {
     "name": "stderr",
     "output_type": "stream",
     "text": [
      "60000it [00:07, 7669.38it/s]\n",
      "958it [00:00, 9339.68it/s]"
     ]
    },
    {
     "name": "stdout",
     "output_type": "stream",
     "text": [
      "\n",
      "Iteration: 87 Loss: 96259000.86799788 Difference: 32.27939443999981\n"
     ]
    },
    {
     "name": "stderr",
     "output_type": "stream",
     "text": [
      "60000it [00:05, 10917.87it/s]\n",
      "964it [00:00, 9204.30it/s]"
     ]
    },
    {
     "name": "stdout",
     "output_type": "stream",
     "text": [
      "\n",
      "Iteration: 88 Loss: 96254812.13345812 Difference: 33.51963561665766\n"
     ]
    },
    {
     "name": "stderr",
     "output_type": "stream",
     "text": [
      "60000it [00:05, 11159.89it/s]\n",
      "2683it [00:00, 12899.96it/s]"
     ]
    },
    {
     "name": "stdout",
     "output_type": "stream",
     "text": [
      "\n",
      "Iteration: 89 Loss: 96250628.53684603 Difference: 33.74280832742266\n"
     ]
    },
    {
     "name": "stderr",
     "output_type": "stream",
     "text": [
      "60000it [00:05, 10967.88it/s]\n",
      "1270it [00:00, 12300.49it/s]"
     ]
    },
    {
     "name": "stdout",
     "output_type": "stream",
     "text": [
      "\n",
      "Iteration: 90 Loss: 96246806.10706574 Difference: 31.818352064092434\n"
     ]
    },
    {
     "name": "stderr",
     "output_type": "stream",
     "text": [
      "60000it [00:05, 11068.37it/s]\n",
      "1066it [00:00, 10561.18it/s]"
     ]
    },
    {
     "name": "stdout",
     "output_type": "stream",
     "text": [
      "\n",
      "Iteration: 91 Loss: 96243244.30615874 Difference: 31.61343623705718\n"
     ]
    },
    {
     "name": "stderr",
     "output_type": "stream",
     "text": [
      "60000it [00:04, 12771.96it/s]\n",
      "1069it [00:00, 10189.05it/s]"
     ]
    },
    {
     "name": "stdout",
     "output_type": "stream",
     "text": [
      "\n",
      "Iteration: 92 Loss: 96239267.70959419 Difference: 31.85609624840711\n"
     ]
    },
    {
     "name": "stderr",
     "output_type": "stream",
     "text": [
      "60000it [00:06, 9158.86it/s] \n",
      "971it [00:00, 9428.30it/s]"
     ]
    },
    {
     "name": "stdout",
     "output_type": "stream",
     "text": [
      "\n",
      "Iteration: 93 Loss: 96235691.61611958 Difference: 33.70410853843952\n"
     ]
    },
    {
     "name": "stderr",
     "output_type": "stream",
     "text": [
      "60000it [00:05, 10180.95it/s]\n",
      "2677it [00:00, 12941.32it/s]"
     ]
    },
    {
     "name": "stdout",
     "output_type": "stream",
     "text": [
      "\n",
      "Iteration: 94 Loss: 96232230.7367606 Difference: 30.80801151834668\n"
     ]
    },
    {
     "name": "stderr",
     "output_type": "stream",
     "text": [
      "60000it [00:05, 11408.14it/s]\n",
      "1057it [00:00, 10562.13it/s]"
     ]
    },
    {
     "name": "stdout",
     "output_type": "stream",
     "text": [
      "\n",
      "Iteration: 95 Loss: 96228857.7467098 Difference: 28.830530811108606\n"
     ]
    },
    {
     "name": "stderr",
     "output_type": "stream",
     "text": [
      "60000it [00:05, 11302.44it/s]\n",
      "1062it [00:00, 10559.79it/s]"
     ]
    },
    {
     "name": "stdout",
     "output_type": "stream",
     "text": [
      "\n",
      "Iteration: 96 Loss: 96225846.31902967 Difference: 29.095992703391314\n"
     ]
    },
    {
     "name": "stderr",
     "output_type": "stream",
     "text": [
      "60000it [00:04, 12383.63it/s]\n",
      "1236it [00:00, 12306.38it/s]"
     ]
    },
    {
     "name": "stdout",
     "output_type": "stream",
     "text": [
      "\n",
      "Iteration: 97 Loss: 96222783.58210082 Difference: 27.659795063853075\n"
     ]
    },
    {
     "name": "stderr",
     "output_type": "stream",
     "text": [
      "60000it [00:05, 11880.78it/s]\n",
      "1065it [00:00, 10179.70it/s]"
     ]
    },
    {
     "name": "stdout",
     "output_type": "stream",
     "text": [
      "\n",
      "Iteration: 98 Loss: 96219415.07752307 Difference: 29.482159834588533\n"
     ]
    },
    {
     "name": "stderr",
     "output_type": "stream",
     "text": [
      "60000it [00:05, 11725.28it/s]\n",
      "761it [00:00, 7359.89it/s]"
     ]
    },
    {
     "name": "stdout",
     "output_type": "stream",
     "text": [
      "\n",
      "Iteration: 99 Loss: 96215558.93821813 Difference: 29.24231748981214\n"
     ]
    },
    {
     "name": "stderr",
     "output_type": "stream",
     "text": [
      "60000it [00:07, 8566.62it/s] \n",
      "843it [00:00, 8138.75it/s]"
     ]
    },
    {
     "name": "stdout",
     "output_type": "stream",
     "text": [
      "\n",
      "Iteration: 100 Loss: 96211218.74399143 Difference: 31.896900714160985\n"
     ]
    },
    {
     "name": "stderr",
     "output_type": "stream",
     "text": [
      "60000it [00:08, 7370.58it/s]\n",
      "670it [00:00, 6431.33it/s]"
     ]
    },
    {
     "name": "stdout",
     "output_type": "stream",
     "text": [
      "\n",
      "Iteration: 101 Loss: 96205825.38392384 Difference: 34.10225375681101\n"
     ]
    },
    {
     "name": "stderr",
     "output_type": "stream",
     "text": [
      "60000it [00:07, 8148.26it/s] \n",
      "815it [00:00, 8101.66it/s]"
     ]
    },
    {
     "name": "stdout",
     "output_type": "stream",
     "text": [
      "\n",
      "Iteration: 102 Loss: 96199126.68856272 Difference: 38.80284253612151\n"
     ]
    },
    {
     "name": "stderr",
     "output_type": "stream",
     "text": [
      "60000it [00:07, 7665.33it/s]\n",
      "719it [00:00, 6860.81it/s]"
     ]
    },
    {
     "name": "stdout",
     "output_type": "stream",
     "text": [
      "\n",
      "Iteration: 103 Loss: 96192109.67585118 Difference: 45.67660998681597\n"
     ]
    },
    {
     "name": "stderr",
     "output_type": "stream",
     "text": [
      "60000it [00:07, 8096.18it/s]\n",
      "812it [00:00, 7932.49it/s]"
     ]
    },
    {
     "name": "stdout",
     "output_type": "stream",
     "text": [
      "\n",
      "Iteration: 104 Loss: 96183769.3094035 Difference: 45.06449611008886\n"
     ]
    },
    {
     "name": "stderr",
     "output_type": "stream",
     "text": [
      "60000it [00:05, 10980.33it/s]\n",
      "2127it [00:00, 8956.29it/s]"
     ]
    },
    {
     "name": "stdout",
     "output_type": "stream",
     "text": [
      "\n",
      "Iteration: 105 Loss: 96175498.09803635 Difference: 49.00906472950283\n"
     ]
    },
    {
     "name": "stderr",
     "output_type": "stream",
     "text": [
      "60000it [00:06, 9357.60it/s] \n",
      "1367it [00:00, 13592.98it/s]"
     ]
    },
    {
     "name": "stdout",
     "output_type": "stream",
     "text": [
      "\n",
      "Iteration: 106 Loss: 96167295.14997904 Difference: 49.680807724939605\n"
     ]
    },
    {
     "name": "stderr",
     "output_type": "stream",
     "text": [
      "60000it [00:06, 9629.03it/s] \n",
      "1318it [00:00, 12830.52it/s]"
     ]
    },
    {
     "name": "stdout",
     "output_type": "stream",
     "text": [
      "\n",
      "Iteration: 107 Loss: 96159769.28671305 Difference: 50.14818456379763\n"
     ]
    },
    {
     "name": "stderr",
     "output_type": "stream",
     "text": [
      "60000it [00:05, 11298.70it/s]\n",
      "1332it [00:00, 12917.73it/s]"
     ]
    },
    {
     "name": "stdout",
     "output_type": "stream",
     "text": [
      "\n",
      "Iteration: 108 Loss: 96152756.46123892 Difference: 48.03745678810219\n"
     ]
    },
    {
     "name": "stderr",
     "output_type": "stream",
     "text": [
      "60000it [00:05, 10180.46it/s]\n",
      "1006it [00:00, 10037.16it/s]"
     ]
    },
    {
     "name": "stdout",
     "output_type": "stream",
     "text": [
      "\n",
      "Iteration: 109 Loss: 96147280.95747976 Difference: 49.29397113484566\n"
     ]
    },
    {
     "name": "stderr",
     "output_type": "stream",
     "text": [
      "60000it [00:04, 12062.05it/s]\n",
      "2152it [00:00, 10575.97it/s]"
     ]
    },
    {
     "name": "stdout",
     "output_type": "stream",
     "text": [
      "\n",
      "Iteration: 110 Loss: 96142918.27144392 Difference: 43.03652662980431\n"
     ]
    },
    {
     "name": "stderr",
     "output_type": "stream",
     "text": [
      "60000it [00:05, 11517.80it/s]\n",
      "837it [00:00, 8364.15it/s]"
     ]
    },
    {
     "name": "stdout",
     "output_type": "stream",
     "text": [
      "\n",
      "Iteration: 111 Loss: 96139434.65961295 Difference: 43.87258852983677\n"
     ]
    },
    {
     "name": "stderr",
     "output_type": "stream",
     "text": [
      "60000it [00:05, 10202.90it/s]\n",
      "890it [00:00, 8656.17it/s]"
     ]
    },
    {
     "name": "stdout",
     "output_type": "stream",
     "text": [
      "\n",
      "Iteration: 112 Loss: 96137227.99830137 Difference: 38.97480942109139\n"
     ]
    },
    {
     "name": "stderr",
     "output_type": "stream",
     "text": [
      "60000it [00:05, 11259.53it/s]\n",
      "894it [00:00, 8792.72it/s]"
     ]
    },
    {
     "name": "stdout",
     "output_type": "stream",
     "text": [
      "\n",
      "Iteration: 113 Loss: 96135538.14023466 Difference: 35.67320396899407\n"
     ]
    },
    {
     "name": "stderr",
     "output_type": "stream",
     "text": [
      "60000it [00:05, 11315.54it/s]\n",
      "906it [00:00, 8862.20it/s]"
     ]
    },
    {
     "name": "stdout",
     "output_type": "stream",
     "text": [
      "\n",
      "Iteration: 114 Loss: 96134044.72827493 Difference: 34.75289750343046\n"
     ]
    },
    {
     "name": "stderr",
     "output_type": "stream",
     "text": [
      "60000it [00:05, 11501.79it/s]\n",
      "679it [00:00, 6713.51it/s]"
     ]
    },
    {
     "name": "stdout",
     "output_type": "stream",
     "text": [
      "\n",
      "Iteration: 115 Loss: 96131973.83281599 Difference: 32.227979656889815\n"
     ]
    },
    {
     "name": "stderr",
     "output_type": "stream",
     "text": [
      "60000it [00:05, 10148.06it/s]\n",
      "1021it [00:00, 9921.31it/s]"
     ]
    },
    {
     "name": "stdout",
     "output_type": "stream",
     "text": [
      "\n",
      "Iteration: 116 Loss: 96130191.12030257 Difference: 36.31893601512309\n"
     ]
    },
    {
     "name": "stderr",
     "output_type": "stream",
     "text": [
      "60000it [00:08, 7281.15it/s]\n",
      "773it [00:00, 7660.49it/s]"
     ]
    },
    {
     "name": "stdout",
     "output_type": "stream",
     "text": [
      "\n",
      "Iteration: 117 Loss: 96128659.0035293 Difference: 34.80129429514299\n"
     ]
    },
    {
     "name": "stderr",
     "output_type": "stream",
     "text": [
      "60000it [00:07, 8060.12it/s] \n",
      "760it [00:00, 7456.05it/s]"
     ]
    },
    {
     "name": "stdout",
     "output_type": "stream",
     "text": [
      "\n",
      "Iteration: 118 Loss: 96127967.29350026 Difference: 35.452486067711554\n"
     ]
    },
    {
     "name": "stderr",
     "output_type": "stream",
     "text": [
      "60000it [00:07, 7906.85it/s]\n",
      "894it [00:00, 8638.05it/s]"
     ]
    },
    {
     "name": "stdout",
     "output_type": "stream",
     "text": [
      "\n",
      "Iteration: 119 Loss: 96127803.60093573 Difference: 32.928927496670994\n"
     ]
    },
    {
     "name": "stderr",
     "output_type": "stream",
     "text": [
      "60000it [00:08, 7233.69it/s]\n",
      "665it [00:00, 6347.17it/s]"
     ]
    },
    {
     "name": "stdout",
     "output_type": "stream",
     "text": [
      "\n",
      "Iteration: 120 Loss: 96128164.99130267 Difference: 23.927201442343012\n"
     ]
    },
    {
     "name": "stderr",
     "output_type": "stream",
     "text": [
      "60000it [00:06, 9426.48it/s] \n",
      "935it [00:00, 9246.51it/s]"
     ]
    },
    {
     "name": "stdout",
     "output_type": "stream",
     "text": [
      "\n",
      "Iteration: 121 Loss: 96128811.51586793 Difference: 21.73598696939127\n"
     ]
    },
    {
     "name": "stderr",
     "output_type": "stream",
     "text": [
      "60000it [00:05, 10718.48it/s]\n",
      "969it [00:00, 9276.68it/s]"
     ]
    },
    {
     "name": "stdout",
     "output_type": "stream",
     "text": [
      "\n",
      "Iteration: 122 Loss: 96129737.75741583 Difference: 16.070601935979088\n"
     ]
    },
    {
     "name": "stderr",
     "output_type": "stream",
     "text": [
      "60000it [00:05, 11935.93it/s]\n",
      "986it [00:00, 9432.84it/s]"
     ]
    },
    {
     "name": "stdout",
     "output_type": "stream",
     "text": [
      "\n",
      "Iteration: 123 Loss: 96130502.88355528 Difference: 12.180419128614604\n"
     ]
    },
    {
     "name": "stderr",
     "output_type": "stream",
     "text": [
      "60000it [00:05, 11059.58it/s]\n",
      "1303it [00:00, 12424.28it/s]"
     ]
    },
    {
     "name": "stdout",
     "output_type": "stream",
     "text": [
      "\n",
      "Iteration: 124 Loss: 96130901.17243451 Difference: 11.026632649782707\n"
     ]
    },
    {
     "name": "stderr",
     "output_type": "stream",
     "text": [
      "60000it [00:06, 9471.78it/s] \n",
      "1304it [00:00, 12798.76it/s]"
     ]
    },
    {
     "name": "stdout",
     "output_type": "stream",
     "text": [
      "\n",
      "Iteration: 125 Loss: 96131552.69996166 Difference: 6.6569012564112775\n"
     ]
    },
    {
     "name": "stderr",
     "output_type": "stream",
     "text": [
      "60000it [00:05, 11622.49it/s]\n",
      "1255it [00:00, 11976.80it/s]"
     ]
    },
    {
     "name": "stdout",
     "output_type": "stream",
     "text": [
      "\n",
      "Iteration: 126 Loss: 96131889.32092491 Difference: 9.085239308233824\n"
     ]
    },
    {
     "name": "stderr",
     "output_type": "stream",
     "text": [
      "60000it [00:04, 12193.62it/s]\n",
      "1112it [00:00, 10598.58it/s]"
     ]
    },
    {
     "name": "stdout",
     "output_type": "stream",
     "text": [
      "\n",
      "Iteration: 127 Loss: 96131990.55292244 Difference: 6.001128455692677\n"
     ]
    },
    {
     "name": "stderr",
     "output_type": "stream",
     "text": [
      "60000it [00:05, 11544.30it/s]\n",
      "929it [00:00, 8926.46it/s]"
     ]
    },
    {
     "name": "stdout",
     "output_type": "stream",
     "text": [
      "\n",
      "Iteration: 128 Loss: 96132087.25706102 Difference: 3.792025498595081\n"
     ]
    },
    {
     "name": "stderr",
     "output_type": "stream",
     "text": [
      "60000it [00:05, 11828.76it/s]\n",
      "2742it [00:00, 13522.87it/s]"
     ]
    },
    {
     "name": "stdout",
     "output_type": "stream",
     "text": [
      "\n",
      "Iteration: 129 Loss: 96132116.35741955 Difference: 2.591927796129367\n"
     ]
    },
    {
     "name": "stderr",
     "output_type": "stream",
     "text": [
      "60000it [00:05, 11906.20it/s]\n",
      "1138it [00:00, 11001.72it/s]"
     ]
    },
    {
     "name": "stdout",
     "output_type": "stream",
     "text": [
      "\n",
      "Iteration: 130 Loss: 96132106.33917136 Difference: 1.6642050144958644\n"
     ]
    },
    {
     "name": "stderr",
     "output_type": "stream",
     "text": [
      "60000it [00:04, 12107.75it/s]\n",
      "1361it [00:00, 12997.73it/s]"
     ]
    },
    {
     "name": "stdout",
     "output_type": "stream",
     "text": [
      "\n",
      "Iteration: 131 Loss: 96132135.94044043 Difference: 0.9228634749386104\n"
     ]
    },
    {
     "name": "stderr",
     "output_type": "stream",
     "text": [
      "60000it [00:05, 10282.94it/s]\n",
      "998it [00:00, 9656.25it/s]"
     ]
    },
    {
     "name": "stdout",
     "output_type": "stream",
     "text": [
      "\n",
      "Iteration: 132 Loss: 96132159.26717314 Difference: 0.6397075407662257\n"
     ]
    },
    {
     "name": "stderr",
     "output_type": "stream",
     "text": [
      "60000it [00:06, 9109.94it/s] \n",
      "789it [00:00, 7834.23it/s]"
     ]
    },
    {
     "name": "stdout",
     "output_type": "stream",
     "text": [
      "\n",
      "Iteration: 133 Loss: 96132159.2685505 Difference: 0.8515161966350848\n"
     ]
    },
    {
     "name": "stderr",
     "output_type": "stream",
     "text": [
      "60000it [00:07, 8078.70it/s] \n",
      "934it [00:00, 9091.73it/s]"
     ]
    },
    {
     "name": "stdout",
     "output_type": "stream",
     "text": [
      "\n",
      "Iteration: 134 Loss: 96132159.26855086 Difference: 0.00011284124336673653\n"
     ]
    },
    {
     "name": "stderr",
     "output_type": "stream",
     "text": [
      "60000it [00:09, 6482.74it/s]\n"
     ]
    },
    {
     "name": "stdout",
     "output_type": "stream",
     "text": [
      "\n",
      "Iteration: 135 Loss: 96132159.26855087 Difference: 1.514028359149636e-08\n",
      "Converged! With distance: 2.067428417386831e-12\n",
      "[cluster_label,no_occurence_of_label,total_samples_in_cluster,cluster_accuracy] [[0, 4696, 5027, 0.9341555599761289], [7, 3806, 8968, 0.4243978590544157], [8, 3133, 7231, 0.4332734061678883], [1, 6629, 10850, 0.6109677419354839], [4, 3234, 9236, 0.3501515807708965], [2, 4201, 4862, 0.8640477169888935], [3, 3983, 8002, 0.4977505623594101], [6, 4962, 5824, 0.8519917582417582]]\n",
      "Accuracy: 0.6208420231868594\n"
     ]
    },
    {
     "name": "stderr",
     "output_type": "stream",
     "text": [
      "60000it [00:08, 7091.34it/s]\n",
      "596it [00:00, 5707.23it/s]"
     ]
    },
    {
     "name": "stdout",
     "output_type": "stream",
     "text": [
      "\n",
      "Iteration: 0 Loss: 104828599.0692586 Difference: 6987.647601303317\n"
     ]
    },
    {
     "name": "stderr",
     "output_type": "stream",
     "text": [
      "60000it [00:09, 6320.62it/s]\n",
      "601it [00:00, 5934.63it/s]"
     ]
    },
    {
     "name": "stdout",
     "output_type": "stream",
     "text": [
      "\n",
      "Iteration: 1 Loss: 98502126.66410738 Difference: 4500.587512657062\n"
     ]
    },
    {
     "name": "stderr",
     "output_type": "stream",
     "text": [
      "60000it [00:07, 7929.12it/s] \n",
      "792it [00:00, 7550.06it/s]"
     ]
    },
    {
     "name": "stdout",
     "output_type": "stream",
     "text": [
      "\n",
      "Iteration: 2 Loss: 97158954.78048182 Difference: 1022.5614964027254\n"
     ]
    },
    {
     "name": "stderr",
     "output_type": "stream",
     "text": [
      "60000it [00:06, 9248.50it/s] \n",
      "1230it [00:00, 11893.00it/s]"
     ]
    },
    {
     "name": "stdout",
     "output_type": "stream",
     "text": [
      "\n",
      "Iteration: 3 Loss: 96484247.4877785 Difference: 599.3232705055652\n"
     ]
    },
    {
     "name": "stderr",
     "output_type": "stream",
     "text": [
      "60000it [00:06, 8899.99it/s] \n",
      "634it [00:00, 6293.97it/s]"
     ]
    },
    {
     "name": "stdout",
     "output_type": "stream",
     "text": [
      "\n",
      "Iteration: 4 Loss: 96104447.0416436 Difference: 435.16357244348313\n"
     ]
    },
    {
     "name": "stderr",
     "output_type": "stream",
     "text": [
      "60000it [00:06, 9082.29it/s] \n",
      "1111it [00:00, 11029.20it/s]"
     ]
    },
    {
     "name": "stdout",
     "output_type": "stream",
     "text": [
      "\n",
      "Iteration: 5 Loss: 95874025.95257083 Difference: 334.92811588782934\n"
     ]
    },
    {
     "name": "stderr",
     "output_type": "stream",
     "text": [
      "60000it [00:06, 8868.35it/s] \n",
      "1136it [00:00, 11257.91it/s]"
     ]
    },
    {
     "name": "stdout",
     "output_type": "stream",
     "text": [
      "\n",
      "Iteration: 6 Loss: 95747994.9680281 Difference: 254.86968230256423\n"
     ]
    },
    {
     "name": "stderr",
     "output_type": "stream",
     "text": [
      "60000it [00:06, 9442.00it/s] \n",
      "1143it [00:00, 10890.61it/s]"
     ]
    },
    {
     "name": "stdout",
     "output_type": "stream",
     "text": [
      "\n",
      "Iteration: 7 Loss: 95667236.65624455 Difference: 187.2276442750201\n"
     ]
    },
    {
     "name": "stderr",
     "output_type": "stream",
     "text": [
      "60000it [00:06, 9141.32it/s] \n",
      "1159it [00:00, 11188.85it/s]"
     ]
    },
    {
     "name": "stdout",
     "output_type": "stream",
     "text": [
      "\n",
      "Iteration: 8 Loss: 95596155.4411161 Difference: 147.79952141620475\n"
     ]
    },
    {
     "name": "stderr",
     "output_type": "stream",
     "text": [
      "60000it [00:06, 9759.53it/s] \n",
      "1040it [00:00, 10358.20it/s]"
     ]
    },
    {
     "name": "stdout",
     "output_type": "stream",
     "text": [
      "\n",
      "Iteration: 9 Loss: 95539916.84881267 Difference: 137.7307153934625\n"
     ]
    },
    {
     "name": "stderr",
     "output_type": "stream",
     "text": [
      "60000it [00:06, 9507.34it/s] \n",
      "1114it [00:00, 10820.83it/s]"
     ]
    },
    {
     "name": "stdout",
     "output_type": "stream",
     "text": [
      "\n",
      "Iteration: 10 Loss: 95500207.09988312 Difference: 117.00016052543367\n"
     ]
    },
    {
     "name": "stderr",
     "output_type": "stream",
     "text": [
      "60000it [00:05, 10466.89it/s]\n",
      "1185it [00:00, 11392.63it/s]"
     ]
    },
    {
     "name": "stdout",
     "output_type": "stream",
     "text": [
      "\n",
      "Iteration: 11 Loss: 95477050.55424258 Difference: 96.78391848543414\n"
     ]
    },
    {
     "name": "stderr",
     "output_type": "stream",
     "text": [
      "60000it [00:06, 9791.29it/s] \n",
      "1187it [00:00, 11760.66it/s]"
     ]
    },
    {
     "name": "stdout",
     "output_type": "stream",
     "text": [
      "\n",
      "Iteration: 12 Loss: 95463949.96840784 Difference: 76.03270840125458\n"
     ]
    },
    {
     "name": "stderr",
     "output_type": "stream",
     "text": [
      "60000it [00:06, 9392.29it/s] \n",
      "1248it [00:00, 12371.55it/s]"
     ]
    },
    {
     "name": "stdout",
     "output_type": "stream",
     "text": [
      "\n",
      "Iteration: 13 Loss: 95456846.42229962 Difference: 61.9041782258588\n"
     ]
    },
    {
     "name": "stderr",
     "output_type": "stream",
     "text": [
      "60000it [00:05, 10331.62it/s]\n",
      "1239it [00:00, 12382.87it/s]"
     ]
    },
    {
     "name": "stdout",
     "output_type": "stream",
     "text": [
      "\n",
      "Iteration: 14 Loss: 95450851.53311835 Difference: 51.89737104693881\n"
     ]
    },
    {
     "name": "stderr",
     "output_type": "stream",
     "text": [
      "60000it [00:05, 10028.07it/s]\n",
      "1148it [00:00, 11218.24it/s]"
     ]
    },
    {
     "name": "stdout",
     "output_type": "stream",
     "text": [
      "\n",
      "Iteration: 15 Loss: 95446765.87496348 Difference: 51.28550959508858\n"
     ]
    },
    {
     "name": "stderr",
     "output_type": "stream",
     "text": [
      "60000it [00:05, 11068.26it/s]\n",
      "914it [00:00, 8868.68it/s]"
     ]
    },
    {
     "name": "stdout",
     "output_type": "stream",
     "text": [
      "\n",
      "Iteration: 16 Loss: 95443152.25053687 Difference: 46.23533826513059\n"
     ]
    },
    {
     "name": "stderr",
     "output_type": "stream",
     "text": [
      "60000it [00:05, 10845.23it/s]\n",
      "791it [00:00, 7742.34it/s]"
     ]
    },
    {
     "name": "stdout",
     "output_type": "stream",
     "text": [
      "\n",
      "Iteration: 17 Loss: 95440418.30567272 Difference: 42.41056286837884\n"
     ]
    },
    {
     "name": "stderr",
     "output_type": "stream",
     "text": [
      "60000it [00:05, 10497.73it/s]\n",
      "1090it [00:00, 10554.31it/s]"
     ]
    },
    {
     "name": "stdout",
     "output_type": "stream",
     "text": [
      "\n",
      "Iteration: 18 Loss: 95438778.9274015 Difference: 37.5688698078282\n"
     ]
    },
    {
     "name": "stderr",
     "output_type": "stream",
     "text": [
      "60000it [00:05, 10399.20it/s]\n",
      "1165it [00:00, 11410.69it/s]"
     ]
    },
    {
     "name": "stdout",
     "output_type": "stream",
     "text": [
      "\n",
      "Iteration: 19 Loss: 95438022.87922023 Difference: 28.309966920152483\n"
     ]
    },
    {
     "name": "stderr",
     "output_type": "stream",
     "text": [
      "60000it [00:05, 10530.92it/s]\n",
      "909it [00:00, 9082.86it/s]"
     ]
    },
    {
     "name": "stdout",
     "output_type": "stream",
     "text": [
      "\n",
      "Iteration: 20 Loss: 95437360.59781069 Difference: 23.984916408221373\n"
     ]
    },
    {
     "name": "stderr",
     "output_type": "stream",
     "text": [
      "60000it [00:06, 9460.32it/s] \n",
      "706it [00:00, 7009.12it/s]"
     ]
    },
    {
     "name": "stdout",
     "output_type": "stream",
     "text": [
      "\n",
      "Iteration: 21 Loss: 95436674.79399222 Difference: 19.66438781258745\n"
     ]
    },
    {
     "name": "stderr",
     "output_type": "stream",
     "text": [
      "60000it [00:08, 7412.73it/s]\n",
      "596it [00:00, 5828.27it/s]"
     ]
    },
    {
     "name": "stdout",
     "output_type": "stream",
     "text": [
      "\n",
      "Iteration: 22 Loss: 95436155.50489974 Difference: 17.223170936758944\n"
     ]
    },
    {
     "name": "stderr",
     "output_type": "stream",
     "text": [
      "60000it [00:08, 7224.62it/s]\n",
      "852it [00:00, 8434.82it/s]"
     ]
    },
    {
     "name": "stdout",
     "output_type": "stream",
     "text": [
      "\n",
      "Iteration: 23 Loss: 95435765.51602386 Difference: 14.823487821250145\n"
     ]
    },
    {
     "name": "stderr",
     "output_type": "stream",
     "text": [
      "60000it [00:08, 6911.78it/s]\n",
      "1071it [00:00, 10209.41it/s]"
     ]
    },
    {
     "name": "stdout",
     "output_type": "stream",
     "text": [
      "\n",
      "Iteration: 24 Loss: 95435349.95597675 Difference: 11.282809906674796\n"
     ]
    },
    {
     "name": "stderr",
     "output_type": "stream",
     "text": [
      "60000it [00:08, 6942.08it/s]\n",
      "830it [00:00, 8174.90it/s]"
     ]
    },
    {
     "name": "stdout",
     "output_type": "stream",
     "text": [
      "\n",
      "Iteration: 25 Loss: 95434810.95988148 Difference: 11.638622573363174\n"
     ]
    },
    {
     "name": "stderr",
     "output_type": "stream",
     "text": [
      "60000it [00:06, 9897.75it/s] \n",
      "849it [00:00, 8096.17it/s]"
     ]
    },
    {
     "name": "stdout",
     "output_type": "stream",
     "text": [
      "\n",
      "Iteration: 26 Loss: 95434186.673049 Difference: 10.103698896846476\n"
     ]
    },
    {
     "name": "stderr",
     "output_type": "stream",
     "text": [
      "60000it [00:05, 10558.49it/s]\n",
      "1027it [00:00, 9860.34it/s]"
     ]
    },
    {
     "name": "stdout",
     "output_type": "stream",
     "text": [
      "\n",
      "Iteration: 27 Loss: 95433967.35571644 Difference: 8.513768809750896\n"
     ]
    },
    {
     "name": "stderr",
     "output_type": "stream",
     "text": [
      "60000it [00:06, 9908.31it/s] \n",
      "990it [00:00, 9881.92it/s]"
     ]
    },
    {
     "name": "stdout",
     "output_type": "stream",
     "text": [
      "\n",
      "Iteration: 28 Loss: 95433455.82247454 Difference: 7.277947325503682\n"
     ]
    },
    {
     "name": "stderr",
     "output_type": "stream",
     "text": [
      "60000it [00:05, 10306.51it/s]\n",
      "1960it [00:00, 9503.70it/s]"
     ]
    },
    {
     "name": "stdout",
     "output_type": "stream",
     "text": [
      "\n",
      "Iteration: 29 Loss: 95433198.42488581 Difference: 9.46267139069558\n"
     ]
    },
    {
     "name": "stderr",
     "output_type": "stream",
     "text": [
      "60000it [00:06, 9951.74it/s] \n",
      "1035it [00:00, 9890.31it/s]"
     ]
    },
    {
     "name": "stdout",
     "output_type": "stream",
     "text": [
      "\n",
      "Iteration: 30 Loss: 95432885.51268505 Difference: 10.307604895822557\n"
     ]
    },
    {
     "name": "stderr",
     "output_type": "stream",
     "text": [
      "60000it [00:05, 10543.71it/s]\n",
      "1310it [00:00, 12633.27it/s]"
     ]
    },
    {
     "name": "stdout",
     "output_type": "stream",
     "text": [
      "\n",
      "Iteration: 31 Loss: 95432208.51221852 Difference: 10.120772830868132\n"
     ]
    },
    {
     "name": "stderr",
     "output_type": "stream",
     "text": [
      "60000it [00:06, 9714.95it/s] \n",
      "1161it [00:00, 11585.84it/s]"
     ]
    },
    {
     "name": "stdout",
     "output_type": "stream",
     "text": [
      "\n",
      "Iteration: 32 Loss: 95431476.04712608 Difference: 12.032177075421908\n"
     ]
    },
    {
     "name": "stderr",
     "output_type": "stream",
     "text": [
      "60000it [00:05, 10619.48it/s]\n",
      "927it [00:00, 9037.96it/s]"
     ]
    },
    {
     "name": "stdout",
     "output_type": "stream",
     "text": [
      "\n",
      "Iteration: 33 Loss: 95431031.60189596 Difference: 14.58988011617364\n"
     ]
    },
    {
     "name": "stderr",
     "output_type": "stream",
     "text": [
      "60000it [00:05, 10806.95it/s]\n",
      "807it [00:00, 7774.29it/s]"
     ]
    },
    {
     "name": "stdout",
     "output_type": "stream",
     "text": [
      "\n",
      "Iteration: 34 Loss: 95430818.24398692 Difference: 12.633329667230889\n"
     ]
    },
    {
     "name": "stderr",
     "output_type": "stream",
     "text": [
      "60000it [00:05, 11037.73it/s]\n",
      "1304it [00:00, 12884.54it/s]"
     ]
    },
    {
     "name": "stdout",
     "output_type": "stream",
     "text": [
      "\n",
      "Iteration: 35 Loss: 95430335.35865706 Difference: 13.177463016828517\n"
     ]
    },
    {
     "name": "stderr",
     "output_type": "stream",
     "text": [
      "60000it [00:05, 10589.13it/s]\n",
      "1298it [00:00, 12370.13it/s]"
     ]
    },
    {
     "name": "stdout",
     "output_type": "stream",
     "text": [
      "\n",
      "Iteration: 36 Loss: 95429999.77700253 Difference: 13.308925903414206\n"
     ]
    },
    {
     "name": "stderr",
     "output_type": "stream",
     "text": [
      "60000it [00:06, 9321.97it/s] \n",
      "526it [00:00, 5102.03it/s]"
     ]
    },
    {
     "name": "stdout",
     "output_type": "stream",
     "text": [
      "\n",
      "Iteration: 37 Loss: 95429771.35710618 Difference: 12.385935815307137\n"
     ]
    },
    {
     "name": "stderr",
     "output_type": "stream",
     "text": [
      "60000it [00:07, 7959.66it/s] \n",
      "955it [00:00, 9242.26it/s]"
     ]
    },
    {
     "name": "stdout",
     "output_type": "stream",
     "text": [
      "\n",
      "Iteration: 38 Loss: 95429662.91512543 Difference: 11.32797563279409\n"
     ]
    },
    {
     "name": "stderr",
     "output_type": "stream",
     "text": [
      "60000it [00:09, 6306.22it/s]\n",
      "741it [00:00, 7121.22it/s]"
     ]
    },
    {
     "name": "stdout",
     "output_type": "stream",
     "text": [
      "\n",
      "Iteration: 39 Loss: 95429527.20020618 Difference: 9.260481856752929\n"
     ]
    },
    {
     "name": "stderr",
     "output_type": "stream",
     "text": [
      "60000it [00:08, 6832.54it/s]\n",
      "934it [00:00, 9035.88it/s]"
     ]
    },
    {
     "name": "stdout",
     "output_type": "stream",
     "text": [
      "\n",
      "Iteration: 40 Loss: 95429359.61451341 Difference: 7.639839314023313\n"
     ]
    },
    {
     "name": "stderr",
     "output_type": "stream",
     "text": [
      "60000it [00:07, 7549.95it/s]\n",
      "751it [00:00, 7273.66it/s]"
     ]
    },
    {
     "name": "stdout",
     "output_type": "stream",
     "text": [
      "\n",
      "Iteration: 41 Loss: 95429094.62433554 Difference: 9.52915031316824\n"
     ]
    },
    {
     "name": "stderr",
     "output_type": "stream",
     "text": [
      "60000it [00:06, 9095.43it/s] \n",
      "533it [00:00, 5250.38it/s]"
     ]
    },
    {
     "name": "stdout",
     "output_type": "stream",
     "text": [
      "\n",
      "Iteration: 42 Loss: 95428582.98713967 Difference: 9.680463189334494\n"
     ]
    },
    {
     "name": "stderr",
     "output_type": "stream",
     "text": [
      "60000it [00:06, 9829.62it/s] \n",
      "1990it [00:00, 9802.06it/s]"
     ]
    },
    {
     "name": "stdout",
     "output_type": "stream",
     "text": [
      "\n",
      "Iteration: 43 Loss: 95428066.42246616 Difference: 11.531107889931423\n"
     ]
    },
    {
     "name": "stderr",
     "output_type": "stream",
     "text": [
      "60000it [00:06, 9873.91it/s] \n",
      "996it [00:00, 9513.04it/s]"
     ]
    },
    {
     "name": "stdout",
     "output_type": "stream",
     "text": [
      "\n",
      "Iteration: 44 Loss: 95427470.7986089 Difference: 9.309422060959795\n"
     ]
    },
    {
     "name": "stderr",
     "output_type": "stream",
     "text": [
      "60000it [00:05, 10342.79it/s]\n",
      "987it [00:00, 9639.32it/s]"
     ]
    },
    {
     "name": "stdout",
     "output_type": "stream",
     "text": [
      "\n",
      "Iteration: 45 Loss: 95426695.9963062 Difference: 9.100687914905446\n"
     ]
    },
    {
     "name": "stderr",
     "output_type": "stream",
     "text": [
      "60000it [00:05, 10294.48it/s]\n",
      "896it [00:00, 8897.79it/s]"
     ]
    },
    {
     "name": "stdout",
     "output_type": "stream",
     "text": [
      "\n",
      "Iteration: 46 Loss: 95426170.35991871 Difference: 8.729406713417962\n"
     ]
    },
    {
     "name": "stderr",
     "output_type": "stream",
     "text": [
      "60000it [00:06, 9550.60it/s] \n",
      "842it [00:00, 8101.12it/s]"
     ]
    },
    {
     "name": "stdout",
     "output_type": "stream",
     "text": [
      "\n",
      "Iteration: 47 Loss: 95425780.34135093 Difference: 8.01202154047018\n"
     ]
    },
    {
     "name": "stderr",
     "output_type": "stream",
     "text": [
      "60000it [00:05, 10934.98it/s]\n",
      "1054it [00:00, 10532.73it/s]"
     ]
    },
    {
     "name": "stdout",
     "output_type": "stream",
     "text": [
      "\n",
      "Iteration: 48 Loss: 95425529.3100365 Difference: 7.409898450229157\n"
     ]
    },
    {
     "name": "stderr",
     "output_type": "stream",
     "text": [
      "60000it [00:06, 9979.80it/s] \n",
      "1232it [00:00, 11826.46it/s]"
     ]
    },
    {
     "name": "stdout",
     "output_type": "stream",
     "text": [
      "\n",
      "Iteration: 49 Loss: 95425275.79072316 Difference: 6.357226914832125\n"
     ]
    },
    {
     "name": "stderr",
     "output_type": "stream",
     "text": [
      "60000it [00:05, 10706.14it/s]\n",
      "1225it [00:00, 11743.17it/s]"
     ]
    },
    {
     "name": "stdout",
     "output_type": "stream",
     "text": [
      "\n",
      "Iteration: 50 Loss: 95425165.67866492 Difference: 6.077874967045353\n"
     ]
    },
    {
     "name": "stderr",
     "output_type": "stream",
     "text": [
      "60000it [00:05, 11375.30it/s]\n",
      "2436it [00:00, 11471.58it/s]"
     ]
    },
    {
     "name": "stdout",
     "output_type": "stream",
     "text": [
      "\n",
      "Iteration: 51 Loss: 95424704.25219429 Difference: 4.931297792690512\n"
     ]
    },
    {
     "name": "stderr",
     "output_type": "stream",
     "text": [
      "60000it [00:06, 9826.26it/s] \n",
      "2270it [00:00, 10586.02it/s]"
     ]
    },
    {
     "name": "stdout",
     "output_type": "stream",
     "text": [
      "\n",
      "Iteration: 52 Loss: 95424355.29384945 Difference: 5.706681166950432\n"
     ]
    },
    {
     "name": "stderr",
     "output_type": "stream",
     "text": [
      "60000it [00:07, 8425.70it/s] \n",
      "579it [00:00, 5611.84it/s]"
     ]
    },
    {
     "name": "stdout",
     "output_type": "stream",
     "text": [
      "\n",
      "Iteration: 53 Loss: 95424085.95317936 Difference: 4.406625747423101\n"
     ]
    },
    {
     "name": "stderr",
     "output_type": "stream",
     "text": [
      "60000it [00:08, 7342.89it/s] \n",
      "655it [00:00, 6538.30it/s]"
     ]
    },
    {
     "name": "stdout",
     "output_type": "stream",
     "text": [
      "\n",
      "Iteration: 54 Loss: 95423881.41072147 Difference: 3.727892448450819\n"
     ]
    },
    {
     "name": "stderr",
     "output_type": "stream",
     "text": [
      "60000it [00:08, 7245.79it/s]\n",
      "400it [00:00, 3996.03it/s]"
     ]
    },
    {
     "name": "stdout",
     "output_type": "stream",
     "text": [
      "\n",
      "Iteration: 55 Loss: 95423731.2974996 Difference: 2.977055840491202\n"
     ]
    },
    {
     "name": "stderr",
     "output_type": "stream",
     "text": [
      "60000it [00:08, 7290.99it/s]\n",
      "576it [00:00, 5713.36it/s]"
     ]
    },
    {
     "name": "stdout",
     "output_type": "stream",
     "text": [
      "\n",
      "Iteration: 56 Loss: 95423646.27369782 Difference: 3.155351487433856\n"
     ]
    },
    {
     "name": "stderr",
     "output_type": "stream",
     "text": [
      "60000it [00:08, 7138.45it/s] \n",
      "1264it [00:00, 12053.61it/s]"
     ]
    },
    {
     "name": "stdout",
     "output_type": "stream",
     "text": [
      "\n",
      "Iteration: 57 Loss: 95423573.63149364 Difference: 3.0940678196665576\n"
     ]
    },
    {
     "name": "stderr",
     "output_type": "stream",
     "text": [
      "60000it [00:06, 9670.50it/s] \n",
      "1247it [00:00, 12110.14it/s]"
     ]
    },
    {
     "name": "stdout",
     "output_type": "stream",
     "text": [
      "\n",
      "Iteration: 58 Loss: 95423571.9577036 Difference: 3.4290770257981076\n"
     ]
    },
    {
     "name": "stderr",
     "output_type": "stream",
     "text": [
      "60000it [00:08, 7090.22it/s] \n",
      "583it [00:00, 5787.82it/s]"
     ]
    },
    {
     "name": "stdout",
     "output_type": "stream",
     "text": [
      "\n",
      "Iteration: 59 Loss: 95423551.86188683 Difference: 2.440217930863758\n"
     ]
    },
    {
     "name": "stderr",
     "output_type": "stream",
     "text": [
      "60000it [00:06, 9497.40it/s] \n",
      "502it [00:00, 4983.58it/s]"
     ]
    },
    {
     "name": "stdout",
     "output_type": "stream",
     "text": [
      "\n",
      "Iteration: 60 Loss: 95423574.19987178 Difference: 1.956130163324114\n"
     ]
    },
    {
     "name": "stderr",
     "output_type": "stream",
     "text": [
      "60000it [00:09, 6362.33it/s]\n",
      "830it [00:00, 8043.48it/s]"
     ]
    },
    {
     "name": "stdout",
     "output_type": "stream",
     "text": [
      "\n",
      "Iteration: 61 Loss: 95423623.34512432 Difference: 1.7082779654217357\n"
     ]
    },
    {
     "name": "stderr",
     "output_type": "stream",
     "text": [
      "60000it [00:08, 6813.90it/s]\n",
      "505it [00:00, 5013.49it/s]"
     ]
    },
    {
     "name": "stdout",
     "output_type": "stream",
     "text": [
      "\n",
      "Iteration: 62 Loss: 95423645.2579975 Difference: 1.898110134678803\n"
     ]
    },
    {
     "name": "stderr",
     "output_type": "stream",
     "text": [
      "60000it [00:07, 8276.28it/s] \n",
      "873it [00:00, 8696.34it/s]"
     ]
    },
    {
     "name": "stdout",
     "output_type": "stream",
     "text": [
      "\n",
      "Iteration: 63 Loss: 95423697.9026608 Difference: 1.6642190307640765\n"
     ]
    },
    {
     "name": "stderr",
     "output_type": "stream",
     "text": [
      "60000it [00:06, 9482.20it/s] \n",
      "993it [00:00, 9512.33it/s]"
     ]
    },
    {
     "name": "stdout",
     "output_type": "stream",
     "text": [
      "\n",
      "Iteration: 64 Loss: 95423742.25329606 Difference: 1.381377693856821\n"
     ]
    },
    {
     "name": "stderr",
     "output_type": "stream",
     "text": [
      "60000it [00:06, 9800.70it/s] \n",
      "896it [00:00, 8818.61it/s]"
     ]
    },
    {
     "name": "stdout",
     "output_type": "stream",
     "text": [
      "\n",
      "Iteration: 65 Loss: 95423760.10483341 Difference: 1.1180800688195671\n"
     ]
    },
    {
     "name": "stderr",
     "output_type": "stream",
     "text": [
      "60000it [00:05, 10073.61it/s]\n",
      "580it [00:00, 5757.96it/s]"
     ]
    },
    {
     "name": "stdout",
     "output_type": "stream",
     "text": [
      "\n",
      "Iteration: 66 Loss: 95423761.50415407 Difference: 0.8463382788881305\n"
     ]
    },
    {
     "name": "stderr",
     "output_type": "stream",
     "text": [
      "60000it [00:08, 7193.88it/s]\n",
      "611it [00:00, 5920.00it/s]"
     ]
    },
    {
     "name": "stdout",
     "output_type": "stream",
     "text": [
      "\n",
      "Iteration: 67 Loss: 95423765.3699537 Difference: 0.8791200099021582\n"
     ]
    },
    {
     "name": "stderr",
     "output_type": "stream",
     "text": [
      "60000it [00:11, 5438.72it/s]\n",
      "479it [00:00, 4787.64it/s]"
     ]
    },
    {
     "name": "stdout",
     "output_type": "stream",
     "text": [
      "\n",
      "Iteration: 68 Loss: 95423765.37073444 Difference: 0.5649367567439121\n"
     ]
    },
    {
     "name": "stderr",
     "output_type": "stream",
     "text": [
      "60000it [00:09, 6112.75it/s]\n",
      "839it [00:00, 8084.04it/s]"
     ]
    },
    {
     "name": "stdout",
     "output_type": "stream",
     "text": [
      "\n",
      "Iteration: 69 Loss: 95423765.37073474 Difference: 9.896704789476414e-05\n"
     ]
    },
    {
     "name": "stderr",
     "output_type": "stream",
     "text": [
      "60000it [00:08, 6960.95it/s]\n"
     ]
    },
    {
     "name": "stdout",
     "output_type": "stream",
     "text": [
      "\n",
      "Iteration: 70 Loss: 95423765.37073474 Difference: 1.735223192884691e-08\n",
      "Converged! With distance: 3.0550141081410052e-12\n",
      "[cluster_label,no_occurence_of_label,total_samples_in_cluster,cluster_accuracy] [[4, 3201, 9143, 0.3501039046264902], [7, 3794, 8676, 0.4372982941447672], [2, 4165, 4598, 0.9058286211396259], [6, 3638, 4201, 0.8659842894548917], [0, 4319, 4593, 0.940344001741781], [8, 3497, 5835, 0.5993144815766924], [1, 6625, 9849, 0.6726571225505127], [6, 1891, 5597, 0.33785956762551367], [3, 3936, 7508, 0.5242408098028769]]\n",
      "Accuracy: 0.6259590102959058\n"
     ]
    },
    {
     "name": "stderr",
     "output_type": "stream",
     "text": [
      "60000it [00:09, 6639.39it/s]\n",
      "1067it [00:00, 10182.69it/s]"
     ]
    },
    {
     "name": "stdout",
     "output_type": "stream",
     "text": [
      "\n",
      "Iteration: 0 Loss: 100923114.45974667 Difference: 7346.928609970291\n"
     ]
    },
    {
     "name": "stderr",
     "output_type": "stream",
     "text": [
      "60000it [00:06, 8803.95it/s] \n",
      "1090it [00:00, 10450.50it/s]"
     ]
    },
    {
     "name": "stdout",
     "output_type": "stream",
     "text": [
      "\n",
      "Iteration: 1 Loss: 96745344.30809253 Difference: 4570.173933987543\n"
     ]
    },
    {
     "name": "stderr",
     "output_type": "stream",
     "text": [
      "60000it [00:07, 7746.91it/s]\n",
      "985it [00:00, 9753.85it/s]"
     ]
    },
    {
     "name": "stdout",
     "output_type": "stream",
     "text": [
      "\n",
      "Iteration: 2 Loss: 95995925.88007909 Difference: 786.618809117253\n"
     ]
    },
    {
     "name": "stderr",
     "output_type": "stream",
     "text": [
      "60000it [00:06, 8908.17it/s] \n",
      "1094it [00:00, 10799.07it/s]"
     ]
    },
    {
     "name": "stdout",
     "output_type": "stream",
     "text": [
      "\n",
      "Iteration: 3 Loss: 95621348.25724983 Difference: 405.97410756847955\n"
     ]
    },
    {
     "name": "stderr",
     "output_type": "stream",
     "text": [
      "60000it [00:06, 8907.18it/s] \n",
      "1169it [00:00, 11154.05it/s]"
     ]
    },
    {
     "name": "stdout",
     "output_type": "stream",
     "text": [
      "\n",
      "Iteration: 4 Loss: 95385107.77960092 Difference: 288.3552696281443\n"
     ]
    },
    {
     "name": "stderr",
     "output_type": "stream",
     "text": [
      "60000it [00:06, 9253.76it/s] \n",
      "911it [00:00, 8849.56it/s]"
     ]
    },
    {
     "name": "stdout",
     "output_type": "stream",
     "text": [
      "\n",
      "Iteration: 5 Loss: 95211892.73948881 Difference: 219.32097362994975\n"
     ]
    },
    {
     "name": "stderr",
     "output_type": "stream",
     "text": [
      "60000it [00:06, 8944.86it/s] \n",
      "1120it [00:00, 11057.80it/s]"
     ]
    },
    {
     "name": "stdout",
     "output_type": "stream",
     "text": [
      "\n",
      "Iteration: 6 Loss: 95070044.16508205 Difference: 191.94997263403727\n"
     ]
    },
    {
     "name": "stderr",
     "output_type": "stream",
     "text": [
      "60000it [00:06, 9395.39it/s] \n",
      "982it [00:00, 9645.96it/s]"
     ]
    },
    {
     "name": "stdout",
     "output_type": "stream",
     "text": [
      "\n",
      "Iteration: 7 Loss: 94951214.71765529 Difference: 174.5021218264017\n"
     ]
    },
    {
     "name": "stderr",
     "output_type": "stream",
     "text": [
      "60000it [00:06, 9061.67it/s] \n",
      "1094it [00:00, 10806.01it/s]"
     ]
    },
    {
     "name": "stdout",
     "output_type": "stream",
     "text": [
      "\n",
      "Iteration: 8 Loss: 94851743.1808021 Difference: 156.974638376987\n"
     ]
    },
    {
     "name": "stderr",
     "output_type": "stream",
     "text": [
      "60000it [00:06, 8664.59it/s] \n",
      "788it [00:00, 7785.76it/s]"
     ]
    },
    {
     "name": "stdout",
     "output_type": "stream",
     "text": [
      "\n",
      "Iteration: 9 Loss: 94762413.62047611 Difference: 145.0266502327299\n"
     ]
    },
    {
     "name": "stderr",
     "output_type": "stream",
     "text": [
      "60000it [00:10, 5884.62it/s]\n",
      "626it [00:00, 6043.79it/s]"
     ]
    },
    {
     "name": "stdout",
     "output_type": "stream",
     "text": [
      "\n",
      "Iteration: 10 Loss: 94689517.2301661 Difference: 135.17337790090284\n"
     ]
    },
    {
     "name": "stderr",
     "output_type": "stream",
     "text": [
      "60000it [00:10, 5682.18it/s]\n",
      "668it [00:00, 6678.06it/s]"
     ]
    },
    {
     "name": "stdout",
     "output_type": "stream",
     "text": [
      "\n",
      "Iteration: 11 Loss: 94632305.06818797 Difference: 122.6433444557674\n"
     ]
    },
    {
     "name": "stderr",
     "output_type": "stream",
     "text": [
      "60000it [00:09, 6535.16it/s]\n",
      "564it [00:00, 5383.54it/s]"
     ]
    },
    {
     "name": "stdout",
     "output_type": "stream",
     "text": [
      "\n",
      "Iteration: 12 Loss: 94590271.74507193 Difference: 108.97699744719587\n"
     ]
    },
    {
     "name": "stderr",
     "output_type": "stream",
     "text": [
      "60000it [00:09, 6050.80it/s]\n",
      "2343it [00:00, 11411.57it/s]"
     ]
    },
    {
     "name": "stdout",
     "output_type": "stream",
     "text": [
      "\n",
      "Iteration: 13 Loss: 94560347.01303637 Difference: 92.07995496995139\n"
     ]
    },
    {
     "name": "stderr",
     "output_type": "stream",
     "text": [
      "60000it [00:07, 8570.63it/s] \n",
      "1101it [00:00, 10893.01it/s]"
     ]
    },
    {
     "name": "stdout",
     "output_type": "stream",
     "text": [
      "\n",
      "Iteration: 14 Loss: 94543286.04548262 Difference: 77.29858240094535\n"
     ]
    },
    {
     "name": "stderr",
     "output_type": "stream",
     "text": [
      "60000it [00:07, 8430.91it/s] \n",
      "946it [00:00, 9101.30it/s]"
     ]
    },
    {
     "name": "stdout",
     "output_type": "stream",
     "text": [
      "\n",
      "Iteration: 15 Loss: 94531334.85466887 Difference: 59.303440671933046\n"
     ]
    },
    {
     "name": "stderr",
     "output_type": "stream",
     "text": [
      "60000it [00:07, 8476.29it/s]\n",
      "1088it [00:00, 10733.05it/s]"
     ]
    },
    {
     "name": "stdout",
     "output_type": "stream",
     "text": [
      "\n",
      "Iteration: 16 Loss: 94523306.63506468 Difference: 53.09373045664072\n"
     ]
    },
    {
     "name": "stderr",
     "output_type": "stream",
     "text": [
      "60000it [00:06, 8788.13it/s] \n",
      "1122it [00:00, 10736.86it/s]"
     ]
    },
    {
     "name": "stdout",
     "output_type": "stream",
     "text": [
      "\n",
      "Iteration: 17 Loss: 94517373.83713269 Difference: 43.350705108448565\n"
     ]
    },
    {
     "name": "stderr",
     "output_type": "stream",
     "text": [
      "60000it [00:07, 8465.80it/s] \n",
      "1069it [00:00, 10607.86it/s]"
     ]
    },
    {
     "name": "stdout",
     "output_type": "stream",
     "text": [
      "\n",
      "Iteration: 18 Loss: 94512934.24013633 Difference: 38.45141086628253\n"
     ]
    },
    {
     "name": "stderr",
     "output_type": "stream",
     "text": [
      "60000it [00:06, 8883.14it/s] \n",
      "1095it [00:00, 10536.32it/s]"
     ]
    },
    {
     "name": "stdout",
     "output_type": "stream",
     "text": [
      "\n",
      "Iteration: 19 Loss: 94509284.7502093 Difference: 33.87514339664417\n"
     ]
    },
    {
     "name": "stderr",
     "output_type": "stream",
     "text": [
      "60000it [00:06, 9398.98it/s] \n",
      "964it [00:00, 9202.60it/s]"
     ]
    },
    {
     "name": "stdout",
     "output_type": "stream",
     "text": [
      "\n",
      "Iteration: 20 Loss: 94506017.25299525 Difference: 32.58972093622897\n"
     ]
    },
    {
     "name": "stderr",
     "output_type": "stream",
     "text": [
      "60000it [00:06, 8830.77it/s] \n",
      "1090it [00:00, 10749.97it/s]"
     ]
    },
    {
     "name": "stdout",
     "output_type": "stream",
     "text": [
      "\n",
      "Iteration: 21 Loss: 94503721.39946802 Difference: 29.366044631572827\n"
     ]
    },
    {
     "name": "stderr",
     "output_type": "stream",
     "text": [
      "60000it [00:06, 9183.54it/s] \n",
      "947it [00:00, 9279.37it/s]"
     ]
    },
    {
     "name": "stdout",
     "output_type": "stream",
     "text": [
      "\n",
      "Iteration: 22 Loss: 94502480.22788098 Difference: 25.34124993040597\n"
     ]
    },
    {
     "name": "stderr",
     "output_type": "stream",
     "text": [
      "60000it [00:07, 8032.98it/s] \n",
      "599it [00:00, 5773.27it/s]"
     ]
    },
    {
     "name": "stdout",
     "output_type": "stream",
     "text": [
      "\n",
      "Iteration: 23 Loss: 94501126.3508404 Difference: 22.453870876963062\n"
     ]
    },
    {
     "name": "stderr",
     "output_type": "stream",
     "text": [
      "60000it [00:09, 6291.85it/s]\n",
      "697it [00:00, 6891.06it/s]"
     ]
    },
    {
     "name": "stdout",
     "output_type": "stream",
     "text": [
      "\n",
      "Iteration: 24 Loss: 94499622.3517471 Difference: 19.801577023124626\n"
     ]
    },
    {
     "name": "stderr",
     "output_type": "stream",
     "text": [
      "60000it [00:09, 6150.40it/s]\n",
      "494it [00:00, 4812.34it/s]"
     ]
    },
    {
     "name": "stdout",
     "output_type": "stream",
     "text": [
      "\n",
      "Iteration: 25 Loss: 94499006.47005637 Difference: 19.00545639671839\n"
     ]
    },
    {
     "name": "stderr",
     "output_type": "stream",
     "text": [
      "60000it [00:09, 6418.68it/s]\n",
      "647it [00:00, 6298.35it/s]"
     ]
    },
    {
     "name": "stdout",
     "output_type": "stream",
     "text": [
      "\n",
      "Iteration: 26 Loss: 94498816.4779408 Difference: 17.7699095151237\n"
     ]
    },
    {
     "name": "stderr",
     "output_type": "stream",
     "text": [
      "60000it [00:08, 6875.62it/s]\n",
      "2207it [00:00, 10805.05it/s]"
     ]
    },
    {
     "name": "stdout",
     "output_type": "stream",
     "text": [
      "\n",
      "Iteration: 27 Loss: 94498303.61910313 Difference: 15.533901243290453\n"
     ]
    },
    {
     "name": "stderr",
     "output_type": "stream",
     "text": [
      "60000it [00:07, 8394.15it/s] \n",
      "1092it [00:00, 10636.32it/s]"
     ]
    },
    {
     "name": "stdout",
     "output_type": "stream",
     "text": [
      "\n",
      "Iteration: 28 Loss: 94498181.91676189 Difference: 13.753246693195859\n"
     ]
    },
    {
     "name": "stderr",
     "output_type": "stream",
     "text": [
      "60000it [00:06, 8649.52it/s] \n",
      "874it [00:00, 8695.31it/s]"
     ]
    },
    {
     "name": "stdout",
     "output_type": "stream",
     "text": [
      "\n",
      "Iteration: 29 Loss: 94498283.63173856 Difference: 9.96299234483342\n"
     ]
    },
    {
     "name": "stderr",
     "output_type": "stream",
     "text": [
      "60000it [00:06, 8619.28it/s] \n",
      "1073it [00:00, 10645.11it/s]"
     ]
    },
    {
     "name": "stdout",
     "output_type": "stream",
     "text": [
      "\n",
      "Iteration: 30 Loss: 94498423.05678053 Difference: 7.329445580080931\n"
     ]
    },
    {
     "name": "stderr",
     "output_type": "stream",
     "text": [
      "60000it [00:07, 8202.92it/s]\n",
      "789it [00:00, 7771.44it/s]"
     ]
    },
    {
     "name": "stdout",
     "output_type": "stream",
     "text": [
      "\n",
      "Iteration: 31 Loss: 94498574.87216641 Difference: 8.009250257732097\n"
     ]
    },
    {
     "name": "stderr",
     "output_type": "stream",
     "text": [
      "60000it [00:07, 8252.54it/s] \n",
      "827it [00:00, 8105.10it/s]"
     ]
    },
    {
     "name": "stdout",
     "output_type": "stream",
     "text": [
      "\n",
      "Iteration: 32 Loss: 94498626.54507802 Difference: 6.889505491157897\n"
     ]
    },
    {
     "name": "stderr",
     "output_type": "stream",
     "text": [
      "60000it [00:06, 9265.28it/s] \n",
      "831it [00:00, 8299.38it/s]"
     ]
    },
    {
     "name": "stdout",
     "output_type": "stream",
     "text": [
      "\n",
      "Iteration: 33 Loss: 94498584.29170035 Difference: 7.035681809194102\n"
     ]
    },
    {
     "name": "stderr",
     "output_type": "stream",
     "text": [
      "60000it [00:06, 9075.10it/s] \n",
      "1139it [00:00, 10848.09it/s]"
     ]
    },
    {
     "name": "stdout",
     "output_type": "stream",
     "text": [
      "\n",
      "Iteration: 34 Loss: 94498566.41216697 Difference: 5.550701157817775\n"
     ]
    },
    {
     "name": "stderr",
     "output_type": "stream",
     "text": [
      "60000it [00:06, 9157.23it/s] \n",
      "1037it [00:00, 10133.15it/s]"
     ]
    },
    {
     "name": "stdout",
     "output_type": "stream",
     "text": [
      "\n",
      "Iteration: 35 Loss: 94498681.77779917 Difference: 5.588065526779713\n"
     ]
    },
    {
     "name": "stderr",
     "output_type": "stream",
     "text": [
      "60000it [00:07, 8307.53it/s] \n",
      "1855it [00:00, 9246.47it/s]"
     ]
    },
    {
     "name": "stdout",
     "output_type": "stream",
     "text": [
      "\n",
      "Iteration: 36 Loss: 94498725.7297076 Difference: 5.959227828007364\n"
     ]
    },
    {
     "name": "stderr",
     "output_type": "stream",
     "text": [
      "60000it [00:10, 5731.48it/s]\n",
      "320it [00:00, 3195.99it/s]"
     ]
    },
    {
     "name": "stdout",
     "output_type": "stream",
     "text": [
      "\n",
      "Iteration: 37 Loss: 94498783.09887123 Difference: 4.870467448106768\n"
     ]
    },
    {
     "name": "stderr",
     "output_type": "stream",
     "text": [
      "60000it [00:14, 4067.50it/s]\n",
      "456it [00:00, 4553.15it/s]"
     ]
    },
    {
     "name": "stdout",
     "output_type": "stream",
     "text": [
      "\n",
      "Iteration: 38 Loss: 94498912.72716339 Difference: 4.016916114368339\n"
     ]
    },
    {
     "name": "stderr",
     "output_type": "stream",
     "text": [
      "60000it [00:14, 4110.84it/s]\n",
      "497it [00:00, 4932.69it/s]"
     ]
    },
    {
     "name": "stdout",
     "output_type": "stream",
     "text": [
      "\n",
      "Iteration: 39 Loss: 94498980.00376035 Difference: 2.8897236399688833\n"
     ]
    },
    {
     "name": "stderr",
     "output_type": "stream",
     "text": [
      "60000it [00:12, 4669.09it/s]\n",
      "477it [00:00, 4707.32it/s]"
     ]
    },
    {
     "name": "stdout",
     "output_type": "stream",
     "text": [
      "\n",
      "Iteration: 40 Loss: 94499137.055191 Difference: 1.8645337060662153\n"
     ]
    },
    {
     "name": "stderr",
     "output_type": "stream",
     "text": [
      "60000it [00:09, 6546.58it/s]\n",
      "883it [00:00, 8814.58it/s]"
     ]
    },
    {
     "name": "stdout",
     "output_type": "stream",
     "text": [
      "\n",
      "Iteration: 41 Loss: 94499332.9464124 Difference: 1.4983183581216315\n"
     ]
    },
    {
     "name": "stderr",
     "output_type": "stream",
     "text": [
      "60000it [00:10, 5728.74it/s]\n",
      "534it [00:00, 5287.41it/s]"
     ]
    },
    {
     "name": "stdout",
     "output_type": "stream",
     "text": [
      "\n",
      "Iteration: 42 Loss: 94499392.19577782 Difference: 1.4932367652625638\n"
     ]
    },
    {
     "name": "stderr",
     "output_type": "stream",
     "text": [
      "60000it [00:09, 6198.62it/s]\n",
      "696it [00:00, 6860.20it/s]"
     ]
    },
    {
     "name": "stdout",
     "output_type": "stream",
     "text": [
      "\n",
      "Iteration: 43 Loss: 94499402.9614149 Difference: 1.0853891911940814\n"
     ]
    },
    {
     "name": "stderr",
     "output_type": "stream",
     "text": [
      "60000it [00:08, 7481.65it/s] \n",
      "532it [00:00, 5231.80it/s]"
     ]
    },
    {
     "name": "stdout",
     "output_type": "stream",
     "text": [
      "\n",
      "Iteration: 44 Loss: 94499401.81656589 Difference: 0.796533787779191\n"
     ]
    },
    {
     "name": "stderr",
     "output_type": "stream",
     "text": [
      "60000it [00:08, 6819.46it/s]\n",
      "913it [00:00, 8875.26it/s]"
     ]
    },
    {
     "name": "stdout",
     "output_type": "stream",
     "text": [
      "\n",
      "Iteration: 45 Loss: 94499401.81642349 Difference: 0.34562064131681336\n"
     ]
    },
    {
     "name": "stderr",
     "output_type": "stream",
     "text": [
      "60000it [00:06, 8637.91it/s] \n",
      "855it [00:00, 8331.64it/s]"
     ]
    },
    {
     "name": "stdout",
     "output_type": "stream",
     "text": [
      "\n",
      "Iteration: 46 Loss: 94499401.81642328 Difference: 4.657180516620199e-05\n"
     ]
    },
    {
     "name": "stderr",
     "output_type": "stream",
     "text": [
      "60000it [00:07, 8289.95it/s] \n"
     ]
    },
    {
     "name": "stdout",
     "output_type": "stream",
     "text": [
      "\n",
      "Iteration: 47 Loss: 94499401.81642327 Difference: 6.3056504967569795e-09\n",
      "Converged! With distance: 9.016510965230582e-13\n",
      "[cluster_label,no_occurence_of_label,total_samples_in_cluster,cluster_accuracy] [[7, 1867, 6307, 0.296020294910417], [7, 3131, 3359, 0.9321226555522477], [3, 3776, 7859, 0.48046825295839163], [8, 2981, 7111, 0.41920967515117424], [1, 3717, 5891, 0.6309624851468342], [4, 1868, 4731, 0.3948425280067639], [9, 2726, 6219, 0.4383341373211127], [0, 4650, 4951, 0.9392042011714805], [1, 2977, 4583, 0.6495745145101461], [6, 4482, 8989, 0.4986094115029481]]\n",
      "Accuracy: 0.5679348156231516\n"
     ]
    },
    {
     "name": "stderr",
     "output_type": "stream",
     "text": [
      "60000it [00:07, 7895.76it/s]\n",
      "910it [00:00, 8997.13it/s]"
     ]
    },
    {
     "name": "stdout",
     "output_type": "stream",
     "text": [
      "\n",
      "Iteration: 0 Loss: 103567788.60524292 Difference: 7675.295694629621\n"
     ]
    },
    {
     "name": "stderr",
     "output_type": "stream",
     "text": [
      "60000it [00:07, 8321.73it/s]\n",
      "1902it [00:00, 9215.60it/s]"
     ]
    },
    {
     "name": "stdout",
     "output_type": "stream",
     "text": [
      "\n",
      "Iteration: 1 Loss: 96675851.70547406 Difference: 4968.154660652905\n"
     ]
    },
    {
     "name": "stderr",
     "output_type": "stream",
     "text": [
      "60000it [00:07, 8339.08it/s]\n",
      "972it [00:00, 9414.78it/s]"
     ]
    },
    {
     "name": "stdout",
     "output_type": "stream",
     "text": [
      "\n",
      "Iteration: 2 Loss: 95362372.93676008 Difference: 1253.5469684391826\n"
     ]
    },
    {
     "name": "stderr",
     "output_type": "stream",
     "text": [
      "60000it [00:07, 8214.99it/s]\n",
      "1043it [00:00, 10374.14it/s]"
     ]
    },
    {
     "name": "stdout",
     "output_type": "stream",
     "text": [
      "\n",
      "Iteration: 3 Loss: 94962068.36626574 Difference: 551.7615937628038\n"
     ]
    },
    {
     "name": "stderr",
     "output_type": "stream",
     "text": [
      "60000it [00:07, 8495.95it/s]\n",
      "979it [00:00, 9776.86it/s]"
     ]
    },
    {
     "name": "stdout",
     "output_type": "stream",
     "text": [
      "\n",
      "Iteration: 4 Loss: 94730171.63507633 Difference: 324.5363508601111\n"
     ]
    },
    {
     "name": "stderr",
     "output_type": "stream",
     "text": [
      "60000it [00:07, 8396.69it/s] \n",
      "931it [00:00, 8960.50it/s]"
     ]
    },
    {
     "name": "stdout",
     "output_type": "stream",
     "text": [
      "\n",
      "Iteration: 5 Loss: 94562301.28601898 Difference: 262.2995026777301\n"
     ]
    },
    {
     "name": "stderr",
     "output_type": "stream",
     "text": [
      "60000it [00:07, 7714.50it/s]\n",
      "705it [00:00, 6845.84it/s]"
     ]
    },
    {
     "name": "stdout",
     "output_type": "stream",
     "text": [
      "\n",
      "Iteration: 6 Loss: 94436071.31816247 Difference: 222.8097111892321\n"
     ]
    },
    {
     "name": "stderr",
     "output_type": "stream",
     "text": [
      "60000it [00:10, 5787.66it/s]\n",
      "623it [00:00, 6056.82it/s]"
     ]
    },
    {
     "name": "stdout",
     "output_type": "stream",
     "text": [
      "\n",
      "Iteration: 7 Loss: 94343579.85331799 Difference: 184.1608603169135\n"
     ]
    },
    {
     "name": "stderr",
     "output_type": "stream",
     "text": [
      "60000it [00:10, 5678.17it/s]\n",
      "677it [00:00, 6734.49it/s]"
     ]
    },
    {
     "name": "stdout",
     "output_type": "stream",
     "text": [
      "\n",
      "Iteration: 8 Loss: 94270962.1009891 Difference: 151.8140579261102\n"
     ]
    },
    {
     "name": "stderr",
     "output_type": "stream",
     "text": [
      "60000it [00:11, 5352.90it/s]\n",
      "610it [00:00, 5943.22it/s]"
     ]
    },
    {
     "name": "stdout",
     "output_type": "stream",
     "text": [
      "\n",
      "Iteration: 9 Loss: 94214073.02284151 Difference: 134.27902930030774\n"
     ]
    },
    {
     "name": "stderr",
     "output_type": "stream",
     "text": [
      "60000it [00:08, 6952.88it/s]\n",
      "702it [00:00, 6788.54it/s]"
     ]
    },
    {
     "name": "stdout",
     "output_type": "stream",
     "text": [
      "\n",
      "Iteration: 10 Loss: 94162739.85704927 Difference: 114.59216574984642\n"
     ]
    },
    {
     "name": "stderr",
     "output_type": "stream",
     "text": [
      "60000it [00:07, 7760.87it/s] \n",
      "754it [00:00, 7399.11it/s]"
     ]
    },
    {
     "name": "stdout",
     "output_type": "stream",
     "text": [
      "\n",
      "Iteration: 11 Loss: 94116146.95956478 Difference: 108.11431581984739\n"
     ]
    },
    {
     "name": "stderr",
     "output_type": "stream",
     "text": [
      "60000it [00:07, 8074.02it/s]\n",
      "643it [00:00, 6414.16it/s]"
     ]
    },
    {
     "name": "stdout",
     "output_type": "stream",
     "text": [
      "\n",
      "Iteration: 12 Loss: 94070563.60235731 Difference: 103.73279385010623\n"
     ]
    },
    {
     "name": "stderr",
     "output_type": "stream",
     "text": [
      "60000it [00:07, 7697.49it/s]\n",
      "827it [00:00, 8016.94it/s]"
     ]
    },
    {
     "name": "stdout",
     "output_type": "stream",
     "text": [
      "\n",
      "Iteration: 13 Loss: 94022311.5501389 Difference: 104.12464462045244\n"
     ]
    },
    {
     "name": "stderr",
     "output_type": "stream",
     "text": [
      "60000it [00:07, 8295.43it/s]\n",
      "721it [00:00, 7006.27it/s]"
     ]
    },
    {
     "name": "stdout",
     "output_type": "stream",
     "text": [
      "\n",
      "Iteration: 14 Loss: 93968536.62576 Difference: 108.54545091576603\n"
     ]
    },
    {
     "name": "stderr",
     "output_type": "stream",
     "text": [
      "60000it [00:07, 8107.49it/s] \n",
      "965it [00:00, 9357.78it/s]"
     ]
    },
    {
     "name": "stdout",
     "output_type": "stream",
     "text": [
      "\n",
      "Iteration: 15 Loss: 93920136.77776235 Difference: 115.26467122587414\n"
     ]
    },
    {
     "name": "stderr",
     "output_type": "stream",
     "text": [
      "60000it [00:07, 8509.37it/s]\n",
      "371it [00:00, 3590.43it/s]"
     ]
    },
    {
     "name": "stdout",
     "output_type": "stream",
     "text": [
      "\n",
      "Iteration: 16 Loss: 93870293.68070552 Difference: 104.83868596380393\n"
     ]
    },
    {
     "name": "stderr",
     "output_type": "stream",
     "text": [
      "60000it [00:07, 8388.96it/s]\n",
      "1030it [00:00, 9844.01it/s]"
     ]
    },
    {
     "name": "stdout",
     "output_type": "stream",
     "text": [
      "\n",
      "Iteration: 17 Loss: 93819038.63341203 Difference: 110.99495596652459\n"
     ]
    },
    {
     "name": "stderr",
     "output_type": "stream",
     "text": [
      "60000it [00:07, 8329.79it/s]\n",
      "723it [00:00, 6976.96it/s]"
     ]
    },
    {
     "name": "stdout",
     "output_type": "stream",
     "text": [
      "\n",
      "Iteration: 18 Loss: 93774494.56644788 Difference: 113.34352023756496\n"
     ]
    },
    {
     "name": "stderr",
     "output_type": "stream",
     "text": [
      "60000it [00:08, 7005.00it/s]\n",
      "692it [00:00, 6620.87it/s]"
     ]
    },
    {
     "name": "stdout",
     "output_type": "stream",
     "text": [
      "\n",
      "Iteration: 19 Loss: 93735744.60103862 Difference: 100.88437060292308\n"
     ]
    },
    {
     "name": "stderr",
     "output_type": "stream",
     "text": [
      "60000it [00:10, 5464.65it/s]\n",
      "1000it [00:00, 9533.96it/s]"
     ]
    },
    {
     "name": "stdout",
     "output_type": "stream",
     "text": [
      "\n",
      "Iteration: 20 Loss: 93702953.43478608 Difference: 99.33390045297192\n"
     ]
    },
    {
     "name": "stderr",
     "output_type": "stream",
     "text": [
      "60000it [00:10, 5670.26it/s]\n",
      "742it [00:00, 7315.08it/s]"
     ]
    },
    {
     "name": "stdout",
     "output_type": "stream",
     "text": [
      "\n",
      "Iteration: 21 Loss: 93674241.9083163 Difference: 93.446588535932\n"
     ]
    },
    {
     "name": "stderr",
     "output_type": "stream",
     "text": [
      "60000it [00:10, 5722.37it/s]\n",
      "610it [00:00, 5843.26it/s]"
     ]
    },
    {
     "name": "stdout",
     "output_type": "stream",
     "text": [
      "\n",
      "Iteration: 22 Loss: 93652167.32971922 Difference: 91.82651425588992\n"
     ]
    },
    {
     "name": "stderr",
     "output_type": "stream",
     "text": [
      "60000it [00:08, 6914.46it/s]\n",
      "462it [00:00, 4547.57it/s]"
     ]
    },
    {
     "name": "stdout",
     "output_type": "stream",
     "text": [
      "\n",
      "Iteration: 23 Loss: 93637300.39182311 Difference: 79.48902760644341\n"
     ]
    },
    {
     "name": "stderr",
     "output_type": "stream",
     "text": [
      "60000it [00:07, 8207.96it/s]\n",
      "533it [00:00, 5111.27it/s]"
     ]
    },
    {
     "name": "stdout",
     "output_type": "stream",
     "text": [
      "\n",
      "Iteration: 24 Loss: 93626501.86130562 Difference: 67.00260721003839\n"
     ]
    },
    {
     "name": "stderr",
     "output_type": "stream",
     "text": [
      "60000it [00:07, 7736.26it/s]\n",
      "942it [00:00, 9405.97it/s]"
     ]
    },
    {
     "name": "stdout",
     "output_type": "stream",
     "text": [
      "\n",
      "Iteration: 25 Loss: 93617443.76270445 Difference: 54.16726995772519\n"
     ]
    },
    {
     "name": "stderr",
     "output_type": "stream",
     "text": [
      "60000it [00:06, 8623.71it/s] \n",
      "1011it [00:00, 10034.36it/s]"
     ]
    },
    {
     "name": "stdout",
     "output_type": "stream",
     "text": [
      "\n",
      "Iteration: 26 Loss: 93611105.21566299 Difference: 48.32303557073469\n"
     ]
    },
    {
     "name": "stderr",
     "output_type": "stream",
     "text": [
      "60000it [00:07, 8330.29it/s]\n",
      "641it [00:00, 6280.51it/s]"
     ]
    },
    {
     "name": "stdout",
     "output_type": "stream",
     "text": [
      "\n",
      "Iteration: 27 Loss: 93605950.93759166 Difference: 42.09203870828965\n"
     ]
    },
    {
     "name": "stderr",
     "output_type": "stream",
     "text": [
      "60000it [00:07, 7668.79it/s]\n",
      "767it [00:00, 7550.26it/s]"
     ]
    },
    {
     "name": "stdout",
     "output_type": "stream",
     "text": [
      "\n",
      "Iteration: 28 Loss: 93602247.45346242 Difference: 39.213496889808425\n"
     ]
    },
    {
     "name": "stderr",
     "output_type": "stream",
     "text": [
      "60000it [00:06, 8756.52it/s]\n",
      "588it [00:00, 5634.81it/s]"
     ]
    },
    {
     "name": "stdout",
     "output_type": "stream",
     "text": [
      "\n",
      "Iteration: 29 Loss: 93598748.40957771 Difference: 33.84968497458095\n"
     ]
    },
    {
     "name": "stderr",
     "output_type": "stream",
     "text": [
      "60000it [00:07, 8222.35it/s] \n",
      "700it [00:00, 6950.29it/s]"
     ]
    },
    {
     "name": "stdout",
     "output_type": "stream",
     "text": [
      "\n",
      "Iteration: 30 Loss: 93595074.67548639 Difference: 34.543498266418545\n"
     ]
    },
    {
     "name": "stderr",
     "output_type": "stream",
     "text": [
      "60000it [00:06, 8629.54it/s]\n",
      "1525it [00:00, 7299.84it/s]"
     ]
    },
    {
     "name": "stdout",
     "output_type": "stream",
     "text": [
      "\n",
      "Iteration: 31 Loss: 93590876.68869154 Difference: 38.19367688419211\n"
     ]
    },
    {
     "name": "stderr",
     "output_type": "stream",
     "text": [
      "60000it [00:09, 6356.37it/s]\n",
      "558it [00:00, 5415.99it/s]"
     ]
    },
    {
     "name": "stdout",
     "output_type": "stream",
     "text": [
      "\n",
      "Iteration: 32 Loss: 93587585.19523445 Difference: 39.323394095978216\n"
     ]
    },
    {
     "name": "stderr",
     "output_type": "stream",
     "text": [
      "60000it [00:10, 5906.88it/s]\n",
      "529it [00:00, 5217.00it/s]"
     ]
    },
    {
     "name": "stdout",
     "output_type": "stream",
     "text": [
      "\n",
      "Iteration: 33 Loss: 93584112.43812406 Difference: 36.74157564237532\n"
     ]
    },
    {
     "name": "stderr",
     "output_type": "stream",
     "text": [
      "60000it [00:10, 5748.06it/s]\n",
      "604it [00:00, 5936.68it/s]"
     ]
    },
    {
     "name": "stdout",
     "output_type": "stream",
     "text": [
      "\n",
      "Iteration: 34 Loss: 93580591.35651816 Difference: 35.40023924342963\n"
     ]
    },
    {
     "name": "stderr",
     "output_type": "stream",
     "text": [
      "60000it [00:09, 6069.78it/s]\n",
      "805it [00:00, 8044.62it/s]"
     ]
    },
    {
     "name": "stdout",
     "output_type": "stream",
     "text": [
      "\n",
      "Iteration: 35 Loss: 93577078.98226002 Difference: 37.24935773003192\n"
     ]
    },
    {
     "name": "stderr",
     "output_type": "stream",
     "text": [
      "60000it [00:08, 7411.63it/s]\n",
      "459it [00:00, 4411.88it/s]"
     ]
    },
    {
     "name": "stdout",
     "output_type": "stream",
     "text": [
      "\n",
      "Iteration: 36 Loss: 93572438.5571226 Difference: 37.493235442734026\n"
     ]
    },
    {
     "name": "stderr",
     "output_type": "stream",
     "text": [
      "60000it [00:07, 8282.39it/s]\n",
      "697it [00:00, 6894.46it/s]"
     ]
    },
    {
     "name": "stdout",
     "output_type": "stream",
     "text": [
      "\n",
      "Iteration: 37 Loss: 93567648.22249341 Difference: 38.512039921517875\n"
     ]
    },
    {
     "name": "stderr",
     "output_type": "stream",
     "text": [
      "60000it [00:07, 7548.77it/s]\n",
      "685it [00:00, 6706.44it/s]"
     ]
    },
    {
     "name": "stdout",
     "output_type": "stream",
     "text": [
      "\n",
      "Iteration: 38 Loss: 93563071.37105505 Difference: 41.331792189933495\n"
     ]
    },
    {
     "name": "stderr",
     "output_type": "stream",
     "text": [
      "60000it [00:07, 8506.77it/s] \n",
      "714it [00:00, 6987.24it/s]"
     ]
    },
    {
     "name": "stdout",
     "output_type": "stream",
     "text": [
      "\n",
      "Iteration: 39 Loss: 93557394.80126104 Difference: 38.85006369026782\n"
     ]
    },
    {
     "name": "stderr",
     "output_type": "stream",
     "text": [
      "60000it [00:06, 8882.48it/s] \n",
      "464it [00:00, 4635.94it/s]"
     ]
    },
    {
     "name": "stdout",
     "output_type": "stream",
     "text": [
      "\n",
      "Iteration: 40 Loss: 93551987.16765894 Difference: 43.0118655706485\n"
     ]
    },
    {
     "name": "stderr",
     "output_type": "stream",
     "text": [
      "60000it [00:06, 9087.53it/s] \n",
      "735it [00:00, 7016.18it/s]"
     ]
    },
    {
     "name": "stdout",
     "output_type": "stream",
     "text": [
      "\n",
      "Iteration: 41 Loss: 93547036.78248775 Difference: 39.7929423103993\n"
     ]
    },
    {
     "name": "stderr",
     "output_type": "stream",
     "text": [
      "60000it [00:06, 8825.27it/s]\n",
      "993it [00:00, 9910.54it/s]"
     ]
    },
    {
     "name": "stdout",
     "output_type": "stream",
     "text": [
      "\n",
      "Iteration: 42 Loss: 93541649.21947719 Difference: 38.51536010270138\n"
     ]
    },
    {
     "name": "stderr",
     "output_type": "stream",
     "text": [
      "60000it [00:07, 8464.01it/s]\n",
      "988it [00:00, 9415.25it/s]"
     ]
    },
    {
     "name": "stdout",
     "output_type": "stream",
     "text": [
      "\n",
      "Iteration: 43 Loss: 93536514.46963386 Difference: 40.80011351063706\n"
     ]
    },
    {
     "name": "stderr",
     "output_type": "stream",
     "text": [
      "60000it [00:07, 8535.09it/s]\n",
      "766it [00:00, 7472.29it/s]"
     ]
    },
    {
     "name": "stdout",
     "output_type": "stream",
     "text": [
      "\n",
      "Iteration: 44 Loss: 93532553.39521693 Difference: 37.625429858428014\n"
     ]
    },
    {
     "name": "stderr",
     "output_type": "stream",
     "text": [
      "60000it [00:07, 7692.69it/s]\n",
      "409it [00:00, 4066.81it/s]"
     ]
    },
    {
     "name": "stdout",
     "output_type": "stream",
     "text": [
      "\n",
      "Iteration: 45 Loss: 93529238.5644241 Difference: 37.3415137064626\n"
     ]
    },
    {
     "name": "stderr",
     "output_type": "stream",
     "text": [
      "60000it [00:13, 4479.81it/s]\n",
      "674it [00:00, 6494.54it/s]"
     ]
    },
    {
     "name": "stdout",
     "output_type": "stream",
     "text": [
      "\n",
      "Iteration: 46 Loss: 93525960.33742407 Difference: 32.346951678738215\n"
     ]
    },
    {
     "name": "stderr",
     "output_type": "stream",
     "text": [
      "60000it [00:11, 5251.74it/s]\n",
      "552it [00:00, 5266.84it/s]"
     ]
    },
    {
     "name": "stdout",
     "output_type": "stream",
     "text": [
      "\n",
      "Iteration: 47 Loss: 93523070.67892024 Difference: 33.948133660115296\n"
     ]
    },
    {
     "name": "stderr",
     "output_type": "stream",
     "text": [
      "60000it [00:10, 5925.89it/s]\n",
      "402it [00:00, 3840.84it/s]"
     ]
    },
    {
     "name": "stdout",
     "output_type": "stream",
     "text": [
      "\n",
      "Iteration: 48 Loss: 93519967.64808518 Difference: 32.6975154087314\n"
     ]
    },
    {
     "name": "stderr",
     "output_type": "stream",
     "text": [
      "60000it [00:09, 6611.41it/s]\n",
      "355it [00:00, 3522.16it/s]"
     ]
    },
    {
     "name": "stdout",
     "output_type": "stream",
     "text": [
      "\n",
      "Iteration: 49 Loss: 93516522.55193794 Difference: 30.551013973738645\n"
     ]
    },
    {
     "name": "stderr",
     "output_type": "stream",
     "text": [
      "60000it [00:08, 6942.39it/s]\n",
      "323it [00:00, 3206.59it/s]"
     ]
    },
    {
     "name": "stdout",
     "output_type": "stream",
     "text": [
      "\n",
      "Iteration: 50 Loss: 93513220.82851034 Difference: 31.502615054514127\n"
     ]
    },
    {
     "name": "stderr",
     "output_type": "stream",
     "text": [
      "60000it [00:07, 7647.30it/s]\n",
      "827it [00:00, 8210.11it/s]"
     ]
    },
    {
     "name": "stdout",
     "output_type": "stream",
     "text": [
      "\n",
      "Iteration: 51 Loss: 93509632.11458139 Difference: 27.15194852863105\n"
     ]
    },
    {
     "name": "stderr",
     "output_type": "stream",
     "text": [
      "60000it [00:09, 6315.19it/s]\n",
      "1001it [00:00, 9706.19it/s]"
     ]
    },
    {
     "name": "stdout",
     "output_type": "stream",
     "text": [
      "\n",
      "Iteration: 52 Loss: 93506205.09227021 Difference: 29.137915562972278\n"
     ]
    },
    {
     "name": "stderr",
     "output_type": "stream",
     "text": [
      "60000it [00:07, 8293.45it/s]\n",
      "917it [00:00, 9047.57it/s]"
     ]
    },
    {
     "name": "stdout",
     "output_type": "stream",
     "text": [
      "\n",
      "Iteration: 53 Loss: 93503377.06049468 Difference: 29.70474205949602\n"
     ]
    },
    {
     "name": "stderr",
     "output_type": "stream",
     "text": [
      "60000it [00:07, 8216.32it/s]\n",
      "986it [00:00, 9489.05it/s]"
     ]
    },
    {
     "name": "stdout",
     "output_type": "stream",
     "text": [
      "\n",
      "Iteration: 54 Loss: 93500150.0657374 Difference: 28.865221035323607\n"
     ]
    },
    {
     "name": "stderr",
     "output_type": "stream",
     "text": [
      "60000it [00:07, 8461.68it/s]\n",
      "970it [00:00, 9593.02it/s]"
     ]
    },
    {
     "name": "stdout",
     "output_type": "stream",
     "text": [
      "\n",
      "Iteration: 55 Loss: 93496961.60820149 Difference: 25.884886356121946\n"
     ]
    },
    {
     "name": "stderr",
     "output_type": "stream",
     "text": [
      "60000it [00:07, 8188.60it/s]\n",
      "865it [00:00, 8623.67it/s]"
     ]
    },
    {
     "name": "stdout",
     "output_type": "stream",
     "text": [
      "\n",
      "Iteration: 56 Loss: 93494651.78057617 Difference: 23.82570664558041\n"
     ]
    },
    {
     "name": "stderr",
     "output_type": "stream",
     "text": [
      "60000it [00:07, 7533.73it/s]\n",
      "648it [00:00, 6372.33it/s]"
     ]
    },
    {
     "name": "stdout",
     "output_type": "stream",
     "text": [
      "\n",
      "Iteration: 57 Loss: 93493139.91166893 Difference: 19.22811044520549\n"
     ]
    },
    {
     "name": "stderr",
     "output_type": "stream",
     "text": [
      "60000it [00:10, 5592.92it/s]\n",
      "613it [00:00, 5951.53it/s]"
     ]
    },
    {
     "name": "stdout",
     "output_type": "stream",
     "text": [
      "\n",
      "Iteration: 58 Loss: 93492079.5275297 Difference: 18.338216730648256\n"
     ]
    },
    {
     "name": "stderr",
     "output_type": "stream",
     "text": [
      "60000it [00:10, 5528.49it/s]\n",
      "424it [00:00, 4043.61it/s]"
     ]
    },
    {
     "name": "stdout",
     "output_type": "stream",
     "text": [
      "\n",
      "Iteration: 59 Loss: 93491141.69023505 Difference: 16.42116211591652\n"
     ]
    },
    {
     "name": "stderr",
     "output_type": "stream",
     "text": [
      "60000it [00:10, 5806.81it/s]\n",
      "564it [00:00, 5599.28it/s]"
     ]
    },
    {
     "name": "stdout",
     "output_type": "stream",
     "text": [
      "\n",
      "Iteration: 60 Loss: 93490543.90215923 Difference: 13.88369360161871\n"
     ]
    },
    {
     "name": "stderr",
     "output_type": "stream",
     "text": [
      "60000it [00:08, 6940.25it/s]\n",
      "435it [00:00, 4202.03it/s]"
     ]
    },
    {
     "name": "stdout",
     "output_type": "stream",
     "text": [
      "\n",
      "Iteration: 61 Loss: 93490216.74932429 Difference: 11.296119106550528\n"
     ]
    },
    {
     "name": "stderr",
     "output_type": "stream",
     "text": [
      "60000it [00:07, 7531.61it/s]\n",
      "733it [00:00, 7174.45it/s]"
     ]
    },
    {
     "name": "stdout",
     "output_type": "stream",
     "text": [
      "\n",
      "Iteration: 62 Loss: 93489788.28064641 Difference: 10.014362333327279\n"
     ]
    },
    {
     "name": "stderr",
     "output_type": "stream",
     "text": [
      "60000it [00:07, 8122.27it/s]\n",
      "609it [00:00, 5892.45it/s]"
     ]
    },
    {
     "name": "stdout",
     "output_type": "stream",
     "text": [
      "\n",
      "Iteration: 63 Loss: 93489573.96757302 Difference: 8.01327087998225\n"
     ]
    },
    {
     "name": "stderr",
     "output_type": "stream",
     "text": [
      "60000it [00:07, 7718.28it/s]\n",
      "688it [00:00, 6856.61it/s]"
     ]
    },
    {
     "name": "stdout",
     "output_type": "stream",
     "text": [
      "\n",
      "Iteration: 64 Loss: 93489514.86446382 Difference: 6.249298710698662\n"
     ]
    },
    {
     "name": "stderr",
     "output_type": "stream",
     "text": [
      "60000it [00:06, 9234.30it/s]\n",
      "996it [00:00, 9801.13it/s]"
     ]
    },
    {
     "name": "stdout",
     "output_type": "stream",
     "text": [
      "\n",
      "Iteration: 65 Loss: 93489497.83988237 Difference: 5.126098534961716\n"
     ]
    },
    {
     "name": "stderr",
     "output_type": "stream",
     "text": [
      "60000it [00:07, 7925.49it/s]\n",
      "978it [00:00, 9467.41it/s]"
     ]
    },
    {
     "name": "stdout",
     "output_type": "stream",
     "text": [
      "\n",
      "Iteration: 66 Loss: 93489630.60962887 Difference: 4.10722003408521\n"
     ]
    },
    {
     "name": "stderr",
     "output_type": "stream",
     "text": [
      "60000it [00:07, 8410.89it/s]\n",
      "850it [00:00, 8390.92it/s]"
     ]
    },
    {
     "name": "stdout",
     "output_type": "stream",
     "text": [
      "\n",
      "Iteration: 67 Loss: 93489827.08644153 Difference: 4.592707089325659\n"
     ]
    },
    {
     "name": "stderr",
     "output_type": "stream",
     "text": [
      "60000it [00:07, 8084.89it/s]\n",
      "917it [00:00, 9072.33it/s]"
     ]
    },
    {
     "name": "stdout",
     "output_type": "stream",
     "text": [
      "\n",
      "Iteration: 68 Loss: 93490113.02411474 Difference: 5.473559542139432\n"
     ]
    },
    {
     "name": "stderr",
     "output_type": "stream",
     "text": [
      "60000it [00:07, 8439.11it/s]\n",
      "890it [00:00, 8541.76it/s]"
     ]
    },
    {
     "name": "stdout",
     "output_type": "stream",
     "text": [
      "\n",
      "Iteration: 69 Loss: 93490375.75116499 Difference: 4.8169216586911086\n"
     ]
    },
    {
     "name": "stderr",
     "output_type": "stream",
     "text": [
      "60000it [00:08, 7331.23it/s]\n",
      "596it [00:00, 5745.56it/s]"
     ]
    },
    {
     "name": "stdout",
     "output_type": "stream",
     "text": [
      "\n",
      "Iteration: 70 Loss: 93490684.58159041 Difference: 5.620885118898974\n"
     ]
    },
    {
     "name": "stderr",
     "output_type": "stream",
     "text": [
      "60000it [00:10, 5488.62it/s]\n",
      "648it [00:00, 6366.75it/s]"
     ]
    },
    {
     "name": "stdout",
     "output_type": "stream",
     "text": [
      "\n",
      "Iteration: 71 Loss: 93490993.24588162 Difference: 4.444297810805258\n"
     ]
    },
    {
     "name": "stderr",
     "output_type": "stream",
     "text": [
      "60000it [00:10, 5796.36it/s]\n",
      "574it [00:00, 5514.80it/s]"
     ]
    },
    {
     "name": "stdout",
     "output_type": "stream",
     "text": [
      "\n",
      "Iteration: 72 Loss: 93491289.94243039 Difference: 6.808709001255435\n"
     ]
    },
    {
     "name": "stderr",
     "output_type": "stream",
     "text": [
      "60000it [00:10, 5761.79it/s]\n",
      "558it [00:00, 5471.84it/s]"
     ]
    },
    {
     "name": "stdout",
     "output_type": "stream",
     "text": [
      "\n",
      "Iteration: 73 Loss: 93491755.16376595 Difference: 5.821985044123073\n"
     ]
    },
    {
     "name": "stderr",
     "output_type": "stream",
     "text": [
      "60000it [00:08, 6728.05it/s]\n",
      "741it [00:00, 7230.35it/s]"
     ]
    },
    {
     "name": "stdout",
     "output_type": "stream",
     "text": [
      "\n",
      "Iteration: 74 Loss: 93492036.92339066 Difference: 6.455984985102245\n"
     ]
    },
    {
     "name": "stderr",
     "output_type": "stream",
     "text": [
      "60000it [00:07, 8103.33it/s]\n",
      "791it [00:00, 7598.48it/s]"
     ]
    },
    {
     "name": "stdout",
     "output_type": "stream",
     "text": [
      "\n",
      "Iteration: 75 Loss: 93492565.27827229 Difference: 6.256001523687479\n"
     ]
    },
    {
     "name": "stderr",
     "output_type": "stream",
     "text": [
      "60000it [00:08, 7428.52it/s]\n",
      "784it [00:00, 7787.74it/s]"
     ]
    },
    {
     "name": "stdout",
     "output_type": "stream",
     "text": [
      "\n",
      "Iteration: 76 Loss: 93492950.95290329 Difference: 7.194509405143106\n"
     ]
    },
    {
     "name": "stderr",
     "output_type": "stream",
     "text": [
      "60000it [00:07, 8456.64it/s]\n",
      "627it [00:00, 6237.45it/s]"
     ]
    },
    {
     "name": "stdout",
     "output_type": "stream",
     "text": [
      "\n",
      "Iteration: 77 Loss: 93493552.14847222 Difference: 6.227204923180207\n"
     ]
    },
    {
     "name": "stderr",
     "output_type": "stream",
     "text": [
      "60000it [00:07, 8035.51it/s]\n",
      "678it [00:00, 6460.57it/s]"
     ]
    },
    {
     "name": "stdout",
     "output_type": "stream",
     "text": [
      "\n",
      "Iteration: 78 Loss: 93493884.60888207 Difference: 6.0449990610218585\n"
     ]
    },
    {
     "name": "stderr",
     "output_type": "stream",
     "text": [
      "60000it [00:06, 8593.01it/s]\n",
      "547it [00:00, 5273.08it/s]"
     ]
    },
    {
     "name": "stdout",
     "output_type": "stream",
     "text": [
      "\n",
      "Iteration: 79 Loss: 93494321.24339613 Difference: 4.213056884237011\n"
     ]
    },
    {
     "name": "stderr",
     "output_type": "stream",
     "text": [
      "60000it [00:07, 8554.29it/s]\n",
      "941it [00:00, 9104.04it/s]"
     ]
    },
    {
     "name": "stdout",
     "output_type": "stream",
     "text": [
      "\n",
      "Iteration: 80 Loss: 93494489.97117035 Difference: 5.0582905742846505\n"
     ]
    },
    {
     "name": "stderr",
     "output_type": "stream",
     "text": [
      "60000it [00:06, 8953.85it/s]\n",
      "820it [00:00, 7896.01it/s]"
     ]
    },
    {
     "name": "stdout",
     "output_type": "stream",
     "text": [
      "\n",
      "Iteration: 81 Loss: 93494767.77382271 Difference: 4.522563994814385\n"
     ]
    },
    {
     "name": "stderr",
     "output_type": "stream",
     "text": [
      "60000it [00:07, 8376.41it/s]\n",
      "499it [00:00, 4794.85it/s]"
     ]
    },
    {
     "name": "stdout",
     "output_type": "stream",
     "text": [
      "\n",
      "Iteration: 82 Loss: 93495035.82943124 Difference: 4.637143679885396\n"
     ]
    },
    {
     "name": "stderr",
     "output_type": "stream",
     "text": [
      "60000it [00:09, 6521.39it/s]\n",
      "528it [00:00, 5248.62it/s]"
     ]
    },
    {
     "name": "stdout",
     "output_type": "stream",
     "text": [
      "\n",
      "Iteration: 83 Loss: 93495252.5583734 Difference: 4.0268220142099755\n"
     ]
    },
    {
     "name": "stderr",
     "output_type": "stream",
     "text": [
      "60000it [00:10, 5672.10it/s]\n",
      "468it [00:00, 4676.88it/s]"
     ]
    },
    {
     "name": "stdout",
     "output_type": "stream",
     "text": [
      "\n",
      "Iteration: 84 Loss: 93495358.77683128 Difference: 3.6051655546947554\n"
     ]
    },
    {
     "name": "stderr",
     "output_type": "stream",
     "text": [
      "60000it [00:10, 5548.23it/s]\n",
      "574it [00:00, 5724.01it/s]"
     ]
    },
    {
     "name": "stdout",
     "output_type": "stream",
     "text": [
      "\n",
      "Iteration: 85 Loss: 93495635.06381051 Difference: 2.576130932536482\n"
     ]
    },
    {
     "name": "stderr",
     "output_type": "stream",
     "text": [
      "60000it [00:11, 5206.37it/s]\n",
      "463it [00:00, 4449.08it/s]"
     ]
    },
    {
     "name": "stdout",
     "output_type": "stream",
     "text": [
      "\n",
      "Iteration: 86 Loss: 93496126.00227605 Difference: 3.094210123428582\n"
     ]
    },
    {
     "name": "stderr",
     "output_type": "stream",
     "text": [
      "60000it [00:08, 6681.55it/s]\n",
      "640it [00:00, 6353.65it/s]"
     ]
    },
    {
     "name": "stdout",
     "output_type": "stream",
     "text": [
      "\n",
      "Iteration: 87 Loss: 93496537.22306567 Difference: 3.7951451293293372\n"
     ]
    },
    {
     "name": "stderr",
     "output_type": "stream",
     "text": [
      "60000it [00:07, 7512.83it/s]\n",
      "760it [00:00, 7501.37it/s]"
     ]
    },
    {
     "name": "stdout",
     "output_type": "stream",
     "text": [
      "\n",
      "Iteration: 88 Loss: 93496854.53728426 Difference: 4.447954666547908\n"
     ]
    },
    {
     "name": "stderr",
     "output_type": "stream",
     "text": [
      "60000it [00:08, 7218.85it/s]\n",
      "714it [00:00, 7088.06it/s]"
     ]
    },
    {
     "name": "stdout",
     "output_type": "stream",
     "text": [
      "\n",
      "Iteration: 89 Loss: 93496979.23667106 Difference: 4.104911230165477\n"
     ]
    },
    {
     "name": "stderr",
     "output_type": "stream",
     "text": [
      "60000it [00:07, 8120.47it/s]\n",
      "908it [00:00, 9061.39it/s]"
     ]
    },
    {
     "name": "stdout",
     "output_type": "stream",
     "text": [
      "\n",
      "Iteration: 90 Loss: 93496775.26697484 Difference: 2.8245358539449326\n"
     ]
    },
    {
     "name": "stderr",
     "output_type": "stream",
     "text": [
      "60000it [00:07, 7628.87it/s]\n",
      "1827it [00:00, 8957.45it/s]"
     ]
    },
    {
     "name": "stdout",
     "output_type": "stream",
     "text": [
      "\n",
      "Iteration: 91 Loss: 93496751.19685647 Difference: 2.048927704456194\n"
     ]
    },
    {
     "name": "stderr",
     "output_type": "stream",
     "text": [
      "60000it [00:07, 8367.61it/s]\n",
      "1958it [00:00, 9551.60it/s]"
     ]
    },
    {
     "name": "stdout",
     "output_type": "stream",
     "text": [
      "\n",
      "Iteration: 92 Loss: 93496628.66927496 Difference: 1.3617055419255986\n"
     ]
    },
    {
     "name": "stderr",
     "output_type": "stream",
     "text": [
      "60000it [00:07, 8045.52it/s]\n",
      "895it [00:00, 8770.47it/s]"
     ]
    },
    {
     "name": "stdout",
     "output_type": "stream",
     "text": [
      "\n",
      "Iteration: 93 Loss: 93496447.16122313 Difference: 1.0709916514841444\n"
     ]
    },
    {
     "name": "stderr",
     "output_type": "stream",
     "text": [
      "60000it [00:07, 8388.98it/s]\n",
      "884it [00:00, 8793.42it/s]"
     ]
    },
    {
     "name": "stdout",
     "output_type": "stream",
     "text": [
      "\n",
      "Iteration: 94 Loss: 93496345.25605376 Difference: 1.2826502108127529\n"
     ]
    },
    {
     "name": "stderr",
     "output_type": "stream",
     "text": [
      "60000it [00:07, 7775.44it/s]\n",
      "818it [00:00, 7971.94it/s]"
     ]
    },
    {
     "name": "stdout",
     "output_type": "stream",
     "text": [
      "\n",
      "Iteration: 95 Loss: 93496367.97990218 Difference: 0.9942862948639188\n"
     ]
    },
    {
     "name": "stderr",
     "output_type": "stream",
     "text": [
      "60000it [00:10, 5860.12it/s]\n",
      "612it [00:00, 6031.37it/s]"
     ]
    },
    {
     "name": "stdout",
     "output_type": "stream",
     "text": [
      "\n",
      "Iteration: 96 Loss: 93496336.12315634 Difference: 0.7697602357840839\n"
     ]
    },
    {
     "name": "stderr",
     "output_type": "stream",
     "text": [
      "60000it [00:10, 5843.96it/s]\n",
      "585it [00:00, 5821.18it/s]"
     ]
    },
    {
     "name": "stdout",
     "output_type": "stream",
     "text": [
      "\n",
      "Iteration: 97 Loss: 93496380.40840973 Difference: 0.8034185476296326\n"
     ]
    },
    {
     "name": "stderr",
     "output_type": "stream",
     "text": [
      "60000it [00:10, 5690.42it/s]\n",
      "632it [00:00, 6258.49it/s]"
     ]
    },
    {
     "name": "stdout",
     "output_type": "stream",
     "text": [
      "\n",
      "Iteration: 98 Loss: 93496367.99138188 Difference: 0.7118865269554943\n"
     ]
    },
    {
     "name": "stderr",
     "output_type": "stream",
     "text": [
      "60000it [00:09, 6093.74it/s]\n",
      "931it [00:00, 9095.96it/s]"
     ]
    },
    {
     "name": "stdout",
     "output_type": "stream",
     "text": [
      "\n",
      "Iteration: 99 Loss: 93496343.24851143 Difference: 0.5475704649373402\n"
     ]
    },
    {
     "name": "stderr",
     "output_type": "stream",
     "text": [
      "60000it [00:07, 7726.51it/s]\n",
      "1019it [00:00, 9872.55it/s]"
     ]
    },
    {
     "name": "stdout",
     "output_type": "stream",
     "text": [
      "\n",
      "Iteration: 100 Loss: 93496340.64354399 Difference: 0.7305700783483413\n"
     ]
    },
    {
     "name": "stderr",
     "output_type": "stream",
     "text": [
      "60000it [00:07, 7775.46it/s]\n",
      "976it [00:00, 9357.68it/s]"
     ]
    },
    {
     "name": "stdout",
     "output_type": "stream",
     "text": [
      "\n",
      "Iteration: 101 Loss: 93496347.58806992 Difference: 0.5009423143380236\n"
     ]
    },
    {
     "name": "stderr",
     "output_type": "stream",
     "text": [
      "60000it [00:07, 8432.08it/s]\n",
      "1909it [00:00, 9141.57it/s]"
     ]
    },
    {
     "name": "stdout",
     "output_type": "stream",
     "text": [
      "\n",
      "Iteration: 102 Loss: 93496361.61566997 Difference: 0.7138276277104051\n"
     ]
    },
    {
     "name": "stderr",
     "output_type": "stream",
     "text": [
      "60000it [00:07, 7792.65it/s]\n",
      "908it [00:00, 9063.97it/s]"
     ]
    },
    {
     "name": "stdout",
     "output_type": "stream",
     "text": [
      "\n",
      "Iteration: 103 Loss: 93496376.67300224 Difference: 0.3327239033682092\n"
     ]
    },
    {
     "name": "stderr",
     "output_type": "stream",
     "text": [
      "60000it [00:07, 8161.99it/s]\n",
      "802it [00:00, 7693.33it/s]"
     ]
    },
    {
     "name": "stdout",
     "output_type": "stream",
     "text": [
      "\n",
      "Iteration: 104 Loss: 93496376.67517002 Difference: 0.3839650804920548\n"
     ]
    },
    {
     "name": "stderr",
     "output_type": "stream",
     "text": [
      "60000it [00:07, 8175.15it/s]\n",
      "1009it [00:00, 9870.54it/s]"
     ]
    },
    {
     "name": "stdout",
     "output_type": "stream",
     "text": [
      "\n",
      "Iteration: 105 Loss: 93496376.67517038 Difference: 5.739949483982522e-05\n"
     ]
    },
    {
     "name": "stderr",
     "output_type": "stream",
     "text": [
      "60000it [00:07, 8504.34it/s]\n",
      "0it [00:00, ?it/s]"
     ]
    },
    {
     "name": "stdout",
     "output_type": "stream",
     "text": [
      "\n",
      "Iteration: 106 Loss: 93496376.67517038 Difference: 8.609092395338388e-09\n",
      "Converged! With distance: 1.3088708771188287e-12\n",
      "[cluster_label,no_occurence_of_label,total_samples_in_cluster,cluster_accuracy] [[1, 3693, 5692, 0.648805340829234], [0, 1778, 4392, 0.4048269581056466], [0, 3608, 3851, 0.9368995066216567], [1, 2997, 4859, 0.6167935789257049], [2, 4152, 4471, 0.9286513084321181], [6, 4425, 5017, 0.882001195933825], [3, 3929, 7387, 0.531880330310004], [7, 2767, 6451, 0.42892574794605487], [8, 3515, 5545, 0.6339044183949504], [9, 2396, 7005, 0.3420413990007138], [4, 2221, 5330, 0.41669793621013135]]\n",
      "Accuracy: 0.6155843382463672\n"
     ]
    },
    {
     "name": "stderr",
     "output_type": "stream",
     "text": [
      "60000it [00:08, 7448.99it/s]\n",
      "722it [00:00, 6987.35it/s]"
     ]
    },
    {
     "name": "stdout",
     "output_type": "stream",
     "text": [
      "\n",
      "Iteration: 0 Loss: 101422069.33503193 Difference: 8204.327699452284\n"
     ]
    },
    {
     "name": "stderr",
     "output_type": "stream",
     "text": [
      "60000it [00:09, 6489.06it/s]\n",
      "595it [00:00, 5678.24it/s]"
     ]
    },
    {
     "name": "stdout",
     "output_type": "stream",
     "text": [
      "\n",
      "Iteration: 1 Loss: 95889830.91682991 Difference: 4929.391899838819\n"
     ]
    },
    {
     "name": "stderr",
     "output_type": "stream",
     "text": [
      "60000it [00:11, 5014.20it/s]\n",
      "629it [00:00, 6041.26it/s]"
     ]
    },
    {
     "name": "stdout",
     "output_type": "stream",
     "text": [
      "\n",
      "Iteration: 2 Loss: 94651332.23338717 Difference: 991.3069847112216\n"
     ]
    },
    {
     "name": "stderr",
     "output_type": "stream",
     "text": [
      "60000it [00:12, 4990.23it/s]\n",
      "658it [00:00, 6479.16it/s]"
     ]
    },
    {
     "name": "stdout",
     "output_type": "stream",
     "text": [
      "\n",
      "Iteration: 3 Loss: 94113439.49596763 Difference: 575.5113699080744\n"
     ]
    },
    {
     "name": "stderr",
     "output_type": "stream",
     "text": [
      "60000it [00:10, 5552.46it/s]\n",
      "540it [00:00, 5371.06it/s]"
     ]
    },
    {
     "name": "stdout",
     "output_type": "stream",
     "text": [
      "\n",
      "Iteration: 4 Loss: 93853383.53185001 Difference: 390.09658418890496\n"
     ]
    },
    {
     "name": "stderr",
     "output_type": "stream",
     "text": [
      "60000it [00:09, 6415.13it/s]\n",
      "572it [00:00, 5655.31it/s]"
     ]
    },
    {
     "name": "stdout",
     "output_type": "stream",
     "text": [
      "\n",
      "Iteration: 5 Loss: 93664698.88279295 Difference: 298.59715437250645\n"
     ]
    },
    {
     "name": "stderr",
     "output_type": "stream",
     "text": [
      "60000it [00:07, 7593.50it/s]\n",
      "779it [00:00, 7560.91it/s]"
     ]
    },
    {
     "name": "stdout",
     "output_type": "stream",
     "text": [
      "\n",
      "Iteration: 6 Loss: 93487748.4501433 Difference: 289.0749756640557\n"
     ]
    },
    {
     "name": "stderr",
     "output_type": "stream",
     "text": [
      "60000it [00:07, 7653.64it/s]\n",
      "835it [00:00, 8093.46it/s]"
     ]
    },
    {
     "name": "stdout",
     "output_type": "stream",
     "text": [
      "\n",
      "Iteration: 7 Loss: 93356269.97613557 Difference: 280.2437800700824\n"
     ]
    },
    {
     "name": "stderr",
     "output_type": "stream",
     "text": [
      "60000it [00:09, 6634.14it/s]\n",
      "697it [00:00, 6836.19it/s]"
     ]
    },
    {
     "name": "stdout",
     "output_type": "stream",
     "text": [
      "\n",
      "Iteration: 8 Loss: 93269198.98382796 Difference: 224.3929961997424\n"
     ]
    },
    {
     "name": "stderr",
     "output_type": "stream",
     "text": [
      "60000it [00:09, 6403.72it/s]\n",
      "706it [00:00, 7027.02it/s]"
     ]
    },
    {
     "name": "stdout",
     "output_type": "stream",
     "text": [
      "\n",
      "Iteration: 9 Loss: 93199842.3610563 Difference: 167.445880907705\n"
     ]
    },
    {
     "name": "stderr",
     "output_type": "stream",
     "text": [
      "60000it [00:07, 7955.41it/s]\n",
      "611it [00:00, 5875.40it/s]"
     ]
    },
    {
     "name": "stdout",
     "output_type": "stream",
     "text": [
      "\n",
      "Iteration: 10 Loss: 93121684.76457919 Difference: 149.90019575813625\n"
     ]
    },
    {
     "name": "stderr",
     "output_type": "stream",
     "text": [
      "60000it [00:07, 7842.36it/s]\n",
      "716it [00:00, 6938.32it/s]"
     ]
    },
    {
     "name": "stdout",
     "output_type": "stream",
     "text": [
      "\n",
      "Iteration: 11 Loss: 93042837.04270314 Difference: 161.5090406030321\n"
     ]
    },
    {
     "name": "stderr",
     "output_type": "stream",
     "text": [
      "60000it [00:07, 8121.98it/s]\n",
      "967it [00:00, 9315.07it/s]"
     ]
    },
    {
     "name": "stdout",
     "output_type": "stream",
     "text": [
      "\n",
      "Iteration: 12 Loss: 92999034.8366479 Difference: 159.55600743954056\n"
     ]
    },
    {
     "name": "stderr",
     "output_type": "stream",
     "text": [
      "60000it [00:10, 5874.04it/s]\n",
      "346it [00:00, 3395.56it/s]"
     ]
    },
    {
     "name": "stdout",
     "output_type": "stream",
     "text": [
      "\n",
      "Iteration: 13 Loss: 92976818.4974537 Difference: 105.62848194894606\n"
     ]
    },
    {
     "name": "stderr",
     "output_type": "stream",
     "text": [
      "60000it [00:11, 5198.39it/s]\n",
      "580it [00:00, 5766.09it/s]"
     ]
    },
    {
     "name": "stdout",
     "output_type": "stream",
     "text": [
      "\n",
      "Iteration: 14 Loss: 92960500.8223294 Difference: 74.43740371263299\n"
     ]
    },
    {
     "name": "stderr",
     "output_type": "stream",
     "text": [
      "60000it [00:12, 4940.80it/s]\n",
      "653it [00:00, 6439.73it/s]"
     ]
    },
    {
     "name": "stdout",
     "output_type": "stream",
     "text": [
      "\n",
      "Iteration: 15 Loss: 92946526.72687376 Difference: 63.38740336324979\n"
     ]
    },
    {
     "name": "stderr",
     "output_type": "stream",
     "text": [
      "60000it [00:12, 4958.95it/s]\n",
      "1791it [00:00, 8721.99it/s]"
     ]
    },
    {
     "name": "stdout",
     "output_type": "stream",
     "text": [
      "\n",
      "Iteration: 16 Loss: 92933937.79569247 Difference: 59.16106139973795\n"
     ]
    },
    {
     "name": "stderr",
     "output_type": "stream",
     "text": [
      "60000it [00:08, 7122.26it/s]\n",
      "1664it [00:00, 8142.84it/s]"
     ]
    },
    {
     "name": "stdout",
     "output_type": "stream",
     "text": [
      "\n",
      "Iteration: 17 Loss: 92923641.96674345 Difference: 56.77379169202928\n"
     ]
    },
    {
     "name": "stderr",
     "output_type": "stream",
     "text": [
      "60000it [00:08, 7163.94it/s]\n",
      "792it [00:00, 7770.48it/s]"
     ]
    },
    {
     "name": "stdout",
     "output_type": "stream",
     "text": [
      "\n",
      "Iteration: 18 Loss: 92913808.91054268 Difference: 52.19532021523397\n"
     ]
    },
    {
     "name": "stderr",
     "output_type": "stream",
     "text": [
      "60000it [00:07, 7501.69it/s]\n",
      "788it [00:00, 7542.78it/s]"
     ]
    },
    {
     "name": "stdout",
     "output_type": "stream",
     "text": [
      "\n",
      "Iteration: 19 Loss: 92904005.75911754 Difference: 48.95876744264485\n"
     ]
    },
    {
     "name": "stderr",
     "output_type": "stream",
     "text": [
      "60000it [00:07, 7646.74it/s]\n",
      "524it [00:00, 5122.03it/s]"
     ]
    },
    {
     "name": "stdout",
     "output_type": "stream",
     "text": [
      "\n",
      "Iteration: 20 Loss: 92894050.18313293 Difference: 51.12892413518948\n"
     ]
    },
    {
     "name": "stderr",
     "output_type": "stream",
     "text": [
      "60000it [00:08, 7331.72it/s]\n",
      "735it [00:00, 7139.27it/s]"
     ]
    },
    {
     "name": "stdout",
     "output_type": "stream",
     "text": [
      "\n",
      "Iteration: 21 Loss: 92882534.76142675 Difference: 47.19522823262243\n"
     ]
    },
    {
     "name": "stderr",
     "output_type": "stream",
     "text": [
      "60000it [00:07, 8239.49it/s]\n",
      "947it [00:00, 9117.17it/s]"
     ]
    },
    {
     "name": "stdout",
     "output_type": "stream",
     "text": [
      "\n",
      "Iteration: 22 Loss: 92872236.48270246 Difference: 51.0588241454223\n"
     ]
    },
    {
     "name": "stderr",
     "output_type": "stream",
     "text": [
      "60000it [00:07, 7720.16it/s]\n",
      "906it [00:00, 8954.82it/s]"
     ]
    },
    {
     "name": "stdout",
     "output_type": "stream",
     "text": [
      "\n",
      "Iteration: 23 Loss: 92864332.66500564 Difference: 49.06687636756559\n"
     ]
    },
    {
     "name": "stderr",
     "output_type": "stream",
     "text": [
      "60000it [00:07, 7907.72it/s]\n",
      "780it [00:00, 7488.18it/s]"
     ]
    },
    {
     "name": "stdout",
     "output_type": "stream",
     "text": [
      "\n",
      "Iteration: 24 Loss: 92857346.46673222 Difference: 42.29626091829322\n"
     ]
    },
    {
     "name": "stderr",
     "output_type": "stream",
     "text": [
      "60000it [00:11, 5351.03it/s]\n",
      "550it [00:00, 5435.44it/s]"
     ]
    },
    {
     "name": "stdout",
     "output_type": "stream",
     "text": [
      "\n",
      "Iteration: 25 Loss: 92850926.70274842 Difference: 41.30510327853106\n"
     ]
    },
    {
     "name": "stderr",
     "output_type": "stream",
     "text": [
      "60000it [00:11, 5343.21it/s]\n",
      "862it [00:00, 8408.33it/s]"
     ]
    },
    {
     "name": "stdout",
     "output_type": "stream",
     "text": [
      "\n",
      "Iteration: 26 Loss: 92844556.31346731 Difference: 40.70736145909608\n"
     ]
    },
    {
     "name": "stderr",
     "output_type": "stream",
     "text": [
      "60000it [00:10, 5810.74it/s]\n",
      "512it [00:00, 4983.66it/s]"
     ]
    },
    {
     "name": "stdout",
     "output_type": "stream",
     "text": [
      "\n",
      "Iteration: 27 Loss: 92839385.21738613 Difference: 41.34809798192076\n"
     ]
    },
    {
     "name": "stderr",
     "output_type": "stream",
     "text": [
      "60000it [00:11, 5292.12it/s]\n",
      "949it [00:00, 9280.19it/s]"
     ]
    },
    {
     "name": "stdout",
     "output_type": "stream",
     "text": [
      "\n",
      "Iteration: 28 Loss: 92834793.97276746 Difference: 37.765853480717595\n"
     ]
    },
    {
     "name": "stderr",
     "output_type": "stream",
     "text": [
      "60000it [00:08, 6980.62it/s]\n",
      "945it [00:00, 9316.64it/s]"
     ]
    },
    {
     "name": "stdout",
     "output_type": "stream",
     "text": [
      "\n",
      "Iteration: 29 Loss: 92830222.08570303 Difference: 36.05153047987014\n"
     ]
    },
    {
     "name": "stderr",
     "output_type": "stream",
     "text": [
      "60000it [00:07, 7622.49it/s]\n",
      "911it [00:00, 8826.36it/s]"
     ]
    },
    {
     "name": "stdout",
     "output_type": "stream",
     "text": [
      "\n",
      "Iteration: 30 Loss: 92825321.71563782 Difference: 35.631310070218234\n"
     ]
    },
    {
     "name": "stderr",
     "output_type": "stream",
     "text": [
      "60000it [00:08, 7285.80it/s]\n",
      "826it [00:00, 7954.06it/s]"
     ]
    },
    {
     "name": "stdout",
     "output_type": "stream",
     "text": [
      "\n",
      "Iteration: 31 Loss: 92821028.59592354 Difference: 34.483922480302404\n"
     ]
    },
    {
     "name": "stderr",
     "output_type": "stream",
     "text": [
      "60000it [00:07, 7910.15it/s]\n",
      "828it [00:00, 8235.67it/s]"
     ]
    },
    {
     "name": "stdout",
     "output_type": "stream",
     "text": [
      "\n",
      "Iteration: 32 Loss: 92816687.09594333 Difference: 33.18343781907163\n"
     ]
    },
    {
     "name": "stderr",
     "output_type": "stream",
     "text": [
      "60000it [00:08, 7351.59it/s]\n",
      "915it [00:00, 8965.87it/s]"
     ]
    },
    {
     "name": "stdout",
     "output_type": "stream",
     "text": [
      "\n",
      "Iteration: 33 Loss: 92812940.87437448 Difference: 35.76686441179449\n"
     ]
    },
    {
     "name": "stderr",
     "output_type": "stream",
     "text": [
      "60000it [00:07, 7793.46it/s]\n",
      "807it [00:00, 7969.68it/s]"
     ]
    },
    {
     "name": "stdout",
     "output_type": "stream",
     "text": [
      "\n",
      "Iteration: 34 Loss: 92810310.96030103 Difference: 30.79478861524277\n"
     ]
    },
    {
     "name": "stderr",
     "output_type": "stream",
     "text": [
      "60000it [00:07, 7738.69it/s]\n",
      "719it [00:00, 7051.03it/s]"
     ]
    },
    {
     "name": "stdout",
     "output_type": "stream",
     "text": [
      "\n",
      "Iteration: 35 Loss: 92808139.03634848 Difference: 29.31789310571318\n"
     ]
    },
    {
     "name": "stderr",
     "output_type": "stream",
     "text": [
      "60000it [00:08, 7387.70it/s]\n",
      "657it [00:00, 6458.93it/s]"
     ]
    },
    {
     "name": "stdout",
     "output_type": "stream",
     "text": [
      "\n",
      "Iteration: 36 Loss: 92805408.34339671 Difference: 29.745289788392967\n"
     ]
    },
    {
     "name": "stderr",
     "output_type": "stream",
     "text": [
      "60000it [00:10, 5974.18it/s]\n",
      "327it [00:00, 3225.77it/s]"
     ]
    },
    {
     "name": "stdout",
     "output_type": "stream",
     "text": [
      "\n",
      "Iteration: 37 Loss: 92802140.29377441 Difference: 32.05169014793562\n"
     ]
    },
    {
     "name": "stderr",
     "output_type": "stream",
     "text": [
      "60000it [00:12, 4763.52it/s]\n",
      "672it [00:00, 6404.71it/s]"
     ]
    },
    {
     "name": "stdout",
     "output_type": "stream",
     "text": [
      "\n",
      "Iteration: 38 Loss: 92798689.18209857 Difference: 28.946826783413695\n"
     ]
    },
    {
     "name": "stderr",
     "output_type": "stream",
     "text": [
      "60000it [00:11, 5121.14it/s]\n",
      "510it [00:00, 5024.20it/s]"
     ]
    },
    {
     "name": "stdout",
     "output_type": "stream",
     "text": [
      "\n",
      "Iteration: 39 Loss: 92795721.99320637 Difference: 29.46081607835853\n"
     ]
    },
    {
     "name": "stderr",
     "output_type": "stream",
     "text": [
      "60000it [00:11, 5176.11it/s]\n",
      "850it [00:00, 8316.42it/s]"
     ]
    },
    {
     "name": "stdout",
     "output_type": "stream",
     "text": [
      "\n",
      "Iteration: 40 Loss: 92792779.67293958 Difference: 28.14897101425758\n"
     ]
    },
    {
     "name": "stderr",
     "output_type": "stream",
     "text": [
      "60000it [00:08, 7422.37it/s]\n",
      "854it [00:00, 8282.87it/s]"
     ]
    },
    {
     "name": "stdout",
     "output_type": "stream",
     "text": [
      "\n",
      "Iteration: 41 Loss: 92789464.48352332 Difference: 30.166704585380472\n"
     ]
    },
    {
     "name": "stderr",
     "output_type": "stream",
     "text": [
      "60000it [00:08, 7119.35it/s]\n",
      "891it [00:00, 8856.04it/s]"
     ]
    },
    {
     "name": "stdout",
     "output_type": "stream",
     "text": [
      "\n",
      "Iteration: 42 Loss: 92786457.3484845 Difference: 29.921365612155377\n"
     ]
    },
    {
     "name": "stderr",
     "output_type": "stream",
     "text": [
      "60000it [00:07, 7728.23it/s]\n",
      "711it [00:00, 6857.46it/s]"
     ]
    },
    {
     "name": "stdout",
     "output_type": "stream",
     "text": [
      "\n",
      "Iteration: 43 Loss: 92783683.98484004 Difference: 29.706337122688335\n"
     ]
    },
    {
     "name": "stderr",
     "output_type": "stream",
     "text": [
      "60000it [00:07, 7500.02it/s]\n",
      "562it [00:00, 5616.99it/s]"
     ]
    },
    {
     "name": "stdout",
     "output_type": "stream",
     "text": [
      "\n",
      "Iteration: 44 Loss: 92781319.07826118 Difference: 30.570812744779726\n"
     ]
    },
    {
     "name": "stderr",
     "output_type": "stream",
     "text": [
      "60000it [00:08, 7464.42it/s]\n",
      "545it [00:00, 5271.35it/s]"
     ]
    },
    {
     "name": "stdout",
     "output_type": "stream",
     "text": [
      "\n",
      "Iteration: 45 Loss: 92778678.20680799 Difference: 29.080015090633076\n"
     ]
    },
    {
     "name": "stderr",
     "output_type": "stream",
     "text": [
      "60000it [00:07, 7865.92it/s]\n",
      "704it [00:00, 6876.23it/s]"
     ]
    },
    {
     "name": "stdout",
     "output_type": "stream",
     "text": [
      "\n",
      "Iteration: 46 Loss: 92775895.36817275 Difference: 29.95858268859008\n"
     ]
    },
    {
     "name": "stderr",
     "output_type": "stream",
     "text": [
      "60000it [00:07, 7740.32it/s]\n",
      "609it [00:00, 5823.95it/s]"
     ]
    },
    {
     "name": "stdout",
     "output_type": "stream",
     "text": [
      "\n",
      "Iteration: 47 Loss: 92772813.68294424 Difference: 33.364339708327826\n"
     ]
    },
    {
     "name": "stderr",
     "output_type": "stream",
     "text": [
      "60000it [00:07, 7937.81it/s]\n",
      "839it [00:00, 8370.47it/s]"
     ]
    },
    {
     "name": "stdout",
     "output_type": "stream",
     "text": [
      "\n",
      "Iteration: 48 Loss: 92770690.62173513 Difference: 28.827932881594588\n"
     ]
    },
    {
     "name": "stderr",
     "output_type": "stream",
     "text": [
      "60000it [00:11, 5069.12it/s]\n",
      "365it [00:00, 3556.51it/s]"
     ]
    },
    {
     "name": "stdout",
     "output_type": "stream",
     "text": [
      "\n",
      "Iteration: 49 Loss: 92768889.36117756 Difference: 28.895378200128572\n"
     ]
    },
    {
     "name": "stderr",
     "output_type": "stream",
     "text": [
      "60000it [00:11, 5128.40it/s]\n",
      "316it [00:00, 3143.95it/s]"
     ]
    },
    {
     "name": "stdout",
     "output_type": "stream",
     "text": [
      "\n",
      "Iteration: 50 Loss: 92767811.68939866 Difference: 26.319427890540357\n"
     ]
    },
    {
     "name": "stderr",
     "output_type": "stream",
     "text": [
      "60000it [00:11, 5439.93it/s]\n",
      "631it [00:00, 6066.93it/s]"
     ]
    },
    {
     "name": "stdout",
     "output_type": "stream",
     "text": [
      "\n",
      "Iteration: 51 Loss: 92767124.48485224 Difference: 22.190271660396988\n"
     ]
    },
    {
     "name": "stderr",
     "output_type": "stream",
     "text": [
      "60000it [00:10, 5536.67it/s]\n",
      "735it [00:00, 7029.94it/s]"
     ]
    },
    {
     "name": "stdout",
     "output_type": "stream",
     "text": [
      "\n",
      "Iteration: 52 Loss: 92766126.39063706 Difference: 22.375619377670894\n"
     ]
    },
    {
     "name": "stderr",
     "output_type": "stream",
     "text": [
      "60000it [00:08, 6822.66it/s]\n",
      "899it [00:00, 8697.76it/s]"
     ]
    },
    {
     "name": "stdout",
     "output_type": "stream",
     "text": [
      "\n",
      "Iteration: 53 Loss: 92765035.64499636 Difference: 19.76551236545985\n"
     ]
    },
    {
     "name": "stderr",
     "output_type": "stream",
     "text": [
      "60000it [00:08, 7455.22it/s]\n",
      "784it [00:00, 7483.23it/s]"
     ]
    },
    {
     "name": "stdout",
     "output_type": "stream",
     "text": [
      "\n",
      "Iteration: 54 Loss: 92764370.28307322 Difference: 20.94062162266352\n"
     ]
    },
    {
     "name": "stderr",
     "output_type": "stream",
     "text": [
      "60000it [00:08, 7486.07it/s]\n",
      "660it [00:00, 6368.65it/s]"
     ]
    },
    {
     "name": "stdout",
     "output_type": "stream",
     "text": [
      "\n",
      "Iteration: 55 Loss: 92763435.79924285 Difference: 22.514689157646377\n"
     ]
    },
    {
     "name": "stderr",
     "output_type": "stream",
     "text": [
      "60000it [00:07, 8311.48it/s]\n",
      "528it [00:00, 5274.33it/s]"
     ]
    },
    {
     "name": "stdout",
     "output_type": "stream",
     "text": [
      "\n",
      "Iteration: 56 Loss: 92762547.98707084 Difference: 22.517908584995325\n"
     ]
    },
    {
     "name": "stderr",
     "output_type": "stream",
     "text": [
      "60000it [00:07, 7686.99it/s]\n",
      "1446it [00:00, 7039.75it/s]"
     ]
    },
    {
     "name": "stdout",
     "output_type": "stream",
     "text": [
      "\n",
      "Iteration: 57 Loss: 92761724.98856701 Difference: 18.048314637177953\n"
     ]
    },
    {
     "name": "stderr",
     "output_type": "stream",
     "text": [
      "60000it [00:07, 7541.12it/s]\n",
      "666it [00:00, 6564.01it/s]"
     ]
    },
    {
     "name": "stdout",
     "output_type": "stream",
     "text": [
      "\n",
      "Iteration: 58 Loss: 92761265.04267554 Difference: 16.336010769117518\n"
     ]
    },
    {
     "name": "stderr",
     "output_type": "stream",
     "text": [
      "60000it [00:07, 8448.65it/s]\n",
      "704it [00:00, 6956.10it/s]"
     ]
    },
    {
     "name": "stdout",
     "output_type": "stream",
     "text": [
      "\n",
      "Iteration: 59 Loss: 92760932.89466558 Difference: 14.665271090535168\n"
     ]
    },
    {
     "name": "stderr",
     "output_type": "stream",
     "text": [
      "60000it [00:08, 7296.53it/s]\n",
      "481it [00:00, 4612.00it/s]"
     ]
    },
    {
     "name": "stdout",
     "output_type": "stream",
     "text": [
      "\n",
      "Iteration: 60 Loss: 92760789.48272818 Difference: 15.480306438968567\n"
     ]
    },
    {
     "name": "stderr",
     "output_type": "stream",
     "text": [
      "60000it [00:10, 5886.58it/s]\n",
      "585it [00:00, 5807.73it/s]"
     ]
    },
    {
     "name": "stdout",
     "output_type": "stream",
     "text": [
      "\n",
      "Iteration: 61 Loss: 92760398.15874667 Difference: 13.834927923384717\n"
     ]
    },
    {
     "name": "stderr",
     "output_type": "stream",
     "text": [
      "60000it [00:11, 5154.46it/s]\n",
      "539it [00:00, 5139.75it/s]"
     ]
    },
    {
     "name": "stdout",
     "output_type": "stream",
     "text": [
      "\n",
      "Iteration: 62 Loss: 92759761.66528285 Difference: 12.053020268654521\n"
     ]
    },
    {
     "name": "stderr",
     "output_type": "stream",
     "text": [
      "60000it [00:11, 5193.69it/s]\n",
      "637it [00:00, 6235.22it/s]"
     ]
    },
    {
     "name": "stdout",
     "output_type": "stream",
     "text": [
      "\n",
      "Iteration: 63 Loss: 92759086.07445164 Difference: 11.579767256096993\n"
     ]
    },
    {
     "name": "stderr",
     "output_type": "stream",
     "text": [
      "60000it [00:10, 5507.69it/s]\n",
      "974it [00:00, 9284.64it/s]"
     ]
    },
    {
     "name": "stdout",
     "output_type": "stream",
     "text": [
      "\n",
      "Iteration: 64 Loss: 92758831.19165964 Difference: 12.210842323826052\n"
     ]
    },
    {
     "name": "stderr",
     "output_type": "stream",
     "text": [
      "60000it [00:08, 7222.92it/s]\n",
      "864it [00:00, 8605.03it/s]"
     ]
    },
    {
     "name": "stdout",
     "output_type": "stream",
     "text": [
      "\n",
      "Iteration: 65 Loss: 92758470.99828444 Difference: 11.703864628378314\n"
     ]
    },
    {
     "name": "stderr",
     "output_type": "stream",
     "text": [
      "60000it [00:08, 6982.48it/s]\n",
      "855it [00:00, 8368.39it/s]"
     ]
    },
    {
     "name": "stdout",
     "output_type": "stream",
     "text": [
      "\n",
      "Iteration: 66 Loss: 92758303.11547671 Difference: 11.035907718086003\n"
     ]
    },
    {
     "name": "stderr",
     "output_type": "stream",
     "text": [
      "60000it [00:07, 7689.36it/s]\n",
      "316it [00:00, 3130.00it/s]"
     ]
    },
    {
     "name": "stdout",
     "output_type": "stream",
     "text": [
      "\n",
      "Iteration: 67 Loss: 92758264.19827688 Difference: 8.593036891960983\n"
     ]
    },
    {
     "name": "stderr",
     "output_type": "stream",
     "text": [
      "60000it [00:10, 5663.60it/s]\n",
      "695it [00:00, 6774.66it/s]"
     ]
    },
    {
     "name": "stdout",
     "output_type": "stream",
     "text": [
      "\n",
      "Iteration: 68 Loss: 92758191.90543818 Difference: 10.09882387468935\n"
     ]
    },
    {
     "name": "stderr",
     "output_type": "stream",
     "text": [
      "60000it [00:08, 6820.28it/s]\n",
      "1830it [00:00, 8991.31it/s]"
     ]
    },
    {
     "name": "stdout",
     "output_type": "stream",
     "text": [
      "\n",
      "Iteration: 69 Loss: 92758057.7784717 Difference: 10.15242048830424\n"
     ]
    },
    {
     "name": "stderr",
     "output_type": "stream",
     "text": [
      "60000it [00:07, 7886.05it/s]\n",
      "838it [00:00, 8297.89it/s]"
     ]
    },
    {
     "name": "stdout",
     "output_type": "stream",
     "text": [
      "\n",
      "Iteration: 70 Loss: 92757922.27793999 Difference: 9.666089856929666\n"
     ]
    },
    {
     "name": "stderr",
     "output_type": "stream",
     "text": [
      "60000it [00:08, 7307.64it/s]\n",
      "818it [00:00, 8039.73it/s]"
     ]
    },
    {
     "name": "stdout",
     "output_type": "stream",
     "text": [
      "\n",
      "Iteration: 71 Loss: 92757552.81580202 Difference: 7.05930009056449\n"
     ]
    },
    {
     "name": "stderr",
     "output_type": "stream",
     "text": [
      "60000it [00:09, 6051.08it/s]\n",
      "366it [00:00, 3602.18it/s]"
     ]
    },
    {
     "name": "stdout",
     "output_type": "stream",
     "text": [
      "\n",
      "Iteration: 72 Loss: 92757242.87803449 Difference: 7.049492739103422\n"
     ]
    },
    {
     "name": "stderr",
     "output_type": "stream",
     "text": [
      "60000it [00:12, 4872.09it/s]\n",
      "398it [00:00, 3801.65it/s]"
     ]
    },
    {
     "name": "stdout",
     "output_type": "stream",
     "text": [
      "\n",
      "Iteration: 73 Loss: 92756968.37982816 Difference: 7.579754551107807\n"
     ]
    },
    {
     "name": "stderr",
     "output_type": "stream",
     "text": [
      "60000it [00:11, 5049.13it/s]\n",
      "384it [00:00, 3812.52it/s]"
     ]
    },
    {
     "name": "stdout",
     "output_type": "stream",
     "text": [
      "\n",
      "Iteration: 74 Loss: 92756887.7098988 Difference: 6.223513845647628\n"
     ]
    },
    {
     "name": "stderr",
     "output_type": "stream",
     "text": [
      "60000it [00:12, 4832.17it/s]\n",
      "612it [00:00, 5840.76it/s]"
     ]
    },
    {
     "name": "stdout",
     "output_type": "stream",
     "text": [
      "\n",
      "Iteration: 75 Loss: 92756747.62479277 Difference: 5.626256812257361\n"
     ]
    },
    {
     "name": "stderr",
     "output_type": "stream",
     "text": [
      "60000it [00:08, 6739.16it/s]\n",
      "645it [00:00, 6298.74it/s]"
     ]
    },
    {
     "name": "stdout",
     "output_type": "stream",
     "text": [
      "\n",
      "Iteration: 76 Loss: 92756882.39390458 Difference: 5.633098510884274\n"
     ]
    },
    {
     "name": "stderr",
     "output_type": "stream",
     "text": [
      "60000it [00:08, 7411.92it/s]\n",
      "805it [00:00, 7842.62it/s]"
     ]
    },
    {
     "name": "stdout",
     "output_type": "stream",
     "text": [
      "\n",
      "Iteration: 77 Loss: 92756728.42575008 Difference: 4.273128439087206\n"
     ]
    },
    {
     "name": "stderr",
     "output_type": "stream",
     "text": [
      "60000it [00:08, 7374.32it/s]\n",
      "848it [00:00, 8469.12it/s]"
     ]
    },
    {
     "name": "stdout",
     "output_type": "stream",
     "text": [
      "\n",
      "Iteration: 78 Loss: 92756887.31865866 Difference: 5.04352275401544\n"
     ]
    },
    {
     "name": "stderr",
     "output_type": "stream",
     "text": [
      "60000it [00:07, 7838.74it/s]\n",
      "802it [00:00, 7718.24it/s]"
     ]
    },
    {
     "name": "stdout",
     "output_type": "stream",
     "text": [
      "\n",
      "Iteration: 79 Loss: 92756989.71687761 Difference: 4.046849692218648\n"
     ]
    },
    {
     "name": "stderr",
     "output_type": "stream",
     "text": [
      "60000it [00:08, 7244.49it/s]\n",
      "534it [00:00, 5268.47it/s]"
     ]
    },
    {
     "name": "stdout",
     "output_type": "stream",
     "text": [
      "\n",
      "Iteration: 80 Loss: 92757013.92538626 Difference: 4.611638374403158\n"
     ]
    },
    {
     "name": "stderr",
     "output_type": "stream",
     "text": [
      "60000it [00:07, 7703.41it/s]\n",
      "651it [00:00, 6467.95it/s]"
     ]
    },
    {
     "name": "stdout",
     "output_type": "stream",
     "text": [
      "\n",
      "Iteration: 81 Loss: 92757000.9447187 Difference: 4.569733423835484\n"
     ]
    },
    {
     "name": "stderr",
     "output_type": "stream",
     "text": [
      "60000it [00:07, 7966.24it/s]\n",
      "695it [00:00, 6702.25it/s]"
     ]
    },
    {
     "name": "stdout",
     "output_type": "stream",
     "text": [
      "\n",
      "Iteration: 82 Loss: 92756999.34594993 Difference: 5.036846840916565\n"
     ]
    },
    {
     "name": "stderr",
     "output_type": "stream",
     "text": [
      "60000it [00:07, 7631.65it/s]\n",
      "677it [00:00, 6496.46it/s]"
     ]
    },
    {
     "name": "stdout",
     "output_type": "stream",
     "text": [
      "\n",
      "Iteration: 83 Loss: 92757110.47337997 Difference: 3.336604578028256\n"
     ]
    },
    {
     "name": "stderr",
     "output_type": "stream",
     "text": [
      "60000it [00:10, 5957.29it/s]\n",
      "541it [00:00, 5340.57it/s]"
     ]
    },
    {
     "name": "stdout",
     "output_type": "stream",
     "text": [
      "\n",
      "Iteration: 84 Loss: 92757178.96653993 Difference: 3.2587105477901015\n"
     ]
    },
    {
     "name": "stderr",
     "output_type": "stream",
     "text": [
      "60000it [00:11, 5102.82it/s]\n",
      "560it [00:00, 5399.87it/s]"
     ]
    },
    {
     "name": "stdout",
     "output_type": "stream",
     "text": [
      "\n",
      "Iteration: 85 Loss: 92757284.26137958 Difference: 3.35316580351615\n"
     ]
    },
    {
     "name": "stderr",
     "output_type": "stream",
     "text": [
      "60000it [00:11, 5045.15it/s]\n",
      "389it [00:00, 3810.86it/s]"
     ]
    },
    {
     "name": "stdout",
     "output_type": "stream",
     "text": [
      "\n",
      "Iteration: 86 Loss: 92757379.45582914 Difference: 2.901636077618318\n"
     ]
    },
    {
     "name": "stderr",
     "output_type": "stream",
     "text": [
      "60000it [00:10, 5501.95it/s]\n",
      "1673it [00:00, 7964.13it/s]"
     ]
    },
    {
     "name": "stdout",
     "output_type": "stream",
     "text": [
      "\n",
      "Iteration: 87 Loss: 92757395.3637334 Difference: 2.1169243821194446\n"
     ]
    },
    {
     "name": "stderr",
     "output_type": "stream",
     "text": [
      "60000it [00:08, 7219.88it/s]\n",
      "787it [00:00, 7501.56it/s]"
     ]
    },
    {
     "name": "stdout",
     "output_type": "stream",
     "text": [
      "\n",
      "Iteration: 88 Loss: 92757421.46026681 Difference: 2.1601957388132895\n"
     ]
    },
    {
     "name": "stderr",
     "output_type": "stream",
     "text": [
      "60000it [00:08, 6811.25it/s]\n",
      "1640it [00:00, 8138.95it/s]"
     ]
    },
    {
     "name": "stdout",
     "output_type": "stream",
     "text": [
      "\n",
      "Iteration: 89 Loss: 92757451.23684785 Difference: 2.1089096173164408\n"
     ]
    },
    {
     "name": "stderr",
     "output_type": "stream",
     "text": [
      "60000it [00:07, 7522.57it/s]\n",
      "657it [00:00, 6481.31it/s]"
     ]
    },
    {
     "name": "stdout",
     "output_type": "stream",
     "text": [
      "\n",
      "Iteration: 90 Loss: 92757494.93178368 Difference: 0.990154433021889\n"
     ]
    },
    {
     "name": "stderr",
     "output_type": "stream",
     "text": [
      "60000it [00:09, 6250.41it/s]\n",
      "715it [00:00, 6817.09it/s]"
     ]
    },
    {
     "name": "stdout",
     "output_type": "stream",
     "text": [
      "\n",
      "Iteration: 91 Loss: 92757489.06520964 Difference: 0.8029809822742825\n"
     ]
    },
    {
     "name": "stderr",
     "output_type": "stream",
     "text": [
      "60000it [00:09, 6635.50it/s]\n",
      "862it [00:00, 8256.60it/s]"
     ]
    },
    {
     "name": "stdout",
     "output_type": "stream",
     "text": [
      "\n",
      "Iteration: 92 Loss: 92757485.03919317 Difference: 0.3493285274722242\n"
     ]
    },
    {
     "name": "stderr",
     "output_type": "stream",
     "text": [
      "60000it [00:08, 7350.40it/s]\n",
      "1722it [00:00, 8388.76it/s]"
     ]
    },
    {
     "name": "stdout",
     "output_type": "stream",
     "text": [
      "\n",
      "Iteration: 93 Loss: 92757485.03852655 Difference: 0.38320203577939954\n"
     ]
    },
    {
     "name": "stderr",
     "output_type": "stream",
     "text": [
      "60000it [00:08, 7320.62it/s]\n",
      "1222it [00:00, 6217.95it/s]"
     ]
    },
    {
     "name": "stdout",
     "output_type": "stream",
     "text": [
      "\n",
      "Iteration: 94 Loss: 92757485.03852676 Difference: 6.557418132984829e-05\n"
     ]
    },
    {
     "name": "stderr",
     "output_type": "stream",
     "text": [
      "60000it [00:09, 6012.66it/s]\n"
     ]
    },
    {
     "name": "stdout",
     "output_type": "stream",
     "text": [
      "\n",
      "Iteration: 95 Loss: 92757485.03852676 Difference: 1.1269722702789412e-08\n",
      "Converged! With distance: 1.955121330061436e-12\n",
      "[cluster_label,no_occurence_of_label,total_samples_in_cluster,cluster_accuracy] [[2, 4187, 4552, 0.9198154657293497], [0, 2643, 2858, 0.9247725682295311], [1, 3684, 5007, 0.7357699221090473], [0, 2516, 2994, 0.8403473613894455], [8, 3505, 5848, 0.5993502051983585], [7, 2381, 6796, 0.3503531489111242], [6, 2282, 5610, 0.40677361853832444], [3, 3928, 7374, 0.5326823976132357], [4, 2224, 5144, 0.432348367029549], [1, 2987, 3980, 0.7505025125628141], [7, 2741, 6167, 0.44446246148856816], [6, 3269, 3670, 0.8907356948228883]]\n",
      "Accuracy: 0.6523261436351865\n"
     ]
    },
    {
     "name": "stderr",
     "output_type": "stream",
     "text": [
      "60000it [00:13, 4458.20it/s]\n",
      "234it [00:00, 2313.96it/s]"
     ]
    },
    {
     "name": "stdout",
     "output_type": "stream",
     "text": [
      "\n",
      "Iteration: 0 Loss: 100684179.8176661 Difference: 8212.606102815354\n"
     ]
    },
    {
     "name": "stderr",
     "output_type": "stream",
     "text": [
      "60000it [00:16, 3575.74it/s]\n",
      "414it [00:00, 4111.65it/s]"
     ]
    },
    {
     "name": "stdout",
     "output_type": "stream",
     "text": [
      "\n",
      "Iteration: 1 Loss: 95257852.6873542 Difference: 5122.811925628319\n"
     ]
    },
    {
     "name": "stderr",
     "output_type": "stream",
     "text": [
      "60000it [00:13, 4409.61it/s]\n",
      "608it [00:00, 6058.79it/s]"
     ]
    },
    {
     "name": "stdout",
     "output_type": "stream",
     "text": [
      "\n",
      "Iteration: 2 Loss: 94171433.60562807 Difference: 1012.398978864947\n"
     ]
    },
    {
     "name": "stderr",
     "output_type": "stream",
     "text": [
      "60000it [00:08, 6696.70it/s]\n",
      "691it [00:00, 6826.27it/s]"
     ]
    },
    {
     "name": "stdout",
     "output_type": "stream",
     "text": [
      "\n",
      "Iteration: 3 Loss: 93456527.30889605 Difference: 569.9496523715692\n"
     ]
    },
    {
     "name": "stderr",
     "output_type": "stream",
     "text": [
      "60000it [00:08, 7106.14it/s]\n",
      "733it [00:00, 7172.43it/s]"
     ]
    },
    {
     "name": "stdout",
     "output_type": "stream",
     "text": [
      "\n",
      "Iteration: 4 Loss: 92978389.5493458 Difference: 477.46061389249724\n"
     ]
    },
    {
     "name": "stderr",
     "output_type": "stream",
     "text": [
      "60000it [00:08, 7294.27it/s]\n",
      "541it [00:00, 5380.62it/s]"
     ]
    },
    {
     "name": "stdout",
     "output_type": "stream",
     "text": [
      "\n",
      "Iteration: 5 Loss: 92762836.12506294 Difference: 381.6211968872559\n"
     ]
    },
    {
     "name": "stderr",
     "output_type": "stream",
     "text": [
      "60000it [00:09, 6367.64it/s]\n",
      "714it [00:00, 7138.63it/s]"
     ]
    },
    {
     "name": "stdout",
     "output_type": "stream",
     "text": [
      "\n",
      "Iteration: 6 Loss: 92662848.44556966 Difference: 239.51478577238655\n"
     ]
    },
    {
     "name": "stderr",
     "output_type": "stream",
     "text": [
      "60000it [00:08, 6775.23it/s]\n",
      "657it [00:00, 6535.24it/s]"
     ]
    },
    {
     "name": "stdout",
     "output_type": "stream",
     "text": [
      "\n",
      "Iteration: 7 Loss: 92607336.46020576 Difference: 172.82448465290082\n"
     ]
    },
    {
     "name": "stderr",
     "output_type": "stream",
     "text": [
      "60000it [00:08, 7245.27it/s]\n",
      "598it [00:00, 5851.12it/s]"
     ]
    },
    {
     "name": "stdout",
     "output_type": "stream",
     "text": [
      "\n",
      "Iteration: 8 Loss: 92570606.58040369 Difference: 135.8926054496458\n"
     ]
    },
    {
     "name": "stderr",
     "output_type": "stream",
     "text": [
      "60000it [00:08, 6830.91it/s]\n",
      "814it [00:00, 7884.10it/s]"
     ]
    },
    {
     "name": "stdout",
     "output_type": "stream",
     "text": [
      "\n",
      "Iteration: 9 Loss: 92542792.75625615 Difference: 114.65056031653657\n"
     ]
    },
    {
     "name": "stderr",
     "output_type": "stream",
     "text": [
      "60000it [00:08, 7030.03it/s]\n",
      "792it [00:00, 7714.41it/s]"
     ]
    },
    {
     "name": "stdout",
     "output_type": "stream",
     "text": [
      "\n",
      "Iteration: 10 Loss: 92518131.70990792 Difference: 103.90461167772614\n"
     ]
    },
    {
     "name": "stderr",
     "output_type": "stream",
     "text": [
      "60000it [00:08, 6932.74it/s]\n",
      "433it [00:00, 4304.55it/s]"
     ]
    },
    {
     "name": "stdout",
     "output_type": "stream",
     "text": [
      "\n",
      "Iteration: 11 Loss: 92495269.10488015 Difference: 102.72498012268461\n"
     ]
    },
    {
     "name": "stderr",
     "output_type": "stream",
     "text": [
      "60000it [00:11, 5206.99it/s]\n",
      "716it [00:00, 6977.51it/s]"
     ]
    },
    {
     "name": "stdout",
     "output_type": "stream",
     "text": [
      "\n",
      "Iteration: 12 Loss: 92472877.67333882 Difference: 101.38242018054997\n"
     ]
    },
    {
     "name": "stderr",
     "output_type": "stream",
     "text": [
      "60000it [00:08, 7016.05it/s]\n",
      "669it [00:00, 6641.38it/s]"
     ]
    },
    {
     "name": "stdout",
     "output_type": "stream",
     "text": [
      "\n",
      "Iteration: 13 Loss: 92451166.43511288 Difference: 102.78221987380157\n"
     ]
    },
    {
     "name": "stderr",
     "output_type": "stream",
     "text": [
      "60000it [00:09, 6571.25it/s]\n",
      "547it [00:00, 5428.07it/s]"
     ]
    },
    {
     "name": "stdout",
     "output_type": "stream",
     "text": [
      "\n",
      "Iteration: 14 Loss: 92431611.98171945 Difference: 101.06459100818402\n"
     ]
    },
    {
     "name": "stderr",
     "output_type": "stream",
     "text": [
      "60000it [00:09, 6104.12it/s]\n",
      "500it [00:00, 4882.92it/s]"
     ]
    },
    {
     "name": "stdout",
     "output_type": "stream",
     "text": [
      "\n",
      "Iteration: 15 Loss: 92412559.22929156 Difference: 95.29576060848593\n"
     ]
    },
    {
     "name": "stderr",
     "output_type": "stream",
     "text": [
      "60000it [00:12, 4743.94it/s]\n",
      "251it [00:00, 2436.89it/s]"
     ]
    },
    {
     "name": "stdout",
     "output_type": "stream",
     "text": [
      "\n",
      "Iteration: 16 Loss: 92394164.73597917 Difference: 99.83551247295962\n"
     ]
    },
    {
     "name": "stderr",
     "output_type": "stream",
     "text": [
      "60000it [00:12, 4637.57it/s]\n",
      "500it [00:00, 4906.30it/s]"
     ]
    },
    {
     "name": "stdout",
     "output_type": "stream",
     "text": [
      "\n",
      "Iteration: 17 Loss: 92377226.01203516 Difference: 98.30906780398675\n"
     ]
    },
    {
     "name": "stderr",
     "output_type": "stream",
     "text": [
      "60000it [00:13, 4585.75it/s]\n",
      "564it [00:00, 5596.10it/s]"
     ]
    },
    {
     "name": "stdout",
     "output_type": "stream",
     "text": [
      "\n",
      "Iteration: 18 Loss: 92364838.90586405 Difference: 93.72439028750371\n"
     ]
    },
    {
     "name": "stderr",
     "output_type": "stream",
     "text": [
      "25456it [00:04, 5441.02it/s]\n"
     ]
    },
    {
     "ename": "KeyboardInterrupt",
     "evalue": "",
     "output_type": "error",
     "traceback": [
      "\u001b[1;31m---------------------------------------------------------------------------\u001b[0m",
      "\u001b[1;31mKeyboardInterrupt\u001b[0m                         Traceback (most recent call last)",
      "\u001b[1;32m<ipython-input-42-57ed00bf4904>\u001b[0m in \u001b[0;36m<module>\u001b[1;34m\u001b[0m\n\u001b[0;32m      4\u001b[0m \u001b[1;32mfor\u001b[0m \u001b[0mk\u001b[0m \u001b[1;32min\u001b[0m \u001b[0mrange\u001b[0m\u001b[1;33m(\u001b[0m\u001b[1;36m5\u001b[0m\u001b[1;33m,\u001b[0m\u001b[1;36m21\u001b[0m\u001b[1;33m)\u001b[0m\u001b[1;33m:\u001b[0m\u001b[1;33m\u001b[0m\u001b[1;33m\u001b[0m\u001b[0m\n\u001b[0;32m      5\u001b[0m     \u001b[0mkmeans\u001b[0m \u001b[1;33m=\u001b[0m \u001b[0mKMeans\u001b[0m\u001b[1;33m(\u001b[0m\u001b[0mn_clusters\u001b[0m\u001b[1;33m=\u001b[0m\u001b[0mk\u001b[0m\u001b[1;33m,\u001b[0m\u001b[0mmax_iter\u001b[0m\u001b[1;33m=\u001b[0m\u001b[1;36m200\u001b[0m\u001b[1;33m)\u001b[0m\u001b[1;33m\u001b[0m\u001b[1;33m\u001b[0m\u001b[0m\n\u001b[1;32m----> 6\u001b[1;33m     \u001b[0mkmeans\u001b[0m\u001b[1;33m.\u001b[0m\u001b[0mfit\u001b[0m\u001b[1;33m(\u001b[0m\u001b[0mx_train\u001b[0m\u001b[1;33m,\u001b[0m\u001b[0my_train\u001b[0m\u001b[1;33m)\u001b[0m\u001b[1;33m\u001b[0m\u001b[1;33m\u001b[0m\u001b[0m\n\u001b[0m\u001b[0;32m      7\u001b[0m     \u001b[0maccu\u001b[0m\u001b[1;33m.\u001b[0m\u001b[0mappend\u001b[0m\u001b[1;33m(\u001b[0m\u001b[0mkmeans\u001b[0m\u001b[1;33m.\u001b[0m\u001b[0maccuracy\u001b[0m\u001b[1;33m)\u001b[0m\u001b[1;33m\u001b[0m\u001b[1;33m\u001b[0m\u001b[0m\n\u001b[0;32m      8\u001b[0m     \u001b[0mjclust\u001b[0m\u001b[1;33m.\u001b[0m\u001b[0mappend\u001b[0m\u001b[1;33m(\u001b[0m\u001b[0mkmeans\u001b[0m\u001b[1;33m.\u001b[0m\u001b[0mcentroids_dist\u001b[0m\u001b[1;33m)\u001b[0m\u001b[1;33m\u001b[0m\u001b[1;33m\u001b[0m\u001b[0m\n",
      "\u001b[1;32m<ipython-input-12-cd99e82a65b5>\u001b[0m in \u001b[0;36mfit\u001b[1;34m(self, fit_data, fit_labels)\u001b[0m\n\u001b[0;32m     36\u001b[0m                 \u001b[0mmin_dist\u001b[0m \u001b[1;33m=\u001b[0m \u001b[0mfloat\u001b[0m\u001b[1;33m(\u001b[0m\u001b[1;34m'inf'\u001b[0m\u001b[1;33m)\u001b[0m\u001b[1;33m\u001b[0m\u001b[1;33m\u001b[0m\u001b[0m\n\u001b[0;32m     37\u001b[0m                 \u001b[1;32mfor\u001b[0m \u001b[0mi\u001b[0m\u001b[1;33m,\u001b[0m \u001b[0mcentroid\u001b[0m \u001b[1;32min\u001b[0m \u001b[0menumerate\u001b[0m\u001b[1;33m(\u001b[0m\u001b[0mself\u001b[0m\u001b[1;33m.\u001b[0m\u001b[0mcentroids\u001b[0m\u001b[1;33m)\u001b[0m\u001b[1;33m:\u001b[0m\u001b[1;33m\u001b[0m\u001b[1;33m\u001b[0m\u001b[0m\n\u001b[1;32m---> 38\u001b[1;33m                     \u001b[0mdist\u001b[0m \u001b[1;33m=\u001b[0m \u001b[0mnp\u001b[0m\u001b[1;33m.\u001b[0m\u001b[0mlinalg\u001b[0m\u001b[1;33m.\u001b[0m\u001b[0mnorm\u001b[0m\u001b[1;33m(\u001b[0m\u001b[0msample\u001b[0m\u001b[1;33m-\u001b[0m\u001b[0mcentroid\u001b[0m\u001b[1;33m)\u001b[0m\u001b[1;33m\u001b[0m\u001b[1;33m\u001b[0m\u001b[0m\n\u001b[0m\u001b[0;32m     39\u001b[0m                     \u001b[1;32mif\u001b[0m \u001b[0mdist\u001b[0m \u001b[1;33m<\u001b[0m \u001b[0mmin_dist\u001b[0m\u001b[1;33m:\u001b[0m\u001b[1;33m\u001b[0m\u001b[1;33m\u001b[0m\u001b[0m\n\u001b[0;32m     40\u001b[0m                         \u001b[0mmin_dist\u001b[0m \u001b[1;33m=\u001b[0m \u001b[0mdist\u001b[0m\u001b[1;33m\u001b[0m\u001b[1;33m\u001b[0m\u001b[0m\n",
      "\u001b[1;32m<__array_function__ internals>\u001b[0m in \u001b[0;36mnorm\u001b[1;34m(*args, **kwargs)\u001b[0m\n",
      "\u001b[1;32m~\\anaconda3\\lib\\site-packages\\numpy\\linalg\\linalg.py\u001b[0m in \u001b[0;36mnorm\u001b[1;34m(x, ord, axis, keepdims)\u001b[0m\n\u001b[0;32m   2474\u001b[0m                 \u001b[0msqnorm\u001b[0m \u001b[1;33m=\u001b[0m \u001b[0mdot\u001b[0m\u001b[1;33m(\u001b[0m\u001b[0mx\u001b[0m\u001b[1;33m.\u001b[0m\u001b[0mreal\u001b[0m\u001b[1;33m,\u001b[0m \u001b[0mx\u001b[0m\u001b[1;33m.\u001b[0m\u001b[0mreal\u001b[0m\u001b[1;33m)\u001b[0m \u001b[1;33m+\u001b[0m \u001b[0mdot\u001b[0m\u001b[1;33m(\u001b[0m\u001b[0mx\u001b[0m\u001b[1;33m.\u001b[0m\u001b[0mimag\u001b[0m\u001b[1;33m,\u001b[0m \u001b[0mx\u001b[0m\u001b[1;33m.\u001b[0m\u001b[0mimag\u001b[0m\u001b[1;33m)\u001b[0m\u001b[1;33m\u001b[0m\u001b[1;33m\u001b[0m\u001b[0m\n\u001b[0;32m   2475\u001b[0m             \u001b[1;32melse\u001b[0m\u001b[1;33m:\u001b[0m\u001b[1;33m\u001b[0m\u001b[1;33m\u001b[0m\u001b[0m\n\u001b[1;32m-> 2476\u001b[1;33m                 \u001b[0msqnorm\u001b[0m \u001b[1;33m=\u001b[0m \u001b[0mdot\u001b[0m\u001b[1;33m(\u001b[0m\u001b[0mx\u001b[0m\u001b[1;33m,\u001b[0m \u001b[0mx\u001b[0m\u001b[1;33m)\u001b[0m\u001b[1;33m\u001b[0m\u001b[1;33m\u001b[0m\u001b[0m\n\u001b[0m\u001b[0;32m   2477\u001b[0m             \u001b[0mret\u001b[0m \u001b[1;33m=\u001b[0m \u001b[0msqrt\u001b[0m\u001b[1;33m(\u001b[0m\u001b[0msqnorm\u001b[0m\u001b[1;33m)\u001b[0m\u001b[1;33m\u001b[0m\u001b[1;33m\u001b[0m\u001b[0m\n\u001b[0;32m   2478\u001b[0m             \u001b[1;32mif\u001b[0m \u001b[0mkeepdims\u001b[0m\u001b[1;33m:\u001b[0m\u001b[1;33m\u001b[0m\u001b[1;33m\u001b[0m\u001b[0m\n",
      "\u001b[1;32m<__array_function__ internals>\u001b[0m in \u001b[0;36mdot\u001b[1;34m(*args, **kwargs)\u001b[0m\n",
      "\u001b[1;31mKeyboardInterrupt\u001b[0m: "
     ]
    }
   ],
   "source": [
    "jclust = []\n",
    "accu = []\n",
    "\n",
    "for k in range(5,21):\n",
    "    kmeans = KMeans(n_clusters=k,max_iter=200)\n",
    "    kmeans.fit(x_train,y_train)\n",
    "    accu.append(kmeans.accuracy)\n",
    "    jclust.append(kmeans.centroids_dist)\n",
    "    "
   ]
  },
  {
   "cell_type": "code",
   "execution_count": 43,
   "metadata": {},
   "outputs": [
    {
     "data": {
      "text/plain": [
       "[0.38743147353857776,\n",
       " 0.5097732642781048,\n",
       " 0.5673822107965606,\n",
       " 0.6208420231868594,\n",
       " 0.6259590102959058,\n",
       " 0.5679348156231516,\n",
       " 0.6155843382463672,\n",
       " 0.6523261436351865]"
      ]
     },
     "execution_count": 43,
     "metadata": {},
     "output_type": "execute_result"
    }
   ],
   "source": [
    "accu"
   ]
  },
  {
   "cell_type": "code",
   "execution_count": 44,
   "metadata": {},
   "outputs": [
    {
     "data": {
      "text/plain": [
       "[2.1386488320554524e-13,\n",
       " 3.7741891389896835e-13,\n",
       " 5.427938214947754e-13,\n",
       " 2.067428417386831e-12,\n",
       " 3.0550141081410052e-12,\n",
       " 9.016510965230582e-13,\n",
       " 1.3088708771188287e-12,\n",
       " 1.955121330061436e-12]"
      ]
     },
     "execution_count": 44,
     "metadata": {},
     "output_type": "execute_result"
    }
   ],
   "source": [
    "jclust"
   ]
  },
  {
   "cell_type": "code",
   "execution_count": null,
   "metadata": {},
   "outputs": [],
   "source": []
  },
  {
   "cell_type": "code",
   "execution_count": 48,
   "metadata": {},
   "outputs": [
    {
     "name": "stdout",
     "output_type": "stream",
     "text": [
      "\n",
      " 5    0.38743147353857776   2.1386488320554524e-13 \n",
      "\n",
      "\n",
      " 6    0.5097732642781048   3.7741891389896835e-13 \n",
      "\n",
      "\n",
      " 7    0.5673822107965606   5.427938214947754e-13 \n",
      "\n",
      "\n",
      " 8    0.6208420231868594   2.067428417386831e-12 \n",
      "\n",
      "\n",
      " 9    0.6259590102959058   3.0550141081410052e-12 \n",
      "\n",
      "\n",
      " 10    0.5679348156231516   9.016510965230582e-13 \n",
      "\n",
      "\n",
      " 11    0.6155843382463672   1.3088708771188287e-12 \n",
      "\n",
      "\n",
      " 12    0.6523261436351865   1.955121330061436e-12 \n",
      "\n"
     ]
    }
   ],
   "source": [
    "k = 5\n",
    "for i in range(0,8):\n",
    "    print(\"\\n\",k, \"  \",accu[i],\" \",jclust[i],\"\\n\")\n",
    "    k=k+1"
   ]
  },
  {
   "cell_type": "code",
   "execution_count": null,
   "metadata": {},
   "outputs": [],
   "source": []
  }
 ],
 "metadata": {
  "kernelspec": {
   "display_name": "Python 3",
   "language": "python",
   "name": "python3"
  },
  "language_info": {
   "codemirror_mode": {
    "name": "ipython",
    "version": 3
   },
   "file_extension": ".py",
   "mimetype": "text/x-python",
   "name": "python",
   "nbconvert_exporter": "python",
   "pygments_lexer": "ipython3",
   "version": "3.8.3"
  }
 },
 "nbformat": 4,
 "nbformat_minor": 4
}
