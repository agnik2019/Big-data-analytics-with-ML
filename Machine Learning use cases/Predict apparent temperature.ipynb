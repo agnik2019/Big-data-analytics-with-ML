{
 "cells": [
  {
   "cell_type": "markdown",
   "metadata": {},
   "source": [
    "## Problem Definition\n",
    "- The problem mainly asks to predict the apparent temperature given the humidity. What is this apparent temperature?\n",
    "- Apparent temperature is the temperature equivalent perceived by humans, caused by the combined effects of air temperature, relative humidity and wind speed. -Wikipedia"
   ]
  },
  {
   "cell_type": "markdown",
   "metadata": {},
   "source": [
    "# Background Study\n",
    "\n",
    "**What is humidity?** - Humidity is a measure of the amount of water vapor in the air. Humidity depends on the temperature and pressure of the system of interest.\n",
    "\n",
    "**What is temparature?** - Temperature is a physical quantity that expresses hot and cold. Temperature Depends on Particle Movement!\n",
    "\n",
    "**Wind Bearing-**\n",
    "The direction where the wind is came"
   ]
  },
  {
   "cell_type": "markdown",
   "metadata": {},
   "source": [
    "Import Statements"
   ]
  },
  {
   "cell_type": "code",
   "execution_count": 1,
   "metadata": {},
   "outputs": [],
   "source": [
    "import pandas as pd\n",
    "import numpy as np\n",
    "import io\n",
    "import matplotlib.pyplot as plt\n",
    "import seaborn as sns\n",
    "import scipy.stats as stats\n",
    "import warnings\n",
    "warnings.filterwarnings(\"ignore\")\n",
    "from sklearn.preprocessing import FunctionTransformer\n",
    "from sklearn.preprocessing import StandardScaler\n",
    "from sklearn.preprocessing import KBinsDiscretizer"
   ]
  },
  {
   "cell_type": "code",
   "execution_count": 2,
   "metadata": {},
   "outputs": [],
   "source": [
    "weatherDataframe = pd.read_csv('weatherHistory.csv')\n",
    "# Dataset is now stored in a Pandas Dataframe"
   ]
  },
  {
   "cell_type": "code",
   "execution_count": 3,
   "metadata": {},
   "outputs": [
    {
     "name": "stdout",
     "output_type": "stream",
     "text": [
      "<class 'pandas.core.frame.DataFrame'>\n",
      "RangeIndex: 96453 entries, 0 to 96452\n",
      "Data columns (total 12 columns):\n",
      " #   Column                    Non-Null Count  Dtype  \n",
      "---  ------                    --------------  -----  \n",
      " 0   Formatted Date            96453 non-null  object \n",
      " 1   Summary                   96453 non-null  object \n",
      " 2   Precip Type               95936 non-null  object \n",
      " 3   Temperature (C)           96453 non-null  float64\n",
      " 4   Apparent Temperature (C)  96453 non-null  float64\n",
      " 5   Humidity                  96453 non-null  float64\n",
      " 6   Wind Speed (km/h)         96453 non-null  float64\n",
      " 7   Wind Bearing (degrees)    96453 non-null  float64\n",
      " 8   Visibility (km)           96453 non-null  float64\n",
      " 9   Loud Cover                96453 non-null  float64\n",
      " 10  Pressure (millibars)      96453 non-null  float64\n",
      " 11  Daily Summary             96453 non-null  object \n",
      "dtypes: float64(8), object(4)\n",
      "memory usage: 8.8+ MB\n"
     ]
    }
   ],
   "source": [
    "weatherDataframe.info()"
   ]
  },
  {
   "cell_type": "code",
   "execution_count": 4,
   "metadata": {},
   "outputs": [
    {
     "data": {
      "text/html": [
       "<div>\n",
       "<style scoped>\n",
       "    .dataframe tbody tr th:only-of-type {\n",
       "        vertical-align: middle;\n",
       "    }\n",
       "\n",
       "    .dataframe tbody tr th {\n",
       "        vertical-align: top;\n",
       "    }\n",
       "\n",
       "    .dataframe thead th {\n",
       "        text-align: right;\n",
       "    }\n",
       "</style>\n",
       "<table border=\"1\" class=\"dataframe\">\n",
       "  <thead>\n",
       "    <tr style=\"text-align: right;\">\n",
       "      <th></th>\n",
       "      <th>Formatted Date</th>\n",
       "      <th>Summary</th>\n",
       "      <th>Precip Type</th>\n",
       "      <th>Temperature (C)</th>\n",
       "      <th>Apparent Temperature (C)</th>\n",
       "      <th>Humidity</th>\n",
       "      <th>Wind Speed (km/h)</th>\n",
       "      <th>Wind Bearing (degrees)</th>\n",
       "      <th>Visibility (km)</th>\n",
       "      <th>Loud Cover</th>\n",
       "      <th>Pressure (millibars)</th>\n",
       "      <th>Daily Summary</th>\n",
       "    </tr>\n",
       "  </thead>\n",
       "  <tbody>\n",
       "    <tr>\n",
       "      <th>0</th>\n",
       "      <td>2006-04-01 00:00:00.000 +0200</td>\n",
       "      <td>Partly Cloudy</td>\n",
       "      <td>rain</td>\n",
       "      <td>9.472222</td>\n",
       "      <td>7.388889</td>\n",
       "      <td>0.89</td>\n",
       "      <td>14.1197</td>\n",
       "      <td>251.0</td>\n",
       "      <td>15.8263</td>\n",
       "      <td>0.0</td>\n",
       "      <td>1015.13</td>\n",
       "      <td>Partly cloudy throughout the day.</td>\n",
       "    </tr>\n",
       "    <tr>\n",
       "      <th>1</th>\n",
       "      <td>2006-04-01 01:00:00.000 +0200</td>\n",
       "      <td>Partly Cloudy</td>\n",
       "      <td>rain</td>\n",
       "      <td>9.355556</td>\n",
       "      <td>7.227778</td>\n",
       "      <td>0.86</td>\n",
       "      <td>14.2646</td>\n",
       "      <td>259.0</td>\n",
       "      <td>15.8263</td>\n",
       "      <td>0.0</td>\n",
       "      <td>1015.63</td>\n",
       "      <td>Partly cloudy throughout the day.</td>\n",
       "    </tr>\n",
       "    <tr>\n",
       "      <th>2</th>\n",
       "      <td>2006-04-01 02:00:00.000 +0200</td>\n",
       "      <td>Mostly Cloudy</td>\n",
       "      <td>rain</td>\n",
       "      <td>9.377778</td>\n",
       "      <td>9.377778</td>\n",
       "      <td>0.89</td>\n",
       "      <td>3.9284</td>\n",
       "      <td>204.0</td>\n",
       "      <td>14.9569</td>\n",
       "      <td>0.0</td>\n",
       "      <td>1015.94</td>\n",
       "      <td>Partly cloudy throughout the day.</td>\n",
       "    </tr>\n",
       "    <tr>\n",
       "      <th>3</th>\n",
       "      <td>2006-04-01 03:00:00.000 +0200</td>\n",
       "      <td>Partly Cloudy</td>\n",
       "      <td>rain</td>\n",
       "      <td>8.288889</td>\n",
       "      <td>5.944444</td>\n",
       "      <td>0.83</td>\n",
       "      <td>14.1036</td>\n",
       "      <td>269.0</td>\n",
       "      <td>15.8263</td>\n",
       "      <td>0.0</td>\n",
       "      <td>1016.41</td>\n",
       "      <td>Partly cloudy throughout the day.</td>\n",
       "    </tr>\n",
       "    <tr>\n",
       "      <th>4</th>\n",
       "      <td>2006-04-01 04:00:00.000 +0200</td>\n",
       "      <td>Mostly Cloudy</td>\n",
       "      <td>rain</td>\n",
       "      <td>8.755556</td>\n",
       "      <td>6.977778</td>\n",
       "      <td>0.83</td>\n",
       "      <td>11.0446</td>\n",
       "      <td>259.0</td>\n",
       "      <td>15.8263</td>\n",
       "      <td>0.0</td>\n",
       "      <td>1016.51</td>\n",
       "      <td>Partly cloudy throughout the day.</td>\n",
       "    </tr>\n",
       "  </tbody>\n",
       "</table>\n",
       "</div>"
      ],
      "text/plain": [
       "                  Formatted Date        Summary Precip Type  Temperature (C)  \\\n",
       "0  2006-04-01 00:00:00.000 +0200  Partly Cloudy        rain         9.472222   \n",
       "1  2006-04-01 01:00:00.000 +0200  Partly Cloudy        rain         9.355556   \n",
       "2  2006-04-01 02:00:00.000 +0200  Mostly Cloudy        rain         9.377778   \n",
       "3  2006-04-01 03:00:00.000 +0200  Partly Cloudy        rain         8.288889   \n",
       "4  2006-04-01 04:00:00.000 +0200  Mostly Cloudy        rain         8.755556   \n",
       "\n",
       "   Apparent Temperature (C)  Humidity  Wind Speed (km/h)  \\\n",
       "0                  7.388889      0.89            14.1197   \n",
       "1                  7.227778      0.86            14.2646   \n",
       "2                  9.377778      0.89             3.9284   \n",
       "3                  5.944444      0.83            14.1036   \n",
       "4                  6.977778      0.83            11.0446   \n",
       "\n",
       "   Wind Bearing (degrees)  Visibility (km)  Loud Cover  Pressure (millibars)  \\\n",
       "0                   251.0          15.8263         0.0               1015.13   \n",
       "1                   259.0          15.8263         0.0               1015.63   \n",
       "2                   204.0          14.9569         0.0               1015.94   \n",
       "3                   269.0          15.8263         0.0               1016.41   \n",
       "4                   259.0          15.8263         0.0               1016.51   \n",
       "\n",
       "                       Daily Summary  \n",
       "0  Partly cloudy throughout the day.  \n",
       "1  Partly cloudy throughout the day.  \n",
       "2  Partly cloudy throughout the day.  \n",
       "3  Partly cloudy throughout the day.  \n",
       "4  Partly cloudy throughout the day.  "
      ]
     },
     "execution_count": 4,
     "metadata": {},
     "output_type": "execute_result"
    }
   ],
   "source": [
    "weatherDataframe.head()"
   ]
  },
  {
   "cell_type": "markdown",
   "metadata": {},
   "source": [
    "# (a). **Preprocess the dataset as specified in the data mining process:**"
   ]
  },
  {
   "cell_type": "markdown",
   "metadata": {},
   "source": [
    "First of all we need to remove Columns That Contain a Single Value (Unique value columns)."
   ]
  },
  {
   "cell_type": "code",
   "execution_count": 5,
   "metadata": {},
   "outputs": [
    {
     "name": "stdout",
     "output_type": "stream",
     "text": [
      "Formatted Date              96429\n",
      "Summary                        27\n",
      "Precip Type                     2\n",
      "Temperature (C)              7574\n",
      "Apparent Temperature (C)     8984\n",
      "Humidity                       90\n",
      "Wind Speed (km/h)            2484\n",
      "Wind Bearing (degrees)        360\n",
      "Visibility (km)               949\n",
      "Loud Cover                      1\n",
      "Pressure (millibars)         4979\n",
      "Daily Summary                 214\n",
      "dtype: int64\n"
     ]
    }
   ],
   "source": [
    "# summarize the number of unique values in each column\n",
    "print(weatherDataframe.nunique())"
   ]
  },
  {
   "cell_type": "markdown",
   "metadata": {},
   "source": [
    "You can see loud cover feature contain only one value. So we can remove that column. Also you can see Formatted date is giving unique value count as near to the count of data rows. So we should remove that one as well."
   ]
  },
  {
   "cell_type": "markdown",
   "metadata": {},
   "source": [
    "To help highlight columns of this type, you can calculate the number of unique values for each variable as a percentage of the total number of rows in the dataset."
   ]
  },
  {
   "cell_type": "code",
   "execution_count": 6,
   "metadata": {},
   "outputs": [
    {
     "name": "stdout",
     "output_type": "stream",
     "text": [
      "Formatted Date, 96429, 100.0%\n",
      "Summary, 27, 0.0%\n",
      "Precip Type, 3, 0.0%\n",
      "Temperature (C), 7574, 7.9%\n",
      "Apparent Temperature (C), 8984, 9.3%\n",
      "Humidity, 90, 0.1%\n",
      "Wind Speed (km/h), 2484, 2.6%\n",
      "Wind Bearing (degrees), 360, 0.4%\n",
      "Visibility (km), 949, 1.0%\n",
      "Loud Cover, 1, 0.0%\n",
      "Pressure (millibars), 4979, 5.2%\n",
      "Daily Summary, 214, 0.2%\n"
     ]
    }
   ],
   "source": [
    "from numpy import unique\n",
    "\n",
    "data = weatherDataframe.to_numpy().astype(str)\n",
    "\n",
    "# summarize the number of unique values in each column\n",
    "for i in range(data.shape[1]):\n",
    "\tnum = len(unique(data[:, i]))\n",
    "\tpercentage = float(num) / data.shape[0] * 100\n",
    "\tprint('%s, %d, %.1f%%' % (weatherDataframe.columns[i], num, percentage))"
   ]
  },
  {
   "cell_type": "markdown",
   "metadata": {},
   "source": [
    "As we can see Formatted Date column taking 100% number of unique value compared with datapoints. So we sould drop that column as well.Also by looking at the dataset we can conclude that Daily summary and Summary columns have a great similarity. (They looking derived attributes) So we can remove one of them. So I'll keep the Summary . So our final dataframe will be as follows"
   ]
  },
  {
   "cell_type": "code",
   "execution_count": 7,
   "metadata": {},
   "outputs": [
    {
     "data": {
      "text/html": [
       "<div>\n",
       "<style scoped>\n",
       "    .dataframe tbody tr th:only-of-type {\n",
       "        vertical-align: middle;\n",
       "    }\n",
       "\n",
       "    .dataframe tbody tr th {\n",
       "        vertical-align: top;\n",
       "    }\n",
       "\n",
       "    .dataframe thead th {\n",
       "        text-align: right;\n",
       "    }\n",
       "</style>\n",
       "<table border=\"1\" class=\"dataframe\">\n",
       "  <thead>\n",
       "    <tr style=\"text-align: right;\">\n",
       "      <th></th>\n",
       "      <th>Summary</th>\n",
       "      <th>Precip Type</th>\n",
       "      <th>Temperature (C)</th>\n",
       "      <th>Apparent Temperature (C)</th>\n",
       "      <th>Humidity</th>\n",
       "      <th>Wind Speed (km/h)</th>\n",
       "      <th>Wind Bearing (degrees)</th>\n",
       "      <th>Visibility (km)</th>\n",
       "      <th>Pressure (millibars)</th>\n",
       "    </tr>\n",
       "  </thead>\n",
       "  <tbody>\n",
       "    <tr>\n",
       "      <th>0</th>\n",
       "      <td>Partly Cloudy</td>\n",
       "      <td>rain</td>\n",
       "      <td>9.472222</td>\n",
       "      <td>7.388889</td>\n",
       "      <td>0.89</td>\n",
       "      <td>14.1197</td>\n",
       "      <td>251.0</td>\n",
       "      <td>15.8263</td>\n",
       "      <td>1015.13</td>\n",
       "    </tr>\n",
       "    <tr>\n",
       "      <th>1</th>\n",
       "      <td>Partly Cloudy</td>\n",
       "      <td>rain</td>\n",
       "      <td>9.355556</td>\n",
       "      <td>7.227778</td>\n",
       "      <td>0.86</td>\n",
       "      <td>14.2646</td>\n",
       "      <td>259.0</td>\n",
       "      <td>15.8263</td>\n",
       "      <td>1015.63</td>\n",
       "    </tr>\n",
       "    <tr>\n",
       "      <th>2</th>\n",
       "      <td>Mostly Cloudy</td>\n",
       "      <td>rain</td>\n",
       "      <td>9.377778</td>\n",
       "      <td>9.377778</td>\n",
       "      <td>0.89</td>\n",
       "      <td>3.9284</td>\n",
       "      <td>204.0</td>\n",
       "      <td>14.9569</td>\n",
       "      <td>1015.94</td>\n",
       "    </tr>\n",
       "    <tr>\n",
       "      <th>3</th>\n",
       "      <td>Partly Cloudy</td>\n",
       "      <td>rain</td>\n",
       "      <td>8.288889</td>\n",
       "      <td>5.944444</td>\n",
       "      <td>0.83</td>\n",
       "      <td>14.1036</td>\n",
       "      <td>269.0</td>\n",
       "      <td>15.8263</td>\n",
       "      <td>1016.41</td>\n",
       "    </tr>\n",
       "    <tr>\n",
       "      <th>4</th>\n",
       "      <td>Mostly Cloudy</td>\n",
       "      <td>rain</td>\n",
       "      <td>8.755556</td>\n",
       "      <td>6.977778</td>\n",
       "      <td>0.83</td>\n",
       "      <td>11.0446</td>\n",
       "      <td>259.0</td>\n",
       "      <td>15.8263</td>\n",
       "      <td>1016.51</td>\n",
       "    </tr>\n",
       "    <tr>\n",
       "      <th>...</th>\n",
       "      <td>...</td>\n",
       "      <td>...</td>\n",
       "      <td>...</td>\n",
       "      <td>...</td>\n",
       "      <td>...</td>\n",
       "      <td>...</td>\n",
       "      <td>...</td>\n",
       "      <td>...</td>\n",
       "      <td>...</td>\n",
       "    </tr>\n",
       "    <tr>\n",
       "      <th>96448</th>\n",
       "      <td>Partly Cloudy</td>\n",
       "      <td>rain</td>\n",
       "      <td>26.016667</td>\n",
       "      <td>26.016667</td>\n",
       "      <td>0.43</td>\n",
       "      <td>10.9963</td>\n",
       "      <td>31.0</td>\n",
       "      <td>16.1000</td>\n",
       "      <td>1014.36</td>\n",
       "    </tr>\n",
       "    <tr>\n",
       "      <th>96449</th>\n",
       "      <td>Partly Cloudy</td>\n",
       "      <td>rain</td>\n",
       "      <td>24.583333</td>\n",
       "      <td>24.583333</td>\n",
       "      <td>0.48</td>\n",
       "      <td>10.0947</td>\n",
       "      <td>20.0</td>\n",
       "      <td>15.5526</td>\n",
       "      <td>1015.16</td>\n",
       "    </tr>\n",
       "    <tr>\n",
       "      <th>96450</th>\n",
       "      <td>Partly Cloudy</td>\n",
       "      <td>rain</td>\n",
       "      <td>22.038889</td>\n",
       "      <td>22.038889</td>\n",
       "      <td>0.56</td>\n",
       "      <td>8.9838</td>\n",
       "      <td>30.0</td>\n",
       "      <td>16.1000</td>\n",
       "      <td>1015.66</td>\n",
       "    </tr>\n",
       "    <tr>\n",
       "      <th>96451</th>\n",
       "      <td>Partly Cloudy</td>\n",
       "      <td>rain</td>\n",
       "      <td>21.522222</td>\n",
       "      <td>21.522222</td>\n",
       "      <td>0.60</td>\n",
       "      <td>10.5294</td>\n",
       "      <td>20.0</td>\n",
       "      <td>16.1000</td>\n",
       "      <td>1015.95</td>\n",
       "    </tr>\n",
       "    <tr>\n",
       "      <th>96452</th>\n",
       "      <td>Partly Cloudy</td>\n",
       "      <td>rain</td>\n",
       "      <td>20.438889</td>\n",
       "      <td>20.438889</td>\n",
       "      <td>0.61</td>\n",
       "      <td>5.8765</td>\n",
       "      <td>39.0</td>\n",
       "      <td>15.5204</td>\n",
       "      <td>1016.16</td>\n",
       "    </tr>\n",
       "  </tbody>\n",
       "</table>\n",
       "<p>96453 rows × 9 columns</p>\n",
       "</div>"
      ],
      "text/plain": [
       "             Summary Precip Type  Temperature (C)  Apparent Temperature (C)  \\\n",
       "0      Partly Cloudy        rain         9.472222                  7.388889   \n",
       "1      Partly Cloudy        rain         9.355556                  7.227778   \n",
       "2      Mostly Cloudy        rain         9.377778                  9.377778   \n",
       "3      Partly Cloudy        rain         8.288889                  5.944444   \n",
       "4      Mostly Cloudy        rain         8.755556                  6.977778   \n",
       "...              ...         ...              ...                       ...   \n",
       "96448  Partly Cloudy        rain        26.016667                 26.016667   \n",
       "96449  Partly Cloudy        rain        24.583333                 24.583333   \n",
       "96450  Partly Cloudy        rain        22.038889                 22.038889   \n",
       "96451  Partly Cloudy        rain        21.522222                 21.522222   \n",
       "96452  Partly Cloudy        rain        20.438889                 20.438889   \n",
       "\n",
       "       Humidity  Wind Speed (km/h)  Wind Bearing (degrees)  Visibility (km)  \\\n",
       "0          0.89            14.1197                   251.0          15.8263   \n",
       "1          0.86            14.2646                   259.0          15.8263   \n",
       "2          0.89             3.9284                   204.0          14.9569   \n",
       "3          0.83            14.1036                   269.0          15.8263   \n",
       "4          0.83            11.0446                   259.0          15.8263   \n",
       "...         ...                ...                     ...              ...   \n",
       "96448      0.43            10.9963                    31.0          16.1000   \n",
       "96449      0.48            10.0947                    20.0          15.5526   \n",
       "96450      0.56             8.9838                    30.0          16.1000   \n",
       "96451      0.60            10.5294                    20.0          16.1000   \n",
       "96452      0.61             5.8765                    39.0          15.5204   \n",
       "\n",
       "       Pressure (millibars)  \n",
       "0                   1015.13  \n",
       "1                   1015.63  \n",
       "2                   1015.94  \n",
       "3                   1016.41  \n",
       "4                   1016.51  \n",
       "...                     ...  \n",
       "96448               1014.36  \n",
       "96449               1015.16  \n",
       "96450               1015.66  \n",
       "96451               1015.95  \n",
       "96452               1016.16  \n",
       "\n",
       "[96453 rows x 9 columns]"
      ]
     },
     "execution_count": 7,
     "metadata": {},
     "output_type": "execute_result"
    }
   ],
   "source": [
    "dropColumns=['Formatted Date','Loud Cover','Daily Summary']\n",
    "weatherDataframe.drop(dropColumns, inplace=True, axis=1)\n",
    "weatherDataframe"
   ]
  },
  {
   "cell_type": "markdown",
   "metadata": {},
   "source": [
    "We need to find out duplicate rows and remove them as well."
   ]
  },
  {
   "cell_type": "code",
   "execution_count": 8,
   "metadata": {},
   "outputs": [
    {
     "data": {
      "text/html": [
       "<div>\n",
       "<style scoped>\n",
       "    .dataframe tbody tr th:only-of-type {\n",
       "        vertical-align: middle;\n",
       "    }\n",
       "\n",
       "    .dataframe tbody tr th {\n",
       "        vertical-align: top;\n",
       "    }\n",
       "\n",
       "    .dataframe thead th {\n",
       "        text-align: right;\n",
       "    }\n",
       "</style>\n",
       "<table border=\"1\" class=\"dataframe\">\n",
       "  <thead>\n",
       "    <tr style=\"text-align: right;\">\n",
       "      <th></th>\n",
       "      <th>Summary</th>\n",
       "      <th>Precip Type</th>\n",
       "      <th>Temperature (C)</th>\n",
       "      <th>Apparent Temperature (C)</th>\n",
       "      <th>Humidity</th>\n",
       "      <th>Wind Speed (km/h)</th>\n",
       "      <th>Wind Bearing (degrees)</th>\n",
       "      <th>Visibility (km)</th>\n",
       "      <th>Pressure (millibars)</th>\n",
       "    </tr>\n",
       "  </thead>\n",
       "  <tbody>\n",
       "    <tr>\n",
       "      <th>0</th>\n",
       "      <td>Partly Cloudy</td>\n",
       "      <td>rain</td>\n",
       "      <td>9.472222</td>\n",
       "      <td>7.388889</td>\n",
       "      <td>0.89</td>\n",
       "      <td>14.1197</td>\n",
       "      <td>251.0</td>\n",
       "      <td>15.8263</td>\n",
       "      <td>1015.13</td>\n",
       "    </tr>\n",
       "    <tr>\n",
       "      <th>1</th>\n",
       "      <td>Partly Cloudy</td>\n",
       "      <td>rain</td>\n",
       "      <td>9.355556</td>\n",
       "      <td>7.227778</td>\n",
       "      <td>0.86</td>\n",
       "      <td>14.2646</td>\n",
       "      <td>259.0</td>\n",
       "      <td>15.8263</td>\n",
       "      <td>1015.63</td>\n",
       "    </tr>\n",
       "    <tr>\n",
       "      <th>2</th>\n",
       "      <td>Mostly Cloudy</td>\n",
       "      <td>rain</td>\n",
       "      <td>9.377778</td>\n",
       "      <td>9.377778</td>\n",
       "      <td>0.89</td>\n",
       "      <td>3.9284</td>\n",
       "      <td>204.0</td>\n",
       "      <td>14.9569</td>\n",
       "      <td>1015.94</td>\n",
       "    </tr>\n",
       "    <tr>\n",
       "      <th>3</th>\n",
       "      <td>Partly Cloudy</td>\n",
       "      <td>rain</td>\n",
       "      <td>8.288889</td>\n",
       "      <td>5.944444</td>\n",
       "      <td>0.83</td>\n",
       "      <td>14.1036</td>\n",
       "      <td>269.0</td>\n",
       "      <td>15.8263</td>\n",
       "      <td>1016.41</td>\n",
       "    </tr>\n",
       "    <tr>\n",
       "      <th>4</th>\n",
       "      <td>Mostly Cloudy</td>\n",
       "      <td>rain</td>\n",
       "      <td>8.755556</td>\n",
       "      <td>6.977778</td>\n",
       "      <td>0.83</td>\n",
       "      <td>11.0446</td>\n",
       "      <td>259.0</td>\n",
       "      <td>15.8263</td>\n",
       "      <td>1016.51</td>\n",
       "    </tr>\n",
       "    <tr>\n",
       "      <th>...</th>\n",
       "      <td>...</td>\n",
       "      <td>...</td>\n",
       "      <td>...</td>\n",
       "      <td>...</td>\n",
       "      <td>...</td>\n",
       "      <td>...</td>\n",
       "      <td>...</td>\n",
       "      <td>...</td>\n",
       "      <td>...</td>\n",
       "    </tr>\n",
       "    <tr>\n",
       "      <th>96448</th>\n",
       "      <td>Partly Cloudy</td>\n",
       "      <td>rain</td>\n",
       "      <td>26.016667</td>\n",
       "      <td>26.016667</td>\n",
       "      <td>0.43</td>\n",
       "      <td>10.9963</td>\n",
       "      <td>31.0</td>\n",
       "      <td>16.1000</td>\n",
       "      <td>1014.36</td>\n",
       "    </tr>\n",
       "    <tr>\n",
       "      <th>96449</th>\n",
       "      <td>Partly Cloudy</td>\n",
       "      <td>rain</td>\n",
       "      <td>24.583333</td>\n",
       "      <td>24.583333</td>\n",
       "      <td>0.48</td>\n",
       "      <td>10.0947</td>\n",
       "      <td>20.0</td>\n",
       "      <td>15.5526</td>\n",
       "      <td>1015.16</td>\n",
       "    </tr>\n",
       "    <tr>\n",
       "      <th>96450</th>\n",
       "      <td>Partly Cloudy</td>\n",
       "      <td>rain</td>\n",
       "      <td>22.038889</td>\n",
       "      <td>22.038889</td>\n",
       "      <td>0.56</td>\n",
       "      <td>8.9838</td>\n",
       "      <td>30.0</td>\n",
       "      <td>16.1000</td>\n",
       "      <td>1015.66</td>\n",
       "    </tr>\n",
       "    <tr>\n",
       "      <th>96451</th>\n",
       "      <td>Partly Cloudy</td>\n",
       "      <td>rain</td>\n",
       "      <td>21.522222</td>\n",
       "      <td>21.522222</td>\n",
       "      <td>0.60</td>\n",
       "      <td>10.5294</td>\n",
       "      <td>20.0</td>\n",
       "      <td>16.1000</td>\n",
       "      <td>1015.95</td>\n",
       "    </tr>\n",
       "    <tr>\n",
       "      <th>96452</th>\n",
       "      <td>Partly Cloudy</td>\n",
       "      <td>rain</td>\n",
       "      <td>20.438889</td>\n",
       "      <td>20.438889</td>\n",
       "      <td>0.61</td>\n",
       "      <td>5.8765</td>\n",
       "      <td>39.0</td>\n",
       "      <td>15.5204</td>\n",
       "      <td>1016.16</td>\n",
       "    </tr>\n",
       "  </tbody>\n",
       "</table>\n",
       "<p>96453 rows × 9 columns</p>\n",
       "</div>"
      ],
      "text/plain": [
       "             Summary Precip Type  Temperature (C)  Apparent Temperature (C)  \\\n",
       "0      Partly Cloudy        rain         9.472222                  7.388889   \n",
       "1      Partly Cloudy        rain         9.355556                  7.227778   \n",
       "2      Mostly Cloudy        rain         9.377778                  9.377778   \n",
       "3      Partly Cloudy        rain         8.288889                  5.944444   \n",
       "4      Mostly Cloudy        rain         8.755556                  6.977778   \n",
       "...              ...         ...              ...                       ...   \n",
       "96448  Partly Cloudy        rain        26.016667                 26.016667   \n",
       "96449  Partly Cloudy        rain        24.583333                 24.583333   \n",
       "96450  Partly Cloudy        rain        22.038889                 22.038889   \n",
       "96451  Partly Cloudy        rain        21.522222                 21.522222   \n",
       "96452  Partly Cloudy        rain        20.438889                 20.438889   \n",
       "\n",
       "       Humidity  Wind Speed (km/h)  Wind Bearing (degrees)  Visibility (km)  \\\n",
       "0          0.89            14.1197                   251.0          15.8263   \n",
       "1          0.86            14.2646                   259.0          15.8263   \n",
       "2          0.89             3.9284                   204.0          14.9569   \n",
       "3          0.83            14.1036                   269.0          15.8263   \n",
       "4          0.83            11.0446                   259.0          15.8263   \n",
       "...         ...                ...                     ...              ...   \n",
       "96448      0.43            10.9963                    31.0          16.1000   \n",
       "96449      0.48            10.0947                    20.0          15.5526   \n",
       "96450      0.56             8.9838                    30.0          16.1000   \n",
       "96451      0.60            10.5294                    20.0          16.1000   \n",
       "96452      0.61             5.8765                    39.0          15.5204   \n",
       "\n",
       "       Pressure (millibars)  \n",
       "0                   1015.13  \n",
       "1                   1015.63  \n",
       "2                   1015.94  \n",
       "3                   1016.41  \n",
       "4                   1016.51  \n",
       "...                     ...  \n",
       "96448               1014.36  \n",
       "96449               1015.16  \n",
       "96450               1015.66  \n",
       "96451               1015.95  \n",
       "96452               1016.16  \n",
       "\n",
       "[96453 rows x 9 columns]"
      ]
     },
     "execution_count": 8,
     "metadata": {},
     "output_type": "execute_result"
    }
   ],
   "source": [
    "weatherDataframe"
   ]
  },
  {
   "cell_type": "code",
   "execution_count": 9,
   "metadata": {},
   "outputs": [
    {
     "name": "stdout",
     "output_type": "stream",
     "text": [
      "True\n"
     ]
    }
   ],
   "source": [
    "# calculate duplicates\n",
    "dups = weatherDataframe.duplicated()\n",
    "# report if there are any duplicates\n",
    "print(dups.any())"
   ]
  },
  {
   "cell_type": "code",
   "execution_count": 10,
   "metadata": {},
   "outputs": [
    {
     "name": "stdout",
     "output_type": "stream",
     "text": [
      "                   Summary Precip Type  Temperature (C)  \\\n",
      "28410             Overcast        rain         7.222222   \n",
      "28607  Breezy and Overcast        rain         1.666667   \n",
      "28920        Mostly Cloudy        snow        -1.666667   \n",
      "29472             Overcast        snow        -4.444444   \n",
      "29473        Mostly Cloudy        snow        -5.333333   \n",
      "...                    ...         ...              ...   \n",
      "64544                Foggy        snow        -4.927778   \n",
      "64545                Foggy        snow        -3.888889   \n",
      "64546                Foggy        snow        -2.716667   \n",
      "64547             Overcast        snow        -2.244444   \n",
      "64548             Overcast        snow        -2.244444   \n",
      "\n",
      "       Apparent Temperature (C)  Humidity  Wind Speed (km/h)  \\\n",
      "28410                  7.222222      0.93             4.8300   \n",
      "28607                 -4.177778      0.75            28.9800   \n",
      "28920                 -4.105556      0.88             6.4400   \n",
      "29472                 -8.966667      0.84            11.2700   \n",
      "29473                 -5.333333      0.81             4.2826   \n",
      "...                         ...       ...                ...   \n",
      "64544                 -4.927778      1.00             0.0000   \n",
      "64545                 -3.888889      1.00             1.6100   \n",
      "64546                 -2.716667      0.99             0.5635   \n",
      "64547                 -2.244444      1.00             1.8032   \n",
      "64548                 -2.244444      1.00             4.8139   \n",
      "\n",
      "       Wind Bearing (degrees)  Visibility (km)  Pressure (millibars)  \n",
      "28410                    10.0           4.0250                  0.00  \n",
      "28607                   330.0          16.1000               1005.10  \n",
      "28920                   140.0           4.9910               1016.10  \n",
      "29472                   340.0           4.5080               1026.30  \n",
      "29473                   228.0           7.9856               1026.74  \n",
      "...                       ...              ...                   ...  \n",
      "64544                     0.0           0.1610               1021.42  \n",
      "64545                   140.0           0.3220               1022.40  \n",
      "64546                   193.0           3.0912               1023.19  \n",
      "64547                   278.0           3.4293               1023.35  \n",
      "64548                   321.0           3.4454               1023.64  \n",
      "\n",
      "[72 rows x 9 columns]\n"
     ]
    }
   ],
   "source": [
    "# list all duplicate rows\n",
    "print(weatherDataframe[dups])"
   ]
  },
  {
   "cell_type": "code",
   "execution_count": 11,
   "metadata": {},
   "outputs": [],
   "source": [
    "# delete duplicate rows\n",
    "weatherDataframe.drop_duplicates(inplace=True)"
   ]
  },
  {
   "cell_type": "code",
   "execution_count": 12,
   "metadata": {},
   "outputs": [
    {
     "data": {
      "text/html": [
       "<div>\n",
       "<style scoped>\n",
       "    .dataframe tbody tr th:only-of-type {\n",
       "        vertical-align: middle;\n",
       "    }\n",
       "\n",
       "    .dataframe tbody tr th {\n",
       "        vertical-align: top;\n",
       "    }\n",
       "\n",
       "    .dataframe thead th {\n",
       "        text-align: right;\n",
       "    }\n",
       "</style>\n",
       "<table border=\"1\" class=\"dataframe\">\n",
       "  <thead>\n",
       "    <tr style=\"text-align: right;\">\n",
       "      <th></th>\n",
       "      <th>Summary</th>\n",
       "      <th>Precip Type</th>\n",
       "      <th>Temperature (C)</th>\n",
       "      <th>Apparent Temperature (C)</th>\n",
       "      <th>Humidity</th>\n",
       "      <th>Wind Speed (km/h)</th>\n",
       "      <th>Wind Bearing (degrees)</th>\n",
       "      <th>Visibility (km)</th>\n",
       "      <th>Pressure (millibars)</th>\n",
       "    </tr>\n",
       "  </thead>\n",
       "  <tbody>\n",
       "    <tr>\n",
       "      <th>0</th>\n",
       "      <td>Partly Cloudy</td>\n",
       "      <td>rain</td>\n",
       "      <td>9.472222</td>\n",
       "      <td>7.388889</td>\n",
       "      <td>0.89</td>\n",
       "      <td>14.1197</td>\n",
       "      <td>251.0</td>\n",
       "      <td>15.8263</td>\n",
       "      <td>1015.13</td>\n",
       "    </tr>\n",
       "    <tr>\n",
       "      <th>1</th>\n",
       "      <td>Partly Cloudy</td>\n",
       "      <td>rain</td>\n",
       "      <td>9.355556</td>\n",
       "      <td>7.227778</td>\n",
       "      <td>0.86</td>\n",
       "      <td>14.2646</td>\n",
       "      <td>259.0</td>\n",
       "      <td>15.8263</td>\n",
       "      <td>1015.63</td>\n",
       "    </tr>\n",
       "    <tr>\n",
       "      <th>2</th>\n",
       "      <td>Mostly Cloudy</td>\n",
       "      <td>rain</td>\n",
       "      <td>9.377778</td>\n",
       "      <td>9.377778</td>\n",
       "      <td>0.89</td>\n",
       "      <td>3.9284</td>\n",
       "      <td>204.0</td>\n",
       "      <td>14.9569</td>\n",
       "      <td>1015.94</td>\n",
       "    </tr>\n",
       "    <tr>\n",
       "      <th>3</th>\n",
       "      <td>Partly Cloudy</td>\n",
       "      <td>rain</td>\n",
       "      <td>8.288889</td>\n",
       "      <td>5.944444</td>\n",
       "      <td>0.83</td>\n",
       "      <td>14.1036</td>\n",
       "      <td>269.0</td>\n",
       "      <td>15.8263</td>\n",
       "      <td>1016.41</td>\n",
       "    </tr>\n",
       "    <tr>\n",
       "      <th>4</th>\n",
       "      <td>Mostly Cloudy</td>\n",
       "      <td>rain</td>\n",
       "      <td>8.755556</td>\n",
       "      <td>6.977778</td>\n",
       "      <td>0.83</td>\n",
       "      <td>11.0446</td>\n",
       "      <td>259.0</td>\n",
       "      <td>15.8263</td>\n",
       "      <td>1016.51</td>\n",
       "    </tr>\n",
       "    <tr>\n",
       "      <th>...</th>\n",
       "      <td>...</td>\n",
       "      <td>...</td>\n",
       "      <td>...</td>\n",
       "      <td>...</td>\n",
       "      <td>...</td>\n",
       "      <td>...</td>\n",
       "      <td>...</td>\n",
       "      <td>...</td>\n",
       "      <td>...</td>\n",
       "    </tr>\n",
       "    <tr>\n",
       "      <th>96448</th>\n",
       "      <td>Partly Cloudy</td>\n",
       "      <td>rain</td>\n",
       "      <td>26.016667</td>\n",
       "      <td>26.016667</td>\n",
       "      <td>0.43</td>\n",
       "      <td>10.9963</td>\n",
       "      <td>31.0</td>\n",
       "      <td>16.1000</td>\n",
       "      <td>1014.36</td>\n",
       "    </tr>\n",
       "    <tr>\n",
       "      <th>96449</th>\n",
       "      <td>Partly Cloudy</td>\n",
       "      <td>rain</td>\n",
       "      <td>24.583333</td>\n",
       "      <td>24.583333</td>\n",
       "      <td>0.48</td>\n",
       "      <td>10.0947</td>\n",
       "      <td>20.0</td>\n",
       "      <td>15.5526</td>\n",
       "      <td>1015.16</td>\n",
       "    </tr>\n",
       "    <tr>\n",
       "      <th>96450</th>\n",
       "      <td>Partly Cloudy</td>\n",
       "      <td>rain</td>\n",
       "      <td>22.038889</td>\n",
       "      <td>22.038889</td>\n",
       "      <td>0.56</td>\n",
       "      <td>8.9838</td>\n",
       "      <td>30.0</td>\n",
       "      <td>16.1000</td>\n",
       "      <td>1015.66</td>\n",
       "    </tr>\n",
       "    <tr>\n",
       "      <th>96451</th>\n",
       "      <td>Partly Cloudy</td>\n",
       "      <td>rain</td>\n",
       "      <td>21.522222</td>\n",
       "      <td>21.522222</td>\n",
       "      <td>0.60</td>\n",
       "      <td>10.5294</td>\n",
       "      <td>20.0</td>\n",
       "      <td>16.1000</td>\n",
       "      <td>1015.95</td>\n",
       "    </tr>\n",
       "    <tr>\n",
       "      <th>96452</th>\n",
       "      <td>Partly Cloudy</td>\n",
       "      <td>rain</td>\n",
       "      <td>20.438889</td>\n",
       "      <td>20.438889</td>\n",
       "      <td>0.61</td>\n",
       "      <td>5.8765</td>\n",
       "      <td>39.0</td>\n",
       "      <td>15.5204</td>\n",
       "      <td>1016.16</td>\n",
       "    </tr>\n",
       "  </tbody>\n",
       "</table>\n",
       "<p>96381 rows × 9 columns</p>\n",
       "</div>"
      ],
      "text/plain": [
       "             Summary Precip Type  Temperature (C)  Apparent Temperature (C)  \\\n",
       "0      Partly Cloudy        rain         9.472222                  7.388889   \n",
       "1      Partly Cloudy        rain         9.355556                  7.227778   \n",
       "2      Mostly Cloudy        rain         9.377778                  9.377778   \n",
       "3      Partly Cloudy        rain         8.288889                  5.944444   \n",
       "4      Mostly Cloudy        rain         8.755556                  6.977778   \n",
       "...              ...         ...              ...                       ...   \n",
       "96448  Partly Cloudy        rain        26.016667                 26.016667   \n",
       "96449  Partly Cloudy        rain        24.583333                 24.583333   \n",
       "96450  Partly Cloudy        rain        22.038889                 22.038889   \n",
       "96451  Partly Cloudy        rain        21.522222                 21.522222   \n",
       "96452  Partly Cloudy        rain        20.438889                 20.438889   \n",
       "\n",
       "       Humidity  Wind Speed (km/h)  Wind Bearing (degrees)  Visibility (km)  \\\n",
       "0          0.89            14.1197                   251.0          15.8263   \n",
       "1          0.86            14.2646                   259.0          15.8263   \n",
       "2          0.89             3.9284                   204.0          14.9569   \n",
       "3          0.83            14.1036                   269.0          15.8263   \n",
       "4          0.83            11.0446                   259.0          15.8263   \n",
       "...         ...                ...                     ...              ...   \n",
       "96448      0.43            10.9963                    31.0          16.1000   \n",
       "96449      0.48            10.0947                    20.0          15.5526   \n",
       "96450      0.56             8.9838                    30.0          16.1000   \n",
       "96451      0.60            10.5294                    20.0          16.1000   \n",
       "96452      0.61             5.8765                    39.0          15.5204   \n",
       "\n",
       "       Pressure (millibars)  \n",
       "0                   1015.13  \n",
       "1                   1015.63  \n",
       "2                   1015.94  \n",
       "3                   1016.41  \n",
       "4                   1016.51  \n",
       "...                     ...  \n",
       "96448               1014.36  \n",
       "96449               1015.16  \n",
       "96450               1015.66  \n",
       "96451               1015.95  \n",
       "96452               1016.16  \n",
       "\n",
       "[96381 rows x 9 columns]"
      ]
     },
     "execution_count": 12,
     "metadata": {},
     "output_type": "execute_result"
    }
   ],
   "source": [
    "weatherDataframe"
   ]
  },
  {
   "cell_type": "markdown",
   "metadata": {},
   "source": [
    "There is one **important thing** to remember. When we removing rows, this will cause the indexes are to be different. As an example, if you remove row 18 from dataframe, now the indexes will be ..16,17,19,20.. like this. This will ultimately resulting difference between **actual row count (96381)** and the **last index.(96452)** In order to avoid this, we need to **reset indexes**. Then it will correct the order."
   ]
  },
  {
   "cell_type": "code",
   "execution_count": 13,
   "metadata": {},
   "outputs": [],
   "source": [
    "weatherDataframe=weatherDataframe.reset_index(drop=True)"
   ]
  },
  {
   "cell_type": "code",
   "execution_count": 14,
   "metadata": {},
   "outputs": [
    {
     "data": {
      "text/html": [
       "<div>\n",
       "<style scoped>\n",
       "    .dataframe tbody tr th:only-of-type {\n",
       "        vertical-align: middle;\n",
       "    }\n",
       "\n",
       "    .dataframe tbody tr th {\n",
       "        vertical-align: top;\n",
       "    }\n",
       "\n",
       "    .dataframe thead th {\n",
       "        text-align: right;\n",
       "    }\n",
       "</style>\n",
       "<table border=\"1\" class=\"dataframe\">\n",
       "  <thead>\n",
       "    <tr style=\"text-align: right;\">\n",
       "      <th></th>\n",
       "      <th>Summary</th>\n",
       "      <th>Precip Type</th>\n",
       "      <th>Temperature (C)</th>\n",
       "      <th>Apparent Temperature (C)</th>\n",
       "      <th>Humidity</th>\n",
       "      <th>Wind Speed (km/h)</th>\n",
       "      <th>Wind Bearing (degrees)</th>\n",
       "      <th>Visibility (km)</th>\n",
       "      <th>Pressure (millibars)</th>\n",
       "    </tr>\n",
       "  </thead>\n",
       "  <tbody>\n",
       "    <tr>\n",
       "      <th>0</th>\n",
       "      <td>Partly Cloudy</td>\n",
       "      <td>rain</td>\n",
       "      <td>9.472222</td>\n",
       "      <td>7.388889</td>\n",
       "      <td>0.89</td>\n",
       "      <td>14.1197</td>\n",
       "      <td>251.0</td>\n",
       "      <td>15.8263</td>\n",
       "      <td>1015.13</td>\n",
       "    </tr>\n",
       "    <tr>\n",
       "      <th>1</th>\n",
       "      <td>Partly Cloudy</td>\n",
       "      <td>rain</td>\n",
       "      <td>9.355556</td>\n",
       "      <td>7.227778</td>\n",
       "      <td>0.86</td>\n",
       "      <td>14.2646</td>\n",
       "      <td>259.0</td>\n",
       "      <td>15.8263</td>\n",
       "      <td>1015.63</td>\n",
       "    </tr>\n",
       "    <tr>\n",
       "      <th>2</th>\n",
       "      <td>Mostly Cloudy</td>\n",
       "      <td>rain</td>\n",
       "      <td>9.377778</td>\n",
       "      <td>9.377778</td>\n",
       "      <td>0.89</td>\n",
       "      <td>3.9284</td>\n",
       "      <td>204.0</td>\n",
       "      <td>14.9569</td>\n",
       "      <td>1015.94</td>\n",
       "    </tr>\n",
       "    <tr>\n",
       "      <th>3</th>\n",
       "      <td>Partly Cloudy</td>\n",
       "      <td>rain</td>\n",
       "      <td>8.288889</td>\n",
       "      <td>5.944444</td>\n",
       "      <td>0.83</td>\n",
       "      <td>14.1036</td>\n",
       "      <td>269.0</td>\n",
       "      <td>15.8263</td>\n",
       "      <td>1016.41</td>\n",
       "    </tr>\n",
       "    <tr>\n",
       "      <th>4</th>\n",
       "      <td>Mostly Cloudy</td>\n",
       "      <td>rain</td>\n",
       "      <td>8.755556</td>\n",
       "      <td>6.977778</td>\n",
       "      <td>0.83</td>\n",
       "      <td>11.0446</td>\n",
       "      <td>259.0</td>\n",
       "      <td>15.8263</td>\n",
       "      <td>1016.51</td>\n",
       "    </tr>\n",
       "    <tr>\n",
       "      <th>...</th>\n",
       "      <td>...</td>\n",
       "      <td>...</td>\n",
       "      <td>...</td>\n",
       "      <td>...</td>\n",
       "      <td>...</td>\n",
       "      <td>...</td>\n",
       "      <td>...</td>\n",
       "      <td>...</td>\n",
       "      <td>...</td>\n",
       "    </tr>\n",
       "    <tr>\n",
       "      <th>96376</th>\n",
       "      <td>Partly Cloudy</td>\n",
       "      <td>rain</td>\n",
       "      <td>26.016667</td>\n",
       "      <td>26.016667</td>\n",
       "      <td>0.43</td>\n",
       "      <td>10.9963</td>\n",
       "      <td>31.0</td>\n",
       "      <td>16.1000</td>\n",
       "      <td>1014.36</td>\n",
       "    </tr>\n",
       "    <tr>\n",
       "      <th>96377</th>\n",
       "      <td>Partly Cloudy</td>\n",
       "      <td>rain</td>\n",
       "      <td>24.583333</td>\n",
       "      <td>24.583333</td>\n",
       "      <td>0.48</td>\n",
       "      <td>10.0947</td>\n",
       "      <td>20.0</td>\n",
       "      <td>15.5526</td>\n",
       "      <td>1015.16</td>\n",
       "    </tr>\n",
       "    <tr>\n",
       "      <th>96378</th>\n",
       "      <td>Partly Cloudy</td>\n",
       "      <td>rain</td>\n",
       "      <td>22.038889</td>\n",
       "      <td>22.038889</td>\n",
       "      <td>0.56</td>\n",
       "      <td>8.9838</td>\n",
       "      <td>30.0</td>\n",
       "      <td>16.1000</td>\n",
       "      <td>1015.66</td>\n",
       "    </tr>\n",
       "    <tr>\n",
       "      <th>96379</th>\n",
       "      <td>Partly Cloudy</td>\n",
       "      <td>rain</td>\n",
       "      <td>21.522222</td>\n",
       "      <td>21.522222</td>\n",
       "      <td>0.60</td>\n",
       "      <td>10.5294</td>\n",
       "      <td>20.0</td>\n",
       "      <td>16.1000</td>\n",
       "      <td>1015.95</td>\n",
       "    </tr>\n",
       "    <tr>\n",
       "      <th>96380</th>\n",
       "      <td>Partly Cloudy</td>\n",
       "      <td>rain</td>\n",
       "      <td>20.438889</td>\n",
       "      <td>20.438889</td>\n",
       "      <td>0.61</td>\n",
       "      <td>5.8765</td>\n",
       "      <td>39.0</td>\n",
       "      <td>15.5204</td>\n",
       "      <td>1016.16</td>\n",
       "    </tr>\n",
       "  </tbody>\n",
       "</table>\n",
       "<p>96381 rows × 9 columns</p>\n",
       "</div>"
      ],
      "text/plain": [
       "             Summary Precip Type  Temperature (C)  Apparent Temperature (C)  \\\n",
       "0      Partly Cloudy        rain         9.472222                  7.388889   \n",
       "1      Partly Cloudy        rain         9.355556                  7.227778   \n",
       "2      Mostly Cloudy        rain         9.377778                  9.377778   \n",
       "3      Partly Cloudy        rain         8.288889                  5.944444   \n",
       "4      Mostly Cloudy        rain         8.755556                  6.977778   \n",
       "...              ...         ...              ...                       ...   \n",
       "96376  Partly Cloudy        rain        26.016667                 26.016667   \n",
       "96377  Partly Cloudy        rain        24.583333                 24.583333   \n",
       "96378  Partly Cloudy        rain        22.038889                 22.038889   \n",
       "96379  Partly Cloudy        rain        21.522222                 21.522222   \n",
       "96380  Partly Cloudy        rain        20.438889                 20.438889   \n",
       "\n",
       "       Humidity  Wind Speed (km/h)  Wind Bearing (degrees)  Visibility (km)  \\\n",
       "0          0.89            14.1197                   251.0          15.8263   \n",
       "1          0.86            14.2646                   259.0          15.8263   \n",
       "2          0.89             3.9284                   204.0          14.9569   \n",
       "3          0.83            14.1036                   269.0          15.8263   \n",
       "4          0.83            11.0446                   259.0          15.8263   \n",
       "...         ...                ...                     ...              ...   \n",
       "96376      0.43            10.9963                    31.0          16.1000   \n",
       "96377      0.48            10.0947                    20.0          15.5526   \n",
       "96378      0.56             8.9838                    30.0          16.1000   \n",
       "96379      0.60            10.5294                    20.0          16.1000   \n",
       "96380      0.61             5.8765                    39.0          15.5204   \n",
       "\n",
       "       Pressure (millibars)  \n",
       "0                   1015.13  \n",
       "1                   1015.63  \n",
       "2                   1015.94  \n",
       "3                   1016.41  \n",
       "4                   1016.51  \n",
       "...                     ...  \n",
       "96376               1014.36  \n",
       "96377               1015.16  \n",
       "96378               1015.66  \n",
       "96379               1015.95  \n",
       "96380               1016.16  \n",
       "\n",
       "[96381 rows x 9 columns]"
      ]
     },
     "execution_count": 14,
     "metadata": {},
     "output_type": "execute_result"
    }
   ],
   "source": [
    "weatherDataframe"
   ]
  },
  {
   "cell_type": "markdown",
   "metadata": {},
   "source": [
    "### I). Handle Missing Values and Outliers if any"
   ]
  },
  {
   "cell_type": "markdown",
   "metadata": {},
   "source": [
    "Checking whether any missing values"
   ]
  },
  {
   "cell_type": "code",
   "execution_count": 15,
   "metadata": {},
   "outputs": [
    {
     "data": {
      "text/plain": [
       "True"
      ]
     },
     "execution_count": 15,
     "metadata": {},
     "output_type": "execute_result"
    }
   ],
   "source": [
    "weatherDataframe.isnull().values.any()"
   ]
  },
  {
   "cell_type": "code",
   "execution_count": 16,
   "metadata": {},
   "outputs": [
    {
     "data": {
      "text/plain": [
       "Summary                       0\n",
       "Precip Type                 517\n",
       "Temperature (C)               0\n",
       "Apparent Temperature (C)      0\n",
       "Humidity                      0\n",
       "Wind Speed (km/h)             0\n",
       "Wind Bearing (degrees)        0\n",
       "Visibility (km)               0\n",
       "Pressure (millibars)          0\n",
       "dtype: int64"
      ]
     },
     "execution_count": 16,
     "metadata": {},
     "output_type": "execute_result"
    }
   ],
   "source": [
    "#Getting the summary of what are missing value columns\n",
    "weatherDataframe.isnull().sum()"
   ]
  },
  {
   "cell_type": "code",
   "execution_count": 17,
   "metadata": {},
   "outputs": [
    {
     "data": {
      "text/html": [
       "<div>\n",
       "<style scoped>\n",
       "    .dataframe tbody tr th:only-of-type {\n",
       "        vertical-align: middle;\n",
       "    }\n",
       "\n",
       "    .dataframe tbody tr th {\n",
       "        vertical-align: top;\n",
       "    }\n",
       "\n",
       "    .dataframe thead th {\n",
       "        text-align: right;\n",
       "    }\n",
       "</style>\n",
       "<table border=\"1\" class=\"dataframe\">\n",
       "  <thead>\n",
       "    <tr style=\"text-align: right;\">\n",
       "      <th></th>\n",
       "      <th>Summary</th>\n",
       "      <th>Precip Type</th>\n",
       "      <th>Temperature (C)</th>\n",
       "      <th>Apparent Temperature (C)</th>\n",
       "      <th>Humidity</th>\n",
       "      <th>Wind Speed (km/h)</th>\n",
       "      <th>Wind Bearing (degrees)</th>\n",
       "      <th>Visibility (km)</th>\n",
       "      <th>Pressure (millibars)</th>\n",
       "    </tr>\n",
       "  </thead>\n",
       "  <tbody>\n",
       "    <tr>\n",
       "      <th>52625</th>\n",
       "      <td>Mostly Cloudy</td>\n",
       "      <td>NaN</td>\n",
       "      <td>19.016667</td>\n",
       "      <td>19.016667</td>\n",
       "      <td>0.26</td>\n",
       "      <td>14.8764</td>\n",
       "      <td>163.0</td>\n",
       "      <td>9.982</td>\n",
       "      <td>1002.40</td>\n",
       "    </tr>\n",
       "    <tr>\n",
       "      <th>52627</th>\n",
       "      <td>Mostly Cloudy</td>\n",
       "      <td>NaN</td>\n",
       "      <td>17.850000</td>\n",
       "      <td>17.850000</td>\n",
       "      <td>0.28</td>\n",
       "      <td>13.7977</td>\n",
       "      <td>169.0</td>\n",
       "      <td>9.982</td>\n",
       "      <td>1001.79</td>\n",
       "    </tr>\n",
       "    <tr>\n",
       "      <th>52628</th>\n",
       "      <td>Mostly Cloudy</td>\n",
       "      <td>NaN</td>\n",
       "      <td>16.322222</td>\n",
       "      <td>16.322222</td>\n",
       "      <td>0.32</td>\n",
       "      <td>10.8192</td>\n",
       "      <td>151.0</td>\n",
       "      <td>9.982</td>\n",
       "      <td>1001.60</td>\n",
       "    </tr>\n",
       "    <tr>\n",
       "      <th>52630</th>\n",
       "      <td>Mostly Cloudy</td>\n",
       "      <td>NaN</td>\n",
       "      <td>12.566667</td>\n",
       "      <td>12.566667</td>\n",
       "      <td>0.43</td>\n",
       "      <td>9.0160</td>\n",
       "      <td>159.0</td>\n",
       "      <td>9.982</td>\n",
       "      <td>1001.92</td>\n",
       "    </tr>\n",
       "    <tr>\n",
       "      <th>52631</th>\n",
       "      <td>Mostly Cloudy</td>\n",
       "      <td>NaN</td>\n",
       "      <td>12.927778</td>\n",
       "      <td>12.927778</td>\n",
       "      <td>0.47</td>\n",
       "      <td>17.6295</td>\n",
       "      <td>197.0</td>\n",
       "      <td>16.100</td>\n",
       "      <td>1002.20</td>\n",
       "    </tr>\n",
       "    <tr>\n",
       "      <th>...</th>\n",
       "      <td>...</td>\n",
       "      <td>...</td>\n",
       "      <td>...</td>\n",
       "      <td>...</td>\n",
       "      <td>...</td>\n",
       "      <td>...</td>\n",
       "      <td>...</td>\n",
       "      <td>...</td>\n",
       "      <td>...</td>\n",
       "    </tr>\n",
       "    <tr>\n",
       "      <th>95512</th>\n",
       "      <td>Mostly Cloudy</td>\n",
       "      <td>NaN</td>\n",
       "      <td>8.322222</td>\n",
       "      <td>7.044444</td>\n",
       "      <td>0.85</td>\n",
       "      <td>8.0339</td>\n",
       "      <td>290.0</td>\n",
       "      <td>0.000</td>\n",
       "      <td>1021.73</td>\n",
       "    </tr>\n",
       "    <tr>\n",
       "      <th>95513</th>\n",
       "      <td>Mostly Cloudy</td>\n",
       "      <td>NaN</td>\n",
       "      <td>7.627778</td>\n",
       "      <td>6.183333</td>\n",
       "      <td>0.87</td>\n",
       "      <td>8.2271</td>\n",
       "      <td>293.0</td>\n",
       "      <td>0.000</td>\n",
       "      <td>1021.76</td>\n",
       "    </tr>\n",
       "    <tr>\n",
       "      <th>95514</th>\n",
       "      <td>Mostly Cloudy</td>\n",
       "      <td>NaN</td>\n",
       "      <td>7.111111</td>\n",
       "      <td>5.511111</td>\n",
       "      <td>0.89</td>\n",
       "      <td>8.5008</td>\n",
       "      <td>297.0</td>\n",
       "      <td>0.000</td>\n",
       "      <td>1021.81</td>\n",
       "    </tr>\n",
       "    <tr>\n",
       "      <th>95515</th>\n",
       "      <td>Partly Cloudy</td>\n",
       "      <td>NaN</td>\n",
       "      <td>6.672222</td>\n",
       "      <td>4.961111</td>\n",
       "      <td>0.90</td>\n",
       "      <td>8.6457</td>\n",
       "      <td>299.0</td>\n",
       "      <td>0.000</td>\n",
       "      <td>1021.83</td>\n",
       "    </tr>\n",
       "    <tr>\n",
       "      <th>95516</th>\n",
       "      <td>Mostly Cloudy</td>\n",
       "      <td>NaN</td>\n",
       "      <td>6.322222</td>\n",
       "      <td>4.588889</td>\n",
       "      <td>0.91</td>\n",
       "      <td>8.4686</td>\n",
       "      <td>299.0</td>\n",
       "      <td>0.000</td>\n",
       "      <td>1021.80</td>\n",
       "    </tr>\n",
       "  </tbody>\n",
       "</table>\n",
       "<p>517 rows × 9 columns</p>\n",
       "</div>"
      ],
      "text/plain": [
       "             Summary Precip Type  Temperature (C)  Apparent Temperature (C)  \\\n",
       "52625  Mostly Cloudy         NaN        19.016667                 19.016667   \n",
       "52627  Mostly Cloudy         NaN        17.850000                 17.850000   \n",
       "52628  Mostly Cloudy         NaN        16.322222                 16.322222   \n",
       "52630  Mostly Cloudy         NaN        12.566667                 12.566667   \n",
       "52631  Mostly Cloudy         NaN        12.927778                 12.927778   \n",
       "...              ...         ...              ...                       ...   \n",
       "95512  Mostly Cloudy         NaN         8.322222                  7.044444   \n",
       "95513  Mostly Cloudy         NaN         7.627778                  6.183333   \n",
       "95514  Mostly Cloudy         NaN         7.111111                  5.511111   \n",
       "95515  Partly Cloudy         NaN         6.672222                  4.961111   \n",
       "95516  Mostly Cloudy         NaN         6.322222                  4.588889   \n",
       "\n",
       "       Humidity  Wind Speed (km/h)  Wind Bearing (degrees)  Visibility (km)  \\\n",
       "52625      0.26            14.8764                   163.0            9.982   \n",
       "52627      0.28            13.7977                   169.0            9.982   \n",
       "52628      0.32            10.8192                   151.0            9.982   \n",
       "52630      0.43             9.0160                   159.0            9.982   \n",
       "52631      0.47            17.6295                   197.0           16.100   \n",
       "...         ...                ...                     ...              ...   \n",
       "95512      0.85             8.0339                   290.0            0.000   \n",
       "95513      0.87             8.2271                   293.0            0.000   \n",
       "95514      0.89             8.5008                   297.0            0.000   \n",
       "95515      0.90             8.6457                   299.0            0.000   \n",
       "95516      0.91             8.4686                   299.0            0.000   \n",
       "\n",
       "       Pressure (millibars)  \n",
       "52625               1002.40  \n",
       "52627               1001.79  \n",
       "52628               1001.60  \n",
       "52630               1001.92  \n",
       "52631               1002.20  \n",
       "...                     ...  \n",
       "95512               1021.73  \n",
       "95513               1021.76  \n",
       "95514               1021.81  \n",
       "95515               1021.83  \n",
       "95516               1021.80  \n",
       "\n",
       "[517 rows x 9 columns]"
      ]
     },
     "execution_count": 17,
     "metadata": {},
     "output_type": "execute_result"
    }
   ],
   "source": [
    "weatherDataframe[weatherDataframe['Precip Type'].isna()]"
   ]
  },
  {
   "cell_type": "markdown",
   "metadata": {},
   "source": [
    "Checking the probability to drop it or replace with value."
   ]
  },
  {
   "cell_type": "code",
   "execution_count": 18,
   "metadata": {},
   "outputs": [
    {
     "data": {
      "text/plain": [
       "0.5364127784521846"
      ]
     },
     "execution_count": 18,
     "metadata": {},
     "output_type": "execute_result"
    }
   ],
   "source": [
    "weatherDataframe['Precip Type'].isna().sum()/(len(weatherDataframe))*100"
   ]
  },
  {
   "cell_type": "markdown",
   "metadata": {},
   "source": [
    "We can drop these rows because it has very low probability  and it ensures that no bias or variance is added or removed, and ultimately results in a robust and accurate model."
   ]
  },
  {
   "cell_type": "code",
   "execution_count": 19,
   "metadata": {},
   "outputs": [],
   "source": [
    "# make copy to avoid changing original data\n",
    "new_weatherDf = weatherDataframe.copy()\n",
    "# removing missing values\n",
    "new_weatherDf=new_weatherDf.dropna(axis=0)\n",
    "# We have to reset indexes because our dataframe still having previous indexes after dropping rows\n",
    "new_weatherDf=new_weatherDf.reset_index(drop=True)"
   ]
  },
  {
   "cell_type": "code",
   "execution_count": 20,
   "metadata": {},
   "outputs": [
    {
     "data": {
      "text/plain": [
       "False"
      ]
     },
     "execution_count": 20,
     "metadata": {},
     "output_type": "execute_result"
    }
   ],
   "source": [
    "new_weatherDf.isnull().values.any()"
   ]
  },
  {
   "cell_type": "markdown",
   "metadata": {},
   "source": [
    "Additionaly we can define custom missing value set when loading the dataset. If we want to map a list of values which must be treated as missing values in all columns, we can pass a list of candidates which we want to globally consider as missing values to the na_values parameter. This technique is used when some special characters treated as missing values."
   ]
  },
  {
   "cell_type": "code",
   "execution_count": 21,
   "metadata": {},
   "outputs": [
    {
     "data": {
      "text/plain": [
       "Formatted Date                0\n",
       "Summary                       0\n",
       "Precip Type                 517\n",
       "Temperature (C)               0\n",
       "Apparent Temperature (C)      0\n",
       "Humidity                      0\n",
       "Wind Speed (km/h)             0\n",
       "Wind Bearing (degrees)        0\n",
       "Visibility (km)               0\n",
       "Loud Cover                    0\n",
       "Pressure (millibars)          0\n",
       "Daily Summary                 0\n",
       "dtype: int64"
      ]
     },
     "execution_count": 21,
     "metadata": {},
     "output_type": "execute_result"
    }
   ],
   "source": [
    "missing_values = [\"n.a.\",\"NA\",\"n/a\", \"na\"]\n",
    "df = pd.read_csv('weatherHistory.csv', na_values = missing_values)\n",
    "df.isnull().sum()"
   ]
  },
  {
   "cell_type": "markdown",
   "metadata": {},
   "source": [
    "### *Handling* Ouitliers - Box Plots"
   ]
  },
  {
   "cell_type": "code",
   "execution_count": 22,
   "metadata": {},
   "outputs": [],
   "source": [
    "# Simply you can use this to check \n",
    "# new_weatherDf.boxplot(figsize=(16,10));\n",
    "# But I used the seabon library boxplot function"
   ]
  },
  {
   "cell_type": "code",
   "execution_count": 23,
   "metadata": {},
   "outputs": [
    {
     "data": {
      "image/png": "[encoded data removed]",
      "text/plain": [
       "<Figure size 1800x720 with 1 Axes>"
      ]
     },
     "metadata": {
      "needs_background": "light"
     },
     "output_type": "display_data"
    }
   ],
   "source": [
    "fig, ax = plt.subplots(figsize=(25, 10))\n",
    "sns.boxplot(data=new_weatherDf, orient=\"h\", palette=\"Set2\",ax=ax );"
   ]
  },
  {
   "cell_type": "markdown",
   "metadata": {},
   "source": [
    "We cannot clearly see the bloxpots. but form here, we can get a idea what coloumns will be the possible outliers. As you can see, **Pressure** colunm will have a outlier. Let's examine one by one to confirm it exactly."
   ]
  },
  {
   "cell_type": "code",
   "execution_count": 24,
   "metadata": {},
   "outputs": [
    {
     "data": {
      "image/png": "[encoded data removed]",
      "text/plain": [
       "<Figure size 432x288 with 1 Axes>"
      ]
     },
     "metadata": {
      "needs_background": "light"
     },
     "output_type": "display_data"
    }
   ],
   "source": [
    "new_weatherDf.boxplot(column=['Apparent Temperature (C)']);"
   ]
  },
  {
   "cell_type": "markdown",
   "metadata": {},
   "source": [
    "Same as previous plot, we cannot accept this having outliers"
   ]
  },
  {
   "cell_type": "code",
   "execution_count": 26,
   "metadata": {},
   "outputs": [
    {
     "data": {
      "image/png": "[encoded data removed]",
      "text/plain": [
       "<Figure size 432x288 with 1 Axes>"
      ]
     },
     "metadata": {
      "needs_background": "light"
     },
     "output_type": "display_data"
    }
   ],
   "source": [
    "new_weatherDf.boxplot(column=['Humidity']);"
   ]
  },
  {
   "cell_type": "markdown",
   "metadata": {},
   "source": [
    "We can see a possible outlier in this boxplot in 0.0 level. Let's remove the outliers."
   ]
  },
  {
   "cell_type": "code",
   "execution_count": 27,
   "metadata": {},
   "outputs": [
    {
     "name": "stdout",
     "output_type": "stream",
     "text": [
      "Before Shape: (95864, 9)\n",
      "After Shape: (95842, 9)\n"
     ]
    },
    {
     "data": {
      "image/png": "[encoded data removed]",
      "text/plain": [
       "<Figure size 432x288 with 2 Axes>"
      ]
     },
     "metadata": {
      "needs_background": "light"
     },
     "output_type": "display_data"
    }
   ],
   "source": [
    "fig, axes = plt.subplots(1,2)\n",
    "plt.tight_layout(0.2)\n",
    "\n",
    "print(\"Before Shape:\",new_weatherDf.shape)\n",
    "## Removing humidity bellow 0 outliers\n",
    "new_weatherDf2 = new_weatherDf[(new_weatherDf['Humidity']>0.0)]\n",
    "print(\"After Shape:\",new_weatherDf2.shape)\n",
    "\n",
    "sns.boxplot(new_weatherDf['Humidity'],orient='v',ax=axes[0])\n",
    "axes[0].title.set_text(\"Before\")\n",
    "sns.boxplot(new_weatherDf2['Humidity'],orient='v',ax=axes[1])\n",
    "axes[1].title.set_text(\"After\")\n",
    "plt.show()\n",
    "## Replace new dataset with previous and resetting indexes\n",
    "new_weatherDf=new_weatherDf2;\n",
    "new_weatherDf=new_weatherDf.reset_index(drop=True)"
   ]
  },
  {
   "cell_type": "markdown",
   "metadata": {},
   "source": [
    "As you can see, now the outlier has removed successfully."
   ]
  },
  {
   "cell_type": "code",
   "execution_count": 28,
   "metadata": {},
   "outputs": [
    {
     "data": {
      "image/png": "[encoded data removed]",
      "text/plain": [
       "<Figure size 432x288 with 1 Axes>"
      ]
     },
     "metadata": {
      "needs_background": "light"
     },
     "output_type": "display_data"
    }
   ],
   "source": [
    "new_weatherDf.boxplot(column=['Wind Speed (km/h)']);"
   ]
  },
  {
   "cell_type": "markdown",
   "metadata": {},
   "source": [
    "Here also we can identify a possible outlier above 60kmph. Lets remove that too!"
   ]
  },
  {
   "cell_type": "code",
   "execution_count": 29,
   "metadata": {},
   "outputs": [
    {
     "name": "stdout",
     "output_type": "stream",
     "text": [
      "Before Shape: (95842, 9)\n",
      "After Shape: (95841, 9)\n"
     ]
    },
    {
     "data": {
      "image/png": "[encoded data removed]",
      "text/plain": [
       "<Figure size 432x288 with 2 Axes>"
      ]
     },
     "metadata": {
      "needs_background": "light"
     },
     "output_type": "display_data"
    }
   ],
   "source": [
    "fig, axes = plt.subplots(1,2)\n",
    "plt.tight_layout(0.2)\n",
    "\n",
    "print(\"Before Shape:\",new_weatherDf.shape)\n",
    "## Removing Windspeed above 60kmph outlier\n",
    "new_weatherDf2 = new_weatherDf[ (new_weatherDf['Wind Speed (km/h)']<60)]\n",
    "print(\"After Shape:\",new_weatherDf2.shape)\n",
    "\n",
    "sns.boxplot(new_weatherDf['Wind Speed (km/h)'],orient='v',ax=axes[0])\n",
    "axes[0].title.set_text(\"Before\")\n",
    "sns.boxplot(new_weatherDf2['Wind Speed (km/h)'],orient='v',ax=axes[1])\n",
    "axes[1].title.set_text(\"After\")\n",
    "plt.show()\n",
    "## Replace new dataset with previous and reset indexes\n",
    "new_weatherDf=new_weatherDf2;\n",
    "new_weatherDf=new_weatherDf.reset_index(drop=True)"
   ]
  },
  {
   "cell_type": "code",
   "execution_count": 30,
   "metadata": {},
   "outputs": [
    {
     "data": {
      "image/png": "[encoded data removed]",
      "text/plain": [
       "<Figure size 432x288 with 1 Axes>"
      ]
     },
     "metadata": {
      "needs_background": "light"
     },
     "output_type": "display_data"
    }
   ],
   "source": [
    "new_weatherDf.boxplot(column=['Wind Bearing (degrees)']);"
   ]
  },
  {
   "cell_type": "markdown",
   "metadata": {},
   "source": [
    "No outliers are seen here. All scatterd nicely."
   ]
  },
  {
   "cell_type": "code",
   "execution_count": 31,
   "metadata": {},
   "outputs": [
    {
     "data": {
      "image/png": "[encoded data removed]",
      "text/plain": [
       "<Figure size 432x288 with 1 Axes>"
      ]
     },
     "metadata": {
      "needs_background": "light"
     },
     "output_type": "display_data"
    }
   ],
   "source": [
    "new_weatherDf.boxplot(column=['Visibility (km)']);"
   ]
  },
  {
   "cell_type": "markdown",
   "metadata": {},
   "source": [
    "Same as the previous. No outliers."
   ]
  },
  {
   "cell_type": "code",
   "execution_count": 32,
   "metadata": {},
   "outputs": [
    {
     "data": {
      "image/png": "[encoded data removed]",
      "text/plain": [
       "<Figure size 432x288 with 1 Axes>"
      ]
     },
     "metadata": {
      "needs_background": "light"
     },
     "output_type": "display_data"
    }
   ],
   "source": [
    "new_weatherDf.boxplot(column=['Pressure (millibars)']);"
   ]
  },
  {
   "cell_type": "markdown",
   "metadata": {},
   "source": [
    "Perfect outlier can be seen in the 0 level. It's a pressure and it would not become 0 under normal conditions. This may due to a error in data entry or a problem in the collected equipment. So we should remove them."
   ]
  },
  {
   "cell_type": "code",
   "execution_count": 33,
   "metadata": {},
   "outputs": [
    {
     "name": "stdout",
     "output_type": "stream",
     "text": [
      "Before Shape: (95841, 9)\n",
      "After Shape: (94556, 9)\n"
     ]
    },
    {
     "data": {
      "image/png": "[encoded data removed]",
      "text/plain": [
       "<Figure size 432x288 with 2 Axes>"
      ]
     },
     "metadata": {
      "needs_background": "light"
     },
     "output_type": "display_data"
    }
   ],
   "source": [
    "fig, axes = plt.subplots(1,2)\n",
    "plt.tight_layout(0.2)\n",
    "\n",
    "print(\"Before Shape:\",new_weatherDf.shape)\n",
    "## Removing Pressure bellow 800 outliers\n",
    "new_weatherDf2 = new_weatherDf[ (new_weatherDf['Pressure (millibars)']>800)]\n",
    "print(\"After Shape:\",new_weatherDf2.shape)\n",
    "\n",
    "sns.boxplot(new_weatherDf['Pressure (millibars)'],orient='v',ax=axes[0])\n",
    "axes[0].title.set_text(\"Before\")\n",
    "sns.boxplot(new_weatherDf2['Pressure (millibars)'],orient='v',ax=axes[1])\n",
    "axes[1].title.set_text(\"After\")\n",
    "plt.show()\n",
    "# ## Replace new dataset with previous and reset indexes\n",
    "new_weatherDf=new_weatherDf2;\n",
    "new_weatherDf=new_weatherDf.reset_index(drop=True)"
   ]
  },
  {
   "cell_type": "markdown",
   "metadata": {},
   "source": [
    "This is the Final outcome of removing outliers and missing values."
   ]
  },
  {
   "cell_type": "code",
   "execution_count": 34,
   "metadata": {},
   "outputs": [
    {
     "data": {
      "image/png": "[encoded data removed]",
      "text/plain": [
       "<Figure size 1800x720 with 1 Axes>"
      ]
     },
     "metadata": {
      "needs_background": "light"
     },
     "output_type": "display_data"
    }
   ],
   "source": [
    "fig_dims = (25, 10);\n",
    "fig, ax = plt.subplots(figsize=fig_dims);\n",
    "sns.boxplot(data=new_weatherDf, orient=\"h\", palette=\"Set2\",ax=ax );"
   ]
  },
  {
   "cell_type": "markdown",
   "metadata": {},
   "source": [
    "Now all the data preprocessing part is done. Now we have to do the transformations"
   ]
  },
  {
   "cell_type": "markdown",
   "metadata": {},
   "source": [
    "Before doing that. We need to split the dataset into training and testing. Testing is needed to mesure the accuracy of the model. Why we doing the splitting here is to avoid the -> **Data Leakage Problem**\n",
    "\n",
    "Testing data points represents real-world data. So the model should not seen that data. If it so, the effect will be over-fitting our training data and having an overly optimistic evaluation of the models performance on unseen data.\n",
    "\n",
    "In order to avoid that, we should split our dataset into train and test set now  and do the tranforming steps. This will ensure no 'peeking ahead'. Otherwise, information from the test set will \"leak\" into your training data."
   ]
  },
  {
   "cell_type": "code",
   "execution_count": 35,
   "metadata": {},
   "outputs": [
    {
     "data": {
      "text/html": [
       "<div>\n",
       "<style scoped>\n",
       "    .dataframe tbody tr th:only-of-type {\n",
       "        vertical-align: middle;\n",
       "    }\n",
       "\n",
       "    .dataframe tbody tr th {\n",
       "        vertical-align: top;\n",
       "    }\n",
       "\n",
       "    .dataframe thead th {\n",
       "        text-align: right;\n",
       "    }\n",
       "</style>\n",
       "<table border=\"1\" class=\"dataframe\">\n",
       "  <thead>\n",
       "    <tr style=\"text-align: right;\">\n",
       "      <th></th>\n",
       "      <th>Summary</th>\n",
       "      <th>Precip Type</th>\n",
       "      <th>Temperature (C)</th>\n",
       "      <th>Humidity</th>\n",
       "      <th>Wind Speed (km/h)</th>\n",
       "      <th>Wind Bearing (degrees)</th>\n",
       "      <th>Visibility (km)</th>\n",
       "      <th>Pressure (millibars)</th>\n",
       "    </tr>\n",
       "  </thead>\n",
       "  <tbody>\n",
       "    <tr>\n",
       "      <th>0</th>\n",
       "      <td>Partly Cloudy</td>\n",
       "      <td>rain</td>\n",
       "      <td>9.472222</td>\n",
       "      <td>0.89</td>\n",
       "      <td>14.1197</td>\n",
       "      <td>251.0</td>\n",
       "      <td>15.8263</td>\n",
       "      <td>1015.13</td>\n",
       "    </tr>\n",
       "    <tr>\n",
       "      <th>1</th>\n",
       "      <td>Partly Cloudy</td>\n",
       "      <td>rain</td>\n",
       "      <td>9.355556</td>\n",
       "      <td>0.86</td>\n",
       "      <td>14.2646</td>\n",
       "      <td>259.0</td>\n",
       "      <td>15.8263</td>\n",
       "      <td>1015.63</td>\n",
       "    </tr>\n",
       "    <tr>\n",
       "      <th>2</th>\n",
       "      <td>Mostly Cloudy</td>\n",
       "      <td>rain</td>\n",
       "      <td>9.377778</td>\n",
       "      <td>0.89</td>\n",
       "      <td>3.9284</td>\n",
       "      <td>204.0</td>\n",
       "      <td>14.9569</td>\n",
       "      <td>1015.94</td>\n",
       "    </tr>\n",
       "    <tr>\n",
       "      <th>3</th>\n",
       "      <td>Partly Cloudy</td>\n",
       "      <td>rain</td>\n",
       "      <td>8.288889</td>\n",
       "      <td>0.83</td>\n",
       "      <td>14.1036</td>\n",
       "      <td>269.0</td>\n",
       "      <td>15.8263</td>\n",
       "      <td>1016.41</td>\n",
       "    </tr>\n",
       "    <tr>\n",
       "      <th>4</th>\n",
       "      <td>Mostly Cloudy</td>\n",
       "      <td>rain</td>\n",
       "      <td>8.755556</td>\n",
       "      <td>0.83</td>\n",
       "      <td>11.0446</td>\n",
       "      <td>259.0</td>\n",
       "      <td>15.8263</td>\n",
       "      <td>1016.51</td>\n",
       "    </tr>\n",
       "    <tr>\n",
       "      <th>...</th>\n",
       "      <td>...</td>\n",
       "      <td>...</td>\n",
       "      <td>...</td>\n",
       "      <td>...</td>\n",
       "      <td>...</td>\n",
       "      <td>...</td>\n",
       "      <td>...</td>\n",
       "      <td>...</td>\n",
       "    </tr>\n",
       "    <tr>\n",
       "      <th>94551</th>\n",
       "      <td>Partly Cloudy</td>\n",
       "      <td>rain</td>\n",
       "      <td>26.016667</td>\n",
       "      <td>0.43</td>\n",
       "      <td>10.9963</td>\n",
       "      <td>31.0</td>\n",
       "      <td>16.1000</td>\n",
       "      <td>1014.36</td>\n",
       "    </tr>\n",
       "    <tr>\n",
       "      <th>94552</th>\n",
       "      <td>Partly Cloudy</td>\n",
       "      <td>rain</td>\n",
       "      <td>24.583333</td>\n",
       "      <td>0.48</td>\n",
       "      <td>10.0947</td>\n",
       "      <td>20.0</td>\n",
       "      <td>15.5526</td>\n",
       "      <td>1015.16</td>\n",
       "    </tr>\n",
       "    <tr>\n",
       "      <th>94553</th>\n",
       "      <td>Partly Cloudy</td>\n",
       "      <td>rain</td>\n",
       "      <td>22.038889</td>\n",
       "      <td>0.56</td>\n",
       "      <td>8.9838</td>\n",
       "      <td>30.0</td>\n",
       "      <td>16.1000</td>\n",
       "      <td>1015.66</td>\n",
       "    </tr>\n",
       "    <tr>\n",
       "      <th>94554</th>\n",
       "      <td>Partly Cloudy</td>\n",
       "      <td>rain</td>\n",
       "      <td>21.522222</td>\n",
       "      <td>0.60</td>\n",
       "      <td>10.5294</td>\n",
       "      <td>20.0</td>\n",
       "      <td>16.1000</td>\n",
       "      <td>1015.95</td>\n",
       "    </tr>\n",
       "    <tr>\n",
       "      <th>94555</th>\n",
       "      <td>Partly Cloudy</td>\n",
       "      <td>rain</td>\n",
       "      <td>20.438889</td>\n",
       "      <td>0.61</td>\n",
       "      <td>5.8765</td>\n",
       "      <td>39.0</td>\n",
       "      <td>15.5204</td>\n",
       "      <td>1016.16</td>\n",
       "    </tr>\n",
       "  </tbody>\n",
       "</table>\n",
       "<p>94556 rows × 8 columns</p>\n",
       "</div>"
      ],
      "text/plain": [
       "             Summary Precip Type  Temperature (C)  Humidity  \\\n",
       "0      Partly Cloudy        rain         9.472222      0.89   \n",
       "1      Partly Cloudy        rain         9.355556      0.86   \n",
       "2      Mostly Cloudy        rain         9.377778      0.89   \n",
       "3      Partly Cloudy        rain         8.288889      0.83   \n",
       "4      Mostly Cloudy        rain         8.755556      0.83   \n",
       "...              ...         ...              ...       ...   \n",
       "94551  Partly Cloudy        rain        26.016667      0.43   \n",
       "94552  Partly Cloudy        rain        24.583333      0.48   \n",
       "94553  Partly Cloudy        rain        22.038889      0.56   \n",
       "94554  Partly Cloudy        rain        21.522222      0.60   \n",
       "94555  Partly Cloudy        rain        20.438889      0.61   \n",
       "\n",
       "       Wind Speed (km/h)  Wind Bearing (degrees)  Visibility (km)  \\\n",
       "0                14.1197                   251.0          15.8263   \n",
       "1                14.2646                   259.0          15.8263   \n",
       "2                 3.9284                   204.0          14.9569   \n",
       "3                14.1036                   269.0          15.8263   \n",
       "4                11.0446                   259.0          15.8263   \n",
       "...                  ...                     ...              ...   \n",
       "94551            10.9963                    31.0          16.1000   \n",
       "94552            10.0947                    20.0          15.5526   \n",
       "94553             8.9838                    30.0          16.1000   \n",
       "94554            10.5294                    20.0          16.1000   \n",
       "94555             5.8765                    39.0          15.5204   \n",
       "\n",
       "       Pressure (millibars)  \n",
       "0                   1015.13  \n",
       "1                   1015.63  \n",
       "2                   1015.94  \n",
       "3                   1016.41  \n",
       "4                   1016.51  \n",
       "...                     ...  \n",
       "94551               1014.36  \n",
       "94552               1015.16  \n",
       "94553               1015.66  \n",
       "94554               1015.95  \n",
       "94555               1016.16  \n",
       "\n",
       "[94556 rows x 8 columns]"
      ]
     },
     "execution_count": 35,
     "metadata": {},
     "output_type": "execute_result"
    }
   ],
   "source": [
    "features_df= new_weatherDf.drop('Apparent Temperature (C)', 1)\n",
    "features_df"
   ]
  },
  {
   "cell_type": "code",
   "execution_count": 36,
   "metadata": {},
   "outputs": [
    {
     "data": {
      "text/html": [
       "<div>\n",
       "<style scoped>\n",
       "    .dataframe tbody tr th:only-of-type {\n",
       "        vertical-align: middle;\n",
       "    }\n",
       "\n",
       "    .dataframe tbody tr th {\n",
       "        vertical-align: top;\n",
       "    }\n",
       "\n",
       "    .dataframe thead th {\n",
       "        text-align: right;\n",
       "    }\n",
       "</style>\n",
       "<table border=\"1\" class=\"dataframe\">\n",
       "  <thead>\n",
       "    <tr style=\"text-align: right;\">\n",
       "      <th></th>\n",
       "      <th>Apparent Temperature (C)</th>\n",
       "    </tr>\n",
       "  </thead>\n",
       "  <tbody>\n",
       "    <tr>\n",
       "      <th>0</th>\n",
       "      <td>7.388889</td>\n",
       "    </tr>\n",
       "    <tr>\n",
       "      <th>1</th>\n",
       "      <td>7.227778</td>\n",
       "    </tr>\n",
       "    <tr>\n",
       "      <th>2</th>\n",
       "      <td>9.377778</td>\n",
       "    </tr>\n",
       "    <tr>\n",
       "      <th>3</th>\n",
       "      <td>5.944444</td>\n",
       "    </tr>\n",
       "    <tr>\n",
       "      <th>4</th>\n",
       "      <td>6.977778</td>\n",
       "    </tr>\n",
       "    <tr>\n",
       "      <th>...</th>\n",
       "      <td>...</td>\n",
       "    </tr>\n",
       "    <tr>\n",
       "      <th>94551</th>\n",
       "      <td>26.016667</td>\n",
       "    </tr>\n",
       "    <tr>\n",
       "      <th>94552</th>\n",
       "      <td>24.583333</td>\n",
       "    </tr>\n",
       "    <tr>\n",
       "      <th>94553</th>\n",
       "      <td>22.038889</td>\n",
       "    </tr>\n",
       "    <tr>\n",
       "      <th>94554</th>\n",
       "      <td>21.522222</td>\n",
       "    </tr>\n",
       "    <tr>\n",
       "      <th>94555</th>\n",
       "      <td>20.438889</td>\n",
       "    </tr>\n",
       "  </tbody>\n",
       "</table>\n",
       "<p>94556 rows × 1 columns</p>\n",
       "</div>"
      ],
      "text/plain": [
       "       Apparent Temperature (C)\n",
       "0                      7.388889\n",
       "1                      7.227778\n",
       "2                      9.377778\n",
       "3                      5.944444\n",
       "4                      6.977778\n",
       "...                         ...\n",
       "94551                 26.016667\n",
       "94552                 24.583333\n",
       "94553                 22.038889\n",
       "94554                 21.522222\n",
       "94555                 20.438889\n",
       "\n",
       "[94556 rows x 1 columns]"
      ]
     },
     "execution_count": 36,
     "metadata": {},
     "output_type": "execute_result"
    }
   ],
   "source": [
    "target = pd.DataFrame(new_weatherDf['Apparent Temperature (C)'], columns=[\"Apparent Temperature (C)\"])\n",
    "target"
   ]
  },
  {
   "cell_type": "markdown",
   "metadata": {},
   "source": [
    "We defined the target as aperent temparature and features as the rest of them. Now we can split them out to 80% - 20% ratio"
   ]
  },
  {
   "cell_type": "code",
   "execution_count": 37,
   "metadata": {},
   "outputs": [],
   "source": [
    "from sklearn.model_selection import train_test_split\n",
    "\n",
    "X_train, X_test, y_train, y_test = train_test_split(features_df, target, test_size = 0.2, random_state = 101)"
   ]
  },
  {
   "cell_type": "markdown",
   "metadata": {},
   "source": [
    "Here also we need to reset all the indexes"
   ]
  },
  {
   "cell_type": "code",
   "execution_count": 38,
   "metadata": {},
   "outputs": [],
   "source": [
    "X_train=X_train.reset_index(drop=True)\n",
    "X_test=X_test.reset_index(drop=True)\n",
    "y_train=y_train.reset_index(drop=True)\n",
    "y_test=y_test.reset_index(drop=True)"
   ]
  },
  {
   "cell_type": "code",
   "execution_count": 39,
   "metadata": {},
   "outputs": [
    {
     "data": {
      "text/html": [
       "<div>\n",
       "<style scoped>\n",
       "    .dataframe tbody tr th:only-of-type {\n",
       "        vertical-align: middle;\n",
       "    }\n",
       "\n",
       "    .dataframe tbody tr th {\n",
       "        vertical-align: top;\n",
       "    }\n",
       "\n",
       "    .dataframe thead th {\n",
       "        text-align: right;\n",
       "    }\n",
       "</style>\n",
       "<table border=\"1\" class=\"dataframe\">\n",
       "  <thead>\n",
       "    <tr style=\"text-align: right;\">\n",
       "      <th></th>\n",
       "      <th>Summary</th>\n",
       "      <th>Precip Type</th>\n",
       "      <th>Temperature (C)</th>\n",
       "      <th>Humidity</th>\n",
       "      <th>Wind Speed (km/h)</th>\n",
       "      <th>Wind Bearing (degrees)</th>\n",
       "      <th>Visibility (km)</th>\n",
       "      <th>Pressure (millibars)</th>\n",
       "    </tr>\n",
       "  </thead>\n",
       "  <tbody>\n",
       "    <tr>\n",
       "      <th>0</th>\n",
       "      <td>Partly Cloudy</td>\n",
       "      <td>rain</td>\n",
       "      <td>19.105556</td>\n",
       "      <td>0.86</td>\n",
       "      <td>6.2951</td>\n",
       "      <td>84.0</td>\n",
       "      <td>9.9820</td>\n",
       "      <td>1014.38</td>\n",
       "    </tr>\n",
       "    <tr>\n",
       "      <th>1</th>\n",
       "      <td>Overcast</td>\n",
       "      <td>rain</td>\n",
       "      <td>12.150000</td>\n",
       "      <td>0.74</td>\n",
       "      <td>11.2539</td>\n",
       "      <td>348.0</td>\n",
       "      <td>11.2700</td>\n",
       "      <td>1019.79</td>\n",
       "    </tr>\n",
       "    <tr>\n",
       "      <th>2</th>\n",
       "      <td>Mostly Cloudy</td>\n",
       "      <td>rain</td>\n",
       "      <td>18.827778</td>\n",
       "      <td>0.90</td>\n",
       "      <td>6.8103</td>\n",
       "      <td>204.0</td>\n",
       "      <td>9.9820</td>\n",
       "      <td>1014.59</td>\n",
       "    </tr>\n",
       "    <tr>\n",
       "      <th>3</th>\n",
       "      <td>Overcast</td>\n",
       "      <td>snow</td>\n",
       "      <td>-0.022222</td>\n",
       "      <td>0.82</td>\n",
       "      <td>7.9373</td>\n",
       "      <td>11.0</td>\n",
       "      <td>11.2700</td>\n",
       "      <td>1016.34</td>\n",
       "    </tr>\n",
       "    <tr>\n",
       "      <th>4</th>\n",
       "      <td>Clear</td>\n",
       "      <td>rain</td>\n",
       "      <td>26.111111</td>\n",
       "      <td>0.47</td>\n",
       "      <td>17.7100</td>\n",
       "      <td>330.0</td>\n",
       "      <td>9.9820</td>\n",
       "      <td>1015.70</td>\n",
       "    </tr>\n",
       "    <tr>\n",
       "      <th>...</th>\n",
       "      <td>...</td>\n",
       "      <td>...</td>\n",
       "      <td>...</td>\n",
       "      <td>...</td>\n",
       "      <td>...</td>\n",
       "      <td>...</td>\n",
       "      <td>...</td>\n",
       "      <td>...</td>\n",
       "    </tr>\n",
       "    <tr>\n",
       "      <th>75639</th>\n",
       "      <td>Overcast</td>\n",
       "      <td>rain</td>\n",
       "      <td>2.644444</td>\n",
       "      <td>0.59</td>\n",
       "      <td>23.5060</td>\n",
       "      <td>179.0</td>\n",
       "      <td>10.0464</td>\n",
       "      <td>1010.52</td>\n",
       "    </tr>\n",
       "    <tr>\n",
       "      <th>75640</th>\n",
       "      <td>Overcast</td>\n",
       "      <td>rain</td>\n",
       "      <td>16.066667</td>\n",
       "      <td>0.93</td>\n",
       "      <td>8.9677</td>\n",
       "      <td>350.0</td>\n",
       "      <td>4.2987</td>\n",
       "      <td>1009.30</td>\n",
       "    </tr>\n",
       "    <tr>\n",
       "      <th>75641</th>\n",
       "      <td>Mostly Cloudy</td>\n",
       "      <td>rain</td>\n",
       "      <td>18.883333</td>\n",
       "      <td>0.47</td>\n",
       "      <td>24.1339</td>\n",
       "      <td>233.0</td>\n",
       "      <td>10.3523</td>\n",
       "      <td>1012.90</td>\n",
       "    </tr>\n",
       "    <tr>\n",
       "      <th>75642</th>\n",
       "      <td>Partly Cloudy</td>\n",
       "      <td>rain</td>\n",
       "      <td>12.416667</td>\n",
       "      <td>0.94</td>\n",
       "      <td>5.7638</td>\n",
       "      <td>256.0</td>\n",
       "      <td>9.7888</td>\n",
       "      <td>1020.70</td>\n",
       "    </tr>\n",
       "    <tr>\n",
       "      <th>75643</th>\n",
       "      <td>Mostly Cloudy</td>\n",
       "      <td>rain</td>\n",
       "      <td>4.188889</td>\n",
       "      <td>0.79</td>\n",
       "      <td>13.9104</td>\n",
       "      <td>182.0</td>\n",
       "      <td>4.6529</td>\n",
       "      <td>1024.55</td>\n",
       "    </tr>\n",
       "  </tbody>\n",
       "</table>\n",
       "<p>75644 rows × 8 columns</p>\n",
       "</div>"
      ],
      "text/plain": [
       "             Summary Precip Type  Temperature (C)  Humidity  \\\n",
       "0      Partly Cloudy        rain        19.105556      0.86   \n",
       "1           Overcast        rain        12.150000      0.74   \n",
       "2      Mostly Cloudy        rain        18.827778      0.90   \n",
       "3           Overcast        snow        -0.022222      0.82   \n",
       "4              Clear        rain        26.111111      0.47   \n",
       "...              ...         ...              ...       ...   \n",
       "75639       Overcast        rain         2.644444      0.59   \n",
       "75640       Overcast        rain        16.066667      0.93   \n",
       "75641  Mostly Cloudy        rain        18.883333      0.47   \n",
       "75642  Partly Cloudy        rain        12.416667      0.94   \n",
       "75643  Mostly Cloudy        rain         4.188889      0.79   \n",
       "\n",
       "       Wind Speed (km/h)  Wind Bearing (degrees)  Visibility (km)  \\\n",
       "0                 6.2951                    84.0           9.9820   \n",
       "1                11.2539                   348.0          11.2700   \n",
       "2                 6.8103                   204.0           9.9820   \n",
       "3                 7.9373                    11.0          11.2700   \n",
       "4                17.7100                   330.0           9.9820   \n",
       "...                  ...                     ...              ...   \n",
       "75639            23.5060                   179.0          10.0464   \n",
       "75640             8.9677                   350.0           4.2987   \n",
       "75641            24.1339                   233.0          10.3523   \n",
       "75642             5.7638                   256.0           9.7888   \n",
       "75643            13.9104                   182.0           4.6529   \n",
       "\n",
       "       Pressure (millibars)  \n",
       "0                   1014.38  \n",
       "1                   1019.79  \n",
       "2                   1014.59  \n",
       "3                   1016.34  \n",
       "4                   1015.70  \n",
       "...                     ...  \n",
       "75639               1010.52  \n",
       "75640               1009.30  \n",
       "75641               1012.90  \n",
       "75642               1020.70  \n",
       "75643               1024.55  \n",
       "\n",
       "[75644 rows x 8 columns]"
      ]
     },
     "execution_count": 39,
     "metadata": {},
     "output_type": "execute_result"
    }
   ],
   "source": [
    "X_train"
   ]
  },
  {
   "cell_type": "markdown",
   "metadata": {},
   "source": [
    "### II). Produce Q-Q Plots and Histograms of the features, and apply the transformations if required. "
   ]
  },
  {
   "cell_type": "markdown",
   "metadata": {},
   "source": [
    "Then we should check one by one to apply transformations. \n",
    "\n",
    "It's not nessasary to transform the target variable. But reading lot of articleas and experience, I found that a target variable with a large spread of values, in turn, may result in large error gradient values causing weight values to change dramatically, making the learning process unstable. So It's good to scalling that also"
   ]
  },
  {
   "cell_type": "markdown",
   "metadata": {},
   "source": [
    "Q-Q Plots and Histograms"
   ]
  },
  {
   "cell_type": "code",
   "execution_count": null,
   "metadata": {},
   "outputs": [],
   "source": []
  }
 ],
 "metadata": {
  "kernelspec": {
   "display_name": "Python 3",
   "language": "python",
   "name": "python3"
  },
  "language_info": {
   "codemirror_mode": {
    "name": "ipython",
    "version": 3
   },
   "file_extension": ".py",
   "mimetype": "text/x-python",
   "name": "python",
   "nbconvert_exporter": "python",
   "pygments_lexer": "ipython3",
   "version": "3.8.3"
  }
 },
 "nbformat": 4,
 "nbformat_minor": 4
}
